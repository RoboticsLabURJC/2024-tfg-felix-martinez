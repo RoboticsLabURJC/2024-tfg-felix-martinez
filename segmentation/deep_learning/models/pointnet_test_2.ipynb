{
 "cells": [
  {
   "cell_type": "code",
   "execution_count": 1,
   "metadata": {},
   "outputs": [
    {
     "name": "stderr",
     "output_type": "stream",
     "text": [
      "2025-01-28 19:52:27.953748: E external/local_xla/xla/stream_executor/cuda/cuda_fft.cc:477] Unable to register cuFFT factory: Attempting to register factory for plugin cuFFT when one has already been registered\n",
      "WARNING: All log messages before absl::InitializeLog() is called are written to STDERR\n",
      "E0000 00:00:1738090347.972654    9580 cuda_dnn.cc:8310] Unable to register cuDNN factory: Attempting to register factory for plugin cuDNN when one has already been registered\n",
      "E0000 00:00:1738090347.980539    9580 cuda_blas.cc:1418] Unable to register cuBLAS factory: Attempting to register factory for plugin cuBLAS when one has already been registered\n",
      "2025-01-28 19:52:28.010564: I tensorflow/core/platform/cpu_feature_guard.cc:210] This TensorFlow binary is optimized to use available CPU instructions in performance-critical operations.\n",
      "To enable the following instructions: AVX2 FMA, in other operations, rebuild TensorFlow with the appropriate compiler flags.\n"
     ]
    }
   ],
   "source": [
    "import tensorflow as tf\n",
    "from tensorflow.keras import layers, models"
   ]
  },
  {
   "cell_type": "code",
   "execution_count": null,
   "metadata": {},
   "outputs": [],
   "source": [
    "# Define a T-Net block\n",
    "def t_net(inputs, k):\n",
    "    x = layers.Conv1D(64, 1, activation='relu')(inputs)\n",
    "    x = layers.BatchNormalization()(x)\n",
    "    x = layers.Conv1D(128, 1, activation='relu')(x)\n",
    "    x = layers.BatchNormalization()(x)\n",
    "    x = layers.Conv1D(1024, 1, activation='relu')(x)\n",
    "    x = layers.BatchNormalization()(x)\n",
    "    \n",
    "    x = layers.GlobalMaxPooling1D()(x)\n",
    "    \n",
    "    x = layers.Dense(512, activation='relu')(x)\n",
    "    x = layers.BatchNormalization()(x)\n",
    "    x = layers.Dense(256, activation='relu')(x)\n",
    "    x = layers.BatchNormalization()(x)\n",
    "    \n",
    "    x = layers.Dense(k * k, weights=[tf.zeros([256, k * k]), tf.eye(k).flatten()])(x)\n",
    "    x = layers.Reshape((k, k))(x)\n",
    "    return x\n",
    "\n",
    "# Define the PointNet model for segmentation\n",
    "# Define the PointNet model for segmentation with dynamic input size\n",
    "def pointnet_segmentation_dynamic(num_classes):\n",
    "    inputs = layers.Input(shape=(None, 3))  # Allow variable number of points\n",
    "\n",
    "    # Input transformation\n",
    "    tnet = t_net(inputs, 3)\n",
    "    transformed_inputs = tf.linalg.matmul(inputs, tnet)\n",
    "\n",
    "    x = layers.Conv1D(64, 1, activation='relu')(transformed_inputs)\n",
    "    x = layers.BatchNormalization()(x)\n",
    "    \n",
    "    # Feature transformation\n",
    "    tnet_feature = t_net(x, 64)\n",
    "    transformed_features = tf.linalg.matmul(x, tnet_feature)\n",
    "\n",
    "    x = layers.Conv1D(64, 1, activation='relu')(transformed_features)\n",
    "    x = layers.BatchNormalization()(x)\n",
    "    x = layers.Conv1D(128, 1, activation='relu')(x)\n",
    "    x = layers.BatchNormalization()(x)\n",
    "    x = layers.Conv1D(1024, 1, activation='relu')(x)\n",
    "    x = layers.BatchNormalization()(x)\n",
    "\n",
    "    # Global feature vector\n",
    "    global_feature = layers.GlobalMaxPooling1D()(x)\n",
    "    global_feature = layers.RepeatVector(tf.shape(inputs)[1])(global_feature)  # Match the number of points\n",
    "\n",
    "    # Concatenate global and local features\n",
    "    x = layers.Concatenate()([transformed_features, global_feature])\n",
    "\n",
    "    # Fully connected layers for segmentation\n",
    "    x = layers.Conv1D(512, 1, activation='relu')(x)\n",
    "    x = layers.BatchNormalization()(x)\n",
    "    x = layers.Conv1D(256, 1, activation='relu')(x)\n",
    "    x = layers.BatchNormalization()(x)\n",
    "    x = layers.Conv1D(128, 1, activation='relu')(x)\n",
    "    x = layers.BatchNormalization()(x)\n",
    "\n",
    "    outputs = layers.Conv1D(num_classes, 1, activation='softmax')(x)\n",
    "\n",
    "    return models.Model(inputs, outputs)\n",
    "\n",
    "# Example usage\n",
    "num_classes_segmentation = 50\n",
    "segmentation_model_dynamic = pointnet_segmentation_dynamic(num_classes_segmentation)\n",
    "segmentation_model_dynamic.summary()\n"
   ]
  }
 ],
 "metadata": {
  "kernelspec": {
   "display_name": "usr",
   "language": "python",
   "name": "python3"
  },
  "language_info": {
   "codemirror_mode": {
    "name": "ipython",
    "version": 3
   },
   "file_extension": ".py",
   "mimetype": "text/x-python",
   "name": "python",
   "nbconvert_exporter": "python",
   "pygments_lexer": "ipython3",
   "version": "3.10.12"
  }
 },
 "nbformat": 4,
 "nbformat_minor": 2
}
