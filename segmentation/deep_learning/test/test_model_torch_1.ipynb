{
 "cells": [
  {
   "cell_type": "markdown",
   "metadata": {},
   "source": [
    "## Librerías"
   ]
  },
  {
   "cell_type": "code",
   "execution_count": 2,
   "metadata": {},
   "outputs": [
    {
     "name": "stdout",
     "output_type": "stream",
     "text": [
      "Jupyter environment detected. Enabling Open3D WebVisualizer.\n",
      "[Open3D INFO] WebRTC GUI backend enabled.\n",
      "[Open3D INFO] WebRTCWindowSystem: HTTP handshake server disabled.\n"
     ]
    },
    {
     "data": {
      "text/html": [
       "        <script type=\"text/javascript\">\n",
       "        window.PlotlyConfig = {MathJaxConfig: 'local'};\n",
       "        if (window.MathJax && window.MathJax.Hub && window.MathJax.Hub.Config) {window.MathJax.Hub.Config({SVG: {font: \"STIX-Web\"}});}\n",
       "        </script>\n",
       "        <script type=\"module\">import \"https://cdn.plot.ly/plotly-3.0.0.min\"</script>\n",
       "        "
      ]
     },
     "metadata": {},
     "output_type": "display_data"
    }
   ],
   "source": [
    "import open3d as o3d\n",
    "import numpy as np\n",
    "import pandas as pd\n",
    "import os\n",
    "import re\n",
    "from glob import glob\n",
    "import time\n",
    "import random\n",
    "import seaborn as sns\n",
    "import xml.etree.ElementTree as ET\n",
    "from mpl_toolkits.mplot3d import Axes3D\n",
    "from pyntcloud import PyntCloud\n",
    "import plotly.graph_objs as go\n",
    "from matplotlib.pyplot import cm\n",
    "import matplotlib.pyplot as plt \n",
    "from plotly.offline import iplot, init_notebook_mode\n",
    "\n",
    "from sklearn.model_selection import train_test_split\n",
    "import torch\n",
    "from torch.utils.data import Dataset, DataLoader, random_split\n",
    "import torch.nn as nn\n",
    "import torch.nn.functional as F\n",
    "from torchmetrics.classification import MulticlassMatthewsCorrCoef\n",
    "import torch.optim as optim\n",
    "\n",
    "\n",
    "import warnings\n",
    "warnings.filterwarnings(\"ignore\")\n",
    "\n",
    "init_notebook_mode(connected=True)\n",
    "%matplotlib inline"
   ]
  },
  {
   "cell_type": "markdown",
   "metadata": {},
   "source": [
    "## DataLoader"
   ]
  },
  {
   "cell_type": "code",
   "execution_count": 3,
   "metadata": {},
   "outputs": [],
   "source": [
    "import os\n",
    "import numpy as np\n",
    "import torch\n",
    "from torch.utils.data import Dataset, DataLoader\n",
    "from scipy.spatial import cKDTree\n",
    "\n",
    "category_mapping = {\n",
    "    0: [43, 38, 58, 29, 41, 42, 44, 39, 55],  # Construction\n",
    "    1: [4, 45, 6, 40, 60, 61, 33, 32, 14],  # Object\n",
    "    2: [7, 22, 9, 26, 11, 21],  # Road\n",
    "    3: [48, 47, 1, 19, 46, 10, 25],  # Sign\n",
    "    4: [23, 3, 24, 31, 2],  # Terrain\n",
    "    5: [51, 50, 5, 18],  # Drivable Vegetation\n",
    "    6: [28, 27, 62, 52, 16, 30, 59, 17],  # Non Drivable Vegetation\n",
    "    7: [13, 15, 12, 36, 57, 49, 20, 35, 37, 34, 63],  # Vehicle\n",
    "    8: [8, 56, 0, 53, 54],  # Void\n",
    "}\n",
    "\n",
    "label_to_category = {label: cat for cat, labels in category_mapping.items() for label in labels}\n",
    "\n",
    "def map_labels(labels: np.ndarray) -> np.ndarray:\n",
    "    return np.array([label_to_category.get(label, 8) for label in labels], dtype=np.uint8)\n",
    "\n",
    "def load_bin_file(bin_path: str, num_points: int, radius: float = 25.0):\n",
    "    points = np.fromfile(bin_path, dtype=np.float32).reshape(-1, 4)[:, :3]\n",
    "    distances = np.linalg.norm(points, axis=1)\n",
    "    mask = distances <= radius\n",
    "    points = points[mask]\n",
    "    num_available = points.shape[0]\n",
    "    if num_available >= num_points:\n",
    "        indices = np.random.choice(num_available, num_points, replace=False)\n",
    "        return points[indices], np.where(mask)[0][indices]\n",
    "    return None, None\n",
    "\n",
    "def load_label_file(label_path: str, indices: np.ndarray) -> np.ndarray:\n",
    "    labels = np.fromfile(label_path, dtype=np.uint32) & 0xFFFF\n",
    "    return map_labels(labels[indices])\n",
    "\n",
    "def normalize_point_cloud(points):\n",
    "    mean = np.mean(points, axis=0)  # Media por dimensión\n",
    "    std = np.std(points, axis=0) + 1e-6  # Evitar divisiones por 0\n",
    "    return (points - mean) / std\n",
    "\n",
    "class GOOSEDataset(Dataset):\n",
    "    def __init__(self, x_path, y_path, num_points=4096, mode='train', batch_size=32):\n",
    "        self.x_files = sorted([os.path.join(x_path, f) for f in os.listdir(x_path) if f.endswith(\".bin\")])\n",
    "        self.y_files = sorted([os.path.join(y_path, f) for f in os.listdir(y_path) if f.endswith(\".label\")])\n",
    "        assert len(self.x_files) == len(self.y_files), \"Número de archivos de entrada y etiquetas no coinciden\"\n",
    "        self.num_points = num_points\n",
    "        self.batch_size = batch_size\n",
    "        self.mode = mode\n",
    "\n",
    "    def __len__(self):\n",
    "        return len(self.x_files)\n",
    "\n",
    "    def __getitem__(self, idx):\n",
    "        points, indices = load_bin_file(self.x_files[idx], self.num_points)\n",
    "\n",
    "        if points is None or indices is None:\n",
    "            return self.__getitem__((idx + 1) % len(self.x_files))  # Evitar devolver None\n",
    "\n",
    "        labels = load_label_file(self.y_files[idx], indices)\n",
    "\n",
    "        if labels is None:\n",
    "            return self.__getitem__((idx + 1) % len(self.x_files))\n",
    "\n",
    "        points = normalize_point_cloud(points)  # Aplica normalización\n",
    "\n",
    "        return torch.tensor(points, dtype=torch.float32), torch.tensor(labels, dtype=torch.long)"
   ]
  },
  {
   "cell_type": "markdown",
   "metadata": {},
   "source": [
    "## Model"
   ]
  },
  {
   "cell_type": "code",
   "execution_count": 4,
   "metadata": {},
   "outputs": [],
   "source": [
    "# T-net \n",
    "class Tnet(nn.Module):\n",
    "    ''' T-Net learns a Transformation matrix with a specified dimension '''\n",
    "    def __init__(self, dim, num_points=16384):\n",
    "        super(Tnet, self).__init__()\n",
    "\n",
    "        # dimensions for transform matrix\n",
    "        self.dim = dim \n",
    "\n",
    "        self.conv1 = nn.Conv1d(dim, 64, kernel_size=1)\n",
    "        self.conv2 = nn.Conv1d(64, 128, kernel_size=1)\n",
    "        self.conv3 = nn.Conv1d(128, 1024, kernel_size=1)\n",
    "\n",
    "        self.linear1 = nn.Linear(1024, 512)\n",
    "        self.linear2 = nn.Linear(512, 256)\n",
    "        self.linear3 = nn.Linear(256, dim**2)\n",
    "\n",
    "        self.bn1 = nn.BatchNorm1d(64)\n",
    "        self.bn2 = nn.BatchNorm1d(128)\n",
    "        self.bn3 = nn.BatchNorm1d(1024)\n",
    "        self.bn4 = nn.BatchNorm1d(512)\n",
    "        self.bn5 = nn.BatchNorm1d(256)\n",
    "\n",
    "        self.max_pool = nn.MaxPool1d(kernel_size=num_points)\n",
    "        \n",
    "\n",
    "    def forward(self, x):\n",
    "        bs = x.shape[0]\n",
    "\n",
    "        # pass through shared MLP layers (conv1d)\n",
    "        x = self.bn1(F.relu(self.conv1(x)))\n",
    "        x = self.bn2(F.relu(self.conv2(x)))\n",
    "        x = self.bn3(F.relu(self.conv3(x)))\n",
    "\n",
    "        # max pool over num points\n",
    "        x = self.max_pool(x).view(bs, -1)\n",
    "        \n",
    "        # pass through MLP\n",
    "        x = self.bn4(F.relu(self.linear1(x)))\n",
    "        x = self.bn5(F.relu(self.linear2(x)))\n",
    "        x = self.linear3(x)\n",
    "\n",
    "        # initialize identity matrix\n",
    "        iden = torch.eye(self.dim, requires_grad=True).repeat(bs, 1, 1)\n",
    "        if x.is_cuda:\n",
    "            iden = iden.cuda()\n",
    "\n",
    "        x = x.view(-1, self.dim, self.dim) + iden\n",
    "\n",
    "        return x\n",
    "\n",
    "\n",
    "# ============================================================================\n",
    "# Point Net Backbone (main Architecture)\n",
    "class PointNetBackbone(nn.Module):\n",
    "    def __init__(self, num_points=16384, num_global_feats=1024, local_feat=True):\n",
    "        \n",
    "        super(PointNetBackbone, self).__init__()\n",
    "\n",
    "        # if true concat local and global features\n",
    "        self.num_points = num_points\n",
    "        self.num_global_feats = num_global_feats\n",
    "        self.local_feat = local_feat\n",
    "\n",
    "        # Spatial Transformer Networks (T-nets)\n",
    "        self.tnet1 = Tnet(dim=3, num_points=num_points)\n",
    "        self.tnet2 = Tnet(dim=64, num_points=num_points)\n",
    "\n",
    "        # shared MLP 1\n",
    "        self.conv1 = nn.Conv1d(3, 64, kernel_size=1)\n",
    "        self.conv2 = nn.Conv1d(64, 64, kernel_size=1)\n",
    "\n",
    "        # shared MLP 2\n",
    "        self.conv3 = nn.Conv1d(64, 64, kernel_size=1)\n",
    "        self.conv4 = nn.Conv1d(64, 128, kernel_size=1)\n",
    "        self.conv5 = nn.Conv1d(128, self.num_global_feats, kernel_size=1)\n",
    "        \n",
    "        # batch norms for both shared MLPs\n",
    "        self.bn1 = nn.BatchNorm1d(64)\n",
    "        self.bn2 = nn.BatchNorm1d(64)\n",
    "        self.bn3 = nn.BatchNorm1d(64)\n",
    "        self.bn4 = nn.BatchNorm1d(128)\n",
    "        self.bn5 = nn.BatchNorm1d(self.num_global_feats)\n",
    "\n",
    "        # max pool to get the global features\n",
    "        self.max_pool = nn.MaxPool1d(kernel_size=num_points, return_indices=True)\n",
    "\n",
    "    \n",
    "    def forward(self, x):\n",
    "\n",
    "        # get batch size\n",
    "        bs = x.shape[0]\n",
    "        \n",
    "        # pass through first Tnet to get transform matrix\n",
    "        A_input = self.tnet1(x)\n",
    "\n",
    "        # perform first transformation across each point in the batch\n",
    "        x = torch.bmm(x.transpose(2, 1), A_input).transpose(2, 1)\n",
    "\n",
    "        # pass through first shared MLP\n",
    "        x = self.bn1(F.relu(self.conv1(x)))\n",
    "        x = self.bn2(F.relu(self.conv2(x)))\n",
    "        \n",
    "        # get feature transform\n",
    "        A_feat = self.tnet2(x)\n",
    "\n",
    "        # perform second transformation across each (64 dim) feature in the batch\n",
    "        x = torch.bmm(x.transpose(2, 1), A_feat).transpose(2, 1)\n",
    "\n",
    "        # store local point features for segmentation head\n",
    "        local_features = x.clone()\n",
    "\n",
    "        # pass through second MLP\n",
    "        x = self.bn3(F.relu(self.conv3(x)))\n",
    "        x = self.bn4(F.relu(self.conv4(x)))\n",
    "        x = self.bn5(F.relu(self.conv5(x)))\n",
    "\n",
    "        # get global feature vector and critical indexes\n",
    "        global_features, critical_indexes = self.max_pool(x)\n",
    "        global_features = global_features.view(bs, -1)\n",
    "        critical_indexes = critical_indexes.view(bs, -1)\n",
    "\n",
    "        if self.local_feat:\n",
    "            features = torch.cat((local_features, \n",
    "                                  global_features.unsqueeze(-1).repeat(1, 1, self.num_points)), \n",
    "                                  dim=1)\n",
    "\n",
    "            return features, critical_indexes, A_feat\n",
    "\n",
    "        else:\n",
    "            return global_features, critical_indexes, A_feat\n",
    "\n",
    "\n",
    "\n",
    "# ============================================================================\n",
    "# Segmentation Head\n",
    "class PointNetSegHead(nn.Module):\n",
    "    ''' Segmentation Head '''\n",
    "    def __init__(self, num_points=4096, num_global_feats=1024, m=2):\n",
    "        super(PointNetSegHead, self).__init__()\n",
    "\n",
    "        self.num_points = num_points\n",
    "        self.m = m\n",
    "\n",
    "        # get the backbone \n",
    "        self.backbone = PointNetBackbone(num_points, num_global_feats, local_feat=True)\n",
    "\n",
    "        # shared MLP\n",
    "        num_features = num_global_feats + 64 # local and global features\n",
    "        self.conv1 = nn.Conv1d(num_features, 512, kernel_size=1)\n",
    "        self.conv2 = nn.Conv1d(512, 256, kernel_size=1)\n",
    "        self.conv3 = nn.Conv1d(256, 128, kernel_size=1)\n",
    "        self.conv4 = nn.Conv1d(128, m, kernel_size=1)\n",
    "\n",
    "        # batch norms for shared MLP\n",
    "        self.bn1 = nn.BatchNorm1d(512)\n",
    "        self.bn2 = nn.BatchNorm1d(256)\n",
    "        self.bn3 = nn.BatchNorm1d(128)\n",
    "\n",
    "\n",
    "    def forward(self, x):\n",
    "        \n",
    "        # get combined features\n",
    "        x, crit_idxs, A_feat = self.backbone(x) \n",
    "\n",
    "        # pass through shared MLP\n",
    "        x = self.bn1(F.relu(self.conv1(x)))\n",
    "        x = self.bn2(F.relu(self.conv2(x)))\n",
    "        x = self.bn3(F.relu(self.conv3(x)))\n",
    "        x = self.conv4(x)\n",
    "\n",
    "        x = x.transpose(2, 1)\n",
    "        \n",
    "        return x, crit_idxs, A_feat"
   ]
  },
  {
   "cell_type": "markdown",
   "metadata": {},
   "source": [
    "## Cargar Modelo y Evaluar"
   ]
  },
  {
   "cell_type": "code",
   "execution_count": 11,
   "metadata": {},
   "outputs": [
    {
     "data": {
      "text/plain": [
       "PointNetSegHead(\n",
       "  (backbone): PointNetBackbone(\n",
       "    (tnet1): Tnet(\n",
       "      (conv1): Conv1d(3, 64, kernel_size=(1,), stride=(1,))\n",
       "      (conv2): Conv1d(64, 128, kernel_size=(1,), stride=(1,))\n",
       "      (conv3): Conv1d(128, 1024, kernel_size=(1,), stride=(1,))\n",
       "      (linear1): Linear(in_features=1024, out_features=512, bias=True)\n",
       "      (linear2): Linear(in_features=512, out_features=256, bias=True)\n",
       "      (linear3): Linear(in_features=256, out_features=9, bias=True)\n",
       "      (bn1): BatchNorm1d(64, eps=1e-05, momentum=0.1, affine=True, track_running_stats=True)\n",
       "      (bn2): BatchNorm1d(128, eps=1e-05, momentum=0.1, affine=True, track_running_stats=True)\n",
       "      (bn3): BatchNorm1d(1024, eps=1e-05, momentum=0.1, affine=True, track_running_stats=True)\n",
       "      (bn4): BatchNorm1d(512, eps=1e-05, momentum=0.1, affine=True, track_running_stats=True)\n",
       "      (bn5): BatchNorm1d(256, eps=1e-05, momentum=0.1, affine=True, track_running_stats=True)\n",
       "      (max_pool): MaxPool1d(kernel_size=4096, stride=4096, padding=0, dilation=1, ceil_mode=False)\n",
       "    )\n",
       "    (tnet2): Tnet(\n",
       "      (conv1): Conv1d(64, 64, kernel_size=(1,), stride=(1,))\n",
       "      (conv2): Conv1d(64, 128, kernel_size=(1,), stride=(1,))\n",
       "      (conv3): Conv1d(128, 1024, kernel_size=(1,), stride=(1,))\n",
       "      (linear1): Linear(in_features=1024, out_features=512, bias=True)\n",
       "      (linear2): Linear(in_features=512, out_features=256, bias=True)\n",
       "      (linear3): Linear(in_features=256, out_features=4096, bias=True)\n",
       "      (bn1): BatchNorm1d(64, eps=1e-05, momentum=0.1, affine=True, track_running_stats=True)\n",
       "      (bn2): BatchNorm1d(128, eps=1e-05, momentum=0.1, affine=True, track_running_stats=True)\n",
       "      (bn3): BatchNorm1d(1024, eps=1e-05, momentum=0.1, affine=True, track_running_stats=True)\n",
       "      (bn4): BatchNorm1d(512, eps=1e-05, momentum=0.1, affine=True, track_running_stats=True)\n",
       "      (bn5): BatchNorm1d(256, eps=1e-05, momentum=0.1, affine=True, track_running_stats=True)\n",
       "      (max_pool): MaxPool1d(kernel_size=4096, stride=4096, padding=0, dilation=1, ceil_mode=False)\n",
       "    )\n",
       "    (conv1): Conv1d(3, 64, kernel_size=(1,), stride=(1,))\n",
       "    (conv2): Conv1d(64, 64, kernel_size=(1,), stride=(1,))\n",
       "    (conv3): Conv1d(64, 64, kernel_size=(1,), stride=(1,))\n",
       "    (conv4): Conv1d(64, 128, kernel_size=(1,), stride=(1,))\n",
       "    (conv5): Conv1d(128, 1024, kernel_size=(1,), stride=(1,))\n",
       "    (bn1): BatchNorm1d(64, eps=1e-05, momentum=0.1, affine=True, track_running_stats=True)\n",
       "    (bn2): BatchNorm1d(64, eps=1e-05, momentum=0.1, affine=True, track_running_stats=True)\n",
       "    (bn3): BatchNorm1d(64, eps=1e-05, momentum=0.1, affine=True, track_running_stats=True)\n",
       "    (bn4): BatchNorm1d(128, eps=1e-05, momentum=0.1, affine=True, track_running_stats=True)\n",
       "    (bn5): BatchNorm1d(1024, eps=1e-05, momentum=0.1, affine=True, track_running_stats=True)\n",
       "    (max_pool): MaxPool1d(kernel_size=4096, stride=4096, padding=0, dilation=1, ceil_mode=False)\n",
       "  )\n",
       "  (conv1): Conv1d(1088, 512, kernel_size=(1,), stride=(1,))\n",
       "  (conv2): Conv1d(512, 256, kernel_size=(1,), stride=(1,))\n",
       "  (conv3): Conv1d(256, 128, kernel_size=(1,), stride=(1,))\n",
       "  (conv4): Conv1d(128, 9, kernel_size=(1,), stride=(1,))\n",
       "  (bn1): BatchNorm1d(512, eps=1e-05, momentum=0.1, affine=True, track_running_stats=True)\n",
       "  (bn2): BatchNorm1d(256, eps=1e-05, momentum=0.1, affine=True, track_running_stats=True)\n",
       "  (bn3): BatchNorm1d(128, eps=1e-05, momentum=0.1, affine=True, track_running_stats=True)\n",
       ")"
      ]
     },
     "execution_count": 11,
     "metadata": {},
     "output_type": "execute_result"
    }
   ],
   "source": [
    "NUM_CLASSES = 9\n",
    "NUM_TEST_POINTS = 4096\n",
    "DEVICE = 'cuda' if torch.cuda.is_available() else 'cpu'\n",
    "\n",
    "# Carga del modelo\n",
    "model = PointNetSegHead(num_points=NUM_TEST_POINTS, m=NUM_CLASSES).to(DEVICE)\n",
    "model.load_state_dict(torch.load(\"/home/fmartinez/2024-tfg-felix-martinez/segmentation/deep_learning/models/segmentation_model.pth\"))\n",
    "model.eval()"
   ]
  },
  {
   "cell_type": "code",
   "execution_count": 12,
   "metadata": {},
   "outputs": [],
   "source": [
    "x_val_path = \"/home/fmartinez/datasets_val/lidar/val\"\n",
    "y_val_path = \"/home/fmartinez/datasets_val/labels/val\""
   ]
  },
  {
   "cell_type": "code",
   "execution_count": 13,
   "metadata": {},
   "outputs": [],
   "source": [
    "# Dataset y DataLoader\n",
    "test_dataset = GOOSEDataset(\n",
    "    x_path=x_val_path, \n",
    "    y_path=y_val_path, \n",
    "    num_points=NUM_TEST_POINTS, \n",
    "    mode=\"test\"\n",
    ")\n",
    "\n",
    "test_loader = DataLoader(test_dataset, batch_size=4, shuffle=False)"
   ]
  },
  {
   "cell_type": "code",
   "execution_count": 30,
   "metadata": {},
   "outputs": [
    {
     "name": "stderr",
     "output_type": "stream",
     "text": [
      "100%|██████████| 241/241 [00:14<00:00, 16.84it/s]\n"
     ]
    }
   ],
   "source": [
    "import numpy as np\n",
    "from tqdm import tqdm\n",
    "\n",
    "# Inicializar listas\n",
    "points_list = []\n",
    "labels_list = []\n",
    "preds_list = []\n",
    "\n",
    "with torch.no_grad():\n",
    "    for i, (points, targets) in tqdm(enumerate(test_loader), total=len(test_loader)):\n",
    "        # points: (B, N, 3)\n",
    "        # targets: (B, N)\n",
    "        points = points.to(DEVICE)                  # (B, N, 3)\n",
    "        targets = targets.to(DEVICE)                # (B, N)\n",
    "        input_points = points.transpose(2, 1)       # (B, 3, N)\n",
    "\n",
    "        preds, _, _ = model(input_points)\n",
    "        pred_choice = torch.softmax(preds, dim=2).argmax(dim=2)  # (B, N)\n",
    "\n",
    "        for b in range(points.shape[0]):\n",
    "            points_list.append(points[b].cpu().numpy())          # (N, 3)\n",
    "            labels_list.append(targets[b].cpu().numpy())         # (N,)\n",
    "            preds_list.append(pred_choice[b].cpu().numpy())      # (N,)\n",
    "\n",
    "points_list = np.array(points_list)\n",
    "labels_list = np.array(labels_list)\n",
    "preds_list = np.array(preds_list)\n"
   ]
  },
  {
   "cell_type": "code",
   "execution_count": 31,
   "metadata": {},
   "outputs": [
    {
     "data": {
      "text/plain": [
       "((961, 4096, 3), (961, 4096), (961, 4096))"
      ]
     },
     "execution_count": 31,
     "metadata": {},
     "output_type": "execute_result"
    }
   ],
   "source": [
    "points_list.shape, labels_list.shape, preds_list.shape"
   ]
  },
  {
   "cell_type": "code",
   "execution_count": 32,
   "metadata": {},
   "outputs": [
    {
     "data": {
      "image/png": "[encoded data removed]",
      "text/plain": [
       "<Figure size 1000x800 with 2 Axes>"
      ]
     },
     "metadata": {},
     "output_type": "display_data"
    }
   ],
   "source": [
    "from sklearn.metrics import confusion_matrix\n",
    "\n",
    "class_labels = {\n",
    "    0: \"Construcción\",\n",
    "    1: \"Objeto\",\n",
    "    2: \"Carretera\",\n",
    "    3: \"Señal\",\n",
    "    4: \"Terreno\",\n",
    "    5: \"Vegetación Conducible\",\n",
    "    6: \"Vegetación No Conducible\",\n",
    "    7: \"Vehículo\",\n",
    "    8: \"Vacío\"\n",
    "}\n",
    "\n",
    "import numpy as np\n",
    "import matplotlib.pyplot as plt\n",
    "import seaborn as sns\n",
    "from sklearn.metrics import confusion_matrix\n",
    "\n",
    "def plot_confusion_matrix_percentage(y_val, predicted_labels, num_classes=9, class_labels=None):\n",
    "    y_true = y_val.flatten()\n",
    "    y_pred = predicted_labels.flatten()\n",
    "\n",
    "    cm = confusion_matrix(y_true, y_pred, labels=np.arange(num_classes))\n",
    "    cm_percentage = cm.astype('float') / cm.sum(axis=1)[:, np.newaxis] * 100\n",
    "\n",
    "    if class_labels is None:\n",
    "        class_labels = {i: f\"Clase {i}\" for i in range(num_classes)}\n",
    "\n",
    "    class_names = [class_labels[i] for i in range(num_classes)]\n",
    "\n",
    "    plt.figure(figsize=(10, 8))\n",
    "    sns.heatmap(cm_percentage, annot=True, fmt=\".2f\", cmap=\"Blues\", xticklabels=class_names, yticklabels=class_names,\n",
    "                vmin=0, vmax=100)\n",
    "\n",
    "    plt.xlabel(\"Clases Predichas\")\n",
    "    plt.ylabel(\"Clases Reales\")\n",
    "    plt.title(\"Matriz de Confusión en Porcentaje\")\n",
    "    plt.show()\n",
    "\n",
    "plot_confusion_matrix_percentage(labels_list, preds_list, num_classes=9, class_labels=class_labels)\n"
   ]
  },
  {
   "cell_type": "code",
   "execution_count": 33,
   "metadata": {},
   "outputs": [],
   "source": [
    "import plotly.graph_objects as go\n",
    "import numpy as np\n",
    "\n",
    "# Diccionario de clases de segmentación con las etiquetas agrupadas\n",
    "class_labels = {\n",
    "    0: \"Construction\",  # Gris\n",
    "    1: \"Object\",  # Naranja\n",
    "    2: \"Road\",  # Azul\n",
    "    3: \"Sign\",  # Rojo\n",
    "    4: \"Terrain\",  # Marrón\n",
    "    5: \"Drivable Vegetation\",  # Verde claro\n",
    "    6: \"Non Drivable Vegetation\",  # Verde oscuro\n",
    "    7: \"Vehicle\",  # Amarillo\n",
    "    8: \"Void\"  # Negro\n",
    "}\n",
    "\n",
    "# Asignación de colores específicos según la preferencia del usuario\n",
    "color_mapping = {\n",
    "    0: \"gray\",        # Construcción\n",
    "    1: \"orange\",      # Objeto\n",
    "    2: \"blue\",        # Carretera\n",
    "    3: \"red\",         # Señales\n",
    "    4: \"brown\",       # Terreno\n",
    "    5: \"lightgreen\",  # Vegetación transitable\n",
    "    6: \"darkgreen\",   # Vegetación no transitable\n",
    "    7: \"yellow\",      # Vehículo\n",
    "    8: \"black\"        # Vacío\n",
    "}\n",
    "\n",
    "def visualizar_comparacion_segmentacion(x_val, y_val, predicted_labels, indice):\n",
    "    if indice >= len(x_val):\n",
    "        print(f\"Índice fuera de rango. Debe estar entre 0 y {len(x_val)-1}.\")\n",
    "        return\n",
    "\n",
    "    # Extraer la nube de puntos y las etiquetas correspondientes\n",
    "    puntos = x_val[indice]\n",
    "    etiquetas_reales = y_val[indice]\n",
    "    etiquetas_predichas = predicted_labels[indice]\n",
    "\n",
    "    # Crear figuras separadas\n",
    "    fig_real = go.Figure()\n",
    "    fig_pred = go.Figure()\n",
    "\n",
    "    for class_id, class_name in class_labels.items():\n",
    "        indices = np.where(etiquetas_reales == class_id)[0]\n",
    "\n",
    "        if len(indices) > 0:\n",
    "            fig_real.add_trace(go.Scatter3d(\n",
    "                x=puntos[indices, 0],\n",
    "                y=puntos[indices, 1],\n",
    "                z=puntos[indices, 2],\n",
    "                mode='markers',\n",
    "                marker=dict(\n",
    "                    size=1.5,\n",
    "                    color=color_mapping[class_id],\n",
    "                    opacity=0.8\n",
    "                ),\n",
    "                name=f\"[Real] {class_name}\"\n",
    "            ))\n",
    "\n",
    "    for class_id, class_name in class_labels.items():\n",
    "        indices = np.where(etiquetas_predichas == class_id)[0]\n",
    "\n",
    "        if len(indices) > 0:\n",
    "            fig_pred.add_trace(go.Scatter3d(\n",
    "                x=puntos[indices, 0],\n",
    "                y=puntos[indices, 1],\n",
    "                z=puntos[indices, 2],\n",
    "                mode='markers',\n",
    "                marker=dict(\n",
    "                    size=1.5,\n",
    "                    color=color_mapping[class_id],\n",
    "                    opacity=0.8\n",
    "                ),\n",
    "                name=f\"[Predicho] {class_name}\"\n",
    "            ))\n",
    "\n",
    "    # Configuración del gráfico de etiquetas reales\n",
    "    fig_real.update_layout(\n",
    "        title=f\"Segmentación Real - Índice {indice}\",\n",
    "        scene=dict(\n",
    "            xaxis_title=\"X\",\n",
    "            yaxis_title=\"Y\",\n",
    "            zaxis_title=\"Z\"\n",
    "        ),\n",
    "        legend_title=\"Clases de Segmentación\"\n",
    "    )\n",
    "\n",
    "    # Configuración del gráfico de etiquetas predichas\n",
    "    fig_pred.update_layout(\n",
    "        title=f\"Segmentación Predicha - Índice {indice}\",\n",
    "        scene=dict(\n",
    "            xaxis_title=\"X\",\n",
    "            yaxis_title=\"Y\",\n",
    "            zaxis_title=\"Z\"\n",
    "        ),\n",
    "        legend_title=\"Clases de Segmentación\"\n",
    "    )\n",
    "\n",
    "    # Mostrar ambas figuras\n",
    "    fig_real.show()\n",
    "    fig_pred.show()"
   ]
  },
  {
   "cell_type": "code",
   "execution_count": 39,
   "metadata": {},
   "outputs": [
    {
     "data": {
      "application/vnd.plotly.v1+json": {
       "config": {
        "plotlyServerURL": "https://plot.ly"
       },
       "data": [
        {
         "marker": {
          "color": "gray",
          "opacity": 0.8,
          "size": 1.5
         },
         "mode": "markers",
         "name": "[Real] Construction",
         "type": "scatter3d",
         "x": {
          "bdata": "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",
          "dtype": "f4"
         },
         "y": {
          "bdata": "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",
          "dtype": "f4"
         },
         "z": {
          "bdata": "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",
          "dtype": "f4"
         }
        },
        {
         "marker": {
          "color": "orange",
          "opacity": 0.8,
          "size": 1.5
         },
         "mode": "markers",
         "name": "[Real] Object",
         "type": "scatter3d",
         "x": {
          "bdata": "gVAZv+swSL7vYlU/ZlKqvwPmhL/gVj6+mglWPzdnSr42vVC+w4ZEvhOtR75RV1C/k6pJvmC+Sr5vu0y+xS0rvm0sqL9kbUa+JvTtvj4OAb/8uc2+WqpJvg7JTr691Um+HMpDvlsMp76FV1A/I3hHvn8qUb4o2km+92JIvi7t578V0Ne/ZsNJvqGgTz8=",
          "dtype": "f4"
         },
         "y": {
          "bdata": "MIgqP2FwZb4lF6q+IcT0Pl5Zuz9TH2C+LRiqvrMDZr4Py2G+CVFmvqQ7Z77IciY/ZVpivgiMYr5v7GC+hv5nvh9E8z4hlV++Zm8pP8WsKD/eZoM/d+ldvhaQYb4U+GC+P0Rgvi1nOz93JKq+82phvkfHYb5lVV++Qi5lviVgXT9fiYs/oq5gvkZ5q74=",
          "dtype": "f4"
         },
         "z": {
          "bdata": "EUj3v3D1oT58iCM+vEB6v/zk1L8bAN2+NfYQPnE2dT6/Dfg+vfmrvW0jdT4E9Ba/xzFePlEggz32gwk/4G6Qv58qur8Kpz++YRbVvwoS3b/kA96/SiuxPvbzyD5Iq2o9QI8xvjvz1r/VT30/aEe1PpRyHT+81aQ8SgjVPkfGr78f8sm/A6mEveQ0mj8=",
          "dtype": "f4"
         }
        },
        {
         "marker": {
          "color": "blue",
          "opacity": 0.8,
          "size": 1.5
         },
         "mode": "markers",
         "name": "[Real] Road",
         "type": "scatter3d",
         "x": {
          "bdata": "4kGmP8DZnz8c4Cc/gOFdP2UNiD5aBII/Sny3P0wQij8WUMI/blZKPy3Phj4SAc0/JuBePw==",
          "dtype": "f4"
         },
         "y": {
          "bdata": "aEe2PW6Z7D3U3I4+WQF6PmXsrz5lkVI+vkNXPEkHPj6nM0C9qdKJPlghsD4dnP+9PzV2Pg==",
          "dtype": "f4"
         },
         "z": {
          "bdata": "/BIhv/FSKb+Aioa/UUdqv9uFpr8CPFC/cEoFvzyFRb/r4Oy+OppxvyiEpb8OX9i+jW5rvw==",
          "dtype": "f4"
         }
        },
        {
         "marker": {
          "color": "red",
          "opacity": 0.8,
          "size": 1.5
         },
         "mode": "markers",
         "name": "[Real] Sign",
         "type": "scatter3d",
         "x": {
          "bdata": "/BxOv5JlVb9tZlS/UURVv4jaUr/Gn1W/hJxUvyBcTb8=",
          "dtype": "f4"
         },
         "y": {
          "bdata": "xAwnP5fFJj/Payc/xk4nP1b6Jz9JOSc/zaQnP+KZJz8=",
          "dtype": "f4"
         },
         "z": {
          "bdata": "YJTAvtHO0L7ipQK/C8bYvt+Hkr6ZweC+HvYVv7DTuL4=",
          "dtype": "f4"
         }
        },
        {
         "marker": {
          "color": "brown",
          "opacity": 0.8,
          "size": 1.5
         },
         "mode": "markers",
         "name": "[Real] Terrain",
         "type": "scatter3d",
         "x": {
          "bdata": "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",
          "dtype": "f4"
         },
         "y": {
          "bdata": "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",
          "dtype": "f4"
         },
         "z": {
          "bdata": "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",
          "dtype": "f4"
         }
        },
        {
         "marker": {
          "color": "lightgreen",
          "opacity": 0.8,
          "size": 1.5
         },
         "mode": "markers",
         "name": "[Real] Drivable Vegetation",
         "type": "scatter3d",
         "x": {
          "bdata": "uCikvzCq3j0qgXm/Q65nv0lTpr/1poK/WwfBv+HiRj1QOqM9VNABv1NU6L4AH9i/SubhvW4D/r+5he89fsECwPeRg7+g2pG+a7qsvzCt4742OCq/320HwDFS279ob/2/IkmNvw5owL/bVwNAgB/TPMQgvL+rFfU8JDzPvxDRpb1buCi98AvgvXNM274x43m/rkAGQGaYpL9yvy09j6uIv77rw721vFi/bMmevVJgA0DnD1C/4xzSv5L2x76vinm/AOWnv/IjYTwho6q+7PlFvyOOMb/1zS+/JcZAPY+IVr8bqtm/R856vo5MHr2jUIe/Lc3bv9/MBb5oNJi/0bAAvwwKD7+gcbi/aym5vhiPFr8liO+/t2qsv5zZAUAID7O/I0suvws1Lr8=",
          "dtype": "f4"
         },
         "y": {
          "bdata": "BA4BP6KZuD+6e+o/91JwP16F6T68xOw/NvSyvieIQj90xw8/7BHNPumkkT8TY3w/W1mMP8370r7Nw28/6tAyv6390T4eDko/aQPOPm3hRj9TgRI/DhMVP0bhyr7rjcC+qKeHP0PNtL73LkY8O5JEP2xQWz/6zLE/yNJDP/9SdT9oqEc/uVBzP+7bkT+i600/zQi6Phvho77/THM/UwONvuj+IT/ckwg/Rj0hP6J4hL0lECQ/ZVlPPwcGkj8zfYo/TvMjP/09Gj+MmhU/fxtEP+Sl7D6z+QM/cqhDP2LHCj8qpkq+KpcfP+7sRz/f5JS+crtzPySfIj9nsEc/s5bPPrUUaD+f3IA/uCySP+MkhD9gGQA/CpdmvmtRTD6Gepm9pTXcPi2HBj8=",
          "dtype": "f4"
         },
         "z": {
          "bdata": "nwjRv4W3DcDrwjfAnZAGwCN20b9MNSXAi8LqvxbQ2L/oB8G/iUXMv4SK2L+PHA/AVb7lv/Lb/794OOm/nof4v95V2L+5cem/S5fYvwaK+79ZKu+/mUjpv4Si8b+PUv2/iw8MwPI/6r8h8Yu90mjav2XZCMBpAAbAk+7/v/eP6L+dI9y/3dHlv+wq17+kRwDADjObvbju4L94OOm/BRnUvymD17/vS+O/ngDWvx/YLDrqt+2/q5EDwDMR1b+1BQTAt6Xgv2HGzL9PXdq/+QQAwAUz378sP+i/4oravyxP4r8NbuS/Wo3dv9ur3L/52tO/0L8PwJCG2b+BFvy/sMTLv8Iv/b9oFg/Am7HTv8qX8r/0euO/Se3jv94DyL3NWuS/MrDUv0qD6L8=",
          "dtype": "f4"
         }
        },
        {
         "marker": {
          "color": "darkgreen",
          "opacity": 0.8,
          "size": 1.5
         },
         "mode": "markers",
         "name": "[Real] Non Drivable Vegetation",
         "type": "scatter3d",
         "x": {
          "bdata": "G3p7v7LnVb+SpVS/x3GGvzp3nr9yM5y/pHuZv5y1nL4GqJi/b+8lv/atBL+ZlW2/5o+Lv8ZvVL5CwQpAfZUmvzmMo79jkoa/uUKav22cLr6UTYK/NmVyviF3iz7W7ZO/AJalvyu1sr84So6/BHSyv97Nrb96rbO/bWhuv3TYhb8NgCy+tM8wvsQLVb4s+2S/KvfivvgHfz/Oxna+7xCkvwT2l78porq/s32Fv7p6qb/X13K+SM2Sv8urRL/G75+/hRaivwhIhb4R7ku+WAW+v5zGVr5zOYC/P9zTvvfWnz1lY0+/+n23vyP13b2H0qS/1y1yv59SlL8AtZ+/5YNivhrer7+ZB26+ZTcyv/2YDr8IAmC+S+jsv84dt7/LX62/TCCev+wwjr98lje/qxxEv8jPpL88NOK/YbTdv9ncur+IhIy/AURIvlVkNb9Yl5G/GcKJv5Zepb8xt8G/l5+Vv91cj7/oIIC/OIqyvSNHtb9b7V6+tDiSv+7fnb/IV5M9uT6nv3D6ob9qqHu+z/LIv0jLWb8dNwdAT0KRv/x0F77CHpm/p2CFvo3Ojb+HLgZAjiGYv3y3g7/QkpO/L0OAv+d7lr9d2HK/geP5vm1pZ75WkqS+HtmUv/UYX78+apC/xhMIQAUNkL+YD6++kmoHQGd3K755p4c/R02iv/RLpr9Kvw2/SJC6vyo8a76A4pu/qMuovBNQnb+xH5y/rp+ivxcnT74nYARA8T6Wv0d6bb5Cv2s/Or2mvy5Uer5W2wa/zPMFQEc5gb9BtghAHN22vhNUy79GjSa/z/XCv2Q8BUAi2oS+gDhmPxB+mr9h7Ai/2UOtvw/2Sb4yPKm/evihv0UBs78/tVG+Li1ev/Jcmb+v5Ze/4njNv4Ivor/00IC+m6mkv/+6cr4iEF++Iuijv2lrib+/MH8/KPVGvkgSbL7kc6m/VgSkvnJLo76YlFc/cjH0vshpgb93FoW/AUBKvgb8hr9m64O/tkyqvwgFR762G6a/GMvFv9paqr9zhnu+mHRZv+z9e7+p7W4/jKZOv2lbo79ndoC+xS52vtj+jDyas92/eoi4vl15jL8E1C+/Fimhv4xlh79CO66/TNyhvyNfe7/uGJ6/YuGlv+pYB0Ba5jG/xoVzP6omB0Dm92a/OGREvAYOm7+LRam/zWKOv7wbsr+xAGo//DoCv9XjWb6diam9pKi+vywgC0BSZSK+g4EHQGRCBUDkVIS+wJ9RPxr7Ab9DBU6+Ngyov1Y5g7+GnrK+2EYFQFb2BkDV4ES/3XIIQNVQpb+KyNg8392VvQETRr++XLC+6/Gcv75up78CYjC9WHhVv5j7sb/px5+/2viAP1rJQr/4hLW9+pgyvxSwo78L4sW/9SzTv/8d1L5oHzK+yN+kv5HkeL9AVK6/SZAGQBxh0r9x802+1X+lvnLmh78O4qq/5mibv91JVb9UpIa/0q2Xv2YDfD/QH2a+YKSOv83VXD+asAK/ENY6v3VrVb7ElANAcAS2v4Jbq79j44u9tWWbv0F/m769MSy/PbSCv365i7/72ka/BxyBP6tDr780eIS/ZWWLvzhJAr8QPlC/zQlwvsxkBEBS+ii+lNhQvqmyFb5hdrG//ZxGvzEepr+ZPHO+NaOSv3pjar9fhIa/i4g2v4dTgL6s0a+/gKiMv5MNkb75pqW/0jEHQDbQYr5ac5q/v1haP7bcvr9LeiS/17vJv6jvSL69XlG/TwHRv/Pwl7+lSmi/o0uFvr3esL+JTVm/zLWVvlWmjD9O/NS/IK99v52hgL8OVo2/FVamv1oJf7/SPQRA1FR+v1jbbL4hF5O/mpsJQBBFBUClfYa+j0ehv0J0j7+BoZi9HE8yvvhTsr8FHYO/2LSlv6qFdL54uGC/8+9lPyv8bL6lf1m//NqmvyGdkr7D31G/oIOjv028nL8jEYm/H9tMvzg1gb+l97i/mWEWvuL4or5rjnG+SauOv7MVr7+zW5O/NMlZvsReYj1RIQZAZoFcv9vXA0COBE6+xBCovxfkPL+AGIu+Qb2QvqNZVj/K4qW/WalsP0ou/j/pNH+/UxCjv1GOI7+vkIc7xWKePWDYmr8CyJS/HmBUvj1KvL/xwmS+kBHGv5wtBEBL21m+U61Cv9BTdr6ER+u9J+gFQPIujL8KTLS/Ykh5vqYnM76jjgNAngCyv0sVUr6fAnC/EH+IvrKbbr+bP7C/9nC5v9KWqr/Cyjq+iXGov51OhL/HoZi/g5uPv3x8qL9RrYq/BRyJv6E13r9nsO2/DPOpv13Ng74vRVI9d4hyv8TcBUBfr5S/jHsHQOnQb7/bMmq+wGTdP0KIXT9UdZy/ZBqhv3t7er7ABXy/P+Xcv7Tbr75A8NG/jPmlvrmYrr/GFMC/cymzvwbIeL9GZo69Vb5vvkLUmr/gLYO/5vJHv/YHTL4ypKS/bqGUv9dLyj3HAG6/ZuRIvtSfw7/6dKO/XyVHvzY4KL9HZ4m/nj2bv9xEhb+BiYe/2CdrPwZyfr4LZ56/2zu8vkmFgL5P+oG+8o+AvhHt0L/Pdmq+lD+LvzXfcT8VsH6++9UGQNQItr+O+Mu/DzRyvyYLdz8aZUe+QKu/v9hZZj8jk5G/dlyAv0nmib8m94Q/RF3iv3Ynsb+wGLq/Vyx2P5iDgr85hpe/EpBSPx8vhD8OnFO/gIyYvzzg4r8tJ1W/2rqQvzJVhj9TPj6+56GQv1BVpb8m6TK/19dhv94elL/6+gFAKdBRP+jKCkALlIi/pSh0vr4vn79QrKq/fa8HQMjjjL/4jaO/B9CFvyW5OL5rP3E/dGIHQG13pL+4FwZAXp0mv/1rsb+0Y048iiSXvxxrkL/fH4S/d7kwPSMJRb+E00G+en2Nv6PRt7+w12++wtDPv6s7wr8zRj+/8nJ8PwqYur6QZVK/pYWFv0Hiqr9JhYy/x+Shv1fMW78Bc66/Q2hrvvzAtL84s1E/2q2Tvm0VRL6OuIS+qnGNvj1pZT9P3QRA8hwkv5C4pr+CFQVAhkafv4pgB0BOtMW/eIe9v9vAFb+CGQhAvSiDvmCeqL+Lo7W/GJp3P7y6lL/zDbi/eZuqv3m+qb+u7bG/EaS2v07hgD8M5ei/zKC4vocgx7/Nb6C/UtBVv5U097+pfcG+GT7Av/YlpL+eza2/hmMGQM4OZ753QIG//e/Sv8rVKj1CUrO/o/ACQJWfwb/rOGS+Z4Wrv0Cdjb9GC7i/1xmvv6S8Sb/IrFm/56Fmvvytor9AmNy/3KOkvyuZ0r+1E7K/CHGavzgX0L8Bu5+/LnC4vwXvNb9e0oi/HGyqv9QuQ7+jM5K/sDJ5v39kor8Ug3o/zTpsv/7krr+bGZu/WKefv5g2mL8B4Ie/50FOvtzrfb6bzpm/b7WMvxhoyr+EHoO/yXF8v19SzL8KRWG+Edlnvy6Yjr/lCqC/uJq7vxUeXb60P8i/iUn5P7eDgj8eJoG/SFB5v99DUz8Z1nk/mfy8v6ScCUB+8qa/IB9xP60vhr8PnZK/4c4HQBCvjb4/a2k/SUqnv4xUU7+6M6i/FeQjv7jfaT9xnJu/W9eAvuCBub+BOgdAWziwv+C8Ur4iwKy/LZibvjSui79JWZC/8xa3v/Svz77s3Jy/LI82v8xUw77DN0G+bCSKv1sokL+TJKS/EEhVv/tPfj/AeHW+rUdmv5s0ob+Bwlo/B2anv0u1Ur7inAdAv/VWvkTnhb/R0whAR4jJv8FJB0AwO4W/Dq2WvwbReL45Jne/yFimvwFujL/FJMW/a4+7vzUGrb9rUpW/UloKQGfHB0C/16a/hyXOv5whtr6vn6y/IaYBvwnejb8NvIO+Nf1EviQgkr8P+04/FNxwv9W25r5/XAq/A++hvxRyh7/XU1m/KernvmmCmr8pBI6+rPJxv5F0ir8Ni5O/VxWLv/Uhqr8tP3S+dQ9lv4Wmgr99MpK/9nfLv6eWtr7ZF6a/hrSkv4mAML7qJp2/t5VZvru2fr+uusG+muKiv8qUBUAqQ7i/rpumv6b+q786f0y/f6qlvywgQ75/eZ2/SuKiv2eIVb4USza/AF3Kvt6qj78yvK6/YO6xv4kGpL7cRp6/R7bIv2MTl78J+L6/Q9HNvrpAlb8gUKO/VOOyvxJVAEBHI0S/auVyv7iRZb6lMoC+/1uVv4Jcg79Ou7O+wXKEPoPoer5lrLu/cLiDP9DElr/3+r6/SUZlvjltaL+Oami+GJSXvUQLJr5Rh6a/tzCmv5Cb9r/qw4O/n5o0v0keZT8NMTi+jBaGv0/Fpr9Xqsm+bdegv3ieBUBNbJW/RO5QvwtMmb9Aqv4/99vwvmCeP7+bsz2+NCVRvtr9Q7/mmqG/R4KGvzQ6Wb7qpZy/g1t2v9NiQ75fTpe/Bahcvp1unb/RaJu+fcyRv+udlr9gYYO/+bkDQIj+0r6x3p6/VcxuvlIxUz9jIci/Wt0wvhnPm79OZZi/ucGXv7PI4j+k5wZAbiakvzCIy7/HdJi/A6Szv4yufr/ROGm/x/wzvwpzBEBlpau/uNaxv71wlr3uXAdA8RCBv0hnz7+H7fG9ucSUvzMefj/cqwVAmgObvxJsdL/3nWq/W0XxvnWFmL9KjHW+2ZZZvpE3TL6fa4G/8yBvv9a3qL9B6r+/3ylfv9KplL8XkI2+QiGivpxYsr9iw86/C7ZZv9wPm7/Ddue/ZKGrvwvPpr9Yx6a/YGc5v/fI4L+3MLy+hvdSPS6Np79vIA4+Qx7Zv52jpb8qWjC+UI4HQFZ8+z8/M5G/Tu8mvpfUGL7sWwpAIY63vlHI+L6qHIa/I+mGv/busb9e0YS/sOa0v4W2db8i53K/jgOwvvFRJ79ZXHm/AitCvq0I8j8qTnS/nTSLv49sIr4ROVi/kRtdvqNdZT93CZ2/P5h5P9ZGor89TQVA6zwlPFaOqb9XsJG/UhDnvlQtA0AOWZe/aqwlvmofo78Bty2+/UjQvuawI763qoG/3ZSUv4O007+4CqO/V8PSv4CXp78vhYS/g9NjPxGGnr8y77C/9fYGQDjAlr+mLXQ/eDm3v88Avr8fyY+/V7ZavyfypL//fzC/TtZevxqeZ7/fa9K/Tyt7v6Y6lL1roGa/XGUZvrVEBkCZ+Z+/ClhgvqLxpr/WbJq/ePtuvoaEd76sOKC/PBuDv0+Lrr/2s5K/3zpSvmiGsb+XfHE/hq2lv+Fk278zUy2+kIKev9Ixbb57pAdACFCbv2hCgL4ksWG/dqGZvw5Wqb8cdqy/5MOpv7WszL6KTY++u3+dvycKCUBROZe/axCmv5HIVb5jQYm/75/Mv918pL/m96q/m0+Tv9T/tr+GvYy/QfgfvwaIYr9YREy+Vnmsvywnk7+MioC//d6EvkSUTL4sDGi+FaKSvm4chL1IhYe/tbC1vyRhmb87p4K/QTqav4Jgqb8cgrS+ymslv4A/ir8teLW+/XBUvwX5rb+w/Va+OzChv6Cvgb4bci6+iYmzv7gUg78gGEy+hAqVv/h90L8564e+z7Grv7CCd776f3W+PMK7v/yeTr/H36G/4oWpv7crYL78sUO+HBWkv+A+oL+EwMK9P0Szv4RIk79OCGu+73tUv9R/k7+7doC+XkWFvpsXl77IIpK/Kseav5SOtb80uFa/hjp1P6z1pb8/QLS/DZegv5j/hL+6bwJAbtmUv6Buwr95qZW/qmJlv3GMv77ZTUO+LDCXvrAqhb/aHYW/rxG6vn/7m7+TSIa/W9tJPaNxuL1UMIa+8aRHv/MPKr6MsGU/Oea3v/oh4r8PDHC+xr2zv0Koib9fnZu/3z1lPxfXiL8H5KW/CkKCvwhICEDw0p6/7kMJQPwAxr9vR7u+m9Pcv+k4Tr/Y19s//jajv39j1L+u3by/7baYv4GXNr8MYLu/qsVZvqOBSb7rD269aXF5vyaJZT8WjjO/MgHLv0nnk78IKlq/h4Crv1h4gL8EItq/FawMvpI8sr+Y33o/y+dWvt3ZgL+BrOa9wZhrP+ScUr47Tg2+ysCAv/CyXz+HK8e/YOWxv5VpfL/gY2y++/GFvzsqZr5zhIS/USpsP3SmtL+TiKS/iSK+vVOfhr8fWcK/opKEv3gvsL/4MKK/Fwh+vjOLb77HZpi/76OzvwYNhz+Ftv6+P4LHvwucrr8ecai/WJGHv8/pnL9NV66/hFYuvpUtqL/jdWy/8rqsv+Zy1r+x+6S/VTS8v6TlgT+IXoa/wB2Jv1PxJb4bqc2/3CKev8NsqL+w97K/zMS0vyeHWb4VuP29PqYHQPpNeD+W74M/+FRSv0CZi79mypG/FJhcv0zxAkB7i7G/BBmpvyiLUb6YdVa/qMaJv0H5sL+D96O/6/wOvkkAib/CyKe/jSk3vzLoJb5WWVY/im4IQDtBjb/hVJO/gC83vo0gnr+3XFC/djFEvqANfL6424+/r6uiv3NXoL+y1kC+lgCGvgLzjL+WoYC/JcUHQMZGy79BwKG/CZVEvjCFEb7784o/nXudv6mkm79oQL6/TWyZv/VHnL8iN5+/CmNwP/txEL8ppAZAk82UvyeflL+MYbS/l3C2v9irob9egrE9iIgfv+TXo78fk7W/nG5SvmkzBEARSZO/ug4JQJlYlL/xuQNAVUgDQKSpcL/m55y/7Gimv286pr9v+6W/RqqBvl+wp78UHK2/pjDQv9vZn7+oq2q9RE1hP+fMob+CBEa+WMJtvzGwI77NBZ+/eKMGQMxVVr6wTba+mIiEv/O6B0Ci+1G+Hf+Nvz1jJL/pgr2/kFmFv0rYAkCutYG+RCGXvz2yBUAKeJS/CTmFv+CbEr+Zheu+A++Nv0zfP76px66/+AqHvtUMsr+MaWM90gFdP6d1pr8qjIK/zYFYP47Twb+pbYC/ZHi1v5Bqvr/E1Vs/GAiXv9NDj79dK1i/xHWovwykY77gk2S+kPAjv/XSt79faVK/jm+svyNPZb73YFy+pgmdvyCDZL6Ec1O/vFeGPyTxob9ueKC/pR2wv0d4Qr5XxoC/oV5kvy8Gpb82PAO+KafEv6TJab6+nAhAYqSUv9MLB0AYkZu/fhMov457nb9M9YO+7UCRvyQ2sr/h1Gq9zKhfPydbcz+POIU/QKyVv7eol7/yW5i/yP6ovl6Olj1rIvs8p6g1v4GYU7+hwYY/5HsIQPebCEDI/Eu+Z5OEv+jBj73TQFa/kU+Uvhc21j9TyHu+PyBRvyDwnr83Loa/oDafv/voB0DsAdC+WnepvwxpZb5zXnw/opmGP0uE/r4+ebu+YqBlP8iFCEA1gmA/AIq0vy8LPb+guO6/Nt+jv7yp5b/4nJK/S6MjvWcStb8tfaG/hw2uv0dcv79VD5u/8B2lv7Ewaj/YKm6/kNdcvsXis7/HeDm+JQ1wvo6Qez/QYpu/9HF5P3F3gL6jHXm+pzh9vkzDub73UZy/43IRv7r8cL83uu2+vhCBv6yDbT8dZ46/VB6Gv5M9zL7qCna/EJKUv5Jzw78wLZO/iVHBv1wIoL+JJbq/f0mPvwb+U78MK4O/gXaev3M8fz9uP32/gCH2v2CBob9zCYW/4pmVv0jHSr/3NJG/PgSRv4MmrL/W+lK+2nNTvwYzpr/ONd+/c2Cvv3iNCUB0Eae/NMtJvsu6ZT/AEZy/7kGlv2xjX78au6m+sJucv9Hvqr8hyUa/vgy0vxSc8T8EWZ6/0uinv9IXmb8Y046/mh/Du5ckpr9MFVe/97S3vlvSmL/N+7W/bKwLvsTvlr8QYrG/xAWDPXLZnL8=",
          "dtype": "f4"
         },
         "y": {
          "bdata": "53JRP2fmpj//ZZI/GykAv7A8oT8FxP++y8TOP909TD/ebBu/xKbAPx/rqj/FUu0/5iFwPwLzQz/6NEq8QLXAP9hwMT/1+Jc/QD6BvztMOz8l4G+/445DP+vHsD/XhLg/l6fVvgx/B7+f6/I/hK/1vpgCnL847t6+vA6Dv8yumj9TRJY/+IKWP6IYkD92wI8/iGckPyVrqL7800M/TBiWP5glbr+dsC+/F6T+P24Jor7CA0Q/2js/vxjHpj+xujY/iv8wP9XPRz/Sbo8/v9aAP00MRD/504G/guUmP8QP8z8vJpU/seGVv9O3ID+al52/RvCNPzHpLT8CJja/zgePP/ZgVr/6SkQ/WDu7P6B4Gz98J48/lbsQv2SLhj+6bpy/CzMgv2lBGL9tb8M/xnKKP1vz6b5Q6CO/1qWIv4QppT9XGpA/GxZGPyOiej9j1PC+2DY1PzZ+HL+sVGs//wgmv6RYjj/9cpo/z+o2P0sA7r7egkQ/ByUcvy8BVL+B4/M/f7Ujv/GFkr/jUUQ/lYw2v0fhpz9FEli+WUuHPwnCKT9MDsS/VEJDP5pXSj9DfCa9wjKDv49P9j/+6+y+HKGfP9FEzj+OWYW/3pqrPwReMj+edU4/G9Qpv9+byj8Hmu6+5maqPvsODb8L0xY/OD1UvrbLNT+KSbS+lNcgvxinF7+swh4/BLgpvzLMfz9WEzU/GO3zP60gIj+EUoa/mKCMvlPRRT9+ULO+pAjaP2zajz9d9fS+aE69vn4Gjz8nlx8/vyuJvdVGhD8jYT8+3rUnP2g4l7++L7A/6+1nPwn/qb7wmkE/A8ijvhdUsz8fsLM/geqTP8OzwT8KEbk/wGvovoh5X7+CvkQ/DMxxP4iQYD9V8TQ/GnYrv8etMD8T9UE/jcyGv3RoQz90UUg/D3qXv3kBOz9JaeS+BlY3P2b3RT94zRm/sPEVP3D+SD/y37a+JbS2P4NR8j+pNHA/eGqRP+64/T8v56M/bP4Zv2cESj9zUZo/ep5Bv0Uqfj8rMUQ/hKqRP3IiA0BxOfO+PmGQP6FUlT+7AUA/4WdCP6Fj8D+WOs++38FJP59KgD+HTsc/MEqUP1lPaj8J5G6/vsN2Px+6nT/z3ps/2/fbvo9QET3dwMQ/awX/vuwyjLxDF2e/OXTuPw9Xkr86VPI/77ksvz5CXb8DGbO+oVXDP3/FQz+euzc/hBO+vjyTWj7Rzpk/+jykPusG0b7Q1T0/VpHhvnTQwj85akU//ri/vmvUwj/pqiM/73hSvortpj0A7bk/JsgwPvmlmr9YjPQ/DSk6P7Q2pj/LYU8/cKJhP2BaJr8F2DY/7hmKP5935b4bvVq/VF6/vmOZvD/tnTY/b56AP8Wz6z9MW0m/P6CWv9DTKD9UWSI/njdGv+lQWr/lm58/+yWwPnK8nL/XlY8/PKUrP0jw/L6dfoY/WVLyP444kj9d96k/g6ttv607tb7IakM/3U84P9+68L4l6Rs/Gk/FP1sdjz9og4C+QkJ8v0gMkD9EFjY/teqFvwPQTD86Urc/Lr1UPwxtI7/zQ70/EDDJvhRE774+dfE/E1trvx6sGj+PapM/tT1DP1NtX75NLEc/fNVFPyuNID8uu70//I2MPyyQ5L7sjUM/a/cnv10SYD/ITHM/hwXFP8llQz8gF44/0+fMP5/rNj96CJI/br0/Ps1ckD9rvZS/hQ+7vqiVIb+ZEsA/kr2oP74voT8pQ5E/WWH+vpAdmT80eI0/V608P7mTkL88XZA/B0M/P3qStL6Lanm/A2eYP1Tniz/WG48/H/cfv+McnD8Njs++5zBOv8nCRT/wHia/7052PoWQwL5s/Ek/xZaYP3gE7r7djjc/tAaKPx/RkL/An44/+WCBv5CikD+5FZU//ta7vtY1RD93bJE/sKGnv9tiQD++P5M/jweRv6m37r6bBfc/iMWWPxaPc7/VLoo/1EMvP+Y1Zj9bkEM/vXH4vl9lt75JMpY/IfeOPwIt9z93aO49v9JvP55es74sppI/EL2UP8lzcz9c3Eo/XLk2P4qs076DVi8/hm3wvkoxAD7zypo/7UBqP6neEj9hqvM/DJv1P5EsHL9aWnI/px9IP41yAL/lOZA/rHaLv9Ydn74MCY8/PI/PP+QaRD/0jhk/eBIJP/7P5b6ra5c/pdhCP1GjKj+BFeG9jb9dv9EzRj8QLo0/TwxLPyBEZb+BDgq/cOCxPwf9fz+Ktys/m+qtP92YqD9Utp0/GEeOP2bo0T9MB2E/G/vfP9YLEL++fF2/GX2JP+C+Qj877PY/0Dz4P0Js6L2L2Pu+EGMLPsZgST/4eo8/atSEPpz08L4bJJO/KDojPwgwQz83FlC/KNIqv+gsdD+eVJq/MSJOPy9LlT+Q4pa/iseUPw7c8T/BQTg/t/+PP5XgOD8h0fg/3kWnPwhYwD9mEy4/cACJP4aH+T+WzpQ/qMlIP2bNkT+cfZ4/+JqtPy+3vz+UyGc/nEqgP93KUT8He3M/CbWevmAiQj9on0C/M7gnP31JRj9oTEM/7ixEPyvvnb+1L0M/CsfqvsXX577o80M/5TwdPnKOeT9QPpC/QQ+LPxYZ3r7bv0Y/mHd4P/Bqnb7NUNY/o2Buvx/dZD+AHLG+fkYZvy4J9r4cFpq/nB+dvhAzQT/xZp0/Ow/Hvu4jqr5Hq50/FbZMP8NcHb/a55E/7J/1P3sixL505jc/SSXwvp+Q8r71Jag/PUqPPwGhWT8hucs+RQ3cvnZgmj7l4pc/4cBDP5JiEr/bmC8/5dj4PRzDSj/wrjS/TYajPwoZkz+2dZW+1HhwvXFvG7+zo70+VOzAPz/Rib8iLPU/8BY4P1pFYT8VPWI/8Ej6P4TLiD8Jl0g/cr8qv4gFyb4M0DM/gSWNvwoO677Hnog/1NunvqpCJT8eNl4/ZRo2PyONfj+hvJA//FJEP1mkgz9tRT8/Ud+PP5tHC7+HzMO+1ShIP3B/QT9mZUM/irVHP+FFDb8F9qq+rh3fP81cvz95W6a+jHI+PygtUz5IIUe/8sGbv4iozj8UXzQ+2d+PP35Vob52Nwq/BDbgvv1llD9yO+G+EEe7Pyi8kr+UYX6/kvl9P4xE5r4qVZO/uIwoP+qBBr8VT2o/WuCeP2LAEr97dCo/B0F/P36sQ78Zhg+/tsxavgMORD+USfc/YzH/vu2f9D+q4+U/CcPRvgUiAb9GNo8/kQ6XPywYhD9Oacm+e8JtPwCljj9/vGg/vyuPP3qNoj+aHAa/WMmTviaVBb+c3l2/+9E+v6bwC79Dako/2SKtP2HinD/jit4/cw0Iv7Gdtz+XPi6/o1hsvx1Skr/M6dy+kuXNP6M+lD87F00/2d/sP6UcgL9numg/6UyPP/RhRD9G5Tk/5x5NP++grb/A96I/rL6JP8sxqD8Tv0M/FJuRP1nTXj8+TDM/RadrP9MxkD9d0a2/vYqYvpChtL4T4TQ/CymvP1Ur5r5r8J2+sZWvPxwoI71KlJs/s0gPv3Ykgj8wtyG/LgESPmCFSD/o17C+WgaPP2Mxkz/kIi+/gaC1P1/5nb5SlZY/PcdCP1TZjr8e0aa+S+ZevygQjz/uHJC/KhNMP8j0QD8wPKk/BWMBv1bnJD8Fn5O/8j2WP50tKD9Sk5M/X4IxPwgqNj8IO+u+keaUP2k6wb46nUM/o3F2Px6XOT+fvc2+kO4HvyPUjz+slNy9jm5EP5c2hD/SWJ0+PEGuv871nL5eOVc/C+vtPxQzPj8uA4E/CZOnP5pSmD+EYCi/J9ucv/OzEL8Sn0Y/c+qbPbIAVT7/EBW/babXP6mxJj+sr3U/w04gP09mdL+T60Q/++lJPx7Gcj/wV+e+T3nzP2VsLj9F7bw/GLWQvysqNT/QsJA/kdx9PyQ3H78E6UE/YyP5Pwb8FL9JK80/1cXivsPNlD+b10M/OZF4vzBp9j9tlSO/lAssv0CuUD9wLx+/vJ7Qvj22KT+Z54+/ovtDP0GMUD/KZSU/CA8Nv4r+I74zJ4q/T5eQv35eXr90Oow/Wft9P2+Nkj9E7g6/6TwLv+i3MD/YubM/TGR6PyBEMj/2rfu++hOhP/EHZz8xfUc/qdasv8GMpz8cPJw/wjiRP0d5g7+0aIe//wJWvxaW377Ch5M/G/Jiv8Jnjz+EfEI/PpRcP3K6mj/7+iY/nW2oP1n6QT9fWZG/tKq3vmXBDb8rb8i+/VqBPwTs+D9TLEM/M/c0PzOWLT++fzu/vrSEvoCYD78f8Jo/b17EP2esm76DFDY/Y9mDP3mPS78mfjQ//rDuvu7b9jwvgz8/rDecP1qb0j9kwmI+TpKsP0LjaT9mf5A/xDxGP+pqlT/AbKK/HeiXP+5uMT/q0Y2/1A6MP3gzkT/pzJ0/BWVFP4+nIj9mLjI/qaOLP1TGhj998nu/+Rlrvj8pJT9tT6M/2ZNCP4ehx7717jC/Yme6P+ZweT9jL2O/XPLvvhxCMz4W5C8+kxg1vzaNlr+znA6/jUCUP5+9Xb+Kyoo/zmzFP0qotz4AtFI/7LOTP2uBNj/JsyE+qlBoP6IeA7/uLx8/ydQzPxzAxr7tARy9gEiGv/WltT8b/+8/nCquP2kvMz+MikQ/WQuRP8Yikj9n944/hiHyP3ZJiL8Z3eS+LaD7PxAm+76F1zg/gTJOP1LIhr/Z8oy/ma+kP2+7Z7+lyDm/LXuIvvkJgj8yTDu/avuJP6RH7r5TP0Y/EyLwPwwIND8jlfU/SuqGv8JfQr92N5E/v3r7vcdrCD7chiK/9jgpP6s3mz/ETdW8GzdQP3iIGz+uzpc/+/aXP3Kqkb+7hu8/yKnkP3rahj8dH+o/YO8+P77CcD9zwme/p7CPP9ae3T6ODPQ/L8NsPwlDNT/TsdY/YfFFP74Wrb7wfUw/kIn7vowhIL9xQIa+7DH5P4j/uD9MgTE/ewF/P7njuL6R/1C/axWZPy/PXL9QqIo/8aInP08IOz/Glwe/EfTKP3VWEb9L/gu/IIeJv2JEF7+bXZo/QIupvnesX7811QS/Mmv3PaM3gr/vH9O+AuFxv4Y1rb9RNI0/sq9wP8/lgj+qAJ8/+DWpPyLOjT/AaKC/fA6tP8vlQT+PKV+/2ay+P2hJWD5PCDI/ZwIzP1GFSr+5jT4/X8R9PxWQRD9miwq/H7ymP7J+Mb4mpp2+gCxEPx6lfb8UzJ6+DvYFv+7znL9umzc/JobLPzdRvT+wJ0E+cToov6PvQj/5VJA/gTcmvz9bj79bsV8/xkywPxFhJj+TCpA/isEqv77vA73As5U/JiiCvi7dkD/WQnQ/lcMEv6Vglz9rFJC/Tiz8vj6giT+CvvY//FavPy3KkD/ozkU/nshBP7eOIr/SUpY/FDhBP6UpkD/Na48/1NlJPyq3QT+Qc/g/5XTjP4UUoD91efK+EqH1Pz8g1j+uezs/c07AP0rB3r4juCg/maCRPxZSez/SBEQ/UyyRvrQ7RT93cTU/WNrlP04CYj8t27U/rDpuP+mpdb/nC0E/KhLhvvm2Qz/bR0M/xWiPP/l6jj92Y3C/ZtUbv8tOjz8u2kg/3QktP50OJL+Zozc/ICIKv7YVG79CzEM/+pySPzuB6r4tEEY/cCVEP+9WSD8fO/a+etlGP1XyrL7UX6g/oAzavq3n4b585Zo/GB0yP+z7Yz87rL8+zALkvqaViT/bpIc/s81wPydFJT8DPkg/ESJLP2FXiT+CjFQ/JthJP+fjjb+UW3E/2XH3P5HUNj8Hdjk/W93GP8qeLD8p6+S+kdCnP7dbPr+DS48/MEiwPwZ6C79hbDG/9Ianvq2vOj9vVBm/UUfXP6cTVT5y9+y+x5MgPqK8rr99PiY/TxIev7/bMD/ZJ40+5F/jP6U5Fr8VNpu/zNJEv1AJwz8T124/GWdFPxRVkD/iMhc/A7CwP1Q17L794rY/Gtc3vzNXMj96+I8/qBWSP/iJmz/5AZK/RKGpP02+7L69laW+SRiPP0RchL/mPR4/Abqgvnfujj9dK7M/ciuaP++8+b6705O/wumRP86Nlj/MvEQ/rhSCP86rRD/Rzpk/rvD8vtJo975yIO2+m5o2P1rNbr/pSKo/+uBmP1885j+Joki+wSNEP/waRD9yxfu+dGeAPysxi749nic/elSsPxOpiT/lGYo/EHlVv0mAnD+9aPe+wQVDP7hAnr7DZIC/jBvwPwwcSr/ackk/MpCcv6GErr5Ru28/ddEAv0bRuT+l2I6/ojmJv2Ile74QKZC/9L75vh5Fjz+SdLo/hfEZvs5ujL4L+Le+l+SRP+Su5L7tuyw/UR+lP6mHvr4FfIm/iG6Tv/jakT+Hd50/NjBEP92v8b7tppQ/oOIeP8xvQj/Ouk8/cPqfP7RhmD+FUeq+OjE3PjtbiT86f+4/vM2UP7sYj7//0pM/zjOSP8mlQz9Vo40/lDObP4TvD7+2WTY/ahpFP7nFSr9IuTU/ekUWPlhPFb+iJa++hkhJP7glqT/I2ae+ERYrP4SfVb8htwm/sEMYvygeDL+qcpk/AUwBv4UcvT95u/c9i7oDv8XolD+NLTK/j7uOv1OGsT/Rtu8/FjyvP1X4iD9KjoI/fzpFP+uJxL5u3c8/3/wlPiZmlT8A5tq+4kwxu/55jz9IGZI/hyPgvn9gPb/WKz6/HrtCP+LVuj+1KPa+21iNv9qCH78qX54/OlzUvpytmD+qB0c/45CBv0a+Ij+jbio/DOfHvRSfRT9Duyc/aVCYP6ZT5L3ck4s/DoEtP6vnrj/sots/DjGLP+aB2L4V7EI/9Delv4EDb74zyPq+mf9sPzwrGD8OByw/GNhKP033Sj+bVJ4/32ZFP+A2kD+7DfQ/OanCvqeKDr9S77o/IizMvjdJqD8GAaU/+pCqP20dbz/9I/y+PRA0PzbQ677aHKs/o8iBP+USgj/AKzM/7ci/P72+0r5Hqow/3cROP4QdRD/xwEM/gjszPwp6jz9I/JE/8smwvn60Mz89e2a/y+A1v6L4Oz/SIJk/iX+TP7V/l74kqBg/bS6JP+uuQD+sE6m8gx6eP76Hlj3ld04/EhPAP6prMT/J/0M/gcmMPxfcjb7YC0E/O076vmqF5L46FrC+dioevyKPgz8a1ja/DAhJP0PV/T+UnvM/tcqlP3j/kj+V15i+BounvC2hUj4PvEk/hO2Fv9tdFT9BQZE/DFtLP3VcCr/9WUI/cVCnPyCbZr8dyfc/4BYnP5T7kr64wic/EWuwvmhYvT9hPKW+b+TMvn9xHD8UESc/PEbEvu1O7r0swOW+6a14vsjRmT+xbgq/JRqwPx3Jer8PeSe/ayg5P2pXhD96ujI/Sr26vkHxsT9EBbK/T1eLPx+WwL70w+k/Ke2PP15tdT/B1E0/kgFDP3avj761h8G+xYvxvsDajz/fn0M/cS5EP4QQJz+FUU0/ZpirP+jl+D/JR6w/U3+cP4oH+L4HZTy/c8uAP91bdj+4IHK/Ymb6vvVyfL8481c/HPa5vi18oz9t7GA/PTA8P/7Imz+t+Xg/83g6v3rEz77nYfU/uht/v4YZRL818Zg/Fj5CPxgTeD8OhQm/2s8lvx5C677dHZA/AeGsP70ffT9QHQq/7KDevl1H8bwiQXU/OMpHP3txDb+7EF+/OCeWP66+fD+t/xU/GMlZv0ONRj8GuHg/NHjiviVdqr73ll6/WKGXv48DYT++EmS/2zbtP+EmHb9AppE/1jlQPzfHsT+GuI8/DPAiP1Pstb+YIs++fYr0P47AT78=",
          "dtype": "f4"
         },
         "z": {
          "bdata": "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",
          "dtype": "f4"
         }
        },
        {
         "marker": {
          "color": "yellow",
          "opacity": 0.8,
          "size": 1.5
         },
         "mode": "markers",
         "name": "[Real] Vehicle",
         "type": "scatter3d",
         "x": {
          "bdata": "LJtwP+GpmD8L25Y/FlWcP8vemj9rcJU/eauXP1VEuD8dNpY/38CPP82upD9Kq64/WyWnPy3hgj9EoJk/2jycP+O1lj+iTXA/n1K0P5WjtD9GoYY/xKy1P/yuhT9lQY8/zXqnPwLRiT/xGIk/Bb6YP22pcT/5Cos/p7SEP0xmlz/cgKE/Tu1vPygTlz8sOKI/6cmaP7MHlz8Tq6I/CzGDP4s5fD+yv5M/lxh0P3bTij9eOXM/5caVP8tsiz/TCKk/tsmVP2XRnj+gKKE/UAeZP9lWlD/bAZU/kUCyP4PZpj8gxJo/ZvyYP5FjdD8XW5s/sMCbP89Ejj8LKJw/V3mLP56wsz/K3Jg/UaO0PxuXgz/3XbM/KK+VP/0ElD/c4JQ/4T+YP2yWgD8xHpg/96uwPypHpz+IIo0/vTSlPyOXlT8tebA/cemAP1e2mj8jN7I/sJywPzWmmD8JxYU/+sebP/eknD+X/Jc/4y6VP0BVpz8OJno/HbiXPxASnD/GA5g/2DWdP2Dwmj+sYoA/mmSjP4/OdD+pLtg/PA2cP8PrnT/Vp5k/Py62P6AutT/zOZs/4peZP8Bwnz8lD4k/HgqmPzaIlj8w1KA/OpO/P7FMiD+S9LI/JoWXP/j6lz+LNLE/FT+XPylotD8CI5U/6rGIP6i3ej+nRbY/Q7axP87/oT+0Y5w/3il4P4hmrz/1cKI/GsK0P///mj+me4Y/O+OZP6Gdgj9UvqE/rWS0P8tGtj/hAnQ/oeSZP25mmD+fnKI/51SZP/NXiz/yaZg/GFeGP0c7nT/SFJc/",
          "dtype": "f4"
         },
         "y": {
          "bdata": "6AenP7lg1T8HbN4/1jnLPzrqoT9spus/Z6fmPwMjGT+THeA/JhmkP0aBwT8whsI/9FvBP7f6qD+xytc/oHvIPzRc4j+Hrqs/i9QWP6ATEz8ErqM/j2LDP8Xrpj8vMKQ/O2PCPykyoj/tkKM/95HTP9vTrT8E16I/R0GjP6Gd5z9mNKI/JrGpP2RF3z8NncA/WOnKPzLM6j+w3sA/0RaxP9r4oj/Fm+w/QgWkP1ANpD8cqqM/9bnpP3wHoj8oX6I/1xeiP9hPxD817qE/xjvUP7Ym8D/uou0/VjwcP4/qoT841KE/ChfWP4G6oz8dDs0/I6bOPziSoj9Vpsk/45alP8QsHj82ZNc/ceESP8SDsT9ATBc/W17sPyZL8D86fOg/wtvlP/jBpj+D7N0/ZL8mP9gRwT8BLqI/KJfBP6RWpT/Mvyc/3DCvP2iE0D8dO8M/pNUrP82K5D+e4qM/DJDSP0ftwz99TeI/SnLqP2vEwD8jMqM/V3zYP7swxz+bONw/ve3EP1/soT87zKI/GJyjP8P+oz+hkB8/7n3GPymfzT/XGtw/QOISP437Gj8w68g/OrrTPx3hyD/1mKg/OELBP8UV5D+pzMA/QKojP0KZoz814ck/4I7cP1vXoj85oB8/ofLgPwJJKD81eaM/LiSjP5rgoz+6McM/EBIfPzHroT/fM8A/M2mjP5rkwj+Ia8E/RYIUPx9Uyz87iqM/qhDQP1/woj+I3MA//DUTP2tjGz+5uqM/zzTNP8vA3D+Xk8s/RW/hPzj+oz9opOE/ZmKiPwqu3z9+x+E/",
          "dtype": "f4"
         },
         "z": {
          "bdata": "gvY4v5s3Oj9kRBA/WOE7vrum0r5vXgw+Z/8Lv7317j7Ws2E/KAVdvTvknj9wC0s/6YcdP4ysPL49IQa+HWKuPab7/T6FykS/AzxUPruQaL6RO6K+RVYhP9FpnbxuACq+F2qkP011O7/8cZa+Y5E5PwC1Ob8EHdC+uAF+v8B24b56Jiq/cU5Jv0KFND/KVoA+lHQdPxuVv77LaRw/dyqSvw01QL/xilQ/LOgHv84OXL7QZlG/deeQPsB9Lr9gDxG/xKjbvsrCqj82/tm+3YwFP+abyT6LPMk+mInBvptF0b5UoCS/Cc2EP2nCWL8F75G855pAvvTERr+OnKa9KHAFPZJDbj5TL4U/P3COvmMOa776Sf29H99WPgSxtj6fCy4/eJ+ovnAjkr7EGoc/xk+VvZQFxD7MRwW/nZuWP4pAyTzw/qe+CqaqvvBF+r1vJV4/NkicvsfzjT9xoKG+hx0Jv6pogD66YoC+pTJ5P32tUT3M9zG/qOh4P/17Gz7Aa9g+wfgzvbAxpr7+hia/KDvPvlheAb/hDLO+AXLDPjLlpT8fffm+emo5Pv36uD4r5S0/Do+IP/z4rD9MqwE9hA2RPtq8xz7kcFY/81EVPzCsSb/QqPA//rG0PtWuhr6qv5m+LLF9PqeUxj6EI+69eLtev2KB3b57H9g+mlSIO77tMb/PC0Q/AIIPv/Crqz9dI2g/ali2vrGjLj8dHGS/DzRBP27cBb9yb04/gWfKvVH/4D4CE0u/uLZZP0FQWj59mLM/852RP587eb5oWu2+qaJ3v/alnz9Y8ZA+",
          "dtype": "f4"
         }
        },
        {
         "marker": {
          "color": "black",
          "opacity": 0.8,
          "size": 1.5
         },
         "mode": "markers",
         "name": "[Real] Void",
         "type": "scatter3d",
         "x": {
          "bdata": "8NtbvlwfTb5kUUi+jcNOvjs0Sr4AmEe+LAtEvlvfQb4=",
          "dtype": "f4"
         },
         "y": {
          "bdata": "OTplPnmZQz7APmc+LGg7PtZaZj4pPDA+jQcqPlx5Jz4=",
          "dtype": "f4"
         },
         "z": {
          "bdata": "7sHAvZxGBL7IYRS+nPwKvinAGb7gVui9tzvYve1+zb0=",
          "dtype": "f4"
         }
        }
       ],
       "layout": {
        "legend": {
         "title": {
          "text": "Clases de Segmentación"
         }
        },
        "scene": {
         "xaxis": {
          "title": {
           "text": "X"
          }
         },
         "yaxis": {
          "title": {
           "text": "Y"
          }
         },
         "zaxis": {
          "title": {
           "text": "Z"
          }
         }
        },
        "template": {
         "data": {
          "bar": [
           {
            "error_x": {
             "color": "#2a3f5f"
            },
            "error_y": {
             "color": "#2a3f5f"
            },
            "marker": {
             "line": {
              "color": "#E5ECF6",
              "width": 0.5
             },
             "pattern": {
              "fillmode": "overlay",
              "size": 10,
              "solidity": 0.2
             }
            },
            "type": "bar"
           }
          ],
          "barpolar": [
           {
            "marker": {
             "line": {
              "color": "#E5ECF6",
              "width": 0.5
             },
             "pattern": {
              "fillmode": "overlay",
              "size": 10,
              "solidity": 0.2
             }
            },
            "type": "barpolar"
           }
          ],
          "carpet": [
           {
            "aaxis": {
             "endlinecolor": "#2a3f5f",
             "gridcolor": "white",
             "linecolor": "white",
             "minorgridcolor": "white",
             "startlinecolor": "#2a3f5f"
            },
            "baxis": {
             "endlinecolor": "#2a3f5f",
             "gridcolor": "white",
             "linecolor": "white",
             "minorgridcolor": "white",
             "startlinecolor": "#2a3f5f"
            },
            "type": "carpet"
           }
          ],
          "choropleth": [
           {
            "colorbar": {
             "outlinewidth": 0,
             "ticks": ""
            },
            "type": "choropleth"
           }
          ],
          "contour": [
           {
            "colorbar": {
             "outlinewidth": 0,
             "ticks": ""
            },
            "colorscale": [
             [
              0,
              "#0d0887"
             ],
             [
              0.1111111111111111,
              "#46039f"
             ],
             [
              0.2222222222222222,
              "#7201a8"
             ],
             [
              0.3333333333333333,
              "#9c179e"
             ],
             [
              0.4444444444444444,
              "#bd3786"
             ],
             [
              0.5555555555555556,
              "#d8576b"
             ],
             [
              0.6666666666666666,
              "#ed7953"
             ],
             [
              0.7777777777777778,
              "#fb9f3a"
             ],
             [
              0.8888888888888888,
              "#fdca26"
             ],
             [
              1,
              "#f0f921"
             ]
            ],
            "type": "contour"
           }
          ],
          "contourcarpet": [
           {
            "colorbar": {
             "outlinewidth": 0,
             "ticks": ""
            },
            "type": "contourcarpet"
           }
          ],
          "heatmap": [
           {
            "colorbar": {
             "outlinewidth": 0,
             "ticks": ""
            },
            "colorscale": [
             [
              0,
              "#0d0887"
             ],
             [
              0.1111111111111111,
              "#46039f"
             ],
             [
              0.2222222222222222,
              "#7201a8"
             ],
             [
              0.3333333333333333,
              "#9c179e"
             ],
             [
              0.4444444444444444,
              "#bd3786"
             ],
             [
              0.5555555555555556,
              "#d8576b"
             ],
             [
              0.6666666666666666,
              "#ed7953"
             ],
             [
              0.7777777777777778,
              "#fb9f3a"
             ],
             [
              0.8888888888888888,
              "#fdca26"
             ],
             [
              1,
              "#f0f921"
             ]
            ],
            "type": "heatmap"
           }
          ],
          "histogram": [
           {
            "marker": {
             "pattern": {
              "fillmode": "overlay",
              "size": 10,
              "solidity": 0.2
             }
            },
            "type": "histogram"
           }
          ],
          "histogram2d": [
           {
            "colorbar": {
             "outlinewidth": 0,
             "ticks": ""
            },
            "colorscale": [
             [
              0,
              "#0d0887"
             ],
             [
              0.1111111111111111,
              "#46039f"
             ],
             [
              0.2222222222222222,
              "#7201a8"
             ],
             [
              0.3333333333333333,
              "#9c179e"
             ],
             [
              0.4444444444444444,
              "#bd3786"
             ],
             [
              0.5555555555555556,
              "#d8576b"
             ],
             [
              0.6666666666666666,
              "#ed7953"
             ],
             [
              0.7777777777777778,
              "#fb9f3a"
             ],
             [
              0.8888888888888888,
              "#fdca26"
             ],
             [
              1,
              "#f0f921"
             ]
            ],
            "type": "histogram2d"
           }
          ],
          "histogram2dcontour": [
           {
            "colorbar": {
             "outlinewidth": 0,
             "ticks": ""
            },
            "colorscale": [
             [
              0,
              "#0d0887"
             ],
             [
              0.1111111111111111,
              "#46039f"
             ],
             [
              0.2222222222222222,
              "#7201a8"
             ],
             [
              0.3333333333333333,
              "#9c179e"
             ],
             [
              0.4444444444444444,
              "#bd3786"
             ],
             [
              0.5555555555555556,
              "#d8576b"
             ],
             [
              0.6666666666666666,
              "#ed7953"
             ],
             [
              0.7777777777777778,
              "#fb9f3a"
             ],
             [
              0.8888888888888888,
              "#fdca26"
             ],
             [
              1,
              "#f0f921"
             ]
            ],
            "type": "histogram2dcontour"
           }
          ],
          "mesh3d": [
           {
            "colorbar": {
             "outlinewidth": 0,
             "ticks": ""
            },
            "type": "mesh3d"
           }
          ],
          "parcoords": [
           {
            "line": {
             "colorbar": {
              "outlinewidth": 0,
              "ticks": ""
             }
            },
            "type": "parcoords"
           }
          ],
          "pie": [
           {
            "automargin": true,
            "type": "pie"
           }
          ],
          "scatter": [
           {
            "fillpattern": {
             "fillmode": "overlay",
             "size": 10,
             "solidity": 0.2
            },
            "type": "scatter"
           }
          ],
          "scatter3d": [
           {
            "line": {
             "colorbar": {
              "outlinewidth": 0,
              "ticks": ""
             }
            },
            "marker": {
             "colorbar": {
              "outlinewidth": 0,
              "ticks": ""
             }
            },
            "type": "scatter3d"
           }
          ],
          "scattercarpet": [
           {
            "marker": {
             "colorbar": {
              "outlinewidth": 0,
              "ticks": ""
             }
            },
            "type": "scattercarpet"
           }
          ],
          "scattergeo": [
           {
            "marker": {
             "colorbar": {
              "outlinewidth": 0,
              "ticks": ""
             }
            },
            "type": "scattergeo"
           }
          ],
          "scattergl": [
           {
            "marker": {
             "colorbar": {
              "outlinewidth": 0,
              "ticks": ""
             }
            },
            "type": "scattergl"
           }
          ],
          "scattermap": [
           {
            "marker": {
             "colorbar": {
              "outlinewidth": 0,
              "ticks": ""
             }
            },
            "type": "scattermap"
           }
          ],
          "scattermapbox": [
           {
            "marker": {
             "colorbar": {
              "outlinewidth": 0,
              "ticks": ""
             }
            },
            "type": "scattermapbox"
           }
          ],
          "scatterpolar": [
           {
            "marker": {
             "colorbar": {
              "outlinewidth": 0,
              "ticks": ""
             }
            },
            "type": "scatterpolar"
           }
          ],
          "scatterpolargl": [
           {
            "marker": {
             "colorbar": {
              "outlinewidth": 0,
              "ticks": ""
             }
            },
            "type": "scatterpolargl"
           }
          ],
          "scatterternary": [
           {
            "marker": {
             "colorbar": {
              "outlinewidth": 0,
              "ticks": ""
             }
            },
            "type": "scatterternary"
           }
          ],
          "surface": [
           {
            "colorbar": {
             "outlinewidth": 0,
             "ticks": ""
            },
            "colorscale": [
             [
              0,
              "#0d0887"
             ],
             [
              0.1111111111111111,
              "#46039f"
             ],
             [
              0.2222222222222222,
              "#7201a8"
             ],
             [
              0.3333333333333333,
              "#9c179e"
             ],
             [
              0.4444444444444444,
              "#bd3786"
             ],
             [
              0.5555555555555556,
              "#d8576b"
             ],
             [
              0.6666666666666666,
              "#ed7953"
             ],
             [
              0.7777777777777778,
              "#fb9f3a"
             ],
             [
              0.8888888888888888,
              "#fdca26"
             ],
             [
              1,
              "#f0f921"
             ]
            ],
            "type": "surface"
           }
          ],
          "table": [
           {
            "cells": {
             "fill": {
              "color": "#EBF0F8"
             },
             "line": {
              "color": "white"
             }
            },
            "header": {
             "fill": {
              "color": "#C8D4E3"
             },
             "line": {
              "color": "white"
             }
            },
            "type": "table"
           }
          ]
         },
         "layout": {
          "annotationdefaults": {
           "arrowcolor": "#2a3f5f",
           "arrowhead": 0,
           "arrowwidth": 1
          },
          "autotypenumbers": "strict",
          "coloraxis": {
           "colorbar": {
            "outlinewidth": 0,
            "ticks": ""
           }
          },
          "colorscale": {
           "diverging": [
            [
             0,
             "#8e0152"
            ],
            [
             0.1,
             "#c51b7d"
            ],
            [
             0.2,
             "#de77ae"
            ],
            [
             0.3,
             "#f1b6da"
            ],
            [
             0.4,
             "#fde0ef"
            ],
            [
             0.5,
             "#f7f7f7"
            ],
            [
             0.6,
             "#e6f5d0"
            ],
            [
             0.7,
             "#b8e186"
            ],
            [
             0.8,
             "#7fbc41"
            ],
            [
             0.9,
             "#4d9221"
            ],
            [
             1,
             "#276419"
            ]
           ],
           "sequential": [
            [
             0,
             "#0d0887"
            ],
            [
             0.1111111111111111,
             "#46039f"
            ],
            [
             0.2222222222222222,
             "#7201a8"
            ],
            [
             0.3333333333333333,
             "#9c179e"
            ],
            [
             0.4444444444444444,
             "#bd3786"
            ],
            [
             0.5555555555555556,
             "#d8576b"
            ],
            [
             0.6666666666666666,
             "#ed7953"
            ],
            [
             0.7777777777777778,
             "#fb9f3a"
            ],
            [
             0.8888888888888888,
             "#fdca26"
            ],
            [
             1,
             "#f0f921"
            ]
           ],
           "sequentialminus": [
            [
             0,
             "#0d0887"
            ],
            [
             0.1111111111111111,
             "#46039f"
            ],
            [
             0.2222222222222222,
             "#7201a8"
            ],
            [
             0.3333333333333333,
             "#9c179e"
            ],
            [
             0.4444444444444444,
             "#bd3786"
            ],
            [
             0.5555555555555556,
             "#d8576b"
            ],
            [
             0.6666666666666666,
             "#ed7953"
            ],
            [
             0.7777777777777778,
             "#fb9f3a"
            ],
            [
             0.8888888888888888,
             "#fdca26"
            ],
            [
             1,
             "#f0f921"
            ]
           ]
          },
          "colorway": [
           "#636efa",
           "#EF553B",
           "#00cc96",
           "#ab63fa",
           "#FFA15A",
           "#19d3f3",
           "#FF6692",
           "#B6E880",
           "#FF97FF",
           "#FECB52"
          ],
          "font": {
           "color": "#2a3f5f"
          },
          "geo": {
           "bgcolor": "white",
           "lakecolor": "white",
           "landcolor": "#E5ECF6",
           "showlakes": true,
           "showland": true,
           "subunitcolor": "white"
          },
          "hoverlabel": {
           "align": "left"
          },
          "hovermode": "closest",
          "mapbox": {
           "style": "light"
          },
          "paper_bgcolor": "white",
          "plot_bgcolor": "#E5ECF6",
          "polar": {
           "angularaxis": {
            "gridcolor": "white",
            "linecolor": "white",
            "ticks": ""
           },
           "bgcolor": "#E5ECF6",
           "radialaxis": {
            "gridcolor": "white",
            "linecolor": "white",
            "ticks": ""
           }
          },
          "scene": {
           "xaxis": {
            "backgroundcolor": "#E5ECF6",
            "gridcolor": "white",
            "gridwidth": 2,
            "linecolor": "white",
            "showbackground": true,
            "ticks": "",
            "zerolinecolor": "white"
           },
           "yaxis": {
            "backgroundcolor": "#E5ECF6",
            "gridcolor": "white",
            "gridwidth": 2,
            "linecolor": "white",
            "showbackground": true,
            "ticks": "",
            "zerolinecolor": "white"
           },
           "zaxis": {
            "backgroundcolor": "#E5ECF6",
            "gridcolor": "white",
            "gridwidth": 2,
            "linecolor": "white",
            "showbackground": true,
            "ticks": "",
            "zerolinecolor": "white"
           }
          },
          "shapedefaults": {
           "line": {
            "color": "#2a3f5f"
           }
          },
          "ternary": {
           "aaxis": {
            "gridcolor": "white",
            "linecolor": "white",
            "ticks": ""
           },
           "baxis": {
            "gridcolor": "white",
            "linecolor": "white",
            "ticks": ""
           },
           "bgcolor": "#E5ECF6",
           "caxis": {
            "gridcolor": "white",
            "linecolor": "white",
            "ticks": ""
           }
          },
          "title": {
           "x": 0.05
          },
          "xaxis": {
           "automargin": true,
           "gridcolor": "white",
           "linecolor": "white",
           "ticks": "",
           "title": {
            "standoff": 15
           },
           "zerolinecolor": "white",
           "zerolinewidth": 2
          },
          "yaxis": {
           "automargin": true,
           "gridcolor": "white",
           "linecolor": "white",
           "ticks": "",
           "title": {
            "standoff": 15
           },
           "zerolinecolor": "white",
           "zerolinewidth": 2
          }
         }
        },
        "title": {
         "text": "Segmentación Real - Índice 500"
        }
       }
      },
      "text/html": [
       "<div>            <script src=\"https://cdnjs.cloudflare.com/ajax/libs/mathjax/2.7.5/MathJax.js?config=TeX-AMS-MML_SVG\"></script><script type=\"text/javascript\">if (window.MathJax && window.MathJax.Hub && window.MathJax.Hub.Config) {window.MathJax.Hub.Config({SVG: {font: \"STIX-Web\"}});}</script>                <script type=\"text/javascript\">window.PlotlyConfig = {MathJaxConfig: 'local'};</script>\n",
       "        <script charset=\"utf-8\" src=\"https://cdn.plot.ly/plotly-3.0.0.min.js\"></script>                <div id=\"87fca967-f618-4c16-9713-8f7228de404e\" class=\"plotly-graph-div\" style=\"height:525px; width:100%;\"></div>            <script type=\"text/javascript\">                window.PLOTLYENV=window.PLOTLYENV || {};                                if (document.getElementById(\"87fca967-f618-4c16-9713-8f7228de404e\")) {                    Plotly.newPlot(                        \"87fca967-f618-4c16-9713-8f7228de404e\",                        [{\"marker\":{\"color\":\"gray\",\"opacity\":0.8,\"size\":1.5},\"mode\":\"markers\",\"name\":\"[Real] Construction\",\"x\":{\"dtype\":\"f4\",\"bdata\":\"YBGNvqFSEr\\u002f1xdO+U4UpPzjLxj8fGC0\\u002f\\u002f1T7Pe4COL8upIy\\u002fdoolv6x7Fb\\u002f9AEa\\u002fL8YlPw8mp76wY7c\\u002fhQS7vem1rD8bwL2+8wGRP9BkiT4fcxe\\u002fhvvOvp4ce792E0+\\u002fi538Pq9Lzj0cdIW\\u002fX0cjvxzdSj9bMc0+A93KPtMVoT+3zbC+rXGVvu5kiz4aLRU\\u002f3exqv+VtrT7O43M\\u002fdU68vg36w74r7wE\\u002fJGcFv2\\u002fbQT\\u002fUqQK\\u002fru85P9G1K71QBKS+fymTPr65GD9GrDo\\u002flO1BP2s2Er2G2nM\\u002fW5hDPxH6PD+ViwpA3ooAPyJ6qD7bYD8\\u002fU9YlP3u3y75u7Og+ikkJP2YMsD91Yhq\\u002faY4Ev3gr5L7XFSy+U3MMP3Z8C797sbk+ocJ9vmqowD1vByu9LOTbPujXMb8yyKG+j8Blvp\\u002fqJ78OSBC+w4NKPKQzPD8NNpy+u3gYP3Q\\u002fDL9kwfU9RgWpP7o\\u002fXr+3YBm\\u002fBSEdP2YFjb+mYW6+i2\\u002f3Pak8\\u002fTyzhTq\\u002fd2wdvhcFTD8ZVv4+3SaLv99XQT\\u002f+Gg8+QSnfvb9yhr62+1u\\u002fAJT+vtRcHT+NjXQ\\u002fayTJPT0Gc78ya74+nrwYvokZgL90L78+LNk4PzRh5z5wzxW+TsFFPjq63z4OvHK+xWZVPsQPRj402BU\\u002f1L6QPuYU\\u002fD7jSOe+3aFevkMx6T5sxKE+8G0dP4E\\u002fcr\\u002fGX9k+WgA+P86l8j9PVAI+rfaNPx4eRb++TvM+QtCfPthCAL9Kw3K9ydgIvy0xmj2Yfya\\u002f8LekPq+7V769KCa\\u002fduUHv4igjj4yLyc\\u002fj1WBPTBVH7\\u002fQuBy\\u002foF8pvwpBIz86Nbq+H9Csvnf+hz5ct0W\\u002f7HZRPGLfbr2MwJU+Qlf\\u002fvmgn575J0Ae\\u002fR6\\u002fCvho3rr7I2eg+YO08v9sOmT\\u002fxwMC9OHIsP8tJnT7u1cA9L57kvU\\u002feTr8Dd00+a6b+vmewwT+CDKO+QEs4P2MMuj8sjzW+IGFTP6eFwr5UkkU\\u002fGyrIvlRIBD8jJiU91GbAvqs0Bb8rhJO+uSdvP913Br8aKH2\\u002fk7izvfqiUL2wLqK+gQlDP+uM5756HX8+AaIGP\\u002f5MPb8zcgk\\u002fajZNvrzioj96c1W+FhsKv5UFSr\\u002fdWyo\\u002fPC8Iv0NYN75xQKC+wd++vTobibv8PhS\\u002fMfiXPZbt8rzmUhQ\\u002fNkdjPxmvBD+k3sU+Sd9Dv\\u002f29Pj+YZC0\\u002fzoUOv0Fg5j7yTjq76Ehrvm92\\u002fj\\u002f9VYU9i9wSv7Y5Aj8URG2\\u002f73A6vlBuNb8L2F+\\u002fQ0W6vkVmSL9bHHy\\u002fm9mRvj\\u002fonD9NIgO\\u002ffIEEP\\u002faNHj88MD6\\u002fejjOPT6\\u002fkL8JPbi99sNiPz\\u002fy877uSGS\\u002f0FsYP0wJTD\\u002f4jMW+TDWwPWbdzT7TF8s+JVx+P7fb\\u002fz\\u002fZzH6+7b5uvemVwryZDYa\\u002fSSWivnoiCr5uq4m\\u002fpHaXP+K1rz41VpS\\u002fNbQHP+C\\u002fJD8o\\u002fPi9KZ1YP7zAwL0omgA\\u002fSI0LP9giPD+iFRk\\u002fij2AP5vwMr\\u002fJ9oQ\\u002f7Gq\\u002fPj93pD9DLNk+DdsPvx\\u002fiuz6fOIW\\u002ftMYxvhGBgD7qM4I+ErJDP2lOIT644xY+iwS+Png8HT8bAks\\u002fO3kuvPW3JT8Gs4e+2fhwvbt2Dj53vQdAp9FAP2v5BL4QMD0\\u002flKAMP+iyqD+niPs\\u002fKlcXv7vdqT8iNx8\\u002fbQN8v+Vah78dViQ\\u002fT\\u002f8sPwmeCb6w9QK\\u002fKUgav\\u002f3gj7\\u002fmiIS\\u002fdgu1PvzTQj5pWVi\\u002fZzl4v+Y1db8aV2e\\u002fTv4XPgcdOz\\u002fNeQy\\u002fgd0+vyqSqj\\u002fb4cG+DCUAvkdgmb4RMwO+F\\u002fpyv+7Mxb4ubKO+T\\u002fl5v+DIVj8Avhi\\u002frjopPxn6Er\\u002femP688uVOv\\u002f+pAb8M7f0+Fg+bvTJPdb8ydwE\\u002fadG1PhZuTj+d4g8\\u002fMpm3PglX\\u002fD8qxEk\\u002f0rjzP7\\u002fhCj94DZO\\u002fAnhGvnBGJz8CEDI\\u002f6zCbvkCHiT62pYQ+WQU4P+CwRj\\u002fZUmY9HAJfPvujxb4hJpu+iOuNPvn9Qj\\u002fZvye\\u002fsfe7P7zTJz42hU8\\u002fU1vfO4Osvb6fruA9P+wLP5SpKD\\u002fA3US\\u002fTOaaP3d49D76Fa0+HmH+PTEmID+f+aa+Rckiv5pcTD8nwCE\\u002f37cavf\\u002fsDj+R3BS+VeC5vtxETTwV49E7wEVwvKNzCj8uahE+lycYPvckd7\\u002fzuf0+9qsTPySMXr6uWzi\\u002fvdOqvlNid7\\u002faDZ2+JIFOvrQgAb9\\u002fLZ49Mn5Ov31ECUCUfQ8\\u002fEpcCvoG5Mj+pMLc+Jm\\u002fUPEuOBj7w07O+BlQ6vswCS76FJeY+t83gPfZ\\u002fvj9rFhM\\u002fEsgXv54sQj+0i00\\u002fpvAtP4Sv3z7OgQy\\u002f\\u002fvWmvrjJN73mWpE+GFv+P1Py6r6EAfY82iZQP3X2Mz\\u002fvUhS\\u002fs3vnvmjdID9QrVE\\u002fVdWLvqnbvb5pjaw9zeIRP3W+Xb+xWvU+feeCPx3Emr6Xc4i+RYG0PSUWyD5+PYa\\u002fJXcEP9Hgjj745Zo\\u002frgxQvR+ruj9Bb7w\\u002fO1xyP5E+QD\\u002fuA5Y+MlwyP3+eOT\\u002fcJz+\\u002fAwEav93DIr+7lH2+1Mk5v0wRtT95IqU8JNXcPpAax75vMt0+WclePxur\\u002fr6pdRk\\u002fnbKGPyjzoT4vtF++Gqm9P22cCb+neiu\\u002fl\\u002fU3P2Y7z74M8qi+5LYKP1IKBz+gjlg7h8FCP\\u002fYluL0xLhK+ugH9vYebAT9bZwy\\u002fwx4Hv8R9oD92\\u002fjs\\u002fvEIcP+fKYb9LlK0+ve7NPpeyDr42CKg+D73xvXwp+T\\u002fbWXC\\u002fVoILQNdsCr9wziI\\u002fPrA0v6qSb76z5HC+woYwP\\u002fO1E71wgWG+71lTvuvbP78\\u002fW4A8Waj4viWoAr\\u002fDdas\\u002f7WdCvoWM9778cjS\\u002fWoAbvyBcFT\\u002fj7ze+Ss8RvdDl8T6CTTo\\u002fXFyNPitHLL4QYTs\\u002fE9hbPzseNL+xUQW\\u002fWBuIP2FlhL9Y0W6+FfjDPvmN3D4T3Fq\\u002fg0SVP2czNz+QMEo\\u002fojVuP8Wvfb+PKYs\\u002fhzAQv0RmUD\\u002fjoWo\\u002fX5siP2NF8j+hcNa+2bimvoAoYT5A1gQ\\u002fJDuJPeKDMb4sfS6\\u002fxyUqP2M+PL8aOAw+NEM3vwkJkj6nGQpAYDuWvlqZFz5qoE2+KmAzPy5xj73\\u002fNR+\\u002f47wGP\\u002fb9SD\\u002f7VWm+ErgJQPcaC0AcgRS\\u002fPOJOPXfIqz86XJi+pGYbv93XiL9sFBy+LXsLQOsTRD8w+Ca\\u002fbFYmP\\u002fkCtz6Xnes+xOshP3Q6E7+z0JG+\\u002fCYUvvQvEz+XPn69xYgSPvGAbj+VSA6+Zic3PxUMJz+XWdQ+iY7OvbBoDr9SF9K+G9FmP5lgJL\\u002fhQTs\\u002fPtMlPxpa5D7wB8u+OzQoPxo5aL6yC+Y+nAVDP7eOFr\\u002fA8ca+DGCuPpeADz8HLI0\\u002f\\u002fpU8PyHFrz9A4H8\\u002fh3khvm05Dz9mxvo\\u002fROkLP\\u002fJ7yb6+pgdAQKHmO\\u002fHfHb\\u002f3FKu+PEn1PEs7iz5lBwM\\u002fLc2DPkfLF79402++lcIHvG1mI74ELxY+xjxUvjr2Mj\\u002fljDm\\u002firdlv1VOoD4zLpq+uo2SP9KiOz+gork\\u002fmeZHv5V+5b3tTEy\\u002fAsGHPpdRkbq3bMq+0lUevwtffb49UQQ\\u002fAP4gv2sOIb9Mda8\\u002f7F6bv25DQT9r+Wk\\u002fk2pFvvwvJj4jpC8\\u002fqqPdPoPmmD+K04g\\u002fAog8P4g3Bj9q+8M+XpWuuygps70MoIO+eV1UP05ugD3ajU+9oQsnP\\u002fwXmD4tGJI\\u002fN6ztPdMezrt9\\u002fsk+RXqPPiivuz8bYWw+ET0vP+sxND79aTA\\u002fduQ7P+HRGD8HoIo+kVafPxujDj+pnfg+prRKP+es5j5Bosi+YjSBPgD+z77GhQI\\u002fBtQ7P\\u002fC+sD1hcNu6xUwiPz73mD\\u002fVhDe\\u002fjh4TvvbEgDz9wSM\\u002faC3nvvk9Rz9yas6+OWngPshoPz+B+FC9t9wev9iKnL4v1Re+boC5PpVOtL58CT4\\u002fYhDBPpVHPb9bSVs\\u002fxQNlPWX92z1mJoA7wmiOPi+oyz7I56i8SRn\\u002fPonNiT6l0Bw+yaaDPLBICT+q\\u002fFQ+5rXcPljquLzi6TE\\u002fIqwMP5zKVb97QlA\\u002f99hRP4xxq74nxW2\\u002fa0Z+P1iVaT9PtkO+Y7Skvsm77z5nbP4\\u002fmelXPWmnDr5AZo+9h4W\\u002fPrm27L75T0Q\\u002fkYw0v\\u002fByAD+hUL0\\u002ftWcLPr+9fb6fwUG9W0MSv9T+BT+Fmys\\u002f7CQrP9KLBr\\u002flJ+8+5M0tv8Qwhj+buhy\\u002ftsfpvmW7oL5WF0c7ZnXwPmGiHr5cnRM\\u002fi33ZPu2oJb78ZjE9K3MXvtq3BL+riO+9p9SIPpx1TL7eGKk\\u002fT9xbPuJyqT8Vb6E+MhkyP7qk1L4fSh6\\u002f6k3tvm07mD4dIyU\\u002fSiE8P6qbEL5rA0O\\u002f5MhGP695ID+AKDo+zFWOvkO0Tz3v3Ey\\u002f8tb0P+sIhDzvUXK\\u002fX+gCPs\\u002fYrz4ymxg+aG\\u002fOvvlO2z1Sszy\\u002fMc5DP+Jk6j7w\\u002fLU+EQ7WPsrFS74UvZ88ze6oP1IMBz+a0gQ\\u002fIOgRv3ULhr8ZXvC+19kfv2tzmj5oU\\u002fG9J7gtPiQPeT75TAS\\u002f6S53v0opg78np9G9u3WAPwwkTr\\u002fPFM4+eMSNP\\u002fYcK75RPJi+S9aIP3X3X750uKq8JPc4vo+ZNj\\u002fJzfW4WxkYvobZPj82JRs+EvnZPq76Pj\\u002fI\\u002ffa+RCtXP22Rxb4X\\u002fyS\\u002f8oHqvsBXpj\\u002fryZg+JQuWPh0A8r5+X7Y9dj71P8EjNT2w6VW\\u002fWGr0vvrdCUBlzbe+A9WHv+Y5T7+\\u002fNtU+sLOdP2Z2OT9WwjC+ySffvXTp8z5b28K97Y+RPwSjMj\\u002fF2B8\\u002fuVZGP87O0z58AhC\\u002fGxMhv\\u002ftcgD+PxwC\\u002fbnSEP3LgOLtGuY4\\u002fAR+vvXMh8j75sEs+eEcnPh0iG78yBQG\\u002f\\u002fLPXvi2HVr9NH5u96+UAv9M\\u002fc72Ftb0\\u002fQz7+vkeg0z7d4z4\\u002fX4ERP09otL6gVyc\\u002fiQUZP9hXf74TYQy\\u002fw5TvPhvOBz8IIQ6\\u002f5lFIv7z\\u002fCUBhYAi\\u002f\\u002f8T1vmJoHL8K+KQ+x9V\\u002fPiQkIr5jSK0++B9HP\\u002fDgXb5qDE4+reOsPo17I7+xQfe+xm64vga8XL94Ze0+Q90ZPyhEBUAeM0q+CSotviw6Ar+6oxK\\u002f5WtZPwUQ9z7P8hu\\u002ftiOAP3\\u002fIVz6\\u002f\\u002fjS+dOnlvBpqLT5TMT0\\u002fGa0aPsMyzz66vhO+YIypvvEfwr2k7nW+My43v9JWIj7\\u002fe2A\\u002fshszv3SY\\u002fT1CpVO\\u002fxqkrvsFrWr37tSo\\u002fThInPy4RZL+hDYm\\u002feXlnP0CrLr5Xd0W\\u002fG6o9Pwitvz\\u002f9NYI+bt5JPpgkFT\\u002fDH0C+HanQPjsqgr7yfla9lO3FPCgvgL9j2oO\\u002fsN4vPjSHHr93RQBAOrR3v8Zih74UaYu+hC3gvpy9CL7pkTQ+uc93vhy4Qr0rrMQ+S3qDv\\u002flQM74f\\u002fF6\\u002fLeVhvjNLkj8+A4q\\u002flhprvZsAt76BdDc+qXmJv7Nfyb68Jn0\\u002fO3tSPz23Q78GIqA+P93HPtw\\u002fhD+guwu\\u002f+5zXvnR5nj55AIm862iPvmJXPz8agi4\\u002f4VqWvkd3Pj8jPTI\\u002fR6IfP2vy0b1SxZs\\u002fY4vYPlEKN7\\u002f8Z4o\\u002fQTUqvf0czT6\\u002fFwS+dhCfP4DsDj\\u002fQuUq+WQ1LP43WtT5v8nc+XuuEPmi7Pr9+wVW+mBVvPp2J7T6DBha\\u002fu9EYv8X+ij6ZNCG\\u002fDlBLv+I4HT9ItsA+cwodP5kpyr53q9C9HMHOvu6DEb+uWO695q01v9AdgDw6sgk\\u002fiMb6vYw+Nz80pWS\\u002f903xPUPG7T3K\\u002fQlAHnCmvi807D6QU2A+HgsnP9PKFT843+M+tss9P7Cmk77XdSW+R2Zhv8Fjhr91DiC\\u002flEwsvhK3cL6twxk\\u002fV9FgvdXpIL\\u002foCNw9wzxBPxzElj4iejY\\u002f4HZDPxYIXL9TjUc\\u002fMv\\u002fsPvk+i7\\u002fo5jG+kelOP3uOCL8iOSQ\\u002fkn25vqrmSD8QXY+8cGHEPkfrnj90dgk\\u002f4FTsPnS+Aj\\u002fhGxI\\u002f4UIgvycxqj8HP3Q+lJx6P5Gq+D15EKU\\u002fLyfzvAyUIj9NH5e+UDhoPSOKhb+vvLW+018MvvIDtD6CxHi\\u002fpG+jPCXhNj9L4z8\\u002fgJtPP9xk4z5TBME9jcNwvsvxYD0mx3G\\u002fHTw+vhAbTD6Ls\\u002f4+NSuvvjFWTT6A1MO8oq07PwCRlD97mck+t\\u002fXrPltcC7\\u002fJ8g6\\u002f9\\u002fiZve023r1lAI89rcAVv3\\u002fqJD91\\u002fQVATrFgv9Sqkz\\u002fV0ko\\u002fYr+oPgRtvT9lXBo+Da5EP\\u002f1JGz8+SLg\\u002fEINpvgBY6T5p2TM+kjVZPhCLyT6beIM\\u002fdWOlPkvlMr7YWPq+WSrYPtPTTz4J+b0+d9QnP5D0yT4XUXo\\u002fVK23PSRBH78iqEk+B9P4PdYgSj9oQFu+SvlCvbd\\u002fqT8tnTc\\u002fmS1wP\\u002ffVzT4HVkE\\u002foYBhP3+1yL6WiKo+IryBP1KsPL42CqM+PgVfv34u0jzCJde+yE4Mv9X3ez9nQ4w\\u002frse3P8ZEKj+9Pfe+Xv+DPyBp176sraq\\u002fIDkuP8Vq1D7yJMS+3tkiOjxFkb9XAiG\\u002fYS8vv7QdCj8OQhU\\u002fPSUuP8JWFD5u+CU\\u002fN52+vl9Viz8CMfM9JbepvV\\u002fGCD96yLc+XhpYPqbnvD63TZo+1+i0Pd7kub213\\u002fG+MCNwvph4nj7HxoA+Tu4gPwx+4D6SOjs\\u002fN60eP0Y0Dr\\u002fuRqC\\u002fzvsFP3\\u002fasj2hKTi\\u002f0o5Uvme2DT\\u002fdyJ++E2tyPzpORj5C7glAhfwuvih8tT5hjh6\\u002fDBrWvkJq\\u002fb7wtYQ\\u002f6ycrP08FRL+q\\u002ftA+v3ekPQnhPz\\u002fjzQa9Yq59v44Hob7REUy\\u002fR8BQP8tNvz67x4k+h3Zhv8YpIz\\u002fGzfc+8Zp2Ph71fT99jUi\\u002froErv9ooHb\\u002fcxm09eWBEP0EPg7\\u002fN8BI\\u002fffsXP20wPD+BV48+Rarwvi06Cr8P7qo\\u002fcmkoP0rrTDz1vps+NflGvgGbOT4fY7m8ftQZP4L7Iz6yID2\\u002frmtKvplIwD11sa29brs4vuGYhj\\u002fM3S0+O7sfv\\u002fAjtj\\u002fSlaY\\u002fsLEBv\\u002fR6CkCkrss+cSfXvFM1gL3sOLE+\\u002fRnlPsx5ZL0cMWW\\u002f7LZjvgL0gT+dCfm8TfmEP8QLQj9J3US9mv0NPNpf5b4GTQO\\u002fsRcKv2AXAD6obwtAq3M+P3Y1PD49vKM+svqwvtFDDr9x3G4\\u002fez19vQXAID\\u002fE1wY\\u002fcQhDvsCaLj+evRm\\u002flN8kv70I3z4mpGK9XMeCP634GT\\u002fqa4Q+RjcWvnh1nr13qQpAqk7IvqmWyr1QP6o\\u002fcMocP7C2Bz7Y\\u002fV6\\u002f9c77P\\u002fnhKT4bEVw\\u002fnfgMv3ETRj6A\\u002f0I\\u002fanMnPjsMPz\\u002f1txu+EA8Mv3GkHz\\u002f9b2y9KIq9vQaV\\u002fD2VgYe\\u002fE0mUPrFoCz+UpSi\\u002fYkCJvjeUST+FEC8\\u002f1fFZvqs\\u002fCj05dgs\\u002flSObvISVnT+PtwC\\u002fGzuMv71ElT4aY7a+HfYbv0jA8z47zPO+cnk9Pz8WIb+K4RE\\u002fTHvFvvVonz7vDqk\\u002ftMw8P4I5cT6aVUM\\u002foAkiPkEJyD5OF2Y\\u002fdwv6vW6PHT\\u002fhUUA\\u002f2bzXvBWO8j7R8eo+yywpPwnEcz\\u002f30bY\\u002fyTckP2ru6z4DimW8aXRXv6TSNL\\u002frG\\u002f2+AAgLP04W7D6oPKs+rjqwPqizv79eWz0\\u002f\\u002fw9lv8lDPL8I1r6+ntp9PQRi6z5XUApAekXZPofecb\\u002fo806\\u002fRTP9vmE4M7+TgDY\\u002fjzt4vXg1bz+0zWY+zktvPzCxFz9rpQk\\u002fHjzGPEQC1D0slw2\\u002fQZ9mPn5OjjsJffE99Cr7PlqPNb+s\\u002fBQ\\u002fpRODv0Wc\\u002fT6zf\\u002fu+P0HCvnfmNz80hgBASQBgvjpeLL4C\\u002f4A\\u002fAQIbP8ezYD9dDk0\\u002fIKWvPkZJJr9i81y\\u002fT2\\u002frvqm1776KLlc\\u002ffDLKvrqCJ79JcKm+3381vyPE0D7tRG8\\u002fgvKyvRMTZr5TpSY\\u002fVK\\u002fZvdS8gb8avCK\\u002f2fYGPx3Gzb7MZ12\\u002fym\\u002fBPt69Hz86R8a+fBFavlxjc7\\u002fByNK9ivY9P8+Fbj8SSt2+thAYP9UPfj4X\\u002fAa\\u002f63ExP\\u002fXjY7+Jq8u+logTvwA3jj8QD\\u002fY+TAZnPUweTD78\\u002foQ\\u002fJeYFv+6JxT9PjzM7haoWP6azRD4r1PE\\u002fc\\u002fOpPUzunD2bwYw+GqGMP3f7\\u002fD4aOoa9E7BePed0RD94\\u002fYM\\u002fal4Gv0OLPD944JC9o84AP\\u002fE1mz\\u002fMEABA1YYavoy\\u002f+76TE4Q9XqSaPw1RB7+n5qk\\u002fVGifPj5Ztz5t7E+\\u002fXUVgv6HI1j5UYBG\\u002fN6m9Ph4aar5CMH2\\u002f16EWv39bjL6oCuU+yIdUvnuSCT86lOc+uyegPp090b6\\u002fP4E\\u002fMDrHP6ot6D7hHJy8zphHP2eAKz8oKrU+dZIxP5kBw740ZB+\\u002fhDjzvoXt3T5OcQO\\u002f03jHP6Ue1z5GHhW\\u002f3HJpP20+Lb9onYg\\u002fcroMvbGDLrya\\u002fQS\\u002f0kEUv6\\u002fKjj5PSSq\\u002fVIadP4rDjT+aVAw\\u002fmBhTvX7b+D4qJtS+U36pPxBFOr5C8Ji9xP\\u002fxvmaTfb5deyO\\u002fW7dYvs4lOz+aJIK\\u002feSkVvuhBAT9zAR8\\u002fC1iWvvmnSb3hwzc\\u002f5PSDvaGYnj7YUXO+5oIFvoe2Cr\\u002fnNEE\\u002fBhHbPk68qD6KUow9CH\\u002f0vRk7rD9uqpi+NZWrP55zRb\\u002fj+Mk+CEwQv6I34D46UH2+UHwivztG\\u002f76hDBi\\u002fx9ccv1GJIT+8oMG+u30WPzoZIL8J7\\u002fW+faTxvhDJVL2RlzG+0\\u002ffEPaSVtb7gEG2+ENC4vtXeaz\\u002f2bG89Fsg+P7NLmD2dt00\\u002f2IkTv\\u002fShDzyYC4Q\\u002fjbEDQHru3DzuI4g\\u002fElfwvqEqHz9S4g4\\u002fwYv5vWybPj\\u002fsS6W+pEDIPmwSIj+Wtrs\\u002feuTwvjnau757nRu\\u002f5QmQvdPmEjodMgdAcKDpPk+z7L6QyzA\\u002fLsvqPtI2hT4Yg7w+1+Psvr2rEz8BbA6+f1iOvth3FT+609S9hgNEPsdHND6gk12+we\\u002fFvuC+Cr8Tyoo\\u002f3USbPn5WkD7RPG2\\u002fkn\\u002fCvmK4GL+ihNM9FTV3PQ\\u002fwkT+O5Yk\\u002fTOMjvsMcwL5ONZS+KEL1u8dk7z4rnIU+LPUcv8p+Gr8QVU68BmFsv0U1pT48gYi\\u002fKIM1vmIoxb4TH0Q\\u002fg2b3Pgmxrr7hPmO\\u002fz6EmvxsbNz9dKB0\\u002fxcprv+AGi79zVh6\\u002f\"},\"y\":{\"dtype\":\"f4\",\"bdata\":\"oBhfvthRlD+3H4w\\u002fSNpfv0B6eL8wujy+5nufv6cjl78fWJW\\u002fmpKXv0nEl7\\u002fi9KO\\u002fAjREviEOmr++bKK\\u002fzLOavxakjL9Lg5i\\u002fT4SfvzuETb793pe\\u002f7EWZv+Gvlb\\u002fJ6p2\\u002f+WpDvqLBm79i8JW\\u002fYNaXv62Z476sBpe\\u002fcYpJvvdNob\\u002f9O5m\\u002f+Qyav5a7m7+2EWq\\u002fMiiQv0stIr912Z+\\u002fMNiYv6l3mL+05jm+kO5jvlLCIL\\u002fMsJi\\u002fAn9Mv9gAmr\\u002fnV46\\u002fTUhKvmdHnr+DxkW\\u002fhv0UvyKQm79T4rW\\u002fhR4Xv\\u002fV0Ub9Osas+SAcUvx8XAr+tUBq\\u002f6Gtgv6admT+wNIe\\u002fq0tev18mor+REJ4\\u002fIDyqv1fnnz9Gr+I\\u002fzYsmvw7KZr7Ffnq\\u002fs6CZv7U0jb+Ojpq\\u002f\\u002fwpev6+yl7+KbZm\\u002fsw2avyu6kb+n\\u002fOI\\u002fN5Sbv\\u002f9vNr9oyZm\\u002fq2EIv7btar50BJy\\u002fRgahv9MSlr8wvaS\\u002fexiev9Wsz7\\u002f3Na2\\u002fWa1cv0JEmL\\u002fQ6pa\\u002fkM5WvlCM5L6wv2S\\u002fMUyVvxddIb8XHJe\\u002fTLqJv3Khmb9\\u002fVZa\\u002fOtmLP2+Rhb8ZoXu\\u002fWnqWv0z8lb9ZuZy\\u002fodXpP8Qulb8540q+onBvv4HxnL85dZq\\u002f0q2cv6tcHb\\u002faLJq\\u002fmbxdv4JVUL5CEF6\\u002f8ANuv0KBmb9mPJQ\\u002fk6yavyxrdb8OEk2+O1Nfv+RKlr922H6\\u002fpg40v09Dij8ty5u\\u002fBf2fv0JDl7+kk1y\\u002fTABav6K0jD\\u002fjh5u\\u002fEQaYv4bzib+qzJe\\u002fjP2cvz8Amr+2eZe\\u002fO5uYP\\u002f6vnL8kkD6+UQKbv4a1l787zJe\\u002fd2uXvxe4nb\\u002fh45i\\u002f62iZv6PjnL9ay5a\\u002fCEmSv6zqhb\\u002fTppy\\u002fcj6Yv9JajD+025i\\u002fVVKZvx6WmL\\u002fjLX6\\u002fXqiav5KAoL\\u002fJ4eo\\u002f2wiev1RriL8PT36\\u002f0Laiv3illr8PAU6+X2iYv3IHmb823Jm\\u002fcnptv+Nsob8Su+k\\u002fl06fv0UWmL+CtAO\\u002fo\\u002fuuvz\\u002f3Qr4L8YO\\u002f2iaZv0lBjD9ZI5q\\u002fAr6fv8t9mL8appW\\u002fyTGbvzhX6z\\u002fJnJm\\u002fQQg\\u002fvo\\u002fOmL83TJy\\u002f9xNDvmhml7\\u002fMFFy\\u002fWZ2SvwVAob\\u002fjN+k\\u002fp1yYv8tulr9PX4y\\u002fw1iLP3yfgL+s6pm\\u002fpxP0vsOUg7\\u002fyIZw\\u002f\\u002fjKcvwmXm7+kYXC\\u002fcT+fv8c7Q75mVZS\\u002fkZOWvyzRKL\\u002fyJoa\\u002fclSbP\\u002fO7Rb6Tapu\\u002fWv7oP7+ybz8UCZu\\u002fEAKYvwGlYr9kusC\\u002fPMGJvy\\u002fslr8kkpa\\u002fiPiYv2svl7+z3Zi+6quZv5XdoL\\u002fDH5i\\u002frSGWvx1IJ78nJZe\\u002f\\u002fzJqv1ejlb8OTYq\\u002fS7BDvm3vmL\\u002fNwJa\\u002fPQJAvmvD3b6z+5i\\u002fKVxxv7qDIb8DT52\\u002flrifv5rbaz+2OJm\\u002fTPqav\\u002fErh79gYZW\\u002f2saZv4eZ6j8AcpW\\u002f9Rehv2DoWL96db2+qCievyESer+0bWC\\u002fMvFAvpLy6j+7TF2\\u002fSCKevwGCOL83PJe\\u002fFfGfv2\\u002fPj7\\u002fG\\u002fp+\\u002f2FVJvpaaob+IXUK+MjyVP3gxTL4Jm5W\\u002fOnqPv4SjXb+4VEm+bvUHv0AXYr9hak2+5FmdvyEenr+jUj++JSibv8Q0EL\\u002f+5Jm\\u002fcP2av5Tdm79HtSc\\u002f\\u002ffQGv6JMpL\\u002fIfy6\\u002fsIlEvrxpob85gns\\u002fpoKXv\\u002fUTjb+plC+\\u002f5tGVv1idlb8wBFq\\u002fodRxv0Kc6T\\u002f1Upi\\u002fQfaZP4b9tb7B1ZW\\u002fwAydv0ZrZr9Nu5a\\u002faUCWvjWFlb+\\u002f85W\\u002fpBucvzicUL\\u002fw\\u002fZe\\u002fcEOXv7A7ob\\u002f6y4w\\u002f8EaNv3wCmr+F05q\\u002f8UyVvsbkZb6XH5m\\u002foiurvyLQP75gHZs\\u002fAy2Gv1JImL\\u002fWqI6\\u002fJcGWvzbnmD+Yvp2\\u002ft7xlv3Xzlb\\u002f0DoK\\u002feN2bv6f6zb5lVl+\\u002fT+pKvivObz+NjOi+yeCDPw1pc78YiYy\\u002fbzFZvtQcbb9ohF6\\u002fHLyZv2d1Sb7ZeNa+eCtwv445+L5AoVS+q4KWv3dumb8Uqpm\\u002fSlhsvzYmCr+UVZe\\u002fN1+iv4p7nL\\u002fsTaC\\u002fUVmPv7pPmb+8kZu\\u002fsridv5\\u002fsfL9v0I6\\u002fz72Jv9SbZL+TJJ2\\u002fW0aHv14ckL8\\u002fy5m\\u002fn0+XvzCS0r51WZ6\\u002fwhKbv5LWnb\\u002fxA5C\\u002f3tGLPyXah7\\u002f9Qpu\\u002fLyJ5v935F78RAne\\u002fgeiQv0lKsL8zeQ2\\u002f1r6dv4KNmr8OhZe\\u002fjp2Zvx6SuL\\u002fwi5m\\u002fjhjpP6IYmL\\u002fgl5u\\u002f\\u002fNeWvx3IET86OD++94yav0lNPr7qDZ2\\u002fCkybv7wphL8grZm\\u002flQ6cv741mr\\u002f0X52\\u002fNxycv3vpmr9U4X6\\u002fTRCePykTFb9qNti+RS+Sv7KOSr4WJ5i\\u002fxcWZv8kkmr83K1q\\u002f37BtP13kX77Mppu\\u002fJGDJvut6eb\\u002fLDJi\\u002fiwqYvwASnr8u6UK+23SZvxmLmb9KTXe\\u002fzcoQvx3Wlr+cPpG\\u002fkWACv4S7mb\\u002fH\\u002fpm\\u002fd62bv+vYir+JpZW\\u002fxgRmv7XBSb5TXoy\\u002fJpvkPz7Znr+2fYS\\u002f+juNv9ISnr8hJXK\\u002f2TRAvlT7XL9TnG6+PxeMP86pnT8FEJq\\u002foj+Xv+o+ob+J2W6\\u002f3yIRv1e\\u002fkL9v5R6\\u002fysNBvji4jb\\u002ffNp2\\u002flESRv8gpWb+Yd7m++BShv2RnmL8Xn6q\\u002f7HVev6Rvjj\\u002f67pi\\u002ftLFDvuURRL4szZW\\u002fJisYv2V+Vb4FcZq\\u002frmyZv1+UmL9rHY0\\u002f1kyQP5xXoL+sIj6+HblBvkIDkL+rDJ2\\u002ffBFIvoln6j+k3V6\\u002fidiav1aJfj9tDpa\\u002fvFuoPoUMmL8QQFu\\u002f3CeXvzS6mb8TCuk\\u002fiqZYvxlZc7+XNZm\\u002friuev40el7\\u002f5lpu\\u002fdY+Yv\\u002f+tmL8qraG\\u002fX9bpP0KflT+egpe\\u002fNrKXv3Z\\u002fY7\\u002fL7ek\\u002f7drqP+VtGb+xR2C\\u002fglWcv6k14z\\u002fxbTu\\u002fMtOfv30Ml7+cF4k\\u002fg9GTv22ilb9pIZm\\u002fSkicvy9HR751eJa\\u002ft8mgv91gdL8vyta+Pau8v7Ewlr9l78m+tOmRP4oZoL88KnC\\u002fdREqv0yvhj\\u002f51Js\\u002fvmmZv1oknL+LfRa\\u002fD52bv5ugmr\\u002fHjZe\\u002fBuyCv3ldar5Ym02+wJZqvp4gWL9JrcI+7LKZvzMVj79NYJq\\u002fnpWHv2byVb9D85e\\u002fhbl2vxjO9b7CMV2+TqQDP7G3wT7qMpi\\u002fcbmbv8YAor\\u002fN9pm\\u002fdsLdPwiylb8VEeo\\u002fTLOmPtYjnr9onZe\\u002flXc7vt2wZ7+BU5q\\u002fJlNfv+ekmL+Ym5m\\u002fSo+Yvz7IIL85B4O\\u002fTR2cv+aRn7+id5q\\u002f0J9xv++aeL\\u002fJBCS\\u002fWHXqPx62kb9UUI4\\u002flCmgv36MaL4xWUe\\u002fYAudv+FWnb\\u002fg2Ga+Bcdkv0bY6T9HHUa+4JUPv\\u002f3kl79hxZi\\u002ftDOdv7R0C7\\u002fXcqC\\u002ffzM+vuTfob\\u002fltJi\\u002f0k+av03cQb4ZfnU\\u002fUs5ev41Wkj8BUSk\\u002fe6nkPwDw3T9AWJi\\u002f7WOCv1LbnL9be12\\u002fsbZLvg1ZmL9oZZq\\u002f9WeTv3Q9mr\\u002fd5U6+cTaav2iVh790\\u002fZa\\u002fiTKWv+NZSb6fdZm\\u002fgFCKv0E0Ob8WK6G\\u002f8\\u002f6rv4IX6j+Hzpa\\u002fe7xJvg6Vm79RPJG\\u002fpwSeP14otr5Djp2\\u002fLsWXvw0NmL\\u002f7XqG\\u002futvIvjWIEb9Q3kG+p\\u002fPpP7rWjr4L+Wi\\u002f88dev\\u002fG4oL\\u002fW6te+hniev4tRKL+rSUm+eu52v9Mzm7845Jm\\u002fbjK2vurCm79KvOM\\u002fY64VvwM5ZL812qC\\u002fEZ9gv7Wom79LaZ2\\u002fotKGv\\u002fFkob9lxem+07ycv3KBe78cH3+\\u002fL4Y9v6xwmb9o5o2\\u002ffmahv3xcQL64dJ2\\u002fzig\\u002fvouRW7+xPZm\\u002f+BBLvrzLmL\\u002fbUoW\\u002fgFFDv0cPnL85jZu\\u002fm\\u002fc+vjZmoL\\u002f\\u002fNZe\\u002f7qTpP9arm79FKoy\\u002fHXKYvx5zPr51zJi\\u002fkcSBv4zZGb\\u002f88+o\\u002fTZiXv\\u002fa0mL+KJOo\\u002f13Vev9SYmL9ANC6\\u002fZt2cv6dgl79vG5W+Peebv2DCm784pfa+VJ+cv9FkX791eX6\\u002fgPadv9cYT745Qpy\\u002fP3DJv83wkr\\u002f4r0m+JVdcv7EFjL9B9Z2\\u002fKSNCvhIZl78SDD2+aoW6vqypmL9iaJa\\u002fmkmgv5v8lb8+0uk\\u002f2OyYv4K0mL\\u002fSUHE\\u002f2NNnv0gz6j9jBZu\\u002fGclXv1L4jz9yVZ6\\u002fZZ+Xv+lHC7\\u002fm5KC\\u002fnfCbv94+mr+TNJu\\u002fXWWSP209Fb\\u002fVVz2+fuJev3VSnz8byYe\\u002fSpSXvwwdoL+ezpe\\u002f5v2Yv57Hmb9qoJu\\u002fLUOdvynS6T\\u002flXkC+Lxsjv3NRmr+zN1e\\u002fdliav1Mriz82DOs\\u002fLkKcv9KU6T8VXaG\\u002fKplKvpIzjr9gUoa\\u002f6oqRvzRRjT9Sv5e\\u002fp3eYv9nwSr71Hp6\\u002fp7+evzsh6j\\u002fro5C\\u002fkVGev3nNfr+sHHK\\u002fc\\u002fGZv5r4m7+E85a\\u002fDH+EPzxtm7+swY+\\u002f5gOPv8ilc7\\u002fCLU++SvuYv6jHjb9gcpe\\u002fsFwSv2rynL83tpy\\u002fC1mdv3CF6T9kupW\\u002fubqNv632RL5hxpK\\u002f9wqYv9JSoL9WeJi\\u002fU6+Xv6LsWL+TM+o\\u002feVucv35BV7+S05i\\u002fquaav8FJlr\\u002fYmFq+yNCfv+kkl785r0m+anazvqkDmr\\u002fuv5m\\u002fDQvNvkQumr8Z0ek\\u002fZWyav2Hteb+gwOQ\\u002fi6Wav06gJL9ianC\\u002fpBFKvhW6Jb90040\\u002fEcpAvgIBmb+pI42\\u002fkOGNvw5Wob8kIUm+OIFZvzcqmb8q8pq\\u002fpJ2AP4iMhL\\u002flP4S+oZCYv1sRAj8xp5m\\u002fcN6Pv0BGlr8s4Ue+oyegv7VhXb+TDOo\\u002fOd9uv+lSnb8B1JG\\u002fkwqKv0y5YL9O6Z2\\u002fWAtCvqVFSL6Xy5e\\u002fWOCXv5o9oL\\u002fat5E\\u002f6XCgvz6TbL+osaC\\u002fe+J9v4uTSL7Xhku+MRycv9jQl78oiZi\\u002ffjGZvyXElr+QGZu\\u002fXFSYvyHu6j+oMhC\\u002frbCYv\\u002fqvJ7\\u002fU0DW\\u002fZd14vzXsmL\\u002f4vp2\\u002fYiCUv4LVmb\\u002f1buC\\u002fgfUqv9YCQ77+HZi\\u002fT\\u002fGWvzbhzT6095E\\u002fJZmYv5oxmL+Y0Zy\\u002faaqcv8YFjb\\u002fmJmO\\u002fXlXzvgP\\u002fmb\\u002flZ5y\\u002frwVhv8NQl7+DW5i\\u002fVPyYv7N4lr\\u002fWvJy\\u002fAGGPv1AGMz8dqOk\\u002fAkGav3cWmL\\u002f9U4k\\u002fjU+fv+oQX79rMZi\\u002fUm9yv8xhUb6lxOI\\u002fQnCbv9xYnL8sxiS\\u002fn\\u002febv0CfRL6yAFq+e2eZv347VL5VT5q\\u002fAe2Wvzzjm7\\u002fpo56\\u002fW5uXv0aPib+vvpa\\u002flquavwYum783Np6\\u002fT2tcv0D5lb9kMJW\\u002fojSfv+me6j9dCZe\\u002fSCGfv7c3ib8GbWe\\u002fbxW1voGUP74M0uI\\u002foh9bvy7amL\\u002faiuQ\\u002fgzxjv2g0lr8szJW\\u002f9N2bv9ZZlD\\u002fMjWY\\u002fXDSWv+nTmb9rupm\\u002fQ4eXv4lGk78HFHq\\u002fEjWav01Oh78mdZG\\u002f61GVv4Ielr+GUa6\\u002fCTDpPyOvoL9rUpW\\u002f2ux2v2ELjj96GJy\\u002fMS2Vv9IZmb+8zH2\\u002fpbi2vqpUl79UWoO\\u002fXv2cv9sdmb\\u002f4p5e\\u002fssqYv8MeZL9WC5u\\u002fOVGZv9VQn780nW2\\u002f56qZv1uWHb85fJm\\u002fzwiAvx4p0b8oh6K\\u002fPt54v0hMl78DIKC\\u002fWTmbv7R0XL+e2uk\\u002fm3yuv2Ebnr9JM5q\\u002fs9jWvpAemr93mVe\\u002f0Axdvx6Sjr\\u002fgxOk\\u002fKIqcv1ntnL8c\\u002fYw\\u002fGKuXv7vFnL8kjuQ\\u002fubqWv9RrML\\u002fk1Jy\\u002f9XiLv7+LYr4snou\\u002fTJiMP2VZmL9Jx4+\\u002fBzOXv7nzgr9ri0C+fCubv5KRPr6\\u002fZJa\\u002fGBKcvzDWb7+bY+E+7MWYv5AbYr+vsn6\\u002f7vuJv5\\u002fFnb+K9Ei+EV8+v2wgmr\\u002fAr4u\\u002fT9OPv040pL+W85e\\u002fsIPpP6FRSr64Gwy\\u002fEAaNv62BZ74EImG\\u002fm0QXv7aHZ79pfHS\\u002fUlgIvxhNlr\\u002fPV\\u002fS+PUVfvxttlb9lzJe\\u002fKgdCvu0pkj9TCJu\\u002ftLKYvx02n7+PnYu\\u002fJyJIvp5Xob+\\u002fy12\\u002f7mklv88Jcr+vMwy\\u002f38OaP+do1b7xeZe\\u002fzgEHvwDOm78epKG\\u002fvUhJvrplnb8BiJm\\u002fFoWbv3V0lb8d3Ze\\u002fh0rqP5b8Xb\\u002fjWJW\\u002fpGabv04Jar939Ri\\u002fW8vwvmKKnb\\u002f+eXu\\u002fr9noP5XWjL9hIZa\\u002f5FDpP09KnL9hkCm\\u002f+e2Zv\\u002f+IUL6rj5u\\u002fjsA4v2qQi7+ZNZi\\u002fnjydv12Rjj9UJWm+pwqSv+\\u002f\\u002fmr\\u002f1e3K\\u002fjbiXv2JLQr7mBTI\\u002ffm6Rv9cCob+\\u002f4uC+eqFbv\\u002fXYD79HJ5y\\u002fTRIIvxcBQ768GaK\\u002fR9iZv0OIXL\\u002fYOF2\\u002fdHGcv70aSr5hAaC\\u002fwamcv40SlL8J\\u002f4s\\u002fz0qdv7LnT77Wn2K\\u002fTmE\\u002fvhoMnb8rzp+\\u002fTpCbv8L6lz9uFmC\\u002fYd6bv252774eBZm\\u002f1keTv7nLoL\\u002fKWma\\u002fr0GfvyR5SL7gzXa\\u002fm7l9vqtbij9Xrl2\\u002f9bUBv0SSmr8875q\\u002fJGCWvwtMm783JJA\\u002fv5uRv1Chlr+fq9u+2NGhv8qInr+yB5I\\u002fUy37vjkJmb+k\\u002fuO+XxA\\u002fvtoeaL\\u002fvLpm\\u002fpMV1v2Rgt7\\u002fDype\\u002f4tCXv6srd78pP3C\\u002fFNycvxqZX7\\u002fCVp6\\u002fjNqSPw99i7+WB4+\\u002f8tfqPwHVFL+L7IW\\u002f845Kvss0nb\\u002fP+Jy\\u002fwCScv\\u002fHYmr\\u002fbQo0\\u002f3LuZv1O8Sb5W02m\\u002f1UNiv5TESL5CCE2\\u002fEEeev3Wlmj\\u002fycdC+C1lbvym0m787xs2\\u002fiPvpP9nHnb9pZZm\\u002fM66fv+a4mr+iUQQ\\u002f95iavwcla78eZZe\\u002fUwaZv9R7mL9CFaC\\u002fUKxgvyZPl7+vt5K\\u002faOabv94QHb\\u002f05OQ\\u002fDAyWv80hmb\\u002fH0pa\\u002fiPWev0EDbr8BBEm+RWiWv0b\\u002fab+th3W\\u002fPdeCvyACoL9Nr5a\\u002fsCyXv0irl7\\u002fK2Jq\\u002fBpEav12plb+pdT++66pCvsPlOL\\u002fihJy\\u002fh76Yvwn9jj\\u002fhCo6\\u002fFoOev51dm7+lbWu\\u002f4Hqav5dbnL8pFJa\\u002fPINfv90GnL9IN5e\\u002fKnHpP3GZm7\\u002fmkeo\\u002fdVBcvsOL6L5+dJy\\u002fm4eXv62Zor8IE8i+hC6Yv4X+3z5EVVu\\u002flSKbv51Fm79WrZy\\u002fPhudv4VL6z9hapa\\u002fV5CZvyNhnL\\u002fzC5u\\u002fdmiRvw0RD78oaJq\\u002fhTGHvyk2nT+yapI\\u002fPxyYv0IQnL9I6L0+S1Qmv2z8m7\\u002fxy5y\\u002fzU2Yv1c1mL+61Y+\\u002fdAibv7lTO76A3Yq\\u002fYm+avxlwnb+N45e\\u002fQs2Xv\\u002fooX7\\u002fMcZC\\u002fehgBv1q8nb+ob5y\\u002fdXaUvyQ46z\\u002fgY6s+yh9hvuVqmb9S9oy\\u002fDKpav6S\\u002fm7\\u002fpq6K\\u002fO+t3Pxvrm78Cxp+\\u002fFmeYv2JXnL+D1A6\\u002fgcSPv9Ukn78znZq\\u002fas2eP7x4nr+mPOs\\u002fodtUvl3Bgb\\u002fl05W\\u002f\\u002f2FYv0O4o7\\u002fFMpe\\u002fujCav2QBn79phYG\\u002fJPeZv9h1m7+u9Gy\\u002f8OR8v\\u002fqdoL8Il42\\u002fJJSVv4vBnL8We4w\\u002fAGWXv\\u002fGgj79cook\\u002f6qA\\u002fvsVFlj9k4p2\\u002fQxKZv0z3nL+Fe46\\u002fUlBFvzKDjL+mmxG\\u002feWJWv7UDOL7k7J+\\u002fTZyav2JjEL+mDie\\u002fU\\u002fOav6PeRr4wUEW+9uc7vnk1mL81gv++wHCXvyQeX790\\u002fpq\\u002fH5yWv2xOl7+O+5i\\u002fE2GSvzRURb5dfVu\\u002fXztJvoB9Bb\\u002fPA56\\u002f6\\u002fXKvyw9l797bZI\\u002fhiNfv83qW78PL7s+jp6dv2u0lr+0C5e\\u002faX2KP\\u002flfl7\\u002f4+IC\\u002f8VrrP1s3n78BB5y\\u002fpqmVv6xgYL\\u002fDt4K\\u002fehblP2QCW79hGJi\\u002fBGmcv4FTU77LcJu\\u002fTaOdv2D6lr9REp6\\u002fDweWv7WW+77zCp4\\u002fnf1gvqwSbL\\u002fwlGI\\u002fujqav0G16T+hWYy\\u002fwS+ev7Nyn7+mCN6+N9ePv+ILkb95lpa\\u002fskWTv8GrmL9bXz++YkWVP4b+l7\\u002fm05i\\u002fwvmXv0DgW7+efLW\\u002fqqLqP\\u002fN8mr\\u002fsCIm\\u002fe4iav4EKlr8y7pe\\u002ffOJDvncliz8t2Zy\\u002fvZGcvzD+XL8ZvpI\\u002fNdbpP5L9lb\\u002ffmVa+c1ZAvvw5ur\\u002fkN5w\\u002fUdVvv+4mTL4P248\\u002fTGA8voHclr8mGpm\\u002fihiJP4iNn784XZ2\\u002fJNSbv+E0V78pCaC\\u002ftkqYv21Klb8wFZu\\u002fRPudvwdknL+Ksok\\u002fBYWbv2rTm78WLJa\\u002fstONvx1fnb+DDOQ\\u002fRReRvygmnr81kv6++1SYv0hNTL\\u002fCwZm\\u002fPCgwvzRPob+kNmM\\u002f4WCav0uRmL95lZu\\u002fHPChv02+jj\\u002f2TYy\\u002fyk+cv1HKjr+ylYy\\u002fpVeKvm7EZ7+pmYo\\u002fcpMqv1lf4j+PmI+\\u002fzjWYvwTumb+R53O\\u002fvjuav+ubQ74TYZ2\\u002fOXWEv87nmL9k0AO\\u002fV69xv5HJFb\\u002fsboq\\u002fbjXzvoEmWr9AuHq\\u002fBPuTv6usjD8VyZe\\u002fD+aNv\\u002fQimb\\u002fsgpi\\u002fnLNzvzBvnb+JUZi\\u002f\\u002fmZlvy8Dl7\\u002f0W9y+2LHqP8wmm78vgJi\\u002fefSXv8TXnL8F3pC\\u002fdo2gv+DPlb8tGkO+zJCZv3obRr4AuZm\\u002fTn2Nv2AC6j\\u002ff\\u002fFa+VjucP4AOmr9Ngpe\\u002fKL2Xv+dCQL76VpW\\u002fIIqJv2v4nb+yR5m\\u002fKomOvzcmm787s1y\\u002fxUSRv3PwSr5dOek\\u002fynzqP1F+mL8l7w+\\u002fIr1Ivgyweb80Dpy\\u002f8beavzunjb\\u002fKzJi\\u002fzJqhv\\u002flxlr+uZFy\\u002fKDKSPxk0j78AZ+k\\u002f\\u002fYOXv5TDkD9HCY0\\u002facGXv7Fnd795lWO+KnZcvxcbmL88Apm\\u002fuRKOP4M3m7+8RIe\\u002fzy6cv0OMmb\\u002fk0Jq\\u002fNxyZv2WPn7\\u002fDDYi\\u002fjYcdv8YSnL+tK5+\\u002fqBqYP7n75D++QqC\\u002fXuQvPzEgdb9dOte+3XGYv8AKjr\\u002f\\u002fmA2\\u002fKs6avymVL7+f5l++Egydvz9KQb47ZaK\\u002fnrueP8hPkj\\u002fMfJE\\u002f+72av3Ubm79l6is\\u002fiPacv3lRnT9ntZ6\\u002fp19GvjZ4h7+ipUm+XgmZv5dNE79sBZu\\u002fD7KZv\\u002fayP77DG1a+23RLvpR6nL\\u002fE9pm\\u002fkmyYv9MYoL+M4o2\\u002fypCSv7F1k78nDKa\\u002f4euYv9PGkj+Hi5u\\u002fK82Qv5DNoL94CqC\\u002f2qCCv3HLmL+qm5m\\u002f5nabvz3bR76j5Za\\u002fhjyXP0Ir3j8xQuu+RGORvwZuTL5dW5W\\u002fk4KLvx8KYL7M1Ai\\u002f+6dev99Bmb+u75W\\u002f2GOXv9K\\u002fW7\\u002fKyFq\\u002frWCWv4Uglb+Bz5e\\u002f\"},\"z\":{\"dtype\":\"f4\",\"bdata\":\"9nRnv687c74WkNq+NUtAv5HmRr8QUb++84oUQO4fnz7vXaG\\u002fVzsHvJaUmL9GQsA\\u002f1Fkwv4JiRT\\u002ftLMw\\u002f2nu4PsG0jr9eOJ2\\u002fxRXNP+Dzbr7Hfnu\\u002fSIcrP8jP+r6i+Ko\\u002fgfCEvkllUz8L0Ri9qDwaPzylw75qeDc+t0lzvuSHvj+VLiO\\u002fmwJFP5c2HD58A5S+DDeDP1QRX7+rmDg\\u002ftcSqP5khmr+z4Zq\\u002feExRv9PaMb9Tthg\\u002ff2gZPtBN3z7vfbw\\u002fA\\u002f5avv\\u002fn4T+Kr689ZPLkvjvq1j27Wq8\\u002fPElBv4Kl5L5X\\u002fCY\\u002fDfQrv2kScL931ly9fDvxvk+KGj6Z\\u002fti9ry4zv4nwvz9Tx\\u002fE9EPvuP\\u002faczz4eUms\\u002fd+URv2ZBhL+As8i+GyRWv7DZwr6Uv24+TnMUv+G2az5lk+w8iFNJv4+Nmz90qVw\\u002f360xP9OkTj0uhdc9H6gQv67xBb9m5ro\\u002feGiCP1\\u002fgqr\\u002fyrNY\\u002fiNeCPyoGB0CLPg9Apyhuv+j4YL5\\u002fmJC+tli+v573M79jgeG+N0Upv091J75YNMG9SU4vv7fhB7\\u002f9iMO\\u002fKNP+vh4uqD2loTI+AsMqvu1Jar2pd4s\\u002fu8MNv9WTtb8cKoO+p+0+PoahpT\\u002fSVGI9PbliP6bsOL+oVpM\\u002fwHxUv7Xapb+pEQS\\u002fAuQWv8TXuj4S5dm96y95PyWktL7HEJa\\u002f9HtSv+2Vf78LJpe+5WO\\u002fvgC4Mr0\\u002foJ4+egbdP48LT78I0gu\\u002fUFNIv9d6774WpEs\\u002fK7wTv4hk677tWY2\\u002f7adlPxk\\u002fuD+NUgq\\u002frgMePFGbbD7+5wq\\u002fJ1nNvSmu975NFwm\\u002fYcjHPSZ6qz+n0Hi\\u002fqNhlPzEXgz\\u002fxj0C\\u002fucu+vkcdNb\\u002fSiEk\\u002fNAg0v3JR374d10Y9QYqePhcUlr9aDIG+BlWqP\\u002fWEfT9EKB6\\u002fS\\u002fe3PxvTQ74VBye\\u002fKzoIQKUTwL6YTwe\\u002fkifIPGqb474jcbE\\u002f4HaRPsh6DEAV4c6+aspiP3F3jL+aluu+BJQHQB7hWb4m1yG\\u002f4ab4vqugAb9Qfm4+G6gAQCW4QrsLjEe\\u002fpVi0Pwhwib8EhUs\\u002fJGQKvvp6ub6QQ7U\\u002f\\u002fRWpvbTBKT+zlPO+U7wRv0fu0D\\u002f2LXG\\u002fnTAkvh7Pir+NXJE+MfgOvyR6cL9yEO0+LxGDvzrTMb9N9qQ9\\u002fIx0P7K0hj\\u002fJ12m+X7JVP1gEk74iUtQ9KuwAwJOoGL5VjlM+yAGqPVX5WL46oj4\\u002fk7RKv1fH9L1nioM\\u002f54Apv+2y4L74LPo\\u002fXrE7v+Amp7+6FhA\\u002fKrz3viKvTT8BvyK\\u002fEqPSPoTFjD87\\u002ftW+hgifPs9s5b4sy4k9X1RRv2h+zj6QOSq\\u002fqKi4vk7STj2OmDs\\u002fTVLbvjFI6L7gxMG83rFHv1iTRr8kNPI+33nKP1+qiL7\\u002flWK\\u002fwD4GPk7YJb\\u002fDCQG\\u002ftcSqP\\u002fTagT5GsYG\\u002fMFUnQPVZWb+BeF2\\u002fLJ\\u002f3Pzd6B73SLZm\\u002f\\u002fqFSvfli7761VBm\\u002fts5XP0AH0zsYbdc+mBlzP3ybkT\\u002fe18w\\u002fOkglvjQt3z\\u002fzKT2+XglNvhuxVL9LjSk\\u002fES\\u002fOP4GER79dl2y+wyyVvtIbVr\\u002fxShe\\u002fmlC1P6epNT+YCze\\u002fkqEQPywXK7+VL0s\\u002fNaJuPnRXBD+33dw+wWp0v5U\\u002fCUBVbQi+CoTevlCzDkDBvpq+1iscv4QctD+\\u002f19q+HSpGu9mZqb5+vxG\\u002fuaZdvbLZi78Go4y\\u002f79sivXFnXr+NTVA9PzexPxnJQb8ScOY+2CHDvxrs976mXOS+uRVTPqipFz4cJ3m\\u002fD64Ov03opj8ycb6+4J4iv6frNr+E25k\\u002fwwc2v0leVL\\u002fuMp0\\u002fjqG4P6vif74yqaA8Vao5PmWxEj92IAC\\u002ft8iVvfuv+jxcJV0\\u002famOMv8JIEr9N5xe+WLmDPheeq77jm2m\\u002f9xcvv7\\u002fmkD6BI7u+luqQPi+0f75+dOo+lVsFvxKeEb5aKqO+MCJEvYYctr7Z6aO\\u002fJZGDPU\\u002fhvr6i5o+\\u002fVaSmvDHRJD\\u002fv\\u002fIw\\u002fdNwavxSMDr6jwH2+HwaaP4kGJj+zXKs\\u002fYLLdvlpIhD5+bdY89WtQP\\u002f9mSzxri4U\\u002fcr8APyM+6r57y9U+N\\u002f7mvrgAnz7SxV6\\u002fdO+gv8FWCb7wD3g\\u002f9EvGP7npez95TBq\\u002foxPMvnuiFb+nE5c\\u002fx6xXvzkzGb9iwi2\\u002fOmVpvoidxz\\u002f+czK\\u002ff9vHPyu7lj\\u002fwdXU\\u002fpKYFPjEH3j\\u002f22i+\\u002fyayLv0KIab\\u002fxWZ4\\u002fzVrOvpYPHj94Nkq+YfXzPKgDw72VQUQ\\u002fJF+kPwVvAb8RUQU+sCr2P1PEpj\\u002fAVaI\\u002fikluP6coDb\\u002fDINK9J93yPZvgAb8UXgu\\u002f8kLXPksj\\u002fb6T4CG\\u002fQyGXPx1e0j6kd0a\\u002fmMiCPb9sPb\\u002fvcpc\\u002fdpLHvpxkdz3pHtq+hr+ev8ba7j8JA7++c7lUPrdm7T5GsDy\\u002fWR8Tv1PWFL\\u002fQ+gM+qh4NvubiUL8aL8Y\\u002fxt\\u002f6Pkcd3b3KoBm9LqTOvl9YAL+INRK\\u002fGqz6u0NiM73WE5a+gfOuPh8Kyj9Brwm\\u002f+5wUvw1DL71E9Ta\\u002fOuwVvxQVxD0BrG4+NB0+Pwr7Vz7djGO\\u002fyMVFv9KsuD+7uzm\\u002fc8DHvEDNnj8F+xc\\u002fmw4HP8EMTb\\u002f1os2\\u002fX2ZWPv5ofT+i9t0\\u002fGHKpPp7roL7E8pK\\u002fH9XUvnChwr7xZ5++eZgiv7++zL5jET690yOyvnb3rD6uQAC\\u002foQSxvlSG6z9HAN+9lV5Zv6Ywgj\\u002fD30M\\u002fse0+vjyCSL4tOS6\\u002fgI64P5LSNb0346O\\u002fC4Z1PSyqpr3OFim\\u002fAv2Hv\\u002fuif74JdAm+B2H7vsivbL\\u002fdMIu\\u002f79H4P6K9Nz+148U+TaVOv5eJnD9KB74\\u002f5yqhvtVjm723V5E+L3EgP4nypb4QRmq\\u002fNHWcvx4XMb\\u002fF8Ms8hPstP2FkMD+6GUs+5auJP1By775WPCq\\u002flK8XP20x1L6Dg46\\u002fPM+sPgQDvb5hfWm\\u002fQLyXP87UhD5MtUM81b3MP8np2j5kGTa+GBI+v01Azj8ghie+Q2\\u002fXvub1fD5rg2c+6nNEvd9sUj4q1yK\\u002fNPi5Pz0HkD9M3xo\\u002fxBDbPfsmM7+dGfS+sC4Kv\\u002fJvY7\\u002fRigo\\u002fSOQBv1GPfL6Xljo+GiotPyyypb+6KJq\\u002fVvqAviNiMr8uGZG\\u002fydnvPuYwxz3CXpE+ypA5PqnM6z\\u002f3qSm\\u002fGEobP4zgIj8zAJS\\u002fOgHHPQlfrD\\u002fRpN+\\u002fWwGEvpUEEb8D8Kw+H81Cv2XQSD9n1hu\\u002fJFxgvmQfDL\\u002fEOke\\u002f2wywP2rq2D9eyW4+NYeqPg+FBr3jiEK\\u002fMGXAvhjorz9RJKq+568qQBFAl78eiCU9HNQYPwhgcD9ouFe\\u002fgTJQvjJIQz8qLE2+PJO4vhj\\u002fd77V3lG\\u002fnF27P10FF78Dppk\\u002fpPr\\u002fvRc3pD\\u002fqiBc\\u002fjGmEPmZ5I74vpHw+ysZQv0Rxer9R3HY9og2+PjSx+j5q2Yu\\u002fWmowvxcSUD9hJ0G\\u002fXwAUv2gLST8Z8KM9yrHAvnOdpT0a+Tu\\u002fVvnyPCX\\u002fgz6OWg2\\u002fR3QAv7qNsL4eEqc\\u002fcXQHP5l7YT5OIC8\\u002fxzrTP6\\u002fWyr9T+knAsxtXvn8Eqz9zNrk\\u002fOzPwPddezb8f9is\\u002fd1S0vmNF1T54KaM+C8k6v8kAAb7DySm\\u002f5QbYvfY0vL88KxK+c+Zxv+eymD\\u002fJX+S9DrKYP1THHr82N6a+ph9bv+Fohj8OdoC+nbAQv+8ibj4LdQs\\u002fpKjivgLvJb+h0A9AzxZiv5htBT7Idtk\\u002fUoOavrspMT6K5I2\\u002fWOODP86SFr8I2Ko9bzNAOy1L5j6MMB6++VeWPzmowb0ShU4\\u002fOECVvkBDFL9BM24+1C92vrrZUL4F3W+9ZbbjvZKanj6A18U+KRyCv9A5oT8G35m\\u002fc1Cbv6DBXz\\u002f57oM+riGRvu40+74OB1m\\u002f\\u002f+ZvvlO\\u002fCb1a4cu\\u002fNYGPv86Zlb9244E+JJclv2Efib8wzea9PDwbPx4bdj\\u002fXVpu+uBNTPwRhpT8UgSe\\u002fDSouPzWeGL\\u002fEDEy\\u002fR8UrP7nZjL9U8ps9bHZJQP3Xgz7BjKC+IGIuvwAGCb9R8Jo\\u002fD3uWvq2K9D5L3RS\\u002fhEApvlbhiL\\u002fVFC4\\u002fA5ETQHymO0BoTX28WZ+Fv+gOnz5QPJu+W3tnv8AIs78h72s\\u002f0XBlvw9MZb8E7aQ\\u002fY+Q2P+smLb8Mxn89JkFTPifYAb+hjm4+0EmdvsNvIr98J+K+rVk6v4cinD5Lrau9xsoZPnJCiz9pIES+Fc5tPqcbuT8nzD4\\u002fkGS0P4clNL\\u002fYhAW\\u002fCso8vy1s2T0EDJS\\u002fRHHSPls7Er\\u002fzHiu+Z9C5PsU7R76ulQdAHnsmv1\\u002f3iT\\u002figoO+o8xNP6ggur5WkUS+j6uRvoddhL79BQdAhf0JQOyRCr4BZJA\\u002f4AmWP1QPLry9SSu\\u002fyeWjP0WlgD\\u002ft+M2+RT7PvnSxbD+XhXk\\u002fQ+qJvpQm7b7Ktzy\\u002f7Do4vwgxuL4r\\u002fIE\\u002fAQvkvtl3OD\\u002fsPaM\\u002fFlrlPw69zr4qyJK+mhgMP1xAyb6k6Ww+lmdfvxOikT+1KYQ+RQJFvqW7S79tEA6\\u002fcP7BP\\u002fBofb+YwZw\\u002f4t6MP+zQMD8l4k6\\u002fGcW+P58+uz1cMmy+kL4RP8pmnj5dmbg+ntMyP85hmr7h+6C+bJTsPgwi3j5BPJE+dl0QPwjWPb6P9Di\\u002fkzWlvl9bVL41+7i+TlNNvtwgWj1mgYs\\u002fy3+nP31yIECZBIS+k6ZLvwzOmD9X85m9wV1ivnsLHb+XFwy\\u002f\\u002fPysvqS8ez5VkHM\\u002fsYZMPyIEVT+x8X6+0XnFP5koxz0Beoi\\u002f3h2Gv2TQjT+OwQO\\u002frsz+PhgU1b4AK6s\\u002fa3WxvtSHj77aSRu\\u002fg0Q1P7cQwz9NjIu+czSTPwpwcr\\u002faFYU\\u002f3Uthv9j5N77BwyK\\u002fM\\u002fGiP\\u002fkDlr9933G+PpXgPtwmn7\\u002f\\u002fbKo\\u002fxDTjvq8aqL+rmFi+qvDYvVfBP797Ye2+QAcrvtfEiT\\u002fjgDY\\u002f38e6PnFkhD74yURA8Q0yvwvlhb+bg\\u002fO+lTWnvwLpJj9V6E6\\u002fcksYP\\u002feD57tts14\\u002fiYX7P86KLr+My5W\\u002fgK86vrdT+70CWGk\\u002fAu8lv57oj78UWe++Qxr6PiGOxL4xjwA\\u002fP9yDPq5hJj8Z886+pmyrPlj3Tr9N6yq\\u002fXIxrP11Kd7+Q5lY\\u002fKqzMvpn6qb+L\\u002fT4\\u002f\\u002feFlP0MEOj\\u002fMpyQ9HZQ5P9Ctdb411SK\\u002fFLodP7j9ur+lrF2\\u002fHCVQPsS+ET9LPZ0\\u002fR17IPlNY1L4ltqW\\u002f06DfPrypxT5YyYc\\u002fc4L5vs0dj7\\u002ffTqq+WIHnP\\u002fqqlj1832o+z9ONP9pTcr61byu\\u002fmFKtv\\u002f0pLr6sdkY\\u002f30Ymv90wi79eesK9s\\u002fp\\u002fvyTq6T5J8Iq\\u002fMoW7P+xckr5tdyC8NLiAv0LIaz+Th60\\u002fFyPxvxuSBb86JRu\\u002ft0uGP363K79UX\\u002fk8eqhzvrXYAr866M4\\u002fLFOAv2bjhT\\u002fjUz+\\u002ffNhqv8t5k76ikMk\\u002fXY6\\u002fv0qjmr0zpmk+ei4ovm8byT7AIaK+tbigP+t1ID\\u002fHapC\\u002fpXsrP6E+Ib8Q7\\u002fk+ctkUv574AUCxEMu93aEiv\\u002fINxTx9hxg\\u002f3aw4vDdxeECBUeA\\u002fy\\u002fu0vhXT8T5aPV4\\u002fX3qGPy0CV788Dig+DRvpP37uJT+IF42+BYHuvRKnUT4C3W+\\u002fgYRHv\\u002fcpiD9da\\u002fw+78WxP1GaFT9Iqwe\\u002ft53avgioeD91yJ6\\u002f68hxvrF+5L5PgZI\\u002fSl44PoQMhr\\u002fRMya\\u002fhg\\u002fJvgZGND\\u002fNg9k\\u002fg5JAvDIWMb+3l4W+pVi0P+xheb8v\\u002fK0+4WORPhDpQb+B5Xs+skqZv9ea+75gefC+3FttPhHwfD\\u002fqYW6\\u002fa0vIvoZEmj8LkzK\\u002fJwaJP6Vemz9k910\\u002ff7aqvwKywL\\u002fWzwq\\u002fkSkQvyJdlL\\u002fURGK\\u002fswWVvm39Ir9aSbc+7nKLvnYYgz4vOmK+rjAHv6y1Er+n2e++0pe7vk7umL65xBA\\u002fOugiv7ICpj\\u002faigi\\u002fhMnnvXb2HUCsQi2\\u002fTcQ1v1xZn74zeRS\\u002fpR80vbFuUb5vJeg8KQQXP2Usbj9YrvY\\u002fx3e3v1C2GD98XoQ+C4jVPYaGdr6X3jnAuj6vv\\u002ffdf78qY5a\\u002fQ0IKP6E4nL0c0Qe+VbgXv7h85j+7Xyq\\u002fQpkcvzxg5b6D\\u002fUu\\u002fRmE7v35YAj7VLia\\u002fDj4FPm9zp7+ytIY\\u002fGnjkPJsBED\\u002fK5VE+R6sOP+Wr576Ykh6\\u002fZZ\\u002f7vnWxRD\\u002f0pk2\\u002fHtZ6v5VX0r6K0go+a2F+P6T4JUDrlpy+aSo2v6qkdb4096s+K0fRvkFF9b7pcNo\\u002fqK8Hv6LbD7\\u002fOVly\\u002f9pE3PiIehr+NKcg\\u002fg5sTP2gPDb9OJ\\u002f6+27PQP\\u002f78S78bwxO\\u002f6sJmv\\u002fJgwT93YTk\\u002f7lKyP1R78r3wAFG\\u002fcUOsP1EBGb\\u002fdkO2\\u002fUhnZvqOaib1zLXI+TfonP3EdVb6LGAk\\u002f8oy\\u002fvoBV9r6EKoa\\u002fiq+vPclkBj5l0jY+TY+fPgpUjT98doG+1ZyvP+r1Bj+sa+0+8rfQP+EVXD\\u002fR4G6+o2tDvTLOOD+Zr52\\u002fy8NfvpsnBL\\u002fKCp4\\u002fG4Ffv2GzxT\\u002fOG0e\\u002fmTpEP1PTVL4CYlK+aSiAPwQ5Xb+dVMI\\u002fmqQxv9kO7j4zApa+f5Fjv58KH7+hOVq+jweivh952D8fHEM\\u002fbl\\u002f3PzHygj9\\u002f\\u002fdG+ChPbvjG8ob4Q2ye\\u002fJ6OSvksj\\u002fb4Z7RY9BNgeQJQjwzxZIUO\\u002feJFAv+9QOT6CGx5AZkQsP6Wl3z9F6ow\\u002f9sbZP4oDLboe67Y+juyCPyMtCL+xBbi\\u002f2s5POhvGhD\\u002fyi8Q\\u002fd1N8vr0D5T5uX6E96FSRP\\u002fNyxr18YQQ\\u002fb2ufvwDbwb59wwc\\u002feTR5P12m9L5u4Wu+x42Avyp\\u002fO77W55++M1vXvjBWWj9cxYq\\u002fJwzgv8eVkD8CaQC+tpEAv24B4r4Srtm+8tmRv0nCzr0w8Lk+mK\\u002f8vs+63r6wOqw9+M9bP+G2uD7JIxa\\u002f8pNEP3dqrT8pVKy+W9YLv\\u002fKAnz\\u002f4cj4\\u002fiwuCvsbf+j5RoDy\\u002fC3GMv8dEPr1kESY\\u002f7VGFv8cl8T\\u002fepCu+W9yFviagxz0kb2C\\u002f0L6JP49lzz\\u002ftsqw+OaOsPzhAsL+obxA\\u002fiksHv8MVKT+IYrW8WhX+Po\\u002fddr6fv2W+Q4Yav0rIej7cRIS+bS3vvEnn9z8ycsY9Ko4qvgLXUj4l2Kw\\u002fjwOMv5AKDr\\u002fmD74+vqrSPu+Z+70yi2Y9Z\\u002fqPP4uCiz+n4WC\\u002fgcxQPwcFeL+W+84\\u002fZ3vbPdafBUC6kBk\\u002flL4Avyd9K77Vfe8+vicOv\\u002fZOwr2896E+WRcbv+Hdqz7R468\\u002fBsDyvfKAnz8oxrA\\u002fEAPfvRJSbT6M4Y++\\u002f9JmvouLCkDRmew+TR+HPuvHLj814Ba\\u002fvSzMvsRPD7\\u002fVOpE+1OZev6TDNUB9Lbo+5b3SPphLcD8rU9s9Z5kxvjE9oT\\u002fCUJ6+gytQv\\u002fFO8j\\u002fV1J4\\u002fMwUsvRSexz6wI6q+D2Iqv2hl1j3DBxG\\u002f9sTVvhstXL57htY\\u002fPtA3vxqtmz93b5I\\u002fl2qgvj8RYr5TzQ+\\u002fxaCGvwYior\\u002fcbCpATeNhPaugAb+Lmwq\\u002fNN6jP9ijl76ogEa+PUTevke7Bj\\u002f7Cl6+P6D0PgJnOL\\u002fkoB0\\u002f5vN3vg7JDL9LoEA\\u002fKrJsPiCZqr7NYza\\u002fkWm8vqmJmL\\u002f4Upw\\u002ftQEOQGY2nr\\u002fTgjW\\u002fpVJ8v168D79MmAo\\u002f7+e9Pye16D50f6G\\u002fxU0Pv9ujfTwtiMU+K+k1vzZ4oz\\u002fJhYU\\u002fNZY8QE3XOb\\u002fEa6W9zUKCPhcpeb9L\\u002foM+5uuZP6fbUL\\u002fkoZ4\\u002fveaYP+tPsr9\\u002fDjw\\u002f5R04P4lthb8KWoc+sJYLv6oi6D5+Ns09y7VuPuNzv77Mpc0+9c+fP+4BD0C58S2\\u002fL4t5vPExqD88rp+9iGu2P45b2bwsLE6\\u002fUU3zvP1nIT+8j4+\\u002f0RaFP6J8XL+gj+g\\u002fzairv70tkD\\u002fmEFM+KZOMP2GhVT3FW5E+4PQDv9066L6IGqE\\u002f4H49P\\u002fgcvL4OCsS9vOIcP8Fzjr9RVby\\u002fpTTuvrnV6z8QFVM+IKtTvpnXzb6lbbm+SWl0vkJ7ED8xgWu+5sA4v0mk2D8ru9I\\u002fv7YXP8+HiL\\u002fpKgRAsCaPP301Qr6k25a90dxRP5wVVT9enxq+8VmePxOynz2xYRBA5TwHPzA40z+u270+P9ewvvvBgj\\u002f7woq+AyEhv0epjr6qVaG8RTonv8uQ+z\\u002fOPLY+JNpKP06snj5IdXo\\u002fOc3pP7Y1075nLZY\\u002f6haiP\\u002fBja7yeomk\\u002fH1sqvxI2BL9qsB6\\u002fKPlLvzM2ej9dJWY\\u002fvsvjvRnwoz0yEL6+jXA3P5PkZb6j5J4\\u002fFTiYvs2Nnj5HBa89fL3bvuL7Ob9g+Qy\\u002fxnQAv5iTCL+wwdO+evI5P9+OrL5FU32\\u002fz+GnP5BakT7NSy6\\u002fGBC6vnQpAUDph4k\\u002fzRzHOm8NZL5LQmS+K5HEv3GiuD7mpkK\\u002fgxYgP+WJxD8p56E\\u002f+gKnP2MvRkBEfdW99cyVP3Q2zL5POJg\\u002fB\\u002f6NP2ipZr53sEy\\u002fWUJSPspDFb+SYoK\\u002ftDcyv4mO2r4q1pi\\u002fhgU7v2P+yz+E9vQ+O0S8P2NOPj9fcGm+3dz5vqTPxr4Ovc6+tZKDvAdfVT8Rx9u8Z4ulvuON574n0bU\\u002fF4zSPitKhj9Ypb6\\u002fYx1iP9EMAcDfRia\\u002fgnRIv13Z+jwsJiw\\u002fotZ2v8cZnL79Jg2\\u002fZnTpvmrz0L1Gcau\\u002fFDXZvv6j\\u002fz1dS9E9e7LBvvhJOj4dLUm\\u002fq0zoPyg6Hb\\u002f8AYA\\u002fX0AWv54Otz9p6AS\\u002fn4TFvY5Vmz9CIXE\\u002fV9a9vWkWzT4+s6s\\u002fj6cbvjOGVL+Mjj4\\u002fcikzv6bfgz7YQxi\\u002fbXGePjiNlL1GAEG\\u002fZzswP0ERQ79WazVAokSmPn0fY7\\u002fA5ca+Bl8yvmUXRb3V41U+1TPJPpmaej64owhARRg7vuSWmr5MSBa\\u002f0OmHPwA1Eb+HW1g\\u002faqGNvtsrf77FUM2+eBd4vnbFxj7duku+MtyWv8oA0T+qUP4+jzuQvF\\u002fFk7wj7a8\\u002fKKeGvxLLoL50DgQ\\u002faN3pP0D6NUBUb5Q\\u002fNjpjv6nXjr4aXPa+49qTPybNNL5vJeg8m\\u002fkevjyW+j5kNTi\\u002fTYZyP1w5jb4YPaA+O3Iyv4N\\u002f6r5CsL2+32o0v+zWiT\\u002feiZK\\u002fs9+Tv+\\u002fG9r4neSy\\u002fdFmwPWVpjb++AXI\\u002f\"},\"type\":\"scatter3d\"},{\"marker\":{\"color\":\"orange\",\"opacity\":0.8,\"size\":1.5},\"mode\":\"markers\",\"name\":\"[Real] Object\",\"x\":{\"dtype\":\"f4\",\"bdata\":\"gVAZv+swSL7vYlU\\u002fZlKqvwPmhL\\u002fgVj6+mglWPzdnSr42vVC+w4ZEvhOtR75RV1C\\u002fk6pJvmC+Sr5vu0y+xS0rvm0sqL9kbUa+JvTtvj4OAb\\u002f8uc2+WqpJvg7JTr691Um+HMpDvlsMp76FV1A\\u002fI3hHvn8qUb4o2km+92JIvi7t578V0Ne\\u002fZsNJvqGgTz8=\"},\"y\":{\"dtype\":\"f4\",\"bdata\":\"MIgqP2FwZb4lF6q+IcT0Pl5Zuz9TH2C+LRiqvrMDZr4Py2G+CVFmvqQ7Z77IciY\\u002fZVpivgiMYr5v7GC+hv5nvh9E8z4hlV++Zm8pP8WsKD\\u002feZoM\\u002fd+ldvhaQYb4U+GC+P0Rgvi1nOz93JKq+82phvkfHYb5lVV++Qi5lviVgXT9fiYs\\u002foq5gvkZ5q74=\"},\"z\":{\"dtype\":\"f4\",\"bdata\":\"EUj3v3D1oT58iCM+vEB6v\\u002fzk1L8bAN2+NfYQPnE2dT6\\u002fDfg+vfmrvW0jdT4E9Ba\\u002fxzFePlEggz32gwk\\u002f4G6Qv58qur8Kpz++YRbVvwoS3b\\u002fkA96\\u002fSiuxPvbzyD5Iq2o9QI8xvjvz1r\\u002fVT30\\u002faEe1PpRyHT+81aQ8SgjVPkfGr78f8sm\\u002fA6mEveQ0mj8=\"},\"type\":\"scatter3d\"},{\"marker\":{\"color\":\"blue\",\"opacity\":0.8,\"size\":1.5},\"mode\":\"markers\",\"name\":\"[Real] Road\",\"x\":{\"dtype\":\"f4\",\"bdata\":\"4kGmP8DZnz8c4Cc\\u002fgOFdP2UNiD5aBII\\u002fSny3P0wQij8WUMI\\u002fblZKPy3Phj4SAc0\\u002fJuBePw==\"},\"y\":{\"dtype\":\"f4\",\"bdata\":\"aEe2PW6Z7D3U3I4+WQF6PmXsrz5lkVI+vkNXPEkHPj6nM0C9qdKJPlghsD4dnP+9PzV2Pg==\"},\"z\":{\"dtype\":\"f4\",\"bdata\":\"\\u002fBIhv\\u002fFSKb+Aioa\\u002fUUdqv9uFpr8CPFC\\u002fcEoFvzyFRb\\u002fr4Oy+OppxvyiEpb8OX9i+jW5rvw==\"},\"type\":\"scatter3d\"},{\"marker\":{\"color\":\"red\",\"opacity\":0.8,\"size\":1.5},\"mode\":\"markers\",\"name\":\"[Real] Sign\",\"x\":{\"dtype\":\"f4\",\"bdata\":\"\\u002fBxOv5JlVb9tZlS\\u002fUURVv4jaUr\\u002fGn1W\\u002fhJxUvyBcTb8=\"},\"y\":{\"dtype\":\"f4\",\"bdata\":\"xAwnP5fFJj\\u002fPayc\\u002fxk4nP1b6Jz9JOSc\\u002fzaQnP+KZJz8=\"},\"z\":{\"dtype\":\"f4\",\"bdata\":\"YJTAvtHO0L7ipQK\\u002fC8bYvt+Hkr6ZweC+HvYVv7DTuL4=\"},\"type\":\"scatter3d\"},{\"marker\":{\"color\":\"brown\",\"opacity\":0.8,\"size\":1.5},\"mode\":\"markers\",\"name\":\"[Real] Terrain\",\"x\":{\"dtype\":\"f4\",\"bdata\":\"xILjPy9F8D4rNJk\\u002fXal+Pxi4zT0m0tE\\u002f92jxPxOWpD8D0Ks\\u002f7EmSPp2zej9s+Bs\\u002fF\\u002foAQBM3oj+ZwJY\\u002fnpApPwRemT8LmLg\\u002fWugsP+0KAD\\u002fdsiQ\\u002foKeJPswe\\u002fz9gZp0\\u002fQP3Yv9zq6b+ploo\\u002fMaL2vx70BMBcJjE\\u002fSznDP8\\u002fdmT\\u002fJOOi\\u002fG2yWPl34gD84u44\\u002fxX2PPgqDmr+AFqA\\u002faCWnPz1G0T4goIY\\u002f\\u002fQCCP6Mfjj\\u002fKi80\\u002fvnWeP6nHuD8Gid4\\u002fSwsGP9rohL9lTtM\\u002fVmiJP2Y6KT+an1s\\u002fhIRWP+V+lD\\u002fRyaU\\u002fc8LkP5uw0T+08YA\\u002fLon9P3AzMj\\u002fL3p0\\u002fZz6LP6B4FMAGldI+hGQNP3ZPLr+5AMi\\u002f+9zwPoGBWT7z7OM\\u002fAAedPxsX0D\\u002fWa48\\u002f7TfUPwx\\u002f179j9gg\\u002fs5LnPZuqjT\\u002fNNo8\\u002fB\\u002fm1PxUxlD\\u002fvSBo\\u002fB\\u002fJHP5prtT\\u002fOgM8\\u002fUqp1vwbgrD6hXI8\\u002f+5D1PzAt8z9WAuQ\\u002fm2SnP6Hl\\u002fD9noJw\\u002fmBSTP9SrzD\\u002fPaLE\\u002fBR+5P5t+oT9yoGE\\u002fxqrHP27BhD+QpZA\\u002fUAKQP5ODej8b8aA\\u002f0cX5P0geoD\\u002fLdvY\\u002fKL89P8HpmT8b7Pc\\u002fDWPGvmGSbT\\u002f9FD4\\u002fDviuP3F1gT+FJ4w\\u002fTmuyP9j\\u002fTz7uGeG\\u002fxaWvP4dp7z+vcYY\\u002fam2vP5\\u002f\\u002f2L\\u002f1Q8++LRWEPwwcBz+50XU\\u002fph5LPzgBrD9\\u002fd+W\\u002fmAyiP3gt0D\\u002f8M7k+5RBqPkoToT87jMA\\u002frAmfP\\u002fPfjD+e3kU\\u002f9HONP\\u002fWehD+Gb\\u002fk\\u002fvkfyP4B+aT8F6NU\\u002f3wvWvtnZpT5iK4E\\u002fG535PjfJUj90rFE\\u002fdn7qvzpf8r9aH2m\\u002fYtU8Pw8cnz8nqKw\\u002fxzSqP7RFoT+8R50\\u002fY\\u002fbnv6novz\\u002fbTFY\\u002fdYfSv\\u002fJ\\u002fVD67qfg+kzKhP+Kvnz+fBXg\\u002fSgTdP3rP+78XoVQ\\u002f8u+dPw0ntj+Dkp8\\u002f6AeVP7lbkT9Xfag\\u002fJtNeP55V7j96+pc\\u002fJeKkP5oTRT+vfpw\\u002fn3eEP8cq\\u002fT5Cgzq\\u002fCwfxPya+xT9UyJo+KSCSP44Ikj9Bj1Y\\u002flrldP8CXiD8\\u002faI4\\u002fM5FrP9jKjj\\u002fkbqQ\\u002fPrCTP+0onz\\u002fIad+\\u002fhjgHwB9zpz+CM\\u002fC\\u002fvkqtP2GxhD8L9r4\\u002f+CwOP+0S6T+56JK\\u002fhJKNPxx8mr+ZuYI\\u002fQ1+WP8JCnz82nsc\\u002fydLmv+bRlT\\u002fUGpw\\u002fnbaCP6pir7\\u002fQ0KM\\u002fBRndPz7DwT9pfrY\\u002fIEsCwGNG9b\\u002frMKY\\u002fE\\u002fe0PxUCbT\\u002fm\\u002fDO\\u002f++apP3xjFcB149+\\u002fS\\u002fiVPyKmsD86O+y\\u002fUw7hv2Euyj8sEoY\\u002fGil1P1i7C8AYzoU\\u002fls+LP7TCAMAS0Zc\\u002fK1\\u002fMP3mNBD6NQ7u+UiSBP9bovj\\u002f5AIc\\u002fNOSJP3vSXT83vbU\\u002fe1\\u002fdP7P8YD+krCk\\u002fU6mmPpft6z+Cb909\\u002fxLuv2XgpT\\u002fef+E\\u002fEKWjP3bz0D+0gA4\\u002fCNRlP95VNb+8P4o\\u002fLWyJPky3rj9aX4w\\u002fn5qdP+2Hzz+kLY0\\u002ft\\u002fWNPxlCpj+RD2Y\\u002fCa\\u002f1P15wjj8P0fc\\u002feefCP1EQtj7Zd3M\\u002fjMVUP9S4kT+bFu8\\u002fjzwDP3zrtj9tFKs\\u002fGV6IP0yisj8pVoA\\u002fopV7P1hALz\\u002fXlQ3AtzsTP1Flmz8uFIW\\u002fJfEPwP2VuD\\u002f41pU\\u002fOrh0Pp\\u002fRrD\\u002fWSKk\\u002fZKFGPw5FsT8avIs\\u002fI2DHPwApsz50a4w\\u002fszj9PlFl\\u002fD6gc4E\\u002f2vLUv\\u002fDZBcBh6OA\\u002fw8QMwHq5hz\\u002f1Y9g\\u002foN+3P9yolz9LT1Y+JL+BP0h9tz88tPO\\u002f8YJwPxm13D9MzKU\\u002fiYqYP2UzGb9TMrU\\u002fBDOzP12XqD+0cQLAie\\u002fDPpgH0j+68b0\\u002fCrSRP3+lgD\\u002fS9ee\\u002fbLi+P9jvuj8szvA\\u002f0ziRPxaqlD+Hc6g+AFZQPjXpiz9Vj1E\\u002fk80PwKML2D\\u002flsT0\\u002fLh3hP2cVkz\\u002fyjZs\\u002f8BGGP11TsD+zLP4\\u002faYv7v2YjaD+Cc4E\\u002fS\\u002fR+P9QnqT+VIoA\\u002f+JhkP7iQrD+oOlo\\u002fpgEsP\\u002fYAzD4BzhDAzk0XP2e9hL+UwfG+lxS7P5Moxz6oSqo\\u002f02jEP+GKxz+t0Gk\\u002fP\\u002f7fPu\\u002f83L9TvUQ\\u002fiP7TP7lpuz98ngM\\u002f1BVXP8\\u002fZgj+W7OA\\u002foTP6P7PB5z+qyqA\\u002fmkPcP8Dthz\\u002fdm9g\\u002fKWqMPo4x3b+IwaU\\u002fBn61P7Eg0T9ibUc\\u002fqS+qPoniTT8ddIk\\u002flqR1P90X4b\\u002fEn5o+h649PiX\\u002fmD8Jo2k\\u002f1sxlP5hrcj6Grgg+TyP8v2Qd9z6\\u002flZU\\u002f06i0Pz+6xD\\u002ft9ZI\\u002fC392P+dCfj94lfM\\u002fjy3DP7ZIej9zSIw\\u002fXtmwPivveT\\u002f0Yu8\\u002fqaOlP26S0D+pCMI\\u002f+JcKP7AciD9ixkU\\u002fCj2VPo\\u002frmT8335E\\u002fuw8pP4VLxr8xjkA\\u002fnXf\\u002fv28ohD+YvPM\\u002f5EemPwydyz8j3Z0\\u002fdxLRP19IhT+3I5A\\u002fjcIIP3p1tj9xn4A\\u002fXevTP6wvNT8A14g\\u002f70+pP36J3b8I5Yc\\u002fl4CeP1Sf6r9IfpA\\u002f0\\u002fj\\u002fPyzPeD+l6Iw\\u002fLg\\u002fVv2eXiT9NT4g\\u002fQQxpP4Bx3b+qZlg\\u002fphSOPxZQlD4yrYc+PCYdPkKwZT8lcJc\\u002f60SUP\\u002f+fD8BvpC2\\u002fQ9GFPwbcwj+qbqQ+b8LYP3OHij9sNQ\\u002fAlYzsP1HWRT4XxALAAReAPyocoT8fPic\\u002fnnzZP+S6zr5nOmc\\u002f3WShPxCulj\\u002fUX2c\\u002fp9SGP4gVUj8cqoM\\u002fKPDIPiKHFcAMX+u\\u002fFybGP01m9z9qY1w\\u002fh3FdP0y1nT8bksU\\u002flBCkP8PNgD8EMn8\\u002fk36UP612iT9IxY0\\u002fZoevPwgJXD+A4+K\\u002f6FJsP34Zcz\\u002fNZ6Q\\u002fWve3Pwsq5T9t\\u002f7M\\u002fBoMEwH2\\u002fnT8f9IY\\u002f3kSUPgdcuj\\u002fP0TO\\u002f2rvuPzwZhj+mFgY\\u002frvV6P22dgD9sVnI\\u002f329qP9puqz8u17C\\u002fAd0ZP\\u002fBskz9byJ0\\u002fBNODP7CSVT9XhMU\\u002fN8idP2d3nT+RoIE\\u002fESCQP3PrcD98K74\\u002ffhitP19nCj8s2vQ\\u002fAl2iP4tu8T+tMZM\\u002fHc2yP9qS57+\\u002fEHw\\u002fewiXP\\u002fl40T+rJYA\\u002fXG+QP0vimb9UVKc\\u002fyKWpP4SdYT98Aw7AVLuFPzI3sD9VIZ8\\u002fk5HjP1CTlL\\u002fYTRDAQRgoP2904j7pfGY\\u002fzLWGPyUUdj8hr4U+BsD8Pg4ZMz9WSL0\\u002fN++TP0\\u002ffND9WVnw\\u002f09aHPxyIkj\\u002fgvr8\\u002fk3oNwCZBgj92sYY\\u002fWYnov9pajj\\u002f0fPU\\u002fEq1XP2Im0D95gpm\\u002fWt3Hv1e6LD+a6b0\\u002fqh5VPx1SaT+Ae8Q\\u002f3QOUP2VsgT+u89o\\u002fTuSnPwwViD81I7E\\u002fF1nQP0dHbj+80dI\\u002faLd6PwwmeT8MpIs\\u002fFxfkv7a1jz+YZXq\\u002fFo\\u002fEv6pDtT+TcqM\\u002fw22EP4P7qj8ggGY\\u002fw+hPP8QOuD+DEug\\u002fAeLhv7c1xj+BqpI\\u002fDWA4P0kgNz822Oa\\u002fydWHP\\u002fBIWj5Zv50\\u002fi3p0P0XmxD+YCns\\u002fiknGP0ATgj8T9ve\\u002fiuqWP0Au3z+zjpU\\u002fMOLjP51uAUCWxIA+QzfzPwOwpz7M6lc\\u002fqTvUP1EJ0z4=\"},\"y\":{\"dtype\":\"f4\",\"bdata\":\"clQ\\u002fvlVFtj6UFAE9RjltPzgXBUDXjGc\\u002f1iGdvsCdmz53pos\\u002fe5fkPwpihz8H2U893FWFvsjAnr430o295WTkP0R70T7S8\\u002f0+oUuuvdIOWz4ju6s+6DA1PHE5gr5hmiW9rXcLvs9ESr4Cipk\\u002fxmmUvhRFVz9GCyI99Y2zPupMhz9B8z0\\u002f\\u002femZPWDeFD53cz8\\u002fA\\u002fmSPo3XjT68N9k8T6bRPfn2az3gMvM\\u002f3h0BPyC7Jr700DC+5uLiP3SPBD8ITBs\\u002fDvguvjlIhj62Qxo\\u002f4T3iPkJ8cj7hVJM+jc9xP1CLlD2WCpq+DFIPvTUjjr6SHcs++knOvhDEDT\\u002f0iUq8zwR\\u002fP\\u002fzfwj3kmdE8BsBEP3GAsTxojYo+\\u002fkwvP4ugrD9EkM4+SIWcPQiL\\u002fj5o5DU\\u002f+hbzPFUKpr3VcqQ\\u002fd9MWvrg5670zFIQ\\u002f6kwiP+ZFuD6iisy8LNKMvFuTmT+fq5w+VqMpvvkT3T4mGAM\\u002fM0OZPsG\\u002fpD4Wb4s+79uTPyyMib152G8\\u002fTTVzP3naAT+o3Rw\\u002f7KoPPzY1HT+kQLE\\u002feEROvPHZGD\\u002fFBno\\u002fEyCSPnCqjz+MI3g+iopBveRGOT\\u002f4klc9LKc+Px4xMj5P+bo+lSMIvsaawT8KSj8+JaGyPmA54z638l8\\u002fhEO3vU8ArT++Eyc\\u002fAmqPvJN\\u002fgTycJFM+Rf5tPXDQHb7wgPe9z1WwPgLRzj\\u002fyI6M\\u002fdsaaPkHCHz+cM\\u002fu9+KOfPI5uUD9l2sM+cZvPPuUOZz+TOyk\\u002fp2QnvoIcuz5D1wc\\u002f5B6cPClGED+JgK0+GFbmPkU5iT7vLtM+NyzfvXOH6T53Qs8+txeEPhpkE76EPZg\\u002f5sZJP6pzqT01t1m+241DP\\u002fF2XL7iXt49ZgH0vcM\\u002fGT80yF8\\u002fUjcwvIRHhT8JLe8\\u002fPgB\\u002fvGYUib1NOWG90pbpPmeVXj42FME+XltVPrNYUj6\\u002fjHc\\u002fRloBP4c5pL4Pvga+rHARvUYYcz7HYH2+nOWlPz0KAj9rLmO+xZSCu7mhAD+hYE++82K6PiJxsj\\u002fxnk6+Dg+8vgUhgj81Rzw+EgaMPXWq0L2sOfs+5ji2Pz99eT+NvUQ9OjlVP6+arD5VHnS+ilPxP4MUiTyRKJs\\u002fsR5dPlZ1Kz+091g9asWEPdg6Gj+hq1s\\u002fcA2DP+fMx75KeR++2mLQPr2Rgj5xJXq9PwVdvoCfkL6RKda+c4lYvrPHXL0n1Uo\\u002f3wjUPiVRtT5sSWi+BHxbPvgmFj4R7oW+bz0pPyLp6bw7pUo\\u002fORA8PzZMNj58S8w9CiSOPxlk7T23+Z4+rfaSvVKYLD9\\u002fino\\u002fwbRnvsfdqb7pbCc+F4Y3PRCGzz7\\u002fqiw\\u002flw6dPVNjAT1OtIM\\u002fIqRWP92JC76Noxm+cfTgPp4dgT\\u002fMMb0\\u002fWLK+P3pfVD+epto+1J\\u002fNPkEISj9mfgRA\\u002ft3mPu09vz2LsBq+uOvrvZ9rJL77niA+QSXYPSkF5bwKZ78+zsuTP6m1Aj6+\\u002fDg\\u002fwGPHP33Odj\\u002fnFxw\\u002fhRCTPqcSAj8UNaA\\u002fewqPP9So2j5d0ok\\u002fNAuWPaDEIT8Rn14+u9d6viYRmD\\u002fhD9E\\u002fYFjOP4HDPb4x9+0+\\u002fBN+PX8gsb7wxWU\\u002fRLhBP4S4rT7IaKs\\u002fxX4cP026FT8jskU\\u002fjCF5P9H3Zz3ZalM+rlpOP3Il2D4JvSY\\u002f4fuqPznzlD9AR0w\\u002fCgNuP6o9Frl6yLM99B3oPtF3zz6o5B8\\u002freJ0PmC8dj6ajAk+vuUNvsF4kz43X+q+tH8UPxWKpT6cdRs\\u002fU6ONPRWjPT6WSIi9JABVP2FFTz9Udla+4665PnBz\\u002fD5C4Ro\\u002fzv7zPkmTB75eU0A\\u002fgNBrvjcXuT3W5Sw\\u002fV83wP5ntgT7kcJe+atZLPziAXj\\u002ftKZI\\u002fRCCDPZweFz+xNA0+4MZePw5rQz8Y1OQ+Hc0kP0Mg+T2uPPk\\u002fEsPmvsm1kj5QDoQ\\u002fAClcvZ2kcT26Pao\\u002f4pwbP51YFz4ev0Y+PHubvnnf1D8bn4E+kHpHP8m\\u002fNT8WUeA+NqATvh\\u002fQer7R6sA\\u002fDn95P1b9dj4kzZE+BBojP8GaHT4AqDm97rSfP1aIjD6OSkc\\u002fL8sIP2HgWb67Fqs\\u002fb\\u002f3kPvKUxbsbTPo+SfijvtEq\\u002fz6PWQo\\u002fxmoDP4J7wD4iIL++4cM\\u002fPlkjED\\u002fCBii+P5DvPp8VsT8U8iw+QGULPzJ9SL5iRr0+PrOrPqaTn74+fL4+eanfPrqXUj8u8ho\\u002fg0knPdJoLj+SSEA+LUjuPuOs7Dv7Gaw\\u002fOVTPPnPtEL1Xsga+J4phP6jMKD+xwjU\\u002fFhiOvlE4AD8lZPu9MLeaP\\u002fnsvD+o0D4++1XBPjEK9D5oOly+hzbSPvQwPz\\u002fHpsU+O3zmPjDh+z5KM049pzgTvlS00D\\u002fJcQM\\u002fpBAavqEQ3j9nD1I+w9DAP\\u002f5EtD7jPvE\\u002fPm9ivhTViz\\u002fjGgm+faVjPz7Xez94gyo\\u002f0EN+P5w0OD+XBUM+GE\\u002fwPs2Krb4BvpE\\u002fYARWP2Ksjz\\u002flNDE\\u002fGIk7P1scxr04\\u002fm0+\\u002faWSP+uoeL6pLKQ\\u002fNnGKPpAWvT+rXL8+jugwvlw54D6UMZQ\\u002fuYhnP9iXxD5gJ2w8RF4AP6vbBT\\u002fZJqc\\u002f\\u002fYQzP1SklD9X1oo+WPBUPsaGFz8BxMg8742BP92cmj6T0es+F\\u002fxiPqIC7z1e9VM\\u002fhBt2vmFjqr0xhzI\\u002fVp5zPybC5D6rqfw\\u002fYYDiPqQH+r36orw\\u002fkVy0PQTV8j21eaI+fv9FP\\u002fCMGb6qkQE\\u002ffJRbPwW5Dz7nuFk\\u002fP+eRPmrhxb6aS4s+42BVP4n9PD+xYEQ\\u002fEUkDPo0kDz9fMrA\\u002fZlBjP0N8RrxUC2C9ov5vvp7HqT++R5U\\u002fTRicP3ATBj+q\\u002fYw\\u002feBc5voswBD8bQQI\\u002fgLW5Pbw3gD+KAvs+D6mDPt6ReT\\u002fz19Q96CAcP9c9qT5YvwE\\u002fdiYAP+tRvj\\u002fFDZc\\u002firD9P8SrJb4UPj4+Hp0YPz3a1z\\u002fNqNA+vL29P8n+kD+2smM\\u002feIFrPZM8kT0jpGg\\u002f9rpnPxrz6T4mRSs\\u002fDfq2PjYfhz\\u002ftEvY9YXwBP5eLuD6WMvY+Xk8BPqXALb6tGBU\\u002fRSA8P9VSmD3PUwQ\\u002fSAzwPrwvTT6S2AI\\u002fidJtP5YryT\\u002f0YAC\\u002fQmb3P7SBTT7\\u002fKWo\\u002fMdM4vhWj97371vk+niT7P0yLQj++5p89CV6\\u002fP7tOtD8QK7Q+SXYZvZnDY7uyfoE\\u002fCDfwvU4Oqz+\\u002f1oo+6BrwP1HvRT+ZJtq9vJeiPqqSXz\\u002fS\\u002fTw\\u002f8tK8vTwVJD+A3nm9HJWUPCcZUj9Z4T298XaPPoDaKT9cgnw\\u002fDRawPW8JsD87jVc+EStIP4jFez6dv1M\\u002fT+NTPlwGFz+zul0\\u002fi+YXP2s+5z8JRMk982ZYP3d40j4xSjw\\u002fSrRgvvqnMj4BucO9t0mrvXs\\u002fcj\\u002fVYiQ\\u002fQ\\u002fG7P3fL\\u002fD5F\\u002fxA\\u002fWWZJP9d7Dr4A8eU+hDJpPvRBhb13aNg\\u002fUNGqPjAYqT\\u002fTF7G9x0eDP0fNIT+p8Eo9BayMP39Mcz48Py8\\u002fR\\u002flSPzgpFr29hdU8t6XQPsnZkj2VCpw\\u002fQ1ybPstnfj4Hq1I\\u002ffBDOPISgND+lLbk\\u002fuivBvW4O2T0=\"},\"z\":{\"dtype\":\"f4\",\"bdata\":\"LCuPvjFMlb\\u002f4DT2\\u002fYMmBvxp7KcAHvu2+n\\u002fBgvn0uH78KqD+\\u002fDTUPwP6oiL8cXpi\\u002fO6bYvbFyUr92wk2\\u002fDafjv0cQL79OghC\\u002ffomWv3Kglb90TIa\\u002f2DutvyvhC76pgEC\\u002fU3Wfv44omr9KGIO\\u002foWW7v8g4+78hC5G\\u002fYaH5vhbLWr85yP6\\u002fpYyqvwjdVr9YH1q\\u002fRNOhv\\u002fho178yFjG\\u002fDA0iv9Mepr\\u002fJKre\\u002fu2RXv0WPcL\\u002fEqNu+aCiVv3t3Eb+516q+mKacv1x+07+B0di+wB9Hvy6fhr8K5Wi\\u002fozSTv\\u002fw9P7\\u002f4bFC\\u002fySKMvtiU6L7Cxk2\\u002fyMs2vmAXjL+fczq\\u002fUNBuv8fM0r82T6u\\u002f5X2qv7K2yL\\u002f7R9+\\u002f8ESrvxhOBMDj0Jq+eh8xv0Aw3b71Kle\\u002fJWSyvu0BoL\\u002f8Nc+\\u002frXK0v+WWZr96H2y\\u002fYyUavw9yML+Yppy\\u002fsQOPv2ntM7\\u002fRE9a+umzUv5Iyob8O6EW\\u002f81k1vqvFUr5r1pi+V0xJv8isAL7xOlC\\u002f\\u002ftNfv+qq5r4hUCG\\u002fpXsTv4bbOb+89KS\\u002fcU\\u002fZvkj2X7+IfGa\\u002f0Io3v4Bai7\\u002fC\\u002fCS\\u002f2qcdvrw4QL\\u002fAaTe+v8aTv8PoML9k8hi+jI\\u002fFvx4Dq78lioG\\u002fyeMUvyi7Ub9IoWW\\u002fQhccvx1tBMDxSfG\\u002fLbQWvy9Lbb6rtki\\u002fuNUUvzeyq79lEMa\\u002fZH9Hv8G77L98ApW\\u002f40d0v6KaKL9w6JC\\u002fcE8uv9HT8r6XEZ+\\u002fNLSovzDBRL\\u002f9cQq\\u002fXzVPv7HuOb8nMoO\\u002fXyVUv2xtXL8u8Rq+IHYzvrLnXb8JYcW+gLrFvz2por\\u002fZrE6\\u002fgxqTv5GHir9QZ6C\\u002frigCwPTs0L8JHs+\\u002f24+Vv7bCWL9A9xa\\u002f73syv5uLOL\\u002fkdEq\\u002f6gGjv6x4GL8wwdG\\u002fPsKwv6Xnrb80q6O\\u002fNOIqv8e7KL9t8FG\\u002frjquvmKE7L+P5ZS\\u002fP2A0v\\u002fXJOL+OPki\\u002fxa5Ov6D9OL+z\\u002fUm\\u002fI12ivyIDUL5\\u002fpV+\\u002fChAtv3yEgL86slm\\u002fmg9Jv++p37+eYcu\\u002fIdeDvrDPC79c2KS\\u002fh\\u002fZFvyB+Xb84gXO\\u002fVryrv9+SdL+cqU+\\u002f4SCFv63uNr\\u002fxIVC\\u002fHQ2ov+e4Nb9W3Q3ATVPuvx6oMr9gw72\\u002fUlIYv2NnYL\\u002fxShO\\u002f80i9v7Clr754TNi\\u002fFeM8v+Ls1r+DXXC\\u002fCUJiv1U2WL\\u002faYia\\u002fgmWuv\\u002fnmUL9QTke\\u002fJVFNv1bf2r\\u002fZck6\\u002fl1uuvtkO575W+S6\\u002fk9nhvxHZm78bOjq\\u002fo5wev0DCYL\\u002fxPsm\\u002fWRhHvx4C2b+3BuS\\u002fYBdSv3TXI78ODwrAQzjXv1QODr8K4Ey\\u002fO4xtv96v7b+a8GS\\u002fUjJPv2U\\u002ftb+ex1u\\u002f1K3+vghGs78\\u002fkca\\u002fEdVQv8hpFb+N1pi\\u002flmeXv2B8ir9r1hG\\u002fe3GxvpMbiL\\u002f9uPa\\u002f4Nyhv3tVgr57HrW\\u002fit6TvyMQQb8m56S+jTcjv2W1vb7vxo6\\u002fyU6VvyClyb\\u002fvYGG\\u002fyc8JwCXGL7+2olO\\u002fg5Emv1\\u002fO3L7Yp4G\\u002fcc92v3adJL9V05K\\u002f7Zs1vqaEU79Ptha+0f4Rvxmw679cULG\\u002fVGu\\u002fv1WgaL\\u002f8oHC+FUuev4hIO78YdDS\\u002fyg1ov52yEr\\u002fQz5O\\u002fOhZqv+hfjb+q6Oi\\u002fDIO2v7iyNL9W79K\\u002fcZDuv4ZKDr8g8Em\\u002f73QDwIA8QL+HMDG\\u002fQEGbv2DlEb8WxU6\\u002fNWj3vsZ3n7\\u002f3FlW\\u002fm4eUv0UXlL\\u002fv\\u002f1e\\u002fjnutvzHO6797pey+7Jjrv7aXQ7+b8cG+Ss0Ev\\u002fzhMr99aK6\\u002fD4d4v\\u002fzfHr8RmJq\\u002fLMhVvydfs77+qzK\\u002fvIU2vz\\u002fpyb+v2x+\\u002fXhYwv+QnHr\\u002fCs+K\\u002frWwJwEfxyr6EbSS\\u002fjxZYv2hqfL+s3w7Amw7wvhXND79f4ky+IgJgv5zLUr\\u002fu\\u002fqG\\u002fnsy\\u002fv0pgSb8RHtq\\u002fXV+\\u002fv\\u002fHmtr4me6S\\u002f+PaXviWQQr\\u002ftDXG\\u002fYCpevxO+Dr9GhP29Rsuvv1D5ub\\u002fIrk+\\u002fIfp5vyYWMb8eYlW\\u002fabqDv8yYQr+3aLS\\u002fAMepvwCcm7+Jiva\\u002fFXebv1Jg0r8zYcO\\u002f9pgsv2RHmr9s1zC\\u002f6jgCvwh0\\u002f74aop6\\u002f9+qYv8qKo7+anH6\\u002fPijvvjXeDL\\u002fSq5m\\u002f7\\u002fZ2vxl2S7+PwcW+NfzwvePKg77N+Eu\\u002fq+Sxvov0kL+oGre+P5Ktv7yr0b9OLCK\\u002fNYAPv8FF+b6LaHS\\u002fUqqgv+Akkr9TIlm\\u002fokluv4PY8r9oraS\\u002fMWqvv3EEQ781ap+\\u002fbBNhv7G8rb9jGbK\\u002fbawBwNd5qL+r106\\u002fKXA0v2GDAb+ZgmC\\u002fKC6Sv4ktoL9ezDC+nW36vi84W79cVXm\\u002flxGfv2WQer8TFG6+F60kv0W53b7DHOm+63acv0gno7\\u002f+yoG\\u002fsl+svy0Xlb\\u002fCmTm\\u002fPyDNv8Bz3r\\u002fFldy\\u002fHPifv7u1g7+knTi+ghk8vxXY\\u002fL7dxz6\\u002f4i\\u002flvr90ab9S4Du\\u002f8+WTvxRMOr8rmYi\\u002f2pXqvoaXrb9DLmG\\u002fVt8yvxx5lL+Zv0a\\u002fB4hcv6jpsr\\u002faLn2\\u002fdgACvgmxor85Ujq\\u002frr3dv9E0R78q0IG\\u002f9ZyKv2Jp4r88LIW\\u002fnWtIvxcLq7+6lgDAxjzNv4zzlb9s0i2\\u002fAUI4vz4l678WYse\\u002f16x8vymu975e7aK\\u002fl1+3vi70S7+lKu6\\u002fPFt0vj0\\u002fr7+jN+S\\u002fuH6Bv\\u002fNeKr8qtvG\\u002fg328vlk7xr\\u002fVqKy\\u002f\\u002feErv88yN79mYF2\\u002f11Ftv5GHir+Sn1W\\u002fi7bFv+jj3b\\u002f3wATA98nvvosfT76cPWm\\u002ffbKKv418RL86awW\\u002fo4cjv9\\u002f3YL8+55a\\u002fRipav1ZqXb+9jl2\\u002fROI4vzPwpL\\u002fcXw3AvZiWv1xlZb99NU+\\u002fel0fv99\\u002fj77iDhm\\u002fBubVv3j6Ub94OFC\\u002fHlSiv1lPHr+ytsi\\u002fZbpWvkvPRb8MsZa\\u002fM\\u002fddv6gpnr9aWJG\\u002fTEHQv\\u002fscNr\\u002fUcdq\\u002f\\u002fWyXv9\\u002fnm7+yCyq\\u002fPoGbv3sqm7+7ywu\\u002fF6Iyv8ngMb8OY36\\u002fANliv63lXL9ulA+\\u002f2\\u002f8Yv8l9wb8gdjO+oLouv8dJUL7pND+\\u002fTnMLv9V5l7\\u002f0Pme\\u002fdlVNvxEpvL44ulu\\u002fDIw\\u002fvz5P1b8lcCm\\u002fx6M1v0wgtr8fe\\u002fm\\u002fTe25v1eHDr+iSUq\\u002f0wCPvso32L8KJvC\\u002faD7wv1Zxtr\\u002fhu3a\\u002fbTiav\\u002fPRnr\\u002fbhaa\\u002fCHOjv5U+lb856Ru\\u002fsVtcv+JNuL9t8FG\\u002fA2C1v0C+Vr8HKAO\\u002f7g3wv+jeeb9VoGi\\u002fFbOSv0k7VL+eyTi++4iEv9Zc876\\u002fh9u\\u002fpzffv9IAlb9drBq\\u002fIqWAv9sQn7\\u002fk7+u+9dFTv7R\\u002fT7+vYMO+qJscv6ShWr\\u002fabSq\\u002fm7HivtWPwr9t2b2+a0yAv6soVb8vbl+\\u002fRJ24vystO79xKtG\\u002fUBnGv+RIJr\\u002fbNji\\u002fh4Oav1ryIL\\u002fyg3K\\u002fyEKPv6gvF7\\u002fj7pC+0bLlv1XA5r538Ju\\u002f3lOAv5vgtr8E35S\\u002ffzt7v4Rnvb8+xTK\\u002fGmiNv+vg7L6FzHK\\u002fsuIIv0BNbb8t\\u002fqi\\u002fw+gwv3STor4aInK\\u002fGwOZvo\\u002f8xb3pStK\\u002fFIJTvlldu78srLG\\u002fpPW1vj2por8=\"},\"type\":\"scatter3d\"},{\"marker\":{\"color\":\"lightgreen\",\"opacity\":0.8,\"size\":1.5},\"mode\":\"markers\",\"name\":\"[Real] Drivable Vegetation\",\"x\":{\"dtype\":\"f4\",\"bdata\":\"uCikvzCq3j0qgXm\\u002fQ65nv0lTpr\\u002f1poK\\u002fWwfBv+HiRj1QOqM9VNABv1NU6L4AH9i\\u002fSubhvW4D\\u002fr+5he89fsECwPeRg7+g2pG+a7qsvzCt4742OCq\\u002f320HwDFS279ob\\u002f2\\u002fIkmNvw5owL\\u002fbVwNAgB\\u002fTPMQgvL+rFfU8JDzPvxDRpb1buCi98AvgvXNM274x43m\\u002frkAGQGaYpL9yvy09j6uIv77rw721vFi\\u002fbMmevVJgA0DnD1C\\u002f4xzSv5L2x76vinm\\u002fAOWnv\\u002fIjYTwho6q+7PlFvyOOMb\\u002f1zS+\\u002fJcZAPY+IVr8bqtm\\u002fR856vo5MHr2jUIe\\u002fLc3bv9\\u002fMBb5oNJi\\u002f0bAAvwwKD7+gcbi\\u002faym5vhiPFr8liO+\\u002ft2qsv5zZAUAID7O\\u002fI0suvws1Lr8=\"},\"y\":{\"dtype\":\"f4\",\"bdata\":\"BA4BP6KZuD+6e+o\\u002f91JwP16F6T68xOw\\u002fNvSyvieIQj90xw8\\u002f7BHNPumkkT8TY3w\\u002fW1mMP8370r7Nw28\\u002f6tAyv6390T4eDko\\u002faQPOPm3hRj9TgRI\\u002fDhMVP0bhyr7rjcC+qKeHP0PNtL73LkY8O5JEP2xQWz\\u002f6zLE\\u002fyNJDP\\u002f9SdT9oqEc\\u002fuVBzP+7bkT+i600\\u002fzQi6Phvho77\\u002fTHM\\u002fUwONvuj+IT\\u002fckwg\\u002fRj0hP6J4hL0lECQ\\u002fZVlPPwcGkj8zfYo\\u002fTvMjP\\u002f09Gj+MmhU\\u002ffxtEP+Sl7D6z+QM\\u002fcqhDP2LHCj8qpkq+KpcfP+7sRz\\u002ff5JS+crtzPySfIj9nsEc\\u002fs5bPPrUUaD+f3IA\\u002fuCySP+MkhD9gGQA\\u002fCpdmvmtRTD6Gepm9pTXcPi2HBj8=\"},\"z\":{\"dtype\":\"f4\",\"bdata\":\"nwjRv4W3DcDrwjfAnZAGwCN20b9MNSXAi8LqvxbQ2L\\u002foB8G\\u002fiUXMv4SK2L+PHA\\u002fAVb7lv\\u002fLb\\u002f794OOm\\u002fnof4v95V2L+5cem\\u002fS5fYvwaK+79ZKu+\\u002fmUjpv4Si8b+PUv2\\u002fiw8MwPI\\u002f6r8h8Yu90mjav2XZCMBpAAbAk+7\\u002fv\\u002feP6L+dI9y\\u002f3dHlv+wq17+kRwDADjObvbju4L94OOm\\u002fBRnUvymD17\\u002fvS+O\\u002fngDWvx\\u002fYLDrqt+2\\u002fq5EDwDMR1b+1BQTAt6Xgv2HGzL9PXdq\\u002f+QQAwAUz378sP+i\\u002f4oravyxP4r8NbuS\\u002fWo3dv9ur3L\\u002f52tO\\u002f0L8PwJCG2b+BFvy\\u002fsMTLv8Iv\\u002fb9oFg\\u002fAm7HTv8qX8r\\u002f0euO\\u002fSe3jv94DyL3NWuS\\u002fMrDUv0qD6L8=\"},\"type\":\"scatter3d\"},{\"marker\":{\"color\":\"darkgreen\",\"opacity\":0.8,\"size\":1.5},\"mode\":\"markers\",\"name\":\"[Real] Non Drivable Vegetation\",\"x\":{\"dtype\":\"f4\",\"bdata\":\"G3p7v7LnVb+SpVS\\u002fx3GGvzp3nr9yM5y\\u002fpHuZv5y1nL4GqJi\\u002fb+8lv\\u002fatBL+ZlW2\\u002f5o+Lv8ZvVL5CwQpAfZUmvzmMo79jkoa\\u002fuUKav22cLr6UTYK\\u002fNmVyviF3iz7W7ZO\\u002fAJalvyu1sr84So6\\u002fBHSyv97Nrb96rbO\\u002fbWhuv3TYhb8NgCy+tM8wvsQLVb4s+2S\\u002fKvfivvgHfz\\u002fOxna+7xCkvwT2l78porq\\u002fs32Fv7p6qb\\u002fX13K+SM2Sv8urRL\\u002fG75+\\u002fhRaivwhIhb4R7ku+WAW+v5zGVr5zOYC\\u002fP9zTvvfWnz1lY0+\\u002f+n23vyP13b2H0qS\\u002f1y1yv59SlL8AtZ+\\u002f5YNivhrer7+ZB26+ZTcyv\\u002f2YDr8IAmC+S+jsv84dt7\\u002fLX62\\u002fTCCev+wwjr98lje\\u002fqxxEv8jPpL88NOK\\u002fYbTdv9ncur+IhIy\\u002fAURIvlVkNb9Yl5G\\u002fGcKJv5Zepb8xt8G\\u002fl5+Vv91cj7\\u002foIIC\\u002fOIqyvSNHtb9b7V6+tDiSv+7fnb\\u002fIV5M9uT6nv3D6ob9qqHu+z\\u002fLIv0jLWb8dNwdAT0KRv\\u002fx0F77CHpm\\u002fp2CFvo3Ojb+HLgZAjiGYv3y3g7\\u002fQkpO\\u002fL0OAv+d7lr9d2HK\\u002fgeP5vm1pZ75WkqS+HtmUv\\u002fUYX78+apC\\u002fxhMIQAUNkL+YD6++kmoHQGd3K755p4c\\u002fR02iv\\u002fRLpr9Kvw2\\u002fSJC6vyo8a76A4pu\\u002fqMuovBNQnb+xH5y\\u002frp+ivxcnT74nYARA8T6Wv0d6bb5Cv2s\\u002fOr2mvy5Uer5W2wa\\u002fzPMFQEc5gb9BtghAHN22vhNUy79GjSa\\u002fz\\u002fXCv2Q8BUAi2oS+gDhmPxB+mr9h7Ai\\u002f2UOtvw\\u002f2Sb4yPKm\\u002fevihv0UBs78\\u002ftVG+Li1ev\\u002fJcmb+v5Ze\\u002f4njNv4Ivor\\u002f00IC+m6mkv\\u002f+6cr4iEF++Iuijv2lrib+\\u002fMH8\\u002fKPVGvkgSbL7kc6m\\u002fVgSkvnJLo76YlFc\\u002fcjH0vshpgb93FoW\\u002fAUBKvgb8hr9m64O\\u002ftkyqvwgFR762G6a\\u002fGMvFv9paqr9zhnu+mHRZv+z9e7+p7W4\\u002fjKZOv2lbo79ndoC+xS52vtj+jDyas92\\u002feoi4vl15jL8E1C+\\u002fFimhv4xlh79CO66\\u002fTNyhvyNfe7\\u002fuGJ6\\u002fYuGlv+pYB0Ba5jG\\u002fxoVzP6omB0Dm92a\\u002fOGREvAYOm7+LRam\\u002fzWKOv7wbsr+xAGo\\u002f\\u002fDoCv9XjWb6diam9pKi+vywgC0BSZSK+g4EHQGRCBUDkVIS+wJ9RPxr7Ab9DBU6+Ngyov1Y5g7+GnrK+2EYFQFb2BkDV4ES\\u002f3XIIQNVQpb+KyNg8392VvQETRr++XLC+6\\u002fGcv75up78CYjC9WHhVv5j7sb\\u002fpx5+\\u002f2viAP1rJQr\\u002f4hLW9+pgyvxSwo78L4sW\\u002f9SzTv\\u002f8d1L5oHzK+yN+kv5HkeL9AVK6\\u002fSZAGQBxh0r9x802+1X+lvnLmh78O4qq\\u002f5mibv91JVb9UpIa\\u002f0q2Xv2YDfD\\u002fQH2a+YKSOv83VXD+asAK\\u002fENY6v3VrVb7ElANAcAS2v4Jbq79j44u9tWWbv0F\\u002fm769MSy\\u002fPbSCv365i7\\u002f72ka\\u002fBxyBP6tDr780eIS\\u002fZWWLvzhJAr8QPlC\\u002fzQlwvsxkBEBS+ii+lNhQvqmyFb5hdrG\\u002f\\u002fZxGvzEepr+ZPHO+NaOSv3pjar9fhIa\\u002fi4g2v4dTgL6s0a+\\u002fgKiMv5MNkb75pqW\\u002f0jEHQDbQYr5ac5q\\u002fv1haP7bcvr9LeiS\\u002f17vJv6jvSL69XlG\\u002fTwHRv\\u002fPwl7+lSmi\\u002fo0uFvr3esL+JTVm\\u002fzLWVvlWmjD9O\\u002fNS\\u002fIK99v52hgL8OVo2\\u002fFVamv1oJf7\\u002fSPQRA1FR+v1jbbL4hF5O\\u002fmpsJQBBFBUClfYa+j0ehv0J0j7+BoZi9HE8yvvhTsr8FHYO\\u002f2LSlv6qFdL54uGC\\u002f8+9lPyv8bL6lf1m\\u002f\\u002fNqmvyGdkr7D31G\\u002foIOjv028nL8jEYm\\u002fH9tMvzg1gb+l97i\\u002fmWEWvuL4or5rjnG+SauOv7MVr7+zW5O\\u002fNMlZvsReYj1RIQZAZoFcv9vXA0COBE6+xBCovxfkPL+AGIu+Qb2QvqNZVj\\u002fK4qW\\u002fWalsP0ou\\u002fj\\u002fpNH+\\u002fUxCjv1GOI7+vkIc7xWKePWDYmr8CyJS\\u002fHmBUvj1KvL\\u002fxwmS+kBHGv5wtBEBL21m+U61Cv9BTdr6ER+u9J+gFQPIujL8KTLS\\u002fYkh5vqYnM76jjgNAngCyv0sVUr6fAnC\\u002fEH+IvrKbbr+bP7C\\u002f9nC5v9KWqr\\u002fCyjq+iXGov51OhL\\u002fHoZi\\u002fg5uPv3x8qL9RrYq\\u002fBRyJv6E13r9nsO2\\u002fDPOpv13Ng74vRVI9d4hyv8TcBUBfr5S\\u002fjHsHQOnQb7\\u002fbMmq+wGTdP0KIXT9UdZy\\u002fZBqhv3t7er7ABXy\\u002fP+Xcv7Tbr75A8NG\\u002fjPmlvrmYrr\\u002fGFMC\\u002fcymzvwbIeL9GZo69Vb5vvkLUmr\\u002fgLYO\\u002f5vJHv\\u002fYHTL4ypKS\\u002fbqGUv9dLyj3HAG6\\u002fZuRIvtSfw7\\u002f6dKO\\u002fXyVHvzY4KL9HZ4m\\u002fnj2bv9xEhb+BiYe\\u002f2CdrPwZyfr4LZ56\\u002f2zu8vkmFgL5P+oG+8o+AvhHt0L\\u002fPdmq+lD+LvzXfcT8VsH6++9UGQNQItr+O+Mu\\u002fDzRyvyYLdz8aZUe+QKu\\u002fv9hZZj8jk5G\\u002fdlyAv0nmib8m94Q\\u002fRF3iv3Ynsb+wGLq\\u002fVyx2P5iDgr85hpe\\u002fEpBSPx8vhD8OnFO\\u002fgIyYvzzg4r8tJ1W\\u002f2rqQvzJVhj9TPj6+56GQv1BVpb8m6TK\\u002f19dhv94elL\\u002f6+gFAKdBRP+jKCkALlIi\\u002fpSh0vr4vn79QrKq\\u002ffa8HQMjjjL\\u002f4jaO\\u002fB9CFvyW5OL5rP3E\\u002fdGIHQG13pL+4FwZAXp0mv\\u002f1rsb+0Y048iiSXvxxrkL\\u002ffH4S\\u002fd7kwPSMJRb+E00G+en2Nv6PRt7+w12++wtDPv6s7wr8zRj+\\u002f8nJ8PwqYur6QZVK\\u002fpYWFv0Hiqr9JhYy\\u002fx+Shv1fMW78Bc66\\u002fQ2hrvvzAtL84s1E\\u002f2q2Tvm0VRL6OuIS+qnGNvj1pZT9P3QRA8hwkv5C4pr+CFQVAhkafv4pgB0BOtMW\\u002feIe9v9vAFb+CGQhAvSiDvmCeqL+Lo7W\\u002fGJp3P7y6lL\\u002fzDbi\\u002feZuqv3m+qb+u7bG\\u002fEaS2v07hgD8M5ei\\u002fzKC4vocgx7\\u002fNb6C\\u002fUtBVv5U097+pfcG+GT7Av\\u002fYlpL+eza2\\u002fhmMGQM4OZ753QIG\\u002f\\u002fe\\u002fSv8rVKj1CUrO\\u002fo\\u002fACQJWfwb\\u002frOGS+Z4Wrv0Cdjb9GC7i\\u002f1xmvv6S8Sb\\u002fIrFm\\u002f56Fmvvytor9AmNy\\u002f3KOkvyuZ0r+1E7K\\u002fCHGavzgX0L8Bu5+\\u002fLnC4vwXvNb9e0oi\\u002fHGyqv9QuQ7+jM5K\\u002fsDJ5v39kor8Ug3o\\u002fzTpsv\\u002f7krr+bGZu\\u002fWKefv5g2mL8B4Ie\\u002f50FOvtzrfb6bzpm\\u002fb7WMvxhoyr+EHoO\\u002fyXF8v19SzL8KRWG+Edlnvy6Yjr\\u002flCqC\\u002fuJq7vxUeXb60P8i\\u002fiUn5P7eDgj8eJoG\\u002fSFB5v99DUz8Z1nk\\u002fmfy8v6ScCUB+8qa\\u002fIB9xP60vhr8PnZK\\u002f4c4HQBCvjb4\\u002fa2k\\u002fSUqnv4xUU7+6M6i\\u002fFeQjv7jfaT9xnJu\\u002fW9eAvuCBub+BOgdAWziwv+C8Ur4iwKy\\u002fLZibvjSui79JWZC\\u002f8xa3v\\u002fSvz77s3Jy\\u002fLI82v8xUw77DN0G+bCSKv1sokL+TJKS\\u002fEEhVv\\u002ftPfj\\u002fAeHW+rUdmv5s0ob+Bwlo\\u002fB2anv0u1Ur7inAdAv\\u002fVWvkTnhb\\u002fR0whAR4jJv8FJB0AwO4W\\u002fDq2WvwbReL45Jne\\u002fyFimvwFujL\\u002fFJMW\\u002fa4+7vzUGrb9rUpW\\u002fUloKQGfHB0C\\u002f16a\\u002fhyXOv5whtr6vn6y\\u002fIaYBvwnejb8NvIO+Nf1EviQgkr8P+04\\u002fFNxwv9W25r5\\u002fXAq\\u002fA++hvxRyh7\\u002fXU1m\\u002fKernvmmCmr8pBI6+rPJxv5F0ir8Ni5O\\u002fVxWLv\\u002fUhqr8tP3S+dQ9lv4Wmgr99MpK\\u002f9nfLv6eWtr7ZF6a\\u002fhrSkv4mAML7qJp2\\u002ft5VZvru2fr+uusG+muKiv8qUBUAqQ7i\\u002frpumv6b+q786f0y\\u002ff6qlvywgQ75\\u002feZ2\\u002fSuKiv2eIVb4USza\\u002fAF3Kvt6qj78yvK6\\u002fYO6xv4kGpL7cRp6\\u002fR7bIv2MTl78J+L6\\u002fQ9HNvrpAlb8gUKO\\u002fVOOyvxJVAEBHI0S\\u002fauVyv7iRZb6lMoC+\\u002f1uVv4Jcg79Ou7O+wXKEPoPoer5lrLu\\u002fcLiDP9DElr\\u002f3+r6\\u002fSUZlvjltaL+Oami+GJSXvUQLJr5Rh6a\\u002ftzCmv5Cb9r\\u002fqw4O\\u002fn5o0v0keZT8NMTi+jBaGv0\\u002fFpr9Xqsm+bdegv3ieBUBNbJW\\u002fRO5QvwtMmb9Aqv4\\u002f99vwvmCeP7+bsz2+NCVRvtr9Q7\\u002fmmqG\\u002fR4KGvzQ6Wb7qpZy\\u002fg1t2v9NiQ75fTpe\\u002fBahcvp1unb\\u002fRaJu+fcyRv+udlr9gYYO\\u002f+bkDQIj+0r6x3p6\\u002fVcxuvlIxUz9jIci\\u002fWt0wvhnPm79OZZi\\u002fucGXv7PI4j+k5wZAbiakvzCIy7\\u002fHdJi\\u002fA6Szv4yufr\\u002fROGm\\u002fx\\u002fwzvwpzBEBlpau\\u002fuNaxv71wlr3uXAdA8RCBv0hnz7+H7fG9ucSUvzMefj\\u002fcqwVAmgObvxJsdL\\u002f3nWq\\u002fW0XxvnWFmL9KjHW+2ZZZvpE3TL6fa4G\\u002f8yBvv9a3qL9B6r+\\u002f3ylfv9KplL8XkI2+QiGivpxYsr9iw86\\u002fC7ZZv9wPm7\\u002fDdue\\u002fZKGrvwvPpr9Yx6a\\u002fYGc5v\\u002ffI4L+3MLy+hvdSPS6Np79vIA4+Qx7Zv52jpb8qWjC+UI4HQFZ8+z8\\u002fM5G\\u002fTu8mvpfUGL7sWwpAIY63vlHI+L6qHIa\\u002fI+mGv\\u002fbusb9e0YS\\u002fsOa0v4W2db8i53K\\u002fjgOwvvFRJ79ZXHm\\u002fAitCvq0I8j8qTnS\\u002fnTSLv49sIr4ROVi\\u002fkRtdvqNdZT93CZ2\\u002fP5h5P9ZGor89TQVA6zwlPFaOqb9XsJG\\u002fUhDnvlQtA0AOWZe\\u002faqwlvmofo78Bty2+\\u002fUjQvuawI763qoG\\u002f3ZSUv4O007+4CqO\\u002fV8PSv4CXp78vhYS\\u002fg9NjPxGGnr8y77C\\u002f9fYGQDjAlr+mLXQ\\u002feDm3v88Avr8fyY+\\u002fV7ZavyfypL\\u002f\\u002ffzC\\u002fTtZevxqeZ7\\u002ffa9K\\u002fTyt7v6Y6lL1roGa\\u002fXGUZvrVEBkCZ+Z+\\u002fClhgvqLxpr\\u002fWbJq\\u002fePtuvoaEd76sOKC\\u002fPBuDv0+Lrr\\u002f2s5K\\u002f3zpSvmiGsb+XfHE\\u002fhq2lv+Fk278zUy2+kIKev9Ixbb57pAdACFCbv2hCgL4ksWG\\u002fdqGZvw5Wqb8cdqy\\u002f5MOpv7WszL6KTY++u3+dvycKCUBROZe\\u002faxCmv5HIVb5jQYm\\u002f75\\u002fMv918pL\\u002fm96q\\u002fm0+Tv9T\\u002ftr+GvYy\\u002fQfgfvwaIYr9YREy+Vnmsvywnk7+MioC\\u002f\\u002fd6EvkSUTL4sDGi+FaKSvm4chL1IhYe\\u002ftbC1vyRhmb87p4K\\u002fQTqav4Jgqb8cgrS+ymslv4A\\u002fir8teLW+\\u002fXBUvwX5rb+w\\u002fVa+OzChv6Cvgb4bci6+iYmzv7gUg78gGEy+hAqVv\\u002fh90L8564e+z7Grv7CCd776f3W+PMK7v\\u002fyeTr\\u002fH36G\\u002f4oWpv7crYL78sUO+HBWkv+A+oL+EwMK9P0Szv4RIk79OCGu+73tUv9R\\u002fk7+7doC+XkWFvpsXl77IIpK\\u002fKseav5SOtb80uFa\\u002fhjp1P6z1pb8\\u002fQLS\\u002fDZegv5j\\u002fhL+6bwJAbtmUv6Buwr95qZW\\u002fqmJlv3GMv77ZTUO+LDCXvrAqhb\\u002faHYW\\u002frxG6vn\\u002f7m7+TSIa\\u002fW9tJPaNxuL1UMIa+8aRHv\\u002fMPKr6MsGU\\u002fOea3v\\u002foh4r8PDHC+xr2zv0Koib9fnZu\\u002f3z1lPxfXiL8H5KW\\u002fCkKCvwhICEDw0p6\\u002f7kMJQPwAxr9vR7u+m9Pcv+k4Tr\\u002fY19s\\u002f\\u002fjajv39j1L+u3by\\u002f7baYv4GXNr8MYLu\\u002fqsVZvqOBSb7rD269aXF5vyaJZT8WjjO\\u002fMgHLv0nnk78IKlq\\u002fh4Crv1h4gL8EItq\\u002fFawMvpI8sr+Y33o\\u002fy+dWvt3ZgL+BrOa9wZhrP+ScUr47Tg2+ysCAv\\u002fCyXz+HK8e\\u002fYOWxv5VpfL\\u002fgY2y++\\u002fGFvzsqZr5zhIS\\u002fUSpsP3SmtL+TiKS\\u002fiSK+vVOfhr8fWcK\\u002fopKEv3gvsL\\u002f4MKK\\u002fFwh+vjOLb77HZpi\\u002f76OzvwYNhz+Ftv6+P4LHvwucrr8ecai\\u002fWJGHv8\\u002fpnL9NV66\\u002fhFYuvpUtqL\\u002fjdWy\\u002f8rqsv+Zy1r+x+6S\\u002fVTS8v6TlgT+IXoa\\u002fwB2Jv1PxJb4bqc2\\u002f3CKev8NsqL+w97K\\u002fzMS0vyeHWb4VuP29PqYHQPpNeD+W74M\\u002f+FRSv0CZi79mypG\\u002fFJhcv0zxAkB7i7G\\u002fBBmpvyiLUb6YdVa\\u002fqMaJv0H5sL+D96O\\u002f6\\u002fwOvkkAib\\u002fCyKe\\u002fjSk3vzLoJb5WWVY\\u002fim4IQDtBjb\\u002fhVJO\\u002fgC83vo0gnr+3XFC\\u002fdjFEvqANfL6424+\\u002fr6uiv3NXoL+y1kC+lgCGvgLzjL+WoYC\\u002fJcUHQMZGy79BwKG\\u002fCZVEvjCFEb7784o\\u002fnXudv6mkm79oQL6\\u002fTWyZv\\u002fVHnL8iN5+\\u002fCmNwP\\u002ftxEL8ppAZAk82UvyeflL+MYbS\\u002fl3C2v9irob9egrE9iIgfv+TXo78fk7W\\u002fnG5SvmkzBEARSZO\\u002fug4JQJlYlL\\u002fxuQNAVUgDQKSpcL\\u002fm55y\\u002f7Gimv286pr9v+6W\\u002fRqqBvl+wp78UHK2\\u002fpjDQv9vZn7+oq2q9RE1hP+fMob+CBEa+WMJtvzGwI77NBZ+\\u002feKMGQMxVVr6wTba+mIiEv\\u002fO6B0Ci+1G+Hf+Nvz1jJL\\u002fpgr2\\u002fkFmFv0rYAkCutYG+RCGXvz2yBUAKeJS\\u002fCTmFv+CbEr+Zheu+A++Nv0zfP76px66\\u002f+AqHvtUMsr+MaWM90gFdP6d1pr8qjIK\\u002fzYFYP47Twb+pbYC\\u002fZHi1v5Bqvr\\u002fE1Vs\\u002fGAiXv9NDj79dK1i\\u002fxHWovwykY77gk2S+kPAjv\\u002fXSt79faVK\\u002fjm+svyNPZb73YFy+pgmdvyCDZL6Ec1O\\u002fvFeGPyTxob9ueKC\\u002fpR2wv0d4Qr5XxoC\\u002foV5kvy8Gpb82PAO+KafEv6TJab6+nAhAYqSUv9MLB0AYkZu\\u002ffhMov457nb9M9YO+7UCRvyQ2sr\\u002fh1Gq9zKhfPydbcz+POIU\\u002fQKyVv7eol7\\u002fyW5i\\u002fyP6ovl6Olj1rIvs8p6g1v4GYU7+hwYY\\u002f5HsIQPebCEDI\\u002fEu+Z5OEv+jBj73TQFa\\u002fkU+Uvhc21j9TyHu+PyBRvyDwnr83Loa\\u002foDafv\\u002fvoB0DsAdC+WnepvwxpZb5zXnw\\u002fopmGP0uE\\u002fr4+ebu+YqBlP8iFCEA1gmA\\u002fAIq0vy8LPb+guO6\\u002fNt+jv7yp5b\\u002f4nJK\\u002fS6MjvWcStb8tfaG\\u002fhw2uv0dcv79VD5u\\u002f8B2lv7Ewaj\\u002fYKm6\\u002fkNdcvsXis7\\u002fHeDm+JQ1wvo6Qez\\u002fQYpu\\u002f9HF5P3F3gL6jHXm+pzh9vkzDub73UZy\\u002f43IRv7r8cL83uu2+vhCBv6yDbT8dZ46\\u002fVB6Gv5M9zL7qCna\\u002fEJKUv5Jzw78wLZO\\u002fiVHBv1wIoL+JJbq\\u002ff0mPvwb+U78MK4O\\u002fgXaev3M8fz9uP32\\u002fgCH2v2CBob9zCYW\\u002f4pmVv0jHSr\\u002f3NJG\\u002fPgSRv4MmrL\\u002fW+lK+2nNTvwYzpr\\u002fONd+\\u002fc2Cvv3iNCUB0Eae\\u002fNMtJvsu6ZT\\u002fAEZy\\u002f7kGlv2xjX78au6m+sJucv9Hvqr8hyUa\\u002fvgy0vxSc8T8EWZ6\\u002f0uinv9IXmb8Y046\\u002fmh\\u002fDu5ckpr9MFVe\\u002f97S3vlvSmL\\u002fN+7W\\u002fbKwLvsTvlr8QYrG\\u002fxAWDPXLZnL8=\"},\"y\":{\"dtype\":\"f4\",\"bdata\":\"53JRP2fmpj\\u002f\\u002fZZI\\u002fGykAv7A8oT8FxP++y8TOP909TD\\u002febBu\\u002fxKbAPx\\u002frqj\\u002fFUu0\\u002f5iFwPwLzQz\\u002f6NEq8QLXAP9hwMT\\u002f1+Jc\\u002fQD6BvztMOz8l4G+\\u002f445DP+vHsD\\u002fXhLg\\u002fl6fVvgx\\u002fB7+f6\\u002fI\\u002fhK\\u002f1vpgCnL847t6+vA6Dv8yumj9TRJY\\u002f+IKWP6IYkD92wI8\\u002fiGckPyVrqL7800M\\u002fTBiWP5glbr+dsC+\\u002fF6T+P24Jor7CA0Q\\u002f2js\\u002fvxjHpj+xujY\\u002fiv8wP9XPRz\\u002fSbo8\\u002fv9aAP00MRD\\u002f504G\\u002fguUmP8QP8z8vJpU\\u002fseGVv9O3ID+al52\\u002fRvCNPzHpLT8CJja\\u002fzgePP\\u002fZgVr\\u002f6SkQ\\u002fWDu7P6B4Gz98J48\\u002flbsQv2SLhj+6bpy\\u002fCzMgv2lBGL9tb8M\\u002fxnKKP1vz6b5Q6CO\\u002f1qWIv4QppT9XGpA\\u002fGxZGPyOiej9j1PC+2DY1PzZ+HL+sVGs\\u002f\\u002fwgmv6RYjj\\u002f9cpo\\u002fz+o2P0sA7r7egkQ\\u002fByUcvy8BVL+B4\\u002fM\\u002ff7Ujv\\u002fGFkr\\u002fjUUQ\\u002flYw2v0fhpz9FEli+WUuHPwnCKT9MDsS\\u002fVEJDP5pXSj9DfCa9wjKDv49P9j\\u002f+6+y+HKGfP9FEzj+OWYW\\u002f3pqrPwReMj+edU4\\u002fG9Qpv9+byj8Hmu6+5maqPvsODb8L0xY\\u002fOD1UvrbLNT+KSbS+lNcgvxinF7+swh4\\u002fBLgpvzLMfz9WEzU\\u002fGO3zP60gIj+EUoa\\u002fmKCMvlPRRT9+ULO+pAjaP2zajz9d9fS+aE69vn4Gjz8nlx8\\u002fvyuJvdVGhD8jYT8+3rUnP2g4l7++L7A\\u002f6+1nPwn\\u002fqb7wmkE\\u002fA8ijvhdUsz8fsLM\\u002fgeqTP8OzwT8KEbk\\u002fwGvovoh5X7+CvkQ\\u002fDMxxP4iQYD9V8TQ\\u002fGnYrv8etMD8T9UE\\u002fjcyGv3RoQz90UUg\\u002fD3qXv3kBOz9JaeS+BlY3P2b3RT94zRm\\u002fsPEVP3D+SD\\u002fy37a+JbS2P4NR8j+pNHA\\u002feGqRP+64\\u002fT8v56M\\u002fbP4Zv2cESj9zUZo\\u002fep5Bv0Uqfj8rMUQ\\u002fhKqRP3IiA0BxOfO+PmGQP6FUlT+7AUA\\u002f4WdCP6Fj8D+WOs++38FJP59KgD+HTsc\\u002fMEqUP1lPaj8J5G6\\u002fvsN2Px+6nT\\u002fz3ps\\u002f2\\u002ffbvo9QET3dwMQ\\u002fawX\\u002fvuwyjLxDF2e\\u002fOXTuPw9Xkr86VPI\\u002f77ksvz5CXb8DGbO+oVXDP3\\u002fFQz+euzc\\u002fhBO+vjyTWj7Rzpk\\u002f+jykPusG0b7Q1T0\\u002fVpHhvnTQwj85akU\\u002f\\u002fri\\u002fvmvUwj\\u002fpqiM\\u002f73hSvortpj0A7bk\\u002fJsgwPvmlmr9YjPQ\\u002fDSk6P7Q2pj\\u002fLYU8\\u002fcKJhP2BaJr8F2DY\\u002f7hmKP5935b4bvVq\\u002fVF6\\u002fvmOZvD\\u002ftnTY\\u002fb56AP8Wz6z9MW0m\\u002fP6CWv9DTKD9UWSI\\u002fnjdGv+lQWr\\u002flm58\\u002f+yWwPnK8nL\\u002fXlY8\\u002fPKUrP0jw\\u002fL6dfoY\\u002fWVLyP444kj9d96k\\u002fg6ttv607tb7IakM\\u002f3U84P9+68L4l6Rs\\u002fGk\\u002fFP1sdjz9og4C+QkJ8v0gMkD9EFjY\\u002fteqFvwPQTD86Urc\\u002fLr1UPwxtI7\\u002fzQ70\\u002fEDDJvhRE774+dfE\\u002fE1trvx6sGj+PapM\\u002ftT1DP1NtX75NLEc\\u002ffNVFPyuNID8uu70\\u002f\\u002fI2MPyyQ5L7sjUM\\u002fa\\u002fcnv10SYD\\u002fITHM\\u002fhwXFP8llQz8gF44\\u002f0+fMP5\\u002frNj96CJI\\u002fbr0\\u002fPs1ckD9rvZS\\u002fhQ+7vqiVIb+ZEsA\\u002fkr2oP74voT8pQ5E\\u002fWWH+vpAdmT80eI0\\u002fV608P7mTkL88XZA\\u002fB0M\\u002fP3qStL6Lanm\\u002fA2eYP1Tniz\\u002fWG48\\u002fH\\u002fcfv+McnD8Njs++5zBOv8nCRT\\u002fwHia\\u002f7052PoWQwL5s\\u002fEk\\u002fxZaYP3gE7r7djjc\\u002ftAaKPx\\u002fRkL\\u002fAn44\\u002f+WCBv5CikD+5FZU\\u002f\\u002fta7vtY1RD93bJE\\u002fsKGnv9tiQD++P5M\\u002fjweRv6m37r6bBfc\\u002fiMWWPxaPc7\\u002fVLoo\\u002f1EMvP+Y1Zj9bkEM\\u002fvXH4vl9lt75JMpY\\u002fIfeOPwIt9z93aO49v9JvP55es74sppI\\u002fEL2UP8lzcz9c3Eo\\u002fXLk2P4qs076DVi8\\u002fhm3wvkoxAD7zypo\\u002f7UBqP6neEj9hqvM\\u002fDJv1P5EsHL9aWnI\\u002fpx9IP41yAL\\u002flOZA\\u002frHaLv9Ydn74MCY8\\u002fPI\\u002fPP+QaRD\\u002f0jhk\\u002feBIJP\\u002f7P5b6ra5c\\u002fpdhCP1GjKj+BFeG9jb9dv9EzRj8QLo0\\u002fTwxLPyBEZb+BDgq\\u002fcOCxPwf9fz+Ktys\\u002fm+qtP92YqD9Utp0\\u002fGEeOP2bo0T9MB2E\\u002fG\\u002fvfP9YLEL++fF2\\u002fGX2JP+C+Qj877PY\\u002f0Dz4P0Js6L2L2Pu+EGMLPsZgST\\u002f4eo8\\u002fatSEPpz08L4bJJO\\u002fKDojPwgwQz83FlC\\u002fKNIqv+gsdD+eVJq\\u002fMSJOPy9LlT+Q4pa\\u002fiseUPw7c8T\\u002fBQTg\\u002ft\\u002f+PP5XgOD8h0fg\\u002f3kWnPwhYwD9mEy4\\u002fcACJP4aH+T+WzpQ\\u002fqMlIP2bNkT+cfZ4\\u002f+JqtPy+3vz+UyGc\\u002fnEqgP93KUT8He3M\\u002fCbWevmAiQj9on0C\\u002fM7gnP31JRj9oTEM\\u002f7ixEPyvvnb+1L0M\\u002fCsfqvsXX577o80M\\u002f5TwdPnKOeT9QPpC\\u002fQQ+LPxYZ3r7bv0Y\\u002fmHd4P\\u002fBqnb7NUNY\\u002fo2Buvx\\u002fdZD+AHLG+fkYZvy4J9r4cFpq\\u002fnB+dvhAzQT\\u002fxZp0\\u002fOw\\u002fHvu4jqr5Hq50\\u002fFbZMP8NcHb\\u002fa55E\\u002f7J\\u002f1P3sixL505jc\\u002fSSXwvp+Q8r71Jag\\u002fPUqPPwGhWT8hucs+RQ3cvnZgmj7l4pc\\u002f4cBDP5JiEr\\u002fbmC8\\u002f5dj4PRzDSj\\u002fwrjS\\u002fTYajPwoZkz+2dZW+1HhwvXFvG7+zo70+VOzAPz\\u002fRib8iLPU\\u002f8BY4P1pFYT8VPWI\\u002f8Ej6P4TLiD8Jl0g\\u002fcr8qv4gFyb4M0DM\\u002fgSWNvwoO677Hnog\\u002f1NunvqpCJT8eNl4\\u002fZRo2PyONfj+hvJA\\u002f\\u002fFJEP1mkgz9tRT8\\u002fUd+PP5tHC7+HzMO+1ShIP3B\\u002fQT9mZUM\\u002firVHP+FFDb8F9qq+rh3fP81cvz95W6a+jHI+PygtUz5IIUe\\u002f8sGbv4iozj8UXzQ+2d+PP35Vob52Nwq\\u002fBDbgvv1llD9yO+G+EEe7Pyi8kr+UYX6\\u002fkvl9P4xE5r4qVZO\\u002fuIwoP+qBBr8VT2o\\u002fWuCeP2LAEr97dCo\\u002fB0F\\u002fP36sQ78Zhg+\\u002ftsxavgMORD+USfc\\u002fYzH\\u002fvu2f9D+q4+U\\u002fCcPRvgUiAb9GNo8\\u002fkQ6XPywYhD9Oacm+e8JtPwCljj9\\u002fvGg\\u002fvyuPP3qNoj+aHAa\\u002fWMmTviaVBb+c3l2\\u002f+9E+v6bwC79Dako\\u002f2SKtP2HinD\\u002fjit4\\u002fcw0Iv7Gdtz+XPi6\\u002fo1hsvx1Skr\\u002fM6dy+kuXNP6M+lD87F00\\u002f2d\\u002fsP6UcgL9numg\\u002f6UyPP\\u002fRhRD9G5Tk\\u002f5x5NP++grb\\u002fA96I\\u002frL6JP8sxqD8Tv0M\\u002fFJuRP1nTXj8+TDM\\u002fRadrP9MxkD9d0a2\\u002fvYqYvpChtL4T4TQ\\u002fCymvP1Ur5r5r8J2+sZWvPxwoI71KlJs\\u002fs0gPv3Ykgj8wtyG\\u002fLgESPmCFSD\\u002fo17C+WgaPP2Mxkz\\u002fkIi+\\u002fgaC1P1\\u002f5nb5SlZY\\u002fPcdCP1TZjr8e0aa+S+ZevygQjz\\u002fuHJC\\u002fKhNMP8j0QD8wPKk\\u002fBWMBv1bnJD8Fn5O\\u002f8j2WP50tKD9Sk5M\\u002fX4IxPwgqNj8IO+u+keaUP2k6wb46nUM\\u002fo3F2Px6XOT+fvc2+kO4HvyPUjz+slNy9jm5EP5c2hD\\u002fSWJ0+PEGuv871nL5eOVc\\u002fC+vtPxQzPj8uA4E\\u002fCZOnP5pSmD+EYCi\\u002fJ9ucv\\u002fOzEL8Sn0Y\\u002fc+qbPbIAVT7\\u002fEBW\\u002fbabXP6mxJj+sr3U\\u002fw04gP09mdL+T60Q\\u002f++lJPx7Gcj\\u002fwV+e+T3nzP2VsLj9F7bw\\u002fGLWQvysqNT\\u002fQsJA\\u002fkdx9PyQ3H78E6UE\\u002fYyP5Pwb8FL9JK80\\u002f1cXivsPNlD+b10M\\u002fOZF4vzBp9j9tlSO\\u002flAssv0CuUD9wLx+\\u002fvJ7Qvj22KT+Z54+\\u002fovtDP0GMUD\\u002fKZSU\\u002fCA8Nv4r+I74zJ4q\\u002fT5eQv35eXr90Oow\\u002fWft9P2+Nkj9E7g6\\u002f6TwLv+i3MD\\u002fYubM\\u002fTGR6PyBEMj\\u002f2rfu++hOhP\\u002fEHZz8xfUc\\u002fqdasv8GMpz8cPJw\\u002fwjiRP0d5g7+0aIe\\u002f\\u002fwJWvxaW377Ch5M\\u002fG\\u002fJiv8Jnjz+EfEI\\u002fPpRcP3K6mj\\u002f7+iY\\u002fnW2oP1n6QT9fWZG\\u002ftKq3vmXBDb8rb8i+\\u002fVqBPwTs+D9TLEM\\u002fM\\u002fc0PzOWLT++fzu\\u002fvrSEvoCYD78f8Jo\\u002fb17EP2esm76DFDY\\u002fY9mDP3mPS78mfjQ\\u002f\\u002frDuvu7b9jwvgz8\\u002frDecP1qb0j9kwmI+TpKsP0LjaT9mf5A\\u002fxDxGP+pqlT\\u002fAbKK\\u002fHeiXP+5uMT\\u002fq0Y2\\u002f1A6MP3gzkT\\u002fpzJ0\\u002fBWVFP4+nIj9mLjI\\u002fqaOLP1TGhj998nu\\u002f+Rlrvj8pJT9tT6M\\u002f2ZNCP4ehx7717jC\\u002fYme6P+ZweT9jL2O\\u002fXPLvvhxCMz4W5C8+kxg1vzaNlr+znA6\\u002fjUCUP5+9Xb+Kyoo\\u002fzmzFP0qotz4AtFI\\u002f7LOTP2uBNj\\u002fJsyE+qlBoP6IeA7\\u002fuLx8\\u002fydQzPxzAxr7tARy9gEiGv\\u002fWltT8b\\u002f+8\\u002fnCquP2kvMz+MikQ\\u002fWQuRP8Yikj9n944\\u002fhiHyP3ZJiL8Z3eS+LaD7PxAm+76F1zg\\u002fgTJOP1LIhr\\u002fZ8oy\\u002fma+kP2+7Z7+lyDm\\u002fLXuIvvkJgj8yTDu\\u002favuJP6RH7r5TP0Y\\u002fEyLwPwwIND8jlfU\\u002fSuqGv8JfQr92N5E\\u002fv3r7vcdrCD7chiK\\u002f9jgpP6s3mz\\u002fETdW8GzdQP3iIGz+uzpc\\u002f+\\u002faXP3Kqkb+7hu8\\u002fyKnkP3rahj8dH+o\\u002fYO8+P77CcD9zwme\\u002fp7CPP9ae3T6ODPQ\\u002fL8NsPwlDNT\\u002fTsdY\\u002fYfFFP74Wrb7wfUw\\u002fkIn7vowhIL9xQIa+7DH5P4j\\u002fuD9MgTE\\u002fewF\\u002fP7njuL6R\\u002f1C\\u002faxWZPy\\u002fPXL9QqIo\\u002f8aInP08IOz\\u002fGlwe\\u002fEfTKP3VWEb9L\\u002fgu\\u002fIIeJv2JEF7+bXZo\\u002fQIupvnesX7811QS\\u002fMmv3PaM3gr\\u002fvH9O+AuFxv4Y1rb9RNI0\\u002fsq9wP8\\u002flgj+qAJ8\\u002f+DWpPyLOjT\\u002fAaKC\\u002ffA6tP8vlQT+PKV+\\u002f2ay+P2hJWD5PCDI\\u002fZwIzP1GFSr+5jT4\\u002fX8R9PxWQRD9miwq\\u002fH7ymP7J+Mb4mpp2+gCxEPx6lfb8UzJ6+DvYFv+7znL9umzc\\u002fJobLPzdRvT+wJ0E+cToov6PvQj\\u002f5VJA\\u002fgTcmvz9bj79bsV8\\u002fxkywPxFhJj+TCpA\\u002fisEqv77vA73As5U\\u002fJiiCvi7dkD\\u002fWQnQ\\u002flcMEv6Vglz9rFJC\\u002fTiz8vj6giT+CvvY\\u002f\\u002fFavPy3KkD\\u002fozkU\\u002fnshBP7eOIr\\u002fSUpY\\u002fFDhBP6UpkD\\u002fNa48\\u002f1NlJPyq3QT+Qc\\u002fg\\u002f5XTjP4UUoD91efK+EqH1Pz8g1j+uezs\\u002fc07AP0rB3r4juCg\\u002fmaCRPxZSez\\u002fSBEQ\\u002fUyyRvrQ7RT93cTU\\u002fWNrlP04CYj8t27U\\u002frDpuP+mpdb\\u002fnC0E\\u002fKhLhvvm2Qz\\u002fbR0M\\u002fxWiPP\\u002fl6jj92Y3C\\u002fZtUbv8tOjz8u2kg\\u002f3QktP50OJL+Zozc\\u002fICIKv7YVG79CzEM\\u002f+pySPzuB6r4tEEY\\u002fcCVEP+9WSD8fO\\u002fa+etlGP1XyrL7UX6g\\u002foAzavq3n4b585Zo\\u002fGB0yP+z7Yz87rL8+zALkvqaViT\\u002fbpIc\\u002fs81wPydFJT8DPkg\\u002fESJLP2FXiT+CjFQ\\u002fJthJP+fjjb+UW3E\\u002f2XH3P5HUNj8Hdjk\\u002fW93GP8qeLD8p6+S+kdCnP7dbPr+DS48\\u002fMEiwPwZ6C79hbDG\\u002f9Ianvq2vOj9vVBm\\u002fUUfXP6cTVT5y9+y+x5MgPqK8rr99PiY\\u002fTxIev7\\u002fbMD\\u002fZJ40+5F\\u002fjP6U5Fr8VNpu\\u002fzNJEv1AJwz8T124\\u002fGWdFPxRVkD\\u002fiMhc\\u002fA7CwP1Q17L794rY\\u002fGtc3vzNXMj96+I8\\u002fqBWSP\\u002fiJmz\\u002f5AZK\\u002fRKGpP02+7L69laW+SRiPP0RchL\\u002fmPR4\\u002fAbqgvnfujj9dK7M\\u002fciuaP++8+b6705O\\u002fwumRP86Nlj\\u002fMvEQ\\u002frhSCP86rRD\\u002fRzpk\\u002frvD8vtJo975yIO2+m5o2P1rNbr\\u002fpSKo\\u002f+uBmP1885j+Joki+wSNEP\\u002fwaRD9yxfu+dGeAPysxi749nic\\u002felSsPxOpiT\\u002flGYo\\u002fEHlVv0mAnD+9aPe+wQVDP7hAnr7DZIC\\u002fjBvwPwwcSr\\u002fackk\\u002fMpCcv6GErr5Ru28\\u002fddEAv0bRuT+l2I6\\u002fojmJv2Ile74QKZC\\u002f9L75vh5Fjz+SdLo\\u002fhfEZvs5ujL4L+Le+l+SRP+Su5L7tuyw\\u002fUR+lP6mHvr4FfIm\\u002fiG6Tv\\u002fjakT+Hd50\\u002fNjBEP92v8b7tppQ\\u002foOIeP8xvQj\\u002fOuk8\\u002fcPqfP7RhmD+FUeq+OjE3PjtbiT86f+4\\u002fvM2UP7sYj7\\u002f\\u002f0pM\\u002fzjOSP8mlQz9Vo40\\u002flDObP4TvD7+2WTY\\u002fahpFP7nFSr9IuTU\\u002fekUWPlhPFb+iJa++hkhJP7glqT\\u002fI2ae+ERYrP4SfVb8htwm\\u002fsEMYvygeDL+qcpk\\u002fAUwBv4UcvT95u\\u002fc9i7oDv8XolD+NLTK\\u002fj7uOv1OGsT\\u002fRtu8\\u002fFjyvP1X4iD9KjoI\\u002ffzpFP+uJxL5u3c8\\u002f3\\u002fwlPiZmlT8A5tq+4kwxu\\u002f55jz9IGZI\\u002fhyPgvn9gPb\\u002fWKz6\\u002fHrtCP+LVuj+1KPa+21iNv9qCH78qX54\\u002fOlzUvpytmD+qB0c\\u002f45CBv0a+Ij+jbio\\u002fDOfHvRSfRT9Duyc\\u002faVCYP6ZT5L3ck4s\\u002fDoEtP6vnrj\\u002fsots\\u002fDjGLP+aB2L4V7EI\\u002f9Delv4EDb74zyPq+mf9sPzwrGD8OByw\\u002fGNhKP033Sj+bVJ4\\u002f32ZFP+A2kD+7DfQ\\u002fOanCvqeKDr9S77o\\u002fIizMvjdJqD8GAaU\\u002f+pCqP20dbz\\u002f9I\\u002fy+PRA0PzbQ677aHKs\\u002fo8iBP+USgj\\u002fAKzM\\u002f7ci\\u002fP72+0r5Hqow\\u002f3cROP4QdRD\\u002fxwEM\\u002fgjszPwp6jz9I\\u002fJE\\u002f8smwvn60Mz89e2a\\u002fy+A1v6L4Oz\\u002fSIJk\\u002fiX+TP7V\\u002fl74kqBg\\u002fbS6JP+uuQD+sE6m8gx6eP76Hlj3ld04\\u002fEhPAP6prMT\\u002fJ\\u002f0M\\u002fgcmMPxfcjb7YC0E\\u002fO076vmqF5L46FrC+dioevyKPgz8a1ja\\u002fDAhJP0PV\\u002fT+UnvM\\u002ftcqlP3j\\u002fkj+V15i+BounvC2hUj4PvEk\\u002fhO2Fv9tdFT9BQZE\\u002fDFtLP3VcCr\\u002f9WUI\\u002fcVCnPyCbZr8dyfc\\u002f4BYnP5T7kr64wic\\u002fEWuwvmhYvT9hPKW+b+TMvn9xHD8UESc\\u002fPEbEvu1O7r0swOW+6a14vsjRmT+xbgq\\u002fJRqwPx3Jer8PeSe\\u002fayg5P2pXhD96ujI\\u002fSr26vkHxsT9EBbK\\u002fT1eLPx+WwL70w+k\\u002fKe2PP15tdT\\u002fB1E0\\u002fkgFDP3avj761h8G+xYvxvsDajz\\u002ffn0M\\u002fcS5EP4QQJz+FUU0\\u002fZpirP+jl+D\\u002fJR6w\\u002fU3+cP4oH+L4HZTy\\u002fc8uAP91bdj+4IHK\\u002fYmb6vvVyfL8481c\\u002fHPa5vi18oz9t7GA\\u002fPTA8P\\u002f7Imz+t+Xg\\u002f83g6v3rEz77nYfU\\u002fuht\\u002fv4YZRL818Zg\\u002fFj5CPxgTeD8OhQm\\u002f2s8lvx5C677dHZA\\u002fAeGsP70ffT9QHQq\\u002f7KDevl1H8bwiQXU\\u002fOMpHP3txDb+7EF+\\u002fOCeWP66+fD+t\\u002fxU\\u002fGMlZv0ONRj8GuHg\\u002fNHjiviVdqr73ll6\\u002fWKGXv48DYT++EmS\\u002f2zbtP+EmHb9AppE\\u002f1jlQPzfHsT+GuI8\\u002fDPAiP1Pstb+YIs++fYr0P47AT78=\"},\"z\":{\"dtype\":\"f4\",\"bdata\":\"OUlzP3XViL8kWb6+etNIP2mPF75M8F4+pRDtP7JrNz\\u002fu3ka\\u002fwkvtPlNa2D9ojwFAHzELPsBrTT3Sztg\\u002fYry\\u002fP2dLID+zk4M\\u002f9Pi8P713Bj8Ibl4\\u002fiymYvs22LkADf189wXNVvcoqh77KFmI\\u002figUMvyNTWj22LDO+9WCVP+AcUT+42mU\\u002fiFSKP+KFBj+3Mri+nNGHP5LK2T78+mw+SPjfP7SCuT9atla\\u002fVl4FwM4IIz84G9a+kvWWP2G7Wb9fiog\\u002fwGgqP9Ibkr0q7O++KVxQPCo0kb5yqJA\\u002f9uT8PkXUsL\\u002ftczK\\u002f2RfJvyk\\u002fOz\\u002f\\u002ffgI\\u002fZDZUP9zecj+\\u002fHCq\\u002fzZAAv91HOz\\u002ftkCG+qvbRPiXAaz\\u002f7G3u+zd+JP\\u002fXOuL59ULA9ZBWiv6EU3713ecc+vxsFP\\u002feaDr+H0Li9MPWQPh\\u002fJA0Az6y+\\u002fhu2OvAnDTz8bIdw+Tg5mP16plD9DfEo\\u002f5HCvvt+\\u002f\\u002f77wTvi5jFo9P4eqg76YG50+mRMRvq7c4T5bX0C+HnoAQDa+sj+aH4S+XmyQP5l0hL9OEdw+hAx7PwBVdT9zWPY\\u002flWZAPwaA5b2SHBI\\u002fh2BLPkNgGT9ssx6+BhkmP3K5kD8l+a4\\u002f2KLmv\\u002fGWAz876A4\\u002fvXAFQPsn6b3+gso9o2\\u002feP7BOA7+6RSo\\u002f6OGQPuCA7z5N8BQ\\u002f\\u002fJRhvxBWcT6yino\\u002fDkkjv0bB7T5+GIc+FuQBPkXysz8bgDm+UmmSPxxhLb79hXo\\u002f1cVUv2EiXT56jq69MN3BP7IRdD95DD4\\u002f8PM2P2i4Lr\\u002fblHw+dyy5PkKA0j+TqZ+\\u002fZpJKPwRfCz4bEzQ\\u002fX8ILP99xID+HDdk+CVEAvyNwgL9O\\u002fFe\\u002f6MtGP1IedL8rE3U9OFxSv8TsAD\\u002fjOh87ElGLQAP9JD855r0+q7fYPx6y0L2wiZE\\u002f\\u002fdGpP2zFvT80bA8\\u002fc\\u002fhTP8A5rL92vBo\\u002fk9S1P+AWLT9IhBM\\u002fCkWKv6VG579o5Rc\\u002fI4orvC0MmL53FJg\\u002fdhO4vkHfKT1Idhe+MB24vi0glD9sAoc+78IgPpL8+b\\u002fyJT29DfQOPueAKb+5Pv4+muUzP5Vg3b+XsqE\\u002fXmUaP4HBSD5Ub7o+r15BvwidUT+bnnM\\u002f+ctBPtdGGD\\u002f0Pmi\\u002fovntPr0zUz\\u002f0TC4\\u002fbFUGvc\\u002fmBEDg+U4\\u002fGDH2vo0eoLwJ6rW\\u002fck50PtfzGb+8AFU+dYBov12wub4PEj4\\u002fc2zEPhzOyD0IDKg\\u002fZxH\\u002fPxW1yj+fWDk+avWkPnEZbr8GttW+P3H4Pgv6ET9Zn18\\u002ffxumP3MgJUDweZ4+aIT3P3O50j5DQCm\\u002fXyM4P3NWX7+mTDs\\u002fHqURQFZtpD+KY0M\\u002f+3YeQGkgqj5NqwS\\u002f2KGRPj2IkT9vtkI\\u002f6s+GP8EzZD+eSRQ\\u002fsWBIv966Qj9WyLc\\u002fVPnGPqpXZkB91Zs\\u002ff6CpQKh9pT+42ii\\u002fXOtZP8QvUT5lPgo\\u002f3IGiv6+Fs76\\u002frRm\\u002f9MK1P9e1hj+FDrq+LELPP\\u002f9qTb2OMEA\\u002ffUvGP2Q6Cb\\u002f11ok9XZ+BPqFscj\\u002f0N2U\\u002faXjhvrDHAT8539w+9OtRP6A+rj2RO8M8D0gOP3QU6D\\u002f8RkQ\\u002fzU\\u002fcP4o5Pz8fOty\\u002fXHomPypt2D8LOgM\\u002fASmdPlonWD9NH5E+n7\\u002fEPmAwPLzkFTY+s2yXP9BrWj+Rn5E+AMr9PzCmWT8MxVE\\u002f8ei4PwRxCT5OsGI\\u002fAqj1P\\u002foQmD\\u002f\\u002fvyA9J401P74aOD\\u002fQjlg\\u002f4R2RPhwuGkCdacU9pFhmP0CtnT\\u002fSjDA\\u002fon7MPtKgwz8Po6e+2BZhP+SNHD9vXaw\\u002fXEQ5vwWakL0cmy+\\u002fCKOSP6D5sTwv27E\\u002fMg8uP7N0VTzQs\\u002f6+ZhfbPLG5uz+Tvny+puuCP6wj2z7c22Y\\u002fgVRQPn+Npz+KVe+\\u002f2HEMPh6w2r6Q4WC+omFlP\\u002fz4+j4YP2G90yjVPxLDYT8ubnK\\u002fYeaOPy6vPj\\u002fD0bU\\u002f\\u002fx4CvwIKuT90DaY\\u002frbsoPwqKXT83r\\u002fo+nwbdvXRbFUDvCAXAto05v02aMj\\u002fSs1E\\u002fqRtGv9x4HD8exmE\\u002fADVIvnisVz\\u002f1gTw93p0oPm9\\u002frj7pLiw\\u002fmYeUPPTZKEB+3pA9ZRzjP6CKpT82WYC\\u002f+4uxPnklwT4JR0A\\u002fPBQjP4ftPr\\u002fekUQ\\u002fBjjtP9cAlD8gZha\\u002fYMKfPvfyC75w8Ko\\u002fLmsbQG9kND+Izge\\u002fyU80P+TqDD+REyNAfhAxvp2aYT6y9jw\\u002fPr4Lvshpnz85mz0+Ge\\u002fMv9vtqz3s0f8+RyFAPyxoJED0Iwm+q3lOP0\\u002fyyb8jv3U\\u002fdC11v8Y+nb1u2YBADEkyP3Y2vj5t60o\\u002fzfmyPwMTkz8HLIG\\u002fwRYJP6PUC0A\\u002f8G4+H2QlQHdB5jySvCE9rYenP+QVNj5+Jig\\u002f5qCePzltPD\\u002fIEKk\\u002fFIk8P+lHrT4e2XxAiA21vgEZoz8qIVM\\u002fQKmRvnakNz9h3\\u002fa\\u002fXdJFPx2wjr\\u002fJTzY\\u002f87kpPxMUHj6UN4m\\u002fkTkjPzBUE0BhpfI+IbBrvwZ\\u002fpz9HNPs+lF2AP3q\\u002fXD\\u002fnrk1Ae+pUP2EsYT\\u002fxhAJAtNkXPyp8zb77yLg+uCX7PYxajj9yTWs\\u002f7x+8PzJSsL3guOU9rVuJPx4ufD9kUes\\u002ftDldP\\u002fIlPb2oIVy+nItZP4y3Pz9omhS\\u002fORq4PujA5T5sn5E+cFq6P\\u002fdOF78n7bY\\u002fTUZtPyjLLz8CfzS\\u002f5gqvP9AkKD94dTq\\u002fUulfPzPXOb6kAf88z+fTv5oJYj8IOVQ\\u002f307mPlmAA767F5k\\u002fiy29Pns3pz7AyQBASnMKPipEsj8TPmM\\u002fRv1xPYbSgD+t2LA\\u002fuDEJP76WGb4YtSE+YoWlP6raZr6Crd8+ghx5P2+sLD1F69I\\u002f2WTBv2gzwL99rWq\\u002fec1EP5ZR\\u002fT57l7E\\u002f9extP4toWT99Kfa+qgIUv5FNEz8gZAQ\\u002fJEa8vun0jj\\u002fUED5A83w+P3yiLj\\u002fVy4A\\u002fR4jzP7ndmj8AKIO\\u002fdSuIPdyc5z+eMWI\\u002f7y0Cv9pxrD8OlCo\\u002fXRsxP\\u002fXQ1z40QgM\\u002fZTQzPwMoeD4DaLY+RjLRPxP5oD7+arY+Ep6RP9IPXD8nABQ\\u002fNjx7v3RVsz\\u002fqhsg+\\u002fX4sQEc0\\u002fT9vAs4\\u002f0xOMP5EQ9z77fHM\\u002fnUBjv\\u002fiZIb+XaWq+VbtFPe+MnD7\\u002f6KM+JRcuPwNVkT7Op50\\u002fXSAUv035aD9XRqE+X7w4PGdN8rpgUak\\u002fNlZLPzlX7r4ydfS\\u002fK\\u002fgOvnF5yr9e6\\u002fE8\\u002f9aBP+N9ND9kj96+5NFaP+DPXL1dhpQ\\u002fXt6sP6TpZD5UlE6\\u002f0lW7vZZ3rT7GGtc\\u002fkcoqP3d36D16u82+UV3vP7+YAj+lnpk\\u002fKzMavz95Kz+w6lG\\u002fYWgMP1zSmz+tJuS9D1CgP33Rrj9MYvE9KkyCPlRwAD+Bb3I\\u002fbHblv\\u002fiTsD\\u002fatFY\\u002fXMnmvmenvr4OZRI\\u002fzGmCP4i6CL8QoW4\\u002fYxWQvsQuQz\\u002fqXyY\\u002fDqmLP7gGQz82DS8\\u002fevBLPV0tNz8VueW\\u002f8v+iQFIgDz6SAVU\\u002fVbBuvpPPg7bUdps\\u002f0\\u002fizv9Gaoz8\\u002fIyM\\u002fg46tvZxSCr95nO6+9\\u002f0kP5pZoz4kiio\\u002fNX+wP0rTNr8n548\\u002fvb5\\u002fv8C4kT5iPYo\\u002fjSvfPrHumUCKrDo\\u002fyu7svPRIAL\\u002fW\\u002fSC+GX8HP3VBtj+o7v09zblGvlv8wz59tQU+D72AvhrzDj9V7xI+Y8lbPxYOzT6BIL++JtFVvxigoD\\u002fBS489iSFKvmcWQT883Hw+\\u002fGwFP23rbj7KYN8\\u002fWUFLvnsKSr8UYLA\\u002ff+RUvzFwFD9r\\u002fuQ\\u002f+7PGv3K6Kz+WWTq\\u002fFbY8PypUqD+Ct+c+2Beyv7F7I76oAA0\\u002fNaf6P3b\\u002fbj+3LUi\\u002fU3ujP8wqFD9sgIA\\u002fm2NdP+mZrD83RGw+e5NPvn2Svj4+L7g+dn2nP3JNaz+Sa4y\\u002fLlO4v7bmiz+X\\u002fXc+O5ANP35brD9n02w\\u002fveG3Py+EF79Qjo8\\u002fY7y6P8b4WD8Nys4+6PypP0ZWGj3sv0m\\u002fRtI3P003MD90eY++Qq46P+peDD9Jgy2+6eL5vbsweT+gsR4\\u002fvBY9vs21QD8AfEA+ratHP3ao9T5v+RA\\u002fhTp+P28KJj6tWTq\\u002ftAJLv3+6mz6pQD8+OlkqPx1vDT\\u002f0ids+akyfvwZCXj\\u002fHot4+9WYBwGab1r7ZAKU\\u002flXmWPzAIjT8pI9S\\u002fedxKP66eBEB8Wt+9jTvbPoGvLzwhnDw\\u002fBNsPP\\u002fffWL8GMg8\\u002fwgVRQO7RHT9Z0qY\\u002f5POGPvRJBL81ptE+62nfPoGE2b9AOCY\\u002fHEpxP\\u002fqMFz8dLYQ+yRYwP3eYcD9zIU2\\u002fWw9XPyX4RD5x5vQ+tCdEvzJ31T5f9Wk\\u002fgjb0vvC0Gj9EMpo\\u002fzF4jvoWqz72E8H1A0Plzv\\u002fVGhz+rH+G+nZphPuPnj75x8ro\\u002fnVL8vbzlAj\\u002frRym+lg97P1IZor02CHG\\u002fStK1vme2pD+MJjU+yTnCPbyMsz\\u002fZ86M\\u002fmccBPY9jzj4vtx2\\u002fiYI2PyI9Dz8MBRJA3PGcvwzftz\\u002fIfqw+q75av3JMGUBOYyQ\\u002femUHPkOUWED2WvW+ah38voqhjT\\u002fO9Xo\\u002fqRSfP8oq7D92lAQ\\u002fKDCWvoJHgz\\u002fm9Xw+wVQDQGfZAT+0lko\\u002fTrZgP+N8gz8RWqk\\u002fsDGmvrlHCb2wH\\u002fk\\u002f5SiIv797Jz4lwpS+CkBFP2zgHT8xO9C\\u002fb77jP+au2L\\u002fHD5Q\\u002fCGbGPrPfMr+cDTw+X+fyPgT9WL7moqm+jbPZPjuKF0BXlvI\\u002fRzT9P08Sij9bPPs+xLQ9QNRR1z8rjag\\u002fvrm9v\\u002fn5qD\\u002f8WQy9CLm6P7wg\\u002fD6apoS\\u002fYuKrP0w\\u002fOEDH+IU+VpgbP5xWhD9VsMk+ymcHP6jgeT9GLr49Faq1P0by3j9nsMU+jC+qvsf16b48zzw+\\u002fWShP+MQZT\\u002fCXBo\\u002frahIv4iBTEDbOdQ\\u002fzjF4PtA4uT4Me2U+jd2tPojBaT6HRII\\u002fcpmRPgDGaT9ut3k\\u002f3LxkP\\u002fsAYL\\u002fY0jA\\u002fgiMiP\\u002fHXLj9TKpa\\u002fNL1yPyd60D\\u002fqFIE+nmc2PyDyhj99YBe\\u002fwd2SPyD\\u002fYz+Zo0w\\u002fT8ShQN8qBb8050a\\u002fUbqRPuyVuj68QK69ru7sPpxJwz94ppE+DBaiviofScCUg5Q\\u002fRsBVvyLZZj+\\u002frqY\\u002fdrphv3hTZz\\u002fzQJu\\u002f9siPvjBQNj+9KOM\\u002fih+0Pz\\u002f\\u002fXUAx0i4\\u002f\\u002foANP6O0DD8qMow\\u002f16UFP46PyL5wFQa\\u002fP3ZkPzjmDUClwE4\\u002fL\\u002fDTPZr5g76NSiY\\u002ffYGEPz6+EsDtyus+A0uSv07xrT\\u002fwBeI\\u002frOgLP+IZLz8JQGI\\u002frim6P1To8b9I9Jg\\u002fbOvZvhY1zj5CRC1AWfOTPzcssT850QbAMZEfP5NiKj95F8A96KodP+2pHr+I5j6+XYKDP1fEyb6CZwg\\u002fVh7Xv1eVpz64\\u002f7y+yeBDPwhOD70TZnq\\u002fbrDTPqDCoD29sQo\\u002fhc09P6DoOD8dRdc9n1K4P6wjvj94JQQ\\u002f3viav4UYq7++C7o\\u002fYLeTv4Y5fj\\u002fh6gM\\u002fMfQ\\u002fv6M2CD73V0w9U1jdP1VXL700o0I\\u002fhVqFvvfKsD9QYx6\\u002fQcC+PtPBoT56jeM\\u002ff+mJP10F0T37mUS9CMHHP\\u002fsenD4HqTK\\u002f12yDP9eY4D5IOp+96wAgP2o0sL5ubzk\\u002f50GePtQzjr5iFFe+rcMVv6xn5b3ygww\\u002fyV6oPqqXLj8vDJu+FnNKPw0afj8Zqv2\\u002fHjaIP0xDFD+GdRG\\u002fC8gpPwx5oz8kKwdAv2tzvsGKzz8tipc\\u002fWK2AP10MAT8Uk66+2S85Pz8oeL+5eGc\\u002fWo8aPyCFv77YxMY+yrQBP4CCKz+KUhw\\u002f4nwOP5709j6udQi+ehvEv3BABECZu+A+GUzVP4vzDT0fstw\\u002fG9mkPseGcD+yaJc\\u002f7Xj3vW1HJT+pDRq\\u002fpb5wP4HM1r8evqA+IO8rPDUzFkAxfSRAM0zIv00Rrz7OwiK\\u002faKIqvw7jgz5J8vC8U6+iPnfK5j2PRKg\\u002fFQmsPvb2Qz9pl5w\\u002fz1sqP1aUkD8sv2K+hPUVvRs5QT6Q6JE\\u002f6B2EPyHkJj4n5Xo\\u002fpuowvzeXKD9Nbkk\\u002f8stGPwBpU7+hRui\\u002fsVVDvkWXrD3s6vI\\u002frZA4P0wOhb8fVo09j+klvwDRybtXBkC\\u002fE\\u002ft1PJw8Dj9uSCa\\u002fJ+AoP1TJpD+f87u\\u002f\\u002fSaePx6MlL\\u002fYlm8\\u002fdva4PSYYkj6y1Ca\\u002f8wjRPVznBz9GcFE\\u002fuULNv9IkzT3npEU\\u002fi4zHP6wUPz1s6Iw\\u002fQmuuPfueKUBHj8Y\\u002fu\\u002fmdvx2uRED8qMo+KXO\\u002fv9ZdJT4Qkfs+xVbaPjOG1b972Qm\\u002fctyQvSM6DEDLZ8g\\u002fiUcWPV3Ql71g86M\\u002fxM8cP9lUrz4wZLw+mPHav2a0Vz\\u002fqtpA\\u002f3grOPvsIcD+AD8S\\u002fCJcRv9NEdz\\u002fKOlM\\u002fLSGJPxHtPz7TrSK\\u002flYOSP6IOFkCF6qg+6OWzPR6YVT\\u002f0Dbk+3GfeP+GZib57NADAMmtWP27GuL8c7cC\\u002fb4MUPveFgT5Z4H4\\u002f97sSv4cN2T5W2zM\\u002fbbGXPuUorT9hLDU\\u002flEZ4P0i6nj+oZYw\\u002fa0mUvob+fD\\u002fK4Uc913blPr3xNz7hClK\\u002fU0EPP3RI\\u002f712MgU\\u002feXpaP7lxjb8HtTM+HxP1Pv2D6j7pjqu\\u002fCPOjP0WWzD6w+Be+LHf1v5xhsL4qQgdAXPe5uwb1pz+sXEi\\u002fPoYNvIsnFT+2vpA\\u002fViQPQOlL1b5nbUo\\u002f26XLPuyWn75KUrq+m64\\u002fP8HVg793SY8\\u002f8w6Ivhg4T73as\\u002f4\\u002fgs+HPi9f5r2GkfK+taqAP3PMlj8jQHc\\u002f8SCmP0\\u002fsdz5WYA0\\u002fLypyPh9PLz8ZtAw\\u002fV0fLP3CRq7\\u002fB3+O92SR7v8HIZz98Dj0\\u002fIbfNP8aYxz9Oanc\\u002f5EtWP3PNjj\\u002fJ+HY\\u002fMLLGP3Oyor7UOrE\\u002fJHC5PktBnj8LV1G\\u002fU9QQP3f7FLun15w\\u002fupe7PO5E8L94qzC\\u002fWIlaP8hPvj\\u002ftGhA\\u002fKLXVPRMZEj9WCaa\\u002fSDw3v\\u002fB3Az8qxwg\\u002f3C20P4U6fj85vdo+HEZzPhF\\u002fkr5x37m+E55OPmxCgD5ZZ4u\\u002fOjFZPZRlSz9bvAtArN2GP+U5iD972eW+CfmnvnB0jD+2A6o\\u002f+XSIujszvT4KjzE+dmAlQHuDST9AsEE\\u002f9ZuQv\\u002fALCECI0NQ+eekqvjig7j8mbkE\\u002fB2EGPyO7iD8OUpw+4UGSv0odyz9AmoE\\u002fctUbP57foT7l3PO\\u002faFe7PwOZQb9V2jI\\u002fqbdwP3vsoT+jT0A\\u002f1QxNP\\u002fuypT84nZE+GMcMP0JWbkA3zSs\\u002fmEhTv1noGED+5ac\\u002fT5l2P8aYVT5nVDE\\u002fe4UYPzRxsz\\u002fALY0\\u002f8BUAvix7bj+49xQ\\u002fY3FwPwdQOT9gDwO+vTADP8y5Tz2CdaY\\u002f+HG\\u002fvekugkCFA4m+qH2FP9wSNT9oMDU\\u002fLzWOPw+Unr+Yac4\\u002fo2ADP6wjQD\\u002fvEJE+fPtMP9O6Rb2fPhS\\u002fY505P4CvzT4djHQ\\u002fbyzzPm3gjD\\u002f1wCk\\u002fHdp8vpPe7j4Gpf8+y3iWv++2IT8fCIK\\u002fxQ94v4c7XT9orDs\\u002fm2sDvyOCxz4\\u002fNZ4\\u002fExJOv9xmuj8xxbE+OlxvPif5or5gidk\\u002fn5J7Pt09O77avyJAydmFvw2F7Lv8hbs\\u002fk8C\\u002fP0iD2z\\u002fBi4w9haQmP85FbD+YkLi+O0o9Pw\\u002fzjL3lzb0+wCheP1Zcfj8++qI\\u002fX+ymP5AS7z5efz4\\u002fVJdUvqL4TD4l7X9APJnJPZ\\u002fOYr9djpY\\u002fHGTHPpE9nT4g128\\u002fMCc1vsuOn0DoDp8+Kbwsv\\u002f1aFz9cggRA\\u002fhCmvo2Wp75+dyC\\u002fzBAwPz3NSb6hNAS+dCiCP6L8HUDQwMI\\u002fM+phvkCgM78=\"},\"type\":\"scatter3d\"},{\"marker\":{\"color\":\"yellow\",\"opacity\":0.8,\"size\":1.5},\"mode\":\"markers\",\"name\":\"[Real] Vehicle\",\"x\":{\"dtype\":\"f4\",\"bdata\":\"LJtwP+GpmD8L25Y\\u002fFlWcP8vemj9rcJU\\u002feauXP1VEuD8dNpY\\u002f38CPP82upD9Kq64\\u002fWyWnPy3hgj9EoJk\\u002f2jycP+O1lj+iTXA\\u002fn1K0P5WjtD9GoYY\\u002fxKy1P\\u002fyuhT9lQY8\\u002fzXqnPwLRiT\\u002fxGIk\\u002fBb6YP22pcT\\u002f5Cos\\u002fp7SEP0xmlz\\u002fcgKE\\u002fTu1vPygTlz8sOKI\\u002f6cmaP7MHlz8Tq6I\\u002fCzGDP4s5fD+yv5M\\u002flxh0P3bTij9eOXM\\u002f5caVP8tsiz\\u002fTCKk\\u002ftsmVP2XRnj+gKKE\\u002fUAeZP9lWlD\\u002fbAZU\\u002fkUCyP4PZpj8gxJo\\u002fZvyYP5FjdD8XW5s\\u002fsMCbP89Ejj8LKJw\\u002fV3mLP56wsz\\u002fK3Jg\\u002fUaO0PxuXgz\\u002f3XbM\\u002fKK+VP\\u002f0ElD\\u002fc4JQ\\u002f4T+YP2yWgD8xHpg\\u002f96uwPypHpz+IIo0\\u002fvTSlPyOXlT8tebA\\u002fcemAP1e2mj8jN7I\\u002fsJywPzWmmD8JxYU\\u002f+sebP\\u002feknD+X\\u002fJc\\u002f4y6VP0BVpz8OJno\\u002fHbiXPxASnD\\u002fGA5g\\u002f2DWdP2Dwmj+sYoA\\u002fmmSjP4\\u002fOdD+pLtg\\u002fPA2cP8PrnT\\u002fVp5k\\u002fPy62P6AutT\\u002fzOZs\\u002f4peZP8Bwnz8lD4k\\u002fHgqmPzaIlj8w1KA\\u002fOpO\\u002fP7FMiD+S9LI\\u002fJoWXP\\u002fj6lz+LNLE\\u002fFT+XPylotD8CI5U\\u002f6rGIP6i3ej+nRbY\\u002fQ7axP87\\u002foT+0Y5w\\u002f3il4P4hmrz\\u002f1cKI\\u002fGsK0P\\u002f\\u002f\\u002fmj+me4Y\\u002fO+OZP6Gdgj9UvqE\\u002frWS0P8tGtj\\u002fhAnQ\\u002foeSZP25mmD+fnKI\\u002f51SZP\\u002fNXiz\\u002fyaZg\\u002fGFeGP0c7nT\\u002fSFJc\\u002f\"},\"y\":{\"dtype\":\"f4\",\"bdata\":\"6AenP7lg1T8HbN4\\u002f1jnLPzrqoT9spus\\u002fZ6fmPwMjGT+THeA\\u002fJhmkP0aBwT8whsI\\u002f9FvBP7f6qD+xytc\\u002foHvIPzRc4j+Hrqs\\u002fi9QWP6ATEz8ErqM\\u002fj2LDP8Xrpj8vMKQ\\u002fO2PCPykyoj\\u002ftkKM\\u002f95HTP9vTrT8E16I\\u002fR0GjP6Gd5z9mNKI\\u002fJrGpP2RF3z8NncA\\u002fWOnKPzLM6j+w3sA\\u002f0RaxP9r4oj\\u002fFm+w\\u002fQgWkP1ANpD8cqqM\\u002f9bnpP3wHoj8oX6I\\u002f1xeiP9hPxD817qE\\u002fxjvUP7Ym8D\\u002fuou0\\u002fVjwcP4\\u002fqoT841KE\\u002fChfWP4G6oz8dDs0\\u002fI6bOPziSoj9Vpsk\\u002f45alP8QsHj82ZNc\\u002fceESP8SDsT9ATBc\\u002fW17sPyZL8D86fOg\\u002fwtvlP\\u002fjBpj+D7N0\\u002fZL8mP9gRwT8BLqI\\u002fKJfBP6RWpT\\u002fMvyc\\u002f3DCvP2iE0D8dO8M\\u002fpNUrP82K5D+e4qM\\u002fDJDSP0ftwz99TeI\\u002fSnLqP2vEwD8jMqM\\u002fV3zYP7swxz+bONw\\u002fve3EP1\\u002fsoT87zKI\\u002fGJyjP8P+oz+hkB8\\u002f7n3GPymfzT\\u002fXGtw\\u002fQOISP437Gj8w68g\\u002fOrrTPx3hyD\\u002f1mKg\\u002fOELBP8UV5D+pzMA\\u002fQKojP0KZoz814ck\\u002f4I7cP1vXoj85oB8\\u002fofLgPwJJKD81eaM\\u002fLiSjP5rgoz+6McM\\u002fEBIfPzHroT\\u002ffM8A\\u002fM2mjP5rkwj+Ia8E\\u002fRYIUPx9Uyz87iqM\\u002fqhDQP1\\u002fwoj+I3MA\\u002f\\u002fDUTP2tjGz+5uqM\\u002fzzTNP8vA3D+Xk8s\\u002fRW\\u002fhPzj+oz9opOE\\u002fZmKiPwqu3z9+x+E\\u002f\"},\"z\":{\"dtype\":\"f4\",\"bdata\":\"gvY4v5s3Oj9kRBA\\u002fWOE7vrum0r5vXgw+Z\\u002f8Lv7317j7Ws2E\\u002fKAVdvTvknj9wC0s\\u002f6YcdP4ysPL49IQa+HWKuPab7\\u002fT6FykS\\u002fAzxUPruQaL6RO6K+RVYhP9FpnbxuACq+F2qkP011O7\\u002f8cZa+Y5E5PwC1Ob8EHdC+uAF+v8B24b56Jiq\\u002fcU5Jv0KFND\\u002fKVoA+lHQdPxuVv77LaRw\\u002fdyqSvw01QL\\u002fxilQ\\u002fLOgHv84OXL7QZlG\\u002fdeeQPsB9Lr9gDxG\\u002fxKjbvsrCqj82\\u002ftm+3YwFP+abyT6LPMk+mInBvptF0b5UoCS\\u002fCc2EP2nCWL8F75G855pAvvTERr+OnKa9KHAFPZJDbj5TL4U\\u002fP3COvmMOa776Sf29H99WPgSxtj6fCy4\\u002feJ+ovnAjkr7EGoc\\u002fxk+VvZQFxD7MRwW\\u002fnZuWP4pAyTzw\\u002fqe+CqaqvvBF+r1vJV4\\u002fNkicvsfzjT9xoKG+hx0Jv6pogD66YoC+pTJ5P32tUT3M9zG\\u002fqOh4P\\u002f17Gz7Aa9g+wfgzvbAxpr7+hia\\u002fKDvPvlheAb\\u002fhDLO+AXLDPjLlpT8fffm+emo5Pv36uD4r5S0\\u002fDo+IP\\u002fz4rD9MqwE9hA2RPtq8xz7kcFY\\u002f81EVPzCsSb\\u002fQqPA\\u002f\\u002frG0PtWuhr6qv5m+LLF9PqeUxj6EI+69eLtev2KB3b57H9g+mlSIO77tMb\\u002fPC0Q\\u002fAIIPv\\u002fCrqz9dI2g\\u002fali2vrGjLj8dHGS\\u002fDzRBP27cBb9yb04\\u002fgWfKvVH\\u002f4D4CE0u\\u002fuLZZP0FQWj59mLM\\u002f852RP587eb5oWu2+qaJ3v\\u002falnz9Y8ZA+\"},\"type\":\"scatter3d\"},{\"marker\":{\"color\":\"black\",\"opacity\":0.8,\"size\":1.5},\"mode\":\"markers\",\"name\":\"[Real] Void\",\"x\":{\"dtype\":\"f4\",\"bdata\":\"8NtbvlwfTb5kUUi+jcNOvjs0Sr4AmEe+LAtEvlvfQb4=\"},\"y\":{\"dtype\":\"f4\",\"bdata\":\"OTplPnmZQz7APmc+LGg7PtZaZj4pPDA+jQcqPlx5Jz4=\"},\"z\":{\"dtype\":\"f4\",\"bdata\":\"7sHAvZxGBL7IYRS+nPwKvinAGb7gVui9tzvYve1+zb0=\"},\"type\":\"scatter3d\"}],                        {\"template\":{\"data\":{\"histogram2dcontour\":[{\"type\":\"histogram2dcontour\",\"colorbar\":{\"outlinewidth\":0,\"ticks\":\"\"},\"colorscale\":[[0.0,\"#0d0887\"],[0.1111111111111111,\"#46039f\"],[0.2222222222222222,\"#7201a8\"],[0.3333333333333333,\"#9c179e\"],[0.4444444444444444,\"#bd3786\"],[0.5555555555555556,\"#d8576b\"],[0.6666666666666666,\"#ed7953\"],[0.7777777777777778,\"#fb9f3a\"],[0.8888888888888888,\"#fdca26\"],[1.0,\"#f0f921\"]]}],\"choropleth\":[{\"type\":\"choropleth\",\"colorbar\":{\"outlinewidth\":0,\"ticks\":\"\"}}],\"histogram2d\":[{\"type\":\"histogram2d\",\"colorbar\":{\"outlinewidth\":0,\"ticks\":\"\"},\"colorscale\":[[0.0,\"#0d0887\"],[0.1111111111111111,\"#46039f\"],[0.2222222222222222,\"#7201a8\"],[0.3333333333333333,\"#9c179e\"],[0.4444444444444444,\"#bd3786\"],[0.5555555555555556,\"#d8576b\"],[0.6666666666666666,\"#ed7953\"],[0.7777777777777778,\"#fb9f3a\"],[0.8888888888888888,\"#fdca26\"],[1.0,\"#f0f921\"]]}],\"heatmap\":[{\"type\":\"heatmap\",\"colorbar\":{\"outlinewidth\":0,\"ticks\":\"\"},\"colorscale\":[[0.0,\"#0d0887\"],[0.1111111111111111,\"#46039f\"],[0.2222222222222222,\"#7201a8\"],[0.3333333333333333,\"#9c179e\"],[0.4444444444444444,\"#bd3786\"],[0.5555555555555556,\"#d8576b\"],[0.6666666666666666,\"#ed7953\"],[0.7777777777777778,\"#fb9f3a\"],[0.8888888888888888,\"#fdca26\"],[1.0,\"#f0f921\"]]}],\"contourcarpet\":[{\"type\":\"contourcarpet\",\"colorbar\":{\"outlinewidth\":0,\"ticks\":\"\"}}],\"contour\":[{\"type\":\"contour\",\"colorbar\":{\"outlinewidth\":0,\"ticks\":\"\"},\"colorscale\":[[0.0,\"#0d0887\"],[0.1111111111111111,\"#46039f\"],[0.2222222222222222,\"#7201a8\"],[0.3333333333333333,\"#9c179e\"],[0.4444444444444444,\"#bd3786\"],[0.5555555555555556,\"#d8576b\"],[0.6666666666666666,\"#ed7953\"],[0.7777777777777778,\"#fb9f3a\"],[0.8888888888888888,\"#fdca26\"],[1.0,\"#f0f921\"]]}],\"surface\":[{\"type\":\"surface\",\"colorbar\":{\"outlinewidth\":0,\"ticks\":\"\"},\"colorscale\":[[0.0,\"#0d0887\"],[0.1111111111111111,\"#46039f\"],[0.2222222222222222,\"#7201a8\"],[0.3333333333333333,\"#9c179e\"],[0.4444444444444444,\"#bd3786\"],[0.5555555555555556,\"#d8576b\"],[0.6666666666666666,\"#ed7953\"],[0.7777777777777778,\"#fb9f3a\"],[0.8888888888888888,\"#fdca26\"],[1.0,\"#f0f921\"]]}],\"mesh3d\":[{\"type\":\"mesh3d\",\"colorbar\":{\"outlinewidth\":0,\"ticks\":\"\"}}],\"scatter\":[{\"fillpattern\":{\"fillmode\":\"overlay\",\"size\":10,\"solidity\":0.2},\"type\":\"scatter\"}],\"parcoords\":[{\"type\":\"parcoords\",\"line\":{\"colorbar\":{\"outlinewidth\":0,\"ticks\":\"\"}}}],\"scatterpolargl\":[{\"type\":\"scatterpolargl\",\"marker\":{\"colorbar\":{\"outlinewidth\":0,\"ticks\":\"\"}}}],\"bar\":[{\"error_x\":{\"color\":\"#2a3f5f\"},\"error_y\":{\"color\":\"#2a3f5f\"},\"marker\":{\"line\":{\"color\":\"#E5ECF6\",\"width\":0.5},\"pattern\":{\"fillmode\":\"overlay\",\"size\":10,\"solidity\":0.2}},\"type\":\"bar\"}],\"scattergeo\":[{\"type\":\"scattergeo\",\"marker\":{\"colorbar\":{\"outlinewidth\":0,\"ticks\":\"\"}}}],\"scatterpolar\":[{\"type\":\"scatterpolar\",\"marker\":{\"colorbar\":{\"outlinewidth\":0,\"ticks\":\"\"}}}],\"histogram\":[{\"marker\":{\"pattern\":{\"fillmode\":\"overlay\",\"size\":10,\"solidity\":0.2}},\"type\":\"histogram\"}],\"scattergl\":[{\"type\":\"scattergl\",\"marker\":{\"colorbar\":{\"outlinewidth\":0,\"ticks\":\"\"}}}],\"scatter3d\":[{\"type\":\"scatter3d\",\"line\":{\"colorbar\":{\"outlinewidth\":0,\"ticks\":\"\"}},\"marker\":{\"colorbar\":{\"outlinewidth\":0,\"ticks\":\"\"}}}],\"scattermap\":[{\"type\":\"scattermap\",\"marker\":{\"colorbar\":{\"outlinewidth\":0,\"ticks\":\"\"}}}],\"scattermapbox\":[{\"type\":\"scattermapbox\",\"marker\":{\"colorbar\":{\"outlinewidth\":0,\"ticks\":\"\"}}}],\"scatterternary\":[{\"type\":\"scatterternary\",\"marker\":{\"colorbar\":{\"outlinewidth\":0,\"ticks\":\"\"}}}],\"scattercarpet\":[{\"type\":\"scattercarpet\",\"marker\":{\"colorbar\":{\"outlinewidth\":0,\"ticks\":\"\"}}}],\"carpet\":[{\"aaxis\":{\"endlinecolor\":\"#2a3f5f\",\"gridcolor\":\"white\",\"linecolor\":\"white\",\"minorgridcolor\":\"white\",\"startlinecolor\":\"#2a3f5f\"},\"baxis\":{\"endlinecolor\":\"#2a3f5f\",\"gridcolor\":\"white\",\"linecolor\":\"white\",\"minorgridcolor\":\"white\",\"startlinecolor\":\"#2a3f5f\"},\"type\":\"carpet\"}],\"table\":[{\"cells\":{\"fill\":{\"color\":\"#EBF0F8\"},\"line\":{\"color\":\"white\"}},\"header\":{\"fill\":{\"color\":\"#C8D4E3\"},\"line\":{\"color\":\"white\"}},\"type\":\"table\"}],\"barpolar\":[{\"marker\":{\"line\":{\"color\":\"#E5ECF6\",\"width\":0.5},\"pattern\":{\"fillmode\":\"overlay\",\"size\":10,\"solidity\":0.2}},\"type\":\"barpolar\"}],\"pie\":[{\"automargin\":true,\"type\":\"pie\"}]},\"layout\":{\"autotypenumbers\":\"strict\",\"colorway\":[\"#636efa\",\"#EF553B\",\"#00cc96\",\"#ab63fa\",\"#FFA15A\",\"#19d3f3\",\"#FF6692\",\"#B6E880\",\"#FF97FF\",\"#FECB52\"],\"font\":{\"color\":\"#2a3f5f\"},\"hovermode\":\"closest\",\"hoverlabel\":{\"align\":\"left\"},\"paper_bgcolor\":\"white\",\"plot_bgcolor\":\"#E5ECF6\",\"polar\":{\"bgcolor\":\"#E5ECF6\",\"angularaxis\":{\"gridcolor\":\"white\",\"linecolor\":\"white\",\"ticks\":\"\"},\"radialaxis\":{\"gridcolor\":\"white\",\"linecolor\":\"white\",\"ticks\":\"\"}},\"ternary\":{\"bgcolor\":\"#E5ECF6\",\"aaxis\":{\"gridcolor\":\"white\",\"linecolor\":\"white\",\"ticks\":\"\"},\"baxis\":{\"gridcolor\":\"white\",\"linecolor\":\"white\",\"ticks\":\"\"},\"caxis\":{\"gridcolor\":\"white\",\"linecolor\":\"white\",\"ticks\":\"\"}},\"coloraxis\":{\"colorbar\":{\"outlinewidth\":0,\"ticks\":\"\"}},\"colorscale\":{\"sequential\":[[0.0,\"#0d0887\"],[0.1111111111111111,\"#46039f\"],[0.2222222222222222,\"#7201a8\"],[0.3333333333333333,\"#9c179e\"],[0.4444444444444444,\"#bd3786\"],[0.5555555555555556,\"#d8576b\"],[0.6666666666666666,\"#ed7953\"],[0.7777777777777778,\"#fb9f3a\"],[0.8888888888888888,\"#fdca26\"],[1.0,\"#f0f921\"]],\"sequentialminus\":[[0.0,\"#0d0887\"],[0.1111111111111111,\"#46039f\"],[0.2222222222222222,\"#7201a8\"],[0.3333333333333333,\"#9c179e\"],[0.4444444444444444,\"#bd3786\"],[0.5555555555555556,\"#d8576b\"],[0.6666666666666666,\"#ed7953\"],[0.7777777777777778,\"#fb9f3a\"],[0.8888888888888888,\"#fdca26\"],[1.0,\"#f0f921\"]],\"diverging\":[[0,\"#8e0152\"],[0.1,\"#c51b7d\"],[0.2,\"#de77ae\"],[0.3,\"#f1b6da\"],[0.4,\"#fde0ef\"],[0.5,\"#f7f7f7\"],[0.6,\"#e6f5d0\"],[0.7,\"#b8e186\"],[0.8,\"#7fbc41\"],[0.9,\"#4d9221\"],[1,\"#276419\"]]},\"xaxis\":{\"gridcolor\":\"white\",\"linecolor\":\"white\",\"ticks\":\"\",\"title\":{\"standoff\":15},\"zerolinecolor\":\"white\",\"automargin\":true,\"zerolinewidth\":2},\"yaxis\":{\"gridcolor\":\"white\",\"linecolor\":\"white\",\"ticks\":\"\",\"title\":{\"standoff\":15},\"zerolinecolor\":\"white\",\"automargin\":true,\"zerolinewidth\":2},\"scene\":{\"xaxis\":{\"backgroundcolor\":\"#E5ECF6\",\"gridcolor\":\"white\",\"linecolor\":\"white\",\"showbackground\":true,\"ticks\":\"\",\"zerolinecolor\":\"white\",\"gridwidth\":2},\"yaxis\":{\"backgroundcolor\":\"#E5ECF6\",\"gridcolor\":\"white\",\"linecolor\":\"white\",\"showbackground\":true,\"ticks\":\"\",\"zerolinecolor\":\"white\",\"gridwidth\":2},\"zaxis\":{\"backgroundcolor\":\"#E5ECF6\",\"gridcolor\":\"white\",\"linecolor\":\"white\",\"showbackground\":true,\"ticks\":\"\",\"zerolinecolor\":\"white\",\"gridwidth\":2}},\"shapedefaults\":{\"line\":{\"color\":\"#2a3f5f\"}},\"annotationdefaults\":{\"arrowcolor\":\"#2a3f5f\",\"arrowhead\":0,\"arrowwidth\":1},\"geo\":{\"bgcolor\":\"white\",\"landcolor\":\"#E5ECF6\",\"subunitcolor\":\"white\",\"showland\":true,\"showlakes\":true,\"lakecolor\":\"white\"},\"title\":{\"x\":0.05},\"mapbox\":{\"style\":\"light\"}}},\"title\":{\"text\":\"Segmentaci\\u00f3n Real - \\u00cdndice 500\"},\"scene\":{\"xaxis\":{\"title\":{\"text\":\"X\"}},\"yaxis\":{\"title\":{\"text\":\"Y\"}},\"zaxis\":{\"title\":{\"text\":\"Z\"}}},\"legend\":{\"title\":{\"text\":\"Clases de Segmentaci\\u00f3n\"}}},                        {\"responsive\": true}                    ).then(function(){\n",
       "                            \n",
       "var gd = document.getElementById('87fca967-f618-4c16-9713-8f7228de404e');\n",
       "var x = new MutationObserver(function (mutations, observer) {{\n",
       "        var display = window.getComputedStyle(gd).display;\n",
       "        if (!display || display === 'none') {{\n",
       "            console.log([gd, 'removed!']);\n",
       "            Plotly.purge(gd);\n",
       "            observer.disconnect();\n",
       "        }}\n",
       "}});\n",
       "\n",
       "// Listen for the removal of the full notebook cells\n",
       "var notebookContainer = gd.closest('#notebook-container');\n",
       "if (notebookContainer) {{\n",
       "    x.observe(notebookContainer, {childList: true});\n",
       "}}\n",
       "\n",
       "// Listen for the clearing of the current output cell\n",
       "var outputEl = gd.closest('.output');\n",
       "if (outputEl) {{\n",
       "    x.observe(outputEl, {childList: true});\n",
       "}}\n",
       "\n",
       "                        })                };            </script>        </div>"
      ]
     },
     "metadata": {},
     "output_type": "display_data"
    },
    {
     "data": {
      "application/vnd.plotly.v1+json": {
       "config": {
        "plotlyServerURL": "https://plot.ly"
       },
       "data": [
        {
         "marker": {
          "color": "gray",
          "opacity": 0.8,
          "size": 1.5
         },
         "mode": "markers",
         "name": "[Predicho] Construction",
         "type": "scatter3d",
         "x": {
          "bdata": "/QBGv3YTT7+5Qpq/3exqv97Nrb8E9pe/+n23v4fSpL8a3q+/S+jsv8tfrb9mBY2/PDTiv2G03b9w+qG/z/LIv8Iemb+OIZi/Xdhyv6Mfjj8TVMu/m6mkvyLoo78URG2/Pr+Qv5qz3b9CO66/Bg6bv584hb/VUKW/vm6nvwvixb/1LNO/HGHSv0/5eb/SrZe/cAS2v3gNk79+wQLAZWWLv1pzmr+23L6/9yR3v08B0b9TYne/vd6wv0781L/4U7K/2LSlv/zapr+gg6O/ODWBv5oTRT+QEca/oTXev1R1nL8/5dy/QPDRvxHt0L/d14i/jvjLv0Rd4r+wGLq/PODiv8LQz7+rO8K//MC0v5nmR79OtMW/eIe9v4ujtb95vqm/ru2xvwzl6L+VNPe/QJjcvyuZ0r84F9C/f2Siv5g2mL8YaMq/tD/Iv7ozqL8iwKy/7Nycv+9Rcr9HiMm/xSTFv2uPu791C4a/Cd6Nv+kud79KKYO/k80PwPZ3y78D1Ye/6iadvypDuL+um6a/pv6rv1O9RD9Htsi/ukCVv1Tjsr9lrLu/kJv2v+aaob/qpZy/YGGDv2MhyL8oL4C/MIjLvx/8Xr9IZ8+/nFiyv2LDzr/cD5u/w3bnv/fI4L9DHtm/YsZFP/busb/BY4a/ah+jv4O00784wJa/eDm3v99r0r+i8aa/aIaxv+Fk27/vn8y/5veqvzxFkb/4fdC/oSk4v/oh4r/8AMa/m9Pcv39j1L+u3by/MgHLvwQi2r/Y/V6/hyvHv5WBh79Tn4a/5nLWv1U0vL8bqc2/3CKev7D3sr8EGam//w9lv8ZGy7+XcLa/pRODv3wDDsCmMNC/zGddv0Qhl79CMH2/bnigv6UdsL9nk4S/IPCev6C47r9VD5u/knPDv4Ah9r9ggaG/zjXfv9E8bb/S6Ke/BmFsvzyBiL/E75a/",
          "dtype": "f4"
         },
         "y": {
          "bdata": "4vSjv8nqnb9APoG/MiiQv5gCnL+YJW6/seGVv5qXnb/2YFa/lbsQv7punL/VrM+/UOgjv9aliL/xhZK/lYw2v0wOxL/CMoO/jlmFvyC7Jr5oOJe/jcyGvw96l79kusC/V6OVv5Y6z74J5G6/D1eSvwmblb/5pZq/YFomv0xbSb8/oJa/crycv6Irq7+Dq22/QkJ8vxiJjL/q0DK/E1trv2u9lL+olSG/SUqwv1lh/r4ekri/uZOQv4tqeb8f0ZC/+WCBv7Chp7+PB5G/Fo9zv7mhAD+sdou/1gsQvxskk78o0iq/nlSavyvvnb8IspW/UD6Qv35GGb8cFpq/w1wdv4Eljb8KDuu+m0cLv/P+q79IIUe/8sGbv3Y3Cr8ovJK/lGF+vypVk79iwBK/mhwGvyaVBb+m8Au/HVKSv6UcgL/voK2/XdGtv+QiL7/uHJC/BZ+Tv6zBj788Qa6/hGAovyfbnL/SUqC/T2Z0v6rmmr/BSZa/EsPmvpQLLL9w3o+/meePvzMnir9Pl5C/fl5evxtM+j6p1qy/R3mDv/8CVr9fWZG/gJgPv8Bsor/q0Y2/ffJ7v/XuML9oNJa/No2Wv4ZRrr+iHgO/UsiGv9nyjL9vu2e/pcg5v6RH7r5K6oa/yXEDP3Kqkb9ONKS/L89cv3VWEb+jN4K/AuFxv8BooL9RhUq/HqV9v+7znL+VwwS/axSQv2Rgt7/pqXW/O8bNv7dbPr+ivK6/TxIev6U5Fr8VNpu/Gtc3v/kBkr/pq6K/u9OTv+XTlb9azW6/DBxKvzKQnL+l2I6/ojmJvxApkL+IbpO/6/XKv1hPFb+Pu46/DweWv/RgAL/bWI2/Ldmcv/Q3pb+PmI+/PXtmv8vgNb+E7YW/IJtmv7FuCr9EBbK/9XJ8v7obf7+GGUS/UB0KvycMpr9YoZe/RGORv11blb9T7LW/",
          "dtype": "f4"
         },
         "z": {
          "bdata": "RkLAP6L4qj/0+Lw/DDeDPyNTWj20grk/2RfJv/9+Aj/dRzs/zd+JP31QsD0qBgdAh9C4vTD1kD42vrI/XmyQP3NY9j+HYEs+JfmuP0WPcL9CgNI/q7fYP/3RqT/4LPo/aH7OPpeyoT+bnnM/jR6gvEuNKT9zudI+Vm2kP55JFD+xYEi/qH2lP46huD/0wrU/XZ+BPn506j6eh/i/zU/cP/+/ID2+Gjg/iJ3HP6RYZj8xB94/0qDDP29drD9/jac/2HEMPtMo1T9h5o4/Agq5P3yEgL8GOO0/xj6dvZK8IT3moJ4/yBCpP4xajj+M4CI/ZFHrP3Bauj8n7bY/M9c5viRGvL7p9I4/2nGsP8c60z8nABQ/Njx7v28Czj/4mSG/l2lqvv/ooz5N+Wg/xhrXP3d36D2/mAI/fdGuP/iTsD+Iugi/Fbnlvyfnjz/W/SC+fbUFPpeFeT9/5FS/grfnPtgXsr8TopE/6ZmsP+LejD/s0DA/XV+/v0bSNz+xhkw/SYMtvgB8QD6tq0c/dqj1Ppqcfr/1ZgHAMAiNP3ncSj9Z0qY/d5hwP3Hyuj/rRym+2fOjPwwFEkAk6uk+Q5RYQDrozj9n2QE/BP1Yvuaiqb47ihdAV5byP9RR1z8Iubo//sqBv0by3j+lXps/J3rQPyD/Yz+cScM/DBaivvNAm7+jtAw/mvmDvj6+EsDoqh0/iOY+vmGzxT/TwaE+ghseQHBABECBzNa/IO8rPE0Rrz7OwiK/z1sqP5DokT/R468/7OryP9U6kT5UyaQ/Ha5EQClzv7972Qm/ctyQvctnyD8IlxG/tQEOQEi6nj8I86M/5R04Px97+b/zDoi+iBqhPyG3zT9dJWY/W7wLQKzdhj/VDE0/WegYQIJ1pj+Yac4/3Ga6P5PAvz9Ig9s/PvqiPyPtrz8pvCy/TYZyPxg9oD6i/B1A",
          "dtype": "f4"
         }
        },
        {
         "marker": {
          "color": "lightgreen",
          "opacity": 0.8,
          "size": 1.5
         },
         "mode": "markers",
         "name": "[Predicho] Drivable Vegetation",
         "type": "scatter3d",
         "x": {
          "bdata": "L0XwPhi4zT3ptaw/gVAZv+xJkj5s+Bs/K+8BPzCq3j2zfYW/npApP1roLD/tCgA/3bIkPyqBeb+gp4k+99afPVwmMT8bbJY+xX2PPkOuZ7+B4/m+PUbRPksLBj8D5oS/9aaCv2Y6KT9wMzI/BpXSPuHiRj2EZA0/+9zwPoGBWT7IaYG/Y/YIP+z9e7/Y/ow870gaPwfyRz9QOqM9BuCsPlNU6L4c4Cc/AB/Yvyi/PT/9FD4/Subhvdj/Tz65he89ED5QvwwcBz/8M7k+5RBqPp7eRT/Z2aU+G535PqDakb43yVI/YtU8P9tMVj/yf1Q+u6n4PgUdg7+zW5O/xyr9PjCt475UyJo+yGnfv/gsDj9KzxG9Njgqv+Atg7+krCk/U6mmPtq6kL+0gA4/Xp0mvy1siT4iSY2/lX7lve1MTL/8LyY+URC2PozFVD+PPAM/ZQ2IPndAgb/K1So9WEAvP7c7Ez+B+FC9Orh0PmShRj+AH9M8WKefvwApsz5ppw6+szj9PlFl/D7EILy/qxX1PEtPVj4Q0aW9ie/DPtL157+Hc6g+W7govQBWUD7wC+C9VY9RP+WxPT9mI2g/+JhkP6g6Wj+mASw/9gDMPs5NFz9zTNu+kyjHPjHjeb8//t8+0z9zvXyeAz85bWi/KWqMPnK/LT2pL6o+ieJNP8Sfmj6Hrj0+mGtyPmQd9z6+68O9bMmevXNIjD9e2bA+hvdSPfiXCj8m9O2+Cj2VPucPUL8+DgG/uw8pPzGOQD/8uc2+lEwsvo3CCD+sLzU/zwC+v6+8tb7TXwy+kvbHvqpmWD8WUJQ+Mq2HPjwmHT5ROZe/qm6kPkH4H7+vinm/UdZFPh8+Jz+IFVI/KPDIPlsMp740uFa/8iNhPCGjqr59+xc/7PlFvyOOMb+A4+K/zHlkvfXNL78lxkA93kSUPkfOer47Tg2+phYGP99vaj+OTB69Ad0ZP1PxJb5BCcg+Lc3bv/hUUr9fZwo/4VSTv9/MBb6IiB+/aDSYv4SdYT8MCg+/oHG4v0EYKD9vdOI+gvKyvSGvhT4GwPw+DhkzP2spub5P3zQ/Lc+GPhiPFr8SrVc/V7osP6oeVT9HR24/croMvWsi+zxJIDc/8EhaPgs1Lr+WxIA+A7CnPszqVz9RCdM+",
          "dtype": "f4"
         },
         "y": {
          "bdata": "VUW2PjgXBUAWpIy/MIgqP3uX5D8H2U89tOY5vqKZuD8XpP4/5WTkP6FLrr3SDls+I7urPrp76j/oMDU8xA/zP0YLIj396Zk9A/mSPvdScD/emqs/+fZrPQ74Lr5eWbs/vMTsP0J8cj4QxA0/5JnRPCeIQj8GwEQ//kwvP4ugrD+DUfI/1XKkP3IiA0ChY/A/oorMvCzSjLx0xw8/+RPdPumkkT/U3I4+E2N8PyynPj8KSj8+W1mMP08ArT/Nw28/j2qTPwLRzj9l2sM+cZvPPkPXBz9zh+k+txeEPh4OSj8aZBO+241DPwkt7z9mFIm9TTlhvcCfjj9JMpY/InGyP23hRj81Rzw+kSibP3ANgz/t2uo/U4ESPyHR+D9mfgRA/t3mPuyf9T8KZ78+VOzAP8Bjxz+op4c/ghfqP4fOlr+61o6+JhGYP2BYzj/8E349ZeyvPpRJ9z/tn/Q/TboVP4wheT/88+o/4fuqPwoDbj87kkQ/2d/sP9F3zz5IM+o/reJ0PmC8dj5sUFs/+syxP5ZIiL3/UnU/V83wP+0pkj8Y1OQ+aKhHPx3NJD+5UHM/rjz5P1AOhD9539Q/NqATvtHqwD8Of3k/Vv12PgQaIz/u25E/VoiMPqLrTT9v/eQ+Ie7qP49ZCj8E7Pg/QGULP/9Mcz95qd8+updSP5JIQD4tSO4+c+0QvajMKD/o/iE/Rj0hP2g6XL6HNtI+EyLwP6c4E75mbyk/pBAaviUQJD/FrCg/w9DAP+M+8T/eZoM/sIPpPxhP8D5irI8/hjWtvx3dl7+HSuo/BwaSP2AnbDyr2wU/2SanP/2EMz/As5U/k9HrPvxWrz8zfYo/YWOqvaup/D/wjBm+fJRbPy1nOz/UX6g//T0aP4yaFT/rqkK+fxtEP+Sl7D6+R5U/hUvrP7P5Az9yqEM/D6mDPiqXHz9dK7M/WL8BP4qw/T/u7Ec/Hp0YP0bRuT+1Azi+crtzP5fkkT82H4c/On/uPySfIj8WPK8/Z7BHP5YryT+1FGg/n9yAP54k+z9Mi0I/qqLqPxArtD5Jdhm9mcNju7gskj9ODqs/WCGwPuMkhD8clZQ8gNopPw0WsD1rPuc/2LHqP5Se8z8wGKk/R80hPy2HBj8Hq1I/hKA0P6UtuT9uDtk9",
          "dtype": "f4"
         },
         "z": {
          "bdata": "MUyVvxp7KcDBtI6/EUj3vw01D8AcXpi/s+Gav4W3DcBWXgXADafjv36Jlr9yoJW/dEyGv+vCN8DYO62/RdSwvyELkb+ljKq/RNOhv52QBsDYoua/0x6mv5imnL/85NS/TDUlwC6fhr9gF4y/Nk+rvxbQ2L/lfaq/8ESrvxhOBMClRue//DXPv5L8+b+VYN2/mKacv7EDj7/oB8G/kjKhv4SK2L+Aioa/jxwPwL/Gk78lioG/Vb7lvx1tBMB4OOm/Hzrcv8G77L+XEZ+/NLSovycyg789qaK/gxqTv7lx6b+Rh4q/24+VvzDB0b+l562/NKujv4pV77/vCAXA76nfvwaK+79c2KS/Vt0NwPNIvb80dZy/WSrvv2Hf9r/9uPa/4Nyhv8/n07/vxo6/2WTBv8nPCcCLDwzAr9bKv1P6ScD2NLy/GbDrv1Rrv78VS56/24WmvzJ19L9xecq/6F+NvwyDtr9a4cu/73QDwEBBm7/SaNq/bHblv8Z3n7/ACLO/m4eUv0UXlL9l2QjAaQAGwH1orr/3j+i/rWwJwKzfDsDu/qG/nSPcv57Mv7/d0eW/ER7avyZ7pL9Q+bm/abqDv7dotL8Ax6m/AJybvxV3m7/sKte/ZEeav6RHAMD36pi/rxqov9Krmb+BhNm/P5Ktv3g46b9SqqC/4CSSv2itpL8xaq+/sbytv9d5qL8pg9e/ngDWv1xVeb+XEZ+/vrm9v+t2nL9hFtW/sl+sv+q37b8KEt2/PyDNv8WV3L/kA96/f7aqv/Plk7+Gl62/Kh9JwJfeOcC6Pq+/MxHVvzwshb8XC6u/upYAwMY8zb850QbAXu2iv1Ye17+1BQTAPT+vvyq28b+Rh4q/i7bFvzvz1r8Zqv2/YcbMv09d2r/y2ZG/+QQAwAUz37/cXw3AOECwvyw/6L/iitq/HlSiv1qN3b+hRui/DLGWv0xB0L/bq9y//WyXvzOG1b8GIqK/0L8PwJjx2r/JfcG/ezQAwJCG2b8sd/W/gRb8v0wgtr/CL/2/aBYPwGg+8L9Wcba/zairv9uFpr8Ic6O/lT6Vv5ux07/iTbi/KISlv8qX8r/7iIS/0gCVvyKlgL/Vj8K/K5HEv+Xc87+b4La/hGe9v0qD6L/pStK/WV27vyyssb89qaK/",
          "dtype": "f4"
         }
        },
        {
         "marker": {
          "color": "darkgreen",
          "opacity": 0.8,
          "size": 1.5
         },
         "mode": "markers",
         "name": "[Predicho] Non Drivable Vegetation",
         "type": "scatter3d",
         "x": {
          "bdata": "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",
          "dtype": "f4"
         },
         "y": {
          "bdata": "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",
          "dtype": "f4"
         },
         "z": {
          "bdata": "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",
          "dtype": "f4"
         }
        },
        {
         "marker": {
          "color": "black",
          "opacity": 0.8,
          "size": 1.5
         },
         "mode": "markers",
         "name": "[Predicho] Void",
         "type": "scatter3d",
         "x": {
          "bdata": "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",
          "dtype": "f4"
         },
         "y": {
          "bdata": "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",
          "dtype": "f4"
         },
         "z": {
          "bdata": "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",
          "dtype": "f4"
         }
        }
       ],
       "layout": {
        "legend": {
         "title": {
          "text": "Clases de Segmentación"
         }
        },
        "scene": {
         "xaxis": {
          "title": {
           "text": "X"
          }
         },
         "yaxis": {
          "title": {
           "text": "Y"
          }
         },
         "zaxis": {
          "title": {
           "text": "Z"
          }
         }
        },
        "template": {
         "data": {
          "bar": [
           {
            "error_x": {
             "color": "#2a3f5f"
            },
            "error_y": {
             "color": "#2a3f5f"
            },
            "marker": {
             "line": {
              "color": "#E5ECF6",
              "width": 0.5
             },
             "pattern": {
              "fillmode": "overlay",
              "size": 10,
              "solidity": 0.2
             }
            },
            "type": "bar"
           }
          ],
          "barpolar": [
           {
            "marker": {
             "line": {
              "color": "#E5ECF6",
              "width": 0.5
             },
             "pattern": {
              "fillmode": "overlay",
              "size": 10,
              "solidity": 0.2
             }
            },
            "type": "barpolar"
           }
          ],
          "carpet": [
           {
            "aaxis": {
             "endlinecolor": "#2a3f5f",
             "gridcolor": "white",
             "linecolor": "white",
             "minorgridcolor": "white",
             "startlinecolor": "#2a3f5f"
            },
            "baxis": {
             "endlinecolor": "#2a3f5f",
             "gridcolor": "white",
             "linecolor": "white",
             "minorgridcolor": "white",
             "startlinecolor": "#2a3f5f"
            },
            "type": "carpet"
           }
          ],
          "choropleth": [
           {
            "colorbar": {
             "outlinewidth": 0,
             "ticks": ""
            },
            "type": "choropleth"
           }
          ],
          "contour": [
           {
            "colorbar": {
             "outlinewidth": 0,
             "ticks": ""
            },
            "colorscale": [
             [
              0,
              "#0d0887"
             ],
             [
              0.1111111111111111,
              "#46039f"
             ],
             [
              0.2222222222222222,
              "#7201a8"
             ],
             [
              0.3333333333333333,
              "#9c179e"
             ],
             [
              0.4444444444444444,
              "#bd3786"
             ],
             [
              0.5555555555555556,
              "#d8576b"
             ],
             [
              0.6666666666666666,
              "#ed7953"
             ],
             [
              0.7777777777777778,
              "#fb9f3a"
             ],
             [
              0.8888888888888888,
              "#fdca26"
             ],
             [
              1,
              "#f0f921"
             ]
            ],
            "type": "contour"
           }
          ],
          "contourcarpet": [
           {
            "colorbar": {
             "outlinewidth": 0,
             "ticks": ""
            },
            "type": "contourcarpet"
           }
          ],
          "heatmap": [
           {
            "colorbar": {
             "outlinewidth": 0,
             "ticks": ""
            },
            "colorscale": [
             [
              0,
              "#0d0887"
             ],
             [
              0.1111111111111111,
              "#46039f"
             ],
             [
              0.2222222222222222,
              "#7201a8"
             ],
             [
              0.3333333333333333,
              "#9c179e"
             ],
             [
              0.4444444444444444,
              "#bd3786"
             ],
             [
              0.5555555555555556,
              "#d8576b"
             ],
             [
              0.6666666666666666,
              "#ed7953"
             ],
             [
              0.7777777777777778,
              "#fb9f3a"
             ],
             [
              0.8888888888888888,
              "#fdca26"
             ],
             [
              1,
              "#f0f921"
             ]
            ],
            "type": "heatmap"
           }
          ],
          "histogram": [
           {
            "marker": {
             "pattern": {
              "fillmode": "overlay",
              "size": 10,
              "solidity": 0.2
             }
            },
            "type": "histogram"
           }
          ],
          "histogram2d": [
           {
            "colorbar": {
             "outlinewidth": 0,
             "ticks": ""
            },
            "colorscale": [
             [
              0,
              "#0d0887"
             ],
             [
              0.1111111111111111,
              "#46039f"
             ],
             [
              0.2222222222222222,
              "#7201a8"
             ],
             [
              0.3333333333333333,
              "#9c179e"
             ],
             [
              0.4444444444444444,
              "#bd3786"
             ],
             [
              0.5555555555555556,
              "#d8576b"
             ],
             [
              0.6666666666666666,
              "#ed7953"
             ],
             [
              0.7777777777777778,
              "#fb9f3a"
             ],
             [
              0.8888888888888888,
              "#fdca26"
             ],
             [
              1,
              "#f0f921"
             ]
            ],
            "type": "histogram2d"
           }
          ],
          "histogram2dcontour": [
           {
            "colorbar": {
             "outlinewidth": 0,
             "ticks": ""
            },
            "colorscale": [
             [
              0,
              "#0d0887"
             ],
             [
              0.1111111111111111,
              "#46039f"
             ],
             [
              0.2222222222222222,
              "#7201a8"
             ],
             [
              0.3333333333333333,
              "#9c179e"
             ],
             [
              0.4444444444444444,
              "#bd3786"
             ],
             [
              0.5555555555555556,
              "#d8576b"
             ],
             [
              0.6666666666666666,
              "#ed7953"
             ],
             [
              0.7777777777777778,
              "#fb9f3a"
             ],
             [
              0.8888888888888888,
              "#fdca26"
             ],
             [
              1,
              "#f0f921"
             ]
            ],
            "type": "histogram2dcontour"
           }
          ],
          "mesh3d": [
           {
            "colorbar": {
             "outlinewidth": 0,
             "ticks": ""
            },
            "type": "mesh3d"
           }
          ],
          "parcoords": [
           {
            "line": {
             "colorbar": {
              "outlinewidth": 0,
              "ticks": ""
             }
            },
            "type": "parcoords"
           }
          ],
          "pie": [
           {
            "automargin": true,
            "type": "pie"
           }
          ],
          "scatter": [
           {
            "fillpattern": {
             "fillmode": "overlay",
             "size": 10,
             "solidity": 0.2
            },
            "type": "scatter"
           }
          ],
          "scatter3d": [
           {
            "line": {
             "colorbar": {
              "outlinewidth": 0,
              "ticks": ""
             }
            },
            "marker": {
             "colorbar": {
              "outlinewidth": 0,
              "ticks": ""
             }
            },
            "type": "scatter3d"
           }
          ],
          "scattercarpet": [
           {
            "marker": {
             "colorbar": {
              "outlinewidth": 0,
              "ticks": ""
             }
            },
            "type": "scattercarpet"
           }
          ],
          "scattergeo": [
           {
            "marker": {
             "colorbar": {
              "outlinewidth": 0,
              "ticks": ""
             }
            },
            "type": "scattergeo"
           }
          ],
          "scattergl": [
           {
            "marker": {
             "colorbar": {
              "outlinewidth": 0,
              "ticks": ""
             }
            },
            "type": "scattergl"
           }
          ],
          "scattermap": [
           {
            "marker": {
             "colorbar": {
              "outlinewidth": 0,
              "ticks": ""
             }
            },
            "type": "scattermap"
           }
          ],
          "scattermapbox": [
           {
            "marker": {
             "colorbar": {
              "outlinewidth": 0,
              "ticks": ""
             }
            },
            "type": "scattermapbox"
           }
          ],
          "scatterpolar": [
           {
            "marker": {
             "colorbar": {
              "outlinewidth": 0,
              "ticks": ""
             }
            },
            "type": "scatterpolar"
           }
          ],
          "scatterpolargl": [
           {
            "marker": {
             "colorbar": {
              "outlinewidth": 0,
              "ticks": ""
             }
            },
            "type": "scatterpolargl"
           }
          ],
          "scatterternary": [
           {
            "marker": {
             "colorbar": {
              "outlinewidth": 0,
              "ticks": ""
             }
            },
            "type": "scatterternary"
           }
          ],
          "surface": [
           {
            "colorbar": {
             "outlinewidth": 0,
             "ticks": ""
            },
            "colorscale": [
             [
              0,
              "#0d0887"
             ],
             [
              0.1111111111111111,
              "#46039f"
             ],
             [
              0.2222222222222222,
              "#7201a8"
             ],
             [
              0.3333333333333333,
              "#9c179e"
             ],
             [
              0.4444444444444444,
              "#bd3786"
             ],
             [
              0.5555555555555556,
              "#d8576b"
             ],
             [
              0.6666666666666666,
              "#ed7953"
             ],
             [
              0.7777777777777778,
              "#fb9f3a"
             ],
             [
              0.8888888888888888,
              "#fdca26"
             ],
             [
              1,
              "#f0f921"
             ]
            ],
            "type": "surface"
           }
          ],
          "table": [
           {
            "cells": {
             "fill": {
              "color": "#EBF0F8"
             },
             "line": {
              "color": "white"
             }
            },
            "header": {
             "fill": {
              "color": "#C8D4E3"
             },
             "line": {
              "color": "white"
             }
            },
            "type": "table"
           }
          ]
         },
         "layout": {
          "annotationdefaults": {
           "arrowcolor": "#2a3f5f",
           "arrowhead": 0,
           "arrowwidth": 1
          },
          "autotypenumbers": "strict",
          "coloraxis": {
           "colorbar": {
            "outlinewidth": 0,
            "ticks": ""
           }
          },
          "colorscale": {
           "diverging": [
            [
             0,
             "#8e0152"
            ],
            [
             0.1,
             "#c51b7d"
            ],
            [
             0.2,
             "#de77ae"
            ],
            [
             0.3,
             "#f1b6da"
            ],
            [
             0.4,
             "#fde0ef"
            ],
            [
             0.5,
             "#f7f7f7"
            ],
            [
             0.6,
             "#e6f5d0"
            ],
            [
             0.7,
             "#b8e186"
            ],
            [
             0.8,
             "#7fbc41"
            ],
            [
             0.9,
             "#4d9221"
            ],
            [
             1,
             "#276419"
            ]
           ],
           "sequential": [
            [
             0,
             "#0d0887"
            ],
            [
             0.1111111111111111,
             "#46039f"
            ],
            [
             0.2222222222222222,
             "#7201a8"
            ],
            [
             0.3333333333333333,
             "#9c179e"
            ],
            [
             0.4444444444444444,
             "#bd3786"
            ],
            [
             0.5555555555555556,
             "#d8576b"
            ],
            [
             0.6666666666666666,
             "#ed7953"
            ],
            [
             0.7777777777777778,
             "#fb9f3a"
            ],
            [
             0.8888888888888888,
             "#fdca26"
            ],
            [
             1,
             "#f0f921"
            ]
           ],
           "sequentialminus": [
            [
             0,
             "#0d0887"
            ],
            [
             0.1111111111111111,
             "#46039f"
            ],
            [
             0.2222222222222222,
             "#7201a8"
            ],
            [
             0.3333333333333333,
             "#9c179e"
            ],
            [
             0.4444444444444444,
             "#bd3786"
            ],
            [
             0.5555555555555556,
             "#d8576b"
            ],
            [
             0.6666666666666666,
             "#ed7953"
            ],
            [
             0.7777777777777778,
             "#fb9f3a"
            ],
            [
             0.8888888888888888,
             "#fdca26"
            ],
            [
             1,
             "#f0f921"
            ]
           ]
          },
          "colorway": [
           "#636efa",
           "#EF553B",
           "#00cc96",
           "#ab63fa",
           "#FFA15A",
           "#19d3f3",
           "#FF6692",
           "#B6E880",
           "#FF97FF",
           "#FECB52"
          ],
          "font": {
           "color": "#2a3f5f"
          },
          "geo": {
           "bgcolor": "white",
           "lakecolor": "white",
           "landcolor": "#E5ECF6",
           "showlakes": true,
           "showland": true,
           "subunitcolor": "white"
          },
          "hoverlabel": {
           "align": "left"
          },
          "hovermode": "closest",
          "mapbox": {
           "style": "light"
          },
          "paper_bgcolor": "white",
          "plot_bgcolor": "#E5ECF6",
          "polar": {
           "angularaxis": {
            "gridcolor": "white",
            "linecolor": "white",
            "ticks": ""
           },
           "bgcolor": "#E5ECF6",
           "radialaxis": {
            "gridcolor": "white",
            "linecolor": "white",
            "ticks": ""
           }
          },
          "scene": {
           "xaxis": {
            "backgroundcolor": "#E5ECF6",
            "gridcolor": "white",
            "gridwidth": 2,
            "linecolor": "white",
            "showbackground": true,
            "ticks": "",
            "zerolinecolor": "white"
           },
           "yaxis": {
            "backgroundcolor": "#E5ECF6",
            "gridcolor": "white",
            "gridwidth": 2,
            "linecolor": "white",
            "showbackground": true,
            "ticks": "",
            "zerolinecolor": "white"
           },
           "zaxis": {
            "backgroundcolor": "#E5ECF6",
            "gridcolor": "white",
            "gridwidth": 2,
            "linecolor": "white",
            "showbackground": true,
            "ticks": "",
            "zerolinecolor": "white"
           }
          },
          "shapedefaults": {
           "line": {
            "color": "#2a3f5f"
           }
          },
          "ternary": {
           "aaxis": {
            "gridcolor": "white",
            "linecolor": "white",
            "ticks": ""
           },
           "baxis": {
            "gridcolor": "white",
            "linecolor": "white",
            "ticks": ""
           },
           "bgcolor": "#E5ECF6",
           "caxis": {
            "gridcolor": "white",
            "linecolor": "white",
            "ticks": ""
           }
          },
          "title": {
           "x": 0.05
          },
          "xaxis": {
           "automargin": true,
           "gridcolor": "white",
           "linecolor": "white",
           "ticks": "",
           "title": {
            "standoff": 15
           },
           "zerolinecolor": "white",
           "zerolinewidth": 2
          },
          "yaxis": {
           "automargin": true,
           "gridcolor": "white",
           "linecolor": "white",
           "ticks": "",
           "title": {
            "standoff": 15
           },
           "zerolinecolor": "white",
           "zerolinewidth": 2
          }
         }
        },
        "title": {
         "text": "Segmentación Predicha - Índice 500"
        }
       }
      },
      "text/html": [
       "<div>            <script src=\"https://cdnjs.cloudflare.com/ajax/libs/mathjax/2.7.5/MathJax.js?config=TeX-AMS-MML_SVG\"></script><script type=\"text/javascript\">if (window.MathJax && window.MathJax.Hub && window.MathJax.Hub.Config) {window.MathJax.Hub.Config({SVG: {font: \"STIX-Web\"}});}</script>                <script type=\"text/javascript\">window.PlotlyConfig = {MathJaxConfig: 'local'};</script>\n",
       "        <script charset=\"utf-8\" src=\"https://cdn.plot.ly/plotly-3.0.0.min.js\"></script>                <div id=\"ffa31716-f8d0-4cf0-bbc4-68ec8072d37a\" class=\"plotly-graph-div\" style=\"height:525px; width:100%;\"></div>            <script type=\"text/javascript\">                window.PLOTLYENV=window.PLOTLYENV || {};                                if (document.getElementById(\"ffa31716-f8d0-4cf0-bbc4-68ec8072d37a\")) {                    Plotly.newPlot(                        \"ffa31716-f8d0-4cf0-bbc4-68ec8072d37a\",                        [{\"marker\":{\"color\":\"gray\",\"opacity\":0.8,\"size\":1.5},\"mode\":\"markers\",\"name\":\"[Predicho] Construction\",\"x\":{\"dtype\":\"f4\",\"bdata\":\"\\u002fQBGv3YTT7+5Qpq\\u002f3exqv97Nrb8E9pe\\u002f+n23v4fSpL8a3q+\\u002fS+jsv8tfrb9mBY2\\u002fPDTiv2G03b9w+qG\\u002fz\\u002fLIv8Iemb+OIZi\\u002fXdhyv6Mfjj8TVMu\\u002fm6mkvyLoo78URG2\\u002fPr+Qv5qz3b9CO66\\u002fBg6bv584hb\\u002fVUKW\\u002fvm6nvwvixb\\u002f1LNO\\u002fHGHSv0\\u002f5eb\\u002fSrZe\\u002fcAS2v3gNk79+wQLAZWWLv1pzmr+23L6\\u002f9yR3v08B0b9TYne\\u002fvd6wv0781L\\u002f4U7K\\u002f2LSlv\\u002fzapr+gg6O\\u002fODWBv5oTRT+QEca\\u002foTXev1R1nL8\\u002f5dy\\u002fQPDRvxHt0L\\u002fd14i\\u002fjvjLv0Rd4r+wGLq\\u002fPODiv8LQz7+rO8K\\u002f\\u002fMC0v5nmR79OtMW\\u002feIe9v4ujtb95vqm\\u002fru2xvwzl6L+VNPe\\u002fQJjcvyuZ0r84F9C\\u002ff2Siv5g2mL8YaMq\\u002ftD\\u002fIv7ozqL8iwKy\\u002f7Nycv+9Rcr9HiMm\\u002fxSTFv2uPu791C4a\\u002fCd6Nv+kud79KKYO\\u002fk80PwPZ3y78D1Ye\\u002f6iadvypDuL+um6a\\u002fpv6rv1O9RD9Htsi\\u002fukCVv1Tjsr9lrLu\\u002fkJv2v+aaob\\u002fqpZy\\u002fYGGDv2MhyL8oL4C\\u002fMIjLvx\\u002f8Xr9IZ8+\\u002fnFiyv2LDzr\\u002fcD5u\\u002fw3bnv\\u002ffI4L9DHtm\\u002fYsZFP\\u002fbusb\\u002fBY4a\\u002fah+jv4O00784wJa\\u002feDm3v99r0r+i8aa\\u002faIaxv+Fk27\\u002fvn8y\\u002f5veqvzxFkb\\u002f4fdC\\u002foSk4v\\u002foh4r\\u002f8AMa\\u002fm9Pcv39j1L+u3by\\u002fMgHLvwQi2r\\u002fY\\u002fV6\\u002fhyvHv5WBh79Tn4a\\u002f5nLWv1U0vL8bqc2\\u002f3CKev7D3sr8EGam\\u002f\\u002fw9lv8ZGy7+XcLa\\u002fpRODv3wDDsCmMNC\\u002fzGddv0Qhl79CMH2\\u002fbnigv6UdsL9nk4S\\u002fIPCev6C47r9VD5u\\u002fknPDv4Ah9r9ggaG\\u002fzjXfv9E8bb\\u002fS6Ke\\u002fBmFsvzyBiL\\u002fE75a\\u002f\"},\"y\":{\"dtype\":\"f4\",\"bdata\":\"4vSjv8nqnb9APoG\\u002fMiiQv5gCnL+YJW6\\u002fseGVv5qXnb\\u002f2YFa\\u002flbsQv7punL\\u002fVrM+\\u002fUOgjv9aliL\\u002fxhZK\\u002flYw2v0wOxL\\u002fCMoO\\u002fjlmFvyC7Jr5oOJe\\u002fjcyGvw96l79kusC\\u002fV6OVv5Y6z74J5G6\\u002fD1eSvwmblb\\u002f5pZq\\u002fYFomv0xbSb8\\u002foJa\\u002fcrycv6Irq7+Dq22\\u002fQkJ8vxiJjL\\u002fq0DK\\u002fE1trv2u9lL+olSG\\u002fSUqwv1lh\\u002fr4ekri\\u002fuZOQv4tqeb8f0ZC\\u002f+WCBv7Chp7+PB5G\\u002fFo9zv7mhAD+sdou\\u002f1gsQvxskk78o0iq\\u002fnlSavyvvnb8IspW\\u002fUD6Qv35GGb8cFpq\\u002fw1wdv4Eljb8KDuu+m0cLv\\u002fP+q79IIUe\\u002f8sGbv3Y3Cr8ovJK\\u002flGF+vypVk79iwBK\\u002fmhwGvyaVBb+m8Au\\u002fHVKSv6UcgL\\u002fvoK2\\u002fXdGtv+QiL7\\u002fuHJC\\u002fBZ+Tv6zBj788Qa6\\u002fhGAovyfbnL\\u002fSUqC\\u002fT2Z0v6rmmr\\u002fBSZa\\u002fEsPmvpQLLL9w3o+\\u002fmeePvzMnir9Pl5C\\u002ffl5evxtM+j6p1qy\\u002fR3mDv\\u002f8CVr9fWZG\\u002fgJgPv8Bsor\\u002fq0Y2\\u002fffJ7v\\u002fXuML9oNJa\\u002fNo2Wv4ZRrr+iHgO\\u002fUsiGv9nyjL9vu2e\\u002fpcg5v6RH7r5K6oa\\u002fyXEDP3Kqkb9ONKS\\u002fL89cv3VWEb+jN4K\\u002fAuFxv8BooL9RhUq\\u002fHqV9v+7znL+VwwS\\u002faxSQv2Rgt7\\u002fpqXW\\u002fO8bNv7dbPr+ivK6\\u002fTxIev6U5Fr8VNpu\\u002fGtc3v\\u002fkBkr\\u002fpq6K\\u002fu9OTv+XTlb9azW6\\u002fDBxKvzKQnL+l2I6\\u002fojmJvxApkL+IbpO\\u002f6\\u002fXKv1hPFb+Pu46\\u002fDweWv\\u002fRgAL\\u002fbWI2\\u002fLdmcv\\u002fQ3pb+PmI+\\u002fPXtmv8vgNb+E7YW\\u002fIJtmv7FuCr9EBbK\\u002f9XJ8v7obf7+GGUS\\u002fUB0KvycMpr9YoZe\\u002fRGORv11blb9T7LW\\u002f\"},\"z\":{\"dtype\":\"f4\",\"bdata\":\"RkLAP6L4qj\\u002f0+Lw\\u002fDDeDPyNTWj20grk\\u002f2RfJv\\u002f9+Aj\\u002fdRzs\\u002fzd+JP31QsD0qBgdAh9C4vTD1kD42vrI\\u002fXmyQP3NY9j+HYEs+JfmuP0WPcL9CgNI\\u002fq7fYP\\u002f3RqT\\u002f4LPo\\u002faH7OPpeyoT+bnnM\\u002fjR6gvEuNKT9zudI+Vm2kP55JFD+xYEi\\u002fqH2lP46huD\\u002f0wrU\\u002fXZ+BPn506j6eh\\u002fi\\u002fzU\\u002fcP\\u002f+\\u002fID2+Gjg\\u002fiJ3HP6RYZj8xB94\\u002f0qDDP29drD9\\u002fjac\\u002f2HEMPtMo1T9h5o4\\u002fAgq5P3yEgL8GOO0\\u002fxj6dvZK8IT3moJ4\\u002fyBCpP4xajj+M4CI\\u002fZFHrP3Bauj8n7bY\\u002fM9c5viRGvL7p9I4\\u002f2nGsP8c60z8nABQ\\u002fNjx7v28Czj\\u002f4mSG\\u002fl2lqvv\\u002fooz5N+Wg\\u002fxhrXP3d36D2\\u002fmAI\\u002ffdGuP\\u002fiTsD+Iugi\\u002fFbnlvyfnjz\\u002fW\\u002fSC+fbUFPpeFeT9\\u002f5FS\\u002fgrfnPtgXsr8TopE\\u002f6ZmsP+LejD\\u002fs0DA\\u002fXV+\\u002fv0bSNz+xhkw\\u002fSYMtvgB8QD6tq0c\\u002fdqj1Ppqcfr\\u002f1ZgHAMAiNP3ncSj9Z0qY\\u002fd5hwP3Hyuj\\u002frRym+2fOjPwwFEkAk6uk+Q5RYQDrozj9n2QE\\u002fBP1Yvuaiqb47ihdAV5byP9RR1z8Iubo\\u002f\\u002fsqBv0by3j+lXps\\u002fJ3rQPyD\\u002fYz+cScM\\u002fDBaivvNAm7+jtAw\\u002fmvmDvj6+EsDoqh0\\u002fiOY+vmGzxT\\u002fTwaE+ghseQHBABECBzNa\\u002fIO8rPE0Rrz7OwiK\\u002fz1sqP5DokT\\u002fR468\\u002f7OryP9U6kT5UyaQ\\u002fHa5EQClzv7972Qm\\u002fctyQvctnyD8IlxG\\u002ftQEOQEi6nj8I86M\\u002f5R04Px97+b\\u002fzDoi+iBqhPyG3zT9dJWY\\u002fW7wLQKzdhj\\u002fVDE0\\u002fWegYQIJ1pj+Yac4\\u002f3Ga6P5PAvz9Ig9s\\u002fPvqiPyPtrz8pvCy\\u002fTYZyPxg9oD6i\\u002fB1A\"},\"type\":\"scatter3d\"},{\"marker\":{\"color\":\"lightgreen\",\"opacity\":0.8,\"size\":1.5},\"mode\":\"markers\",\"name\":\"[Predicho] Drivable Vegetation\",\"x\":{\"dtype\":\"f4\",\"bdata\":\"L0XwPhi4zT3ptaw\\u002fgVAZv+xJkj5s+Bs\\u002fK+8BPzCq3j2zfYW\\u002fnpApP1roLD\\u002ftCgA\\u002f3bIkPyqBeb+gp4k+99afPVwmMT8bbJY+xX2PPkOuZ7+B4\\u002fm+PUbRPksLBj8D5oS\\u002f9aaCv2Y6KT9wMzI\\u002fBpXSPuHiRj2EZA0\\u002f+9zwPoGBWT7IaYG\\u002fY\\u002fYIP+z9e7\\u002fY\\u002fow870gaPwfyRz9QOqM9BuCsPlNU6L4c4Cc\\u002fAB\\u002fYvyi\\u002fPT\\u002f9FD4\\u002fSubhvdj\\u002fTz65he89ED5QvwwcBz\\u002f8M7k+5RBqPp7eRT\\u002fZ2aU+G535PqDakb43yVI\\u002fYtU8P9tMVj\\u002fyf1Q+u6n4PgUdg7+zW5O\\u002fxyr9PjCt475UyJo+yGnfv\\u002fgsDj9KzxG9Njgqv+Atg7+krCk\\u002fU6mmPtq6kL+0gA4\\u002fXp0mvy1siT4iSY2\\u002flX7lve1MTL\\u002f8LyY+URC2PozFVD+PPAM\\u002fZQ2IPndAgb\\u002fK1So9WEAvP7c7Ez+B+FC9Orh0PmShRj+AH9M8WKefvwApsz5ppw6+szj9PlFl\\u002fD7EILy\\u002fqxX1PEtPVj4Q0aW9ie\\u002fDPtL157+Hc6g+W7govQBWUD7wC+C9VY9RP+WxPT9mI2g\\u002f+JhkP6g6Wj+mASw\\u002f9gDMPs5NFz9zTNu+kyjHPjHjeb8\\u002f\\u002ft8+0z9zvXyeAz85bWi\\u002fKWqMPnK\\u002fLT2pL6o+ieJNP8Sfmj6Hrj0+mGtyPmQd9z6+68O9bMmevXNIjD9e2bA+hvdSPfiXCj8m9O2+Cj2VPucPUL8+DgG\\u002fuw8pPzGOQD\\u002f8uc2+lEwsvo3CCD+sLzU\\u002fzwC+v6+8tb7TXwy+kvbHvqpmWD8WUJQ+Mq2HPjwmHT5ROZe\\u002fqm6kPkH4H7+vinm\\u002fUdZFPh8+Jz+IFVI\\u002fKPDIPlsMp740uFa\\u002f8iNhPCGjqr59+xc\\u002f7PlFvyOOMb+A4+K\\u002fzHlkvfXNL78lxkA93kSUPkfOer47Tg2+phYGP99vaj+OTB69Ad0ZP1PxJb5BCcg+Lc3bv\\u002fhUUr9fZwo\\u002f4VSTv9\\u002fMBb6IiB+\\u002faDSYv4SdYT8MCg+\\u002foHG4v0EYKD9vdOI+gvKyvSGvhT4GwPw+DhkzP2spub5P3zQ\\u002fLc+GPhiPFr8SrVc\\u002fV7osP6oeVT9HR24\\u002fcroMvWsi+zxJIDc\\u002f8EhaPgs1Lr+WxIA+A7CnPszqVz9RCdM+\"},\"y\":{\"dtype\":\"f4\",\"bdata\":\"VUW2PjgXBUAWpIy\\u002fMIgqP3uX5D8H2U89tOY5vqKZuD8XpP4\\u002f5WTkP6FLrr3SDls+I7urPrp76j\\u002foMDU8xA\\u002fzP0YLIj396Zk9A\\u002fmSPvdScD\\u002femqs\\u002f+fZrPQ74Lr5eWbs\\u002fvMTsP0J8cj4QxA0\\u002f5JnRPCeIQj8GwEQ\\u002f\\u002fkwvP4ugrD+DUfI\\u002f1XKkP3IiA0ChY\\u002fA\\u002foorMvCzSjLx0xw8\\u002f+RPdPumkkT\\u002fU3I4+E2N8PyynPj8KSj8+W1mMP08ArT\\u002fNw28\\u002fj2qTPwLRzj9l2sM+cZvPPkPXBz9zh+k+txeEPh4OSj8aZBO+241DPwkt7z9mFIm9TTlhvcCfjj9JMpY\\u002fInGyP23hRj81Rzw+kSibP3ANgz\\u002ft2uo\\u002fU4ESPyHR+D9mfgRA\\u002ft3mPuyf9T8KZ78+VOzAP8Bjxz+op4c\\u002fghfqP4fOlr+61o6+JhGYP2BYzj\\u002f8E349ZeyvPpRJ9z\\u002ftn\\u002fQ\\u002fTboVP4wheT\\u002f88+o\\u002f4fuqPwoDbj87kkQ\\u002f2d\\u002fsP9F3zz5IM+o\\u002freJ0PmC8dj5sUFs\\u002f+syxP5ZIiL3\\u002fUnU\\u002fV83wP+0pkj8Y1OQ+aKhHPx3NJD+5UHM\\u002frjz5P1AOhD9539Q\\u002fNqATvtHqwD8Of3k\\u002fVv12PgQaIz\\u002fu25E\\u002fVoiMPqLrTT9v\\u002feQ+Ie7qP49ZCj8E7Pg\\u002fQGULP\\u002f9Mcz95qd8+updSP5JIQD4tSO4+c+0QvajMKD\\u002fo\\u002fiE\\u002fRj0hP2g6XL6HNtI+EyLwP6c4E75mbyk\\u002fpBAaviUQJD\\u002fFrCg\\u002fw9DAP+M+8T\\u002feZoM\\u002fsIPpPxhP8D5irI8\\u002fhjWtvx3dl7+HSuo\\u002fBwaSP2AnbDyr2wU\\u002f2SanP\\u002f2EMz\\u002fAs5U\\u002fk9HrPvxWrz8zfYo\\u002fYWOqvaup\\u002fD\\u002fwjBm+fJRbPy1nOz\\u002fUX6g\\u002f\\u002fT0aP4yaFT\\u002frqkK+fxtEP+Sl7D6+R5U\\u002fhUvrP7P5Az9yqEM\\u002fD6mDPiqXHz9dK7M\\u002fWL8BP4qw\\u002fT\\u002fu7Ec\\u002fHp0YP0bRuT+1Azi+crtzP5fkkT82H4c\\u002fOn\\u002fuPySfIj8WPK8\\u002fZ7BHP5YryT+1FGg\\u002fn9yAP54k+z9Mi0I\\u002fqqLqPxArtD5Jdhm9mcNju7gskj9ODqs\\u002fWCGwPuMkhD8clZQ8gNopPw0WsD1rPuc\\u002f2LHqP5Se8z8wGKk\\u002fR80hPy2HBj8Hq1I\\u002fhKA0P6UtuT9uDtk9\"},\"z\":{\"dtype\":\"f4\",\"bdata\":\"MUyVvxp7KcDBtI6\\u002fEUj3vw01D8AcXpi\\u002fs+Gav4W3DcBWXgXADafjv36Jlr9yoJW\\u002fdEyGv+vCN8DYO62\\u002fRdSwvyELkb+ljKq\\u002fRNOhv52QBsDYoua\\u002f0x6mv5imnL\\u002f85NS\\u002fTDUlwC6fhr9gF4y\\u002fNk+rvxbQ2L\\u002flfaq\\u002f8ESrvxhOBMClRue\\u002f\\u002fDXPv5L8+b+VYN2\\u002fmKacv7EDj7\\u002foB8G\\u002fkjKhv4SK2L+Aioa\\u002fjxwPwL\\u002fGk78lioG\\u002fVb7lvx1tBMB4OOm\\u002fHzrcv8G77L+XEZ+\\u002fNLSovycyg789qaK\\u002fgxqTv7lx6b+Rh4q\\u002f24+VvzDB0b+l562\\u002fNKujv4pV77\\u002fvCAXA76nfvwaK+79c2KS\\u002fVt0NwPNIvb80dZy\\u002fWSrvv2Hf9r\\u002f9uPa\\u002f4Nyhv8\\u002fn07\\u002fvxo6\\u002f2WTBv8nPCcCLDwzAr9bKv1P6ScD2NLy\\u002fGbDrv1Rrv78VS56\\u002f24WmvzJ19L9xecq\\u002f6F+NvwyDtr9a4cu\\u002f73QDwEBBm7\\u002fSaNq\\u002fbHblv8Z3n7\\u002fACLO\\u002fm4eUv0UXlL9l2QjAaQAGwH1orr\\u002f3j+i\\u002frWwJwKzfDsDu\\u002fqG\\u002fnSPcv57Mv7\\u002fd0eW\\u002fER7avyZ7pL9Q+bm\\u002fabqDv7dotL8Ax6m\\u002fAJybvxV3m7\\u002fsKte\\u002fZEeav6RHAMD36pi\\u002frxqov9Krmb+BhNm\\u002fP5Ktv3g46b9SqqC\\u002f4CSSv2itpL8xaq+\\u002fsbytv9d5qL8pg9e\\u002fngDWv1xVeb+XEZ+\\u002fvrm9v+t2nL9hFtW\\u002fsl+sv+q37b8KEt2\\u002fPyDNv8WV3L\\u002fkA96\\u002ff7aqv\\u002fPlk7+Gl62\\u002fKh9JwJfeOcC6Pq+\\u002fMxHVvzwshb8XC6u\\u002fupYAwMY8zb850QbAXu2iv1Ye17+1BQTAPT+vvyq28b+Rh4q\\u002fi7bFvzvz1r8Zqv2\\u002fYcbMv09d2r\\u002fy2ZG\\u002f+QQAwAUz37\\u002fcXw3AOECwvyw\\u002f6L\\u002fiitq\\u002fHlSiv1qN3b+hRui\\u002fDLGWv0xB0L\\u002fbq9y\\u002f\\u002fWyXvzOG1b8GIqK\\u002f0L8PwJjx2r\\u002fJfcG\\u002fezQAwJCG2b8sd\\u002fW\\u002fgRb8v0wgtr\\u002fCL\\u002f2\\u002faBYPwGg+8L9Wcba\\u002fzairv9uFpr8Ic6O\\u002flT6Vv5ux07\\u002fiTbi\\u002fKISlv8qX8r\\u002f7iIS\\u002f0gCVvyKlgL\\u002fVj8K\\u002fK5HEv+Xc87+b4La\\u002fhGe9v0qD6L\\u002fpStK\\u002fWV27vyyssb89qaK\\u002f\"},\"type\":\"scatter3d\"},{\"marker\":{\"color\":\"darkgreen\",\"opacity\":0.8,\"size\":1.5},\"mode\":\"markers\",\"name\":\"[Predicho] Non Drivable Vegetation\",\"x\":{\"dtype\":\"f4\",\"bdata\":\"YBGNvht6e7+y51W\\u002foVISv\\u002fXF076SpVS\\u002fx3GGvzp3nr9ThSk\\u002fcjOcv\\u002f9U+z3uAji\\u002fpHuZvy6kjL92iiW\\u002fnLWcvgaomL+sexW\\u002fDyanvm\\u002fvJb+wY7c\\u002fhQS7vRvAvb72rQS\\u002fmZVtv\\u002fMBkT\\u002fQZIk+5o+Lv8ZvVL4fcxe\\u002fhvvOvkLBCkB9lSa\\u002fnhx7vzmMo79jkoa\\u002fr0vOPRx0hb9tnC6+X0cjv1sxzT6UTYK\\u002fNmVyvtMVoT8hd4s+t82wvtbtk7+tcZW+7mSLPhotFT8AlqW\\u002fK7WyvzhKjr\\u002flba0+BHSyv3qts7\\u002fO43M\\u002fbWhuv3VOvL502IW\\u002fDYAsvrTPML4N+sO+xAtVvrgopL8s+2S\\u002fKvfiviRnBb9v20E\\u002f1KkCv67vOT\\u002f4B38\\u002f0bUrvc7Gdr5QBKS+fymTPu8QpL++uRg\\u002fRqw6P2s2Er2G2nM\\u002fW5hDPymiur8R+jw\\u002funqpv5WLCkDeigA\\u002f19dyviJ6qD5IzZK\\u002f22A\\u002fP1PWJT97t8u+y6tEv8bvn79u7Og+ikkJP2YMsD91Yhq\\u002faY4Ev4UWor8ISIW+Ee5Lvngr5L7XFSy+U3MMP3Z8C79YBb6\\u002fe7G5PpzGVr6hwn2+czmAv2qowD0\\u002f3NO+bwcrvWVjT78s5Ns+I\\u002fXdvejXMb8yyKG+1y1yv59SlL+PwGW+ALWfv0D92L+f6ie\\u002f5YNivg5IEL7c6um\\u002fw4NKPJkHbr5lNzK\\u002fpDM8Pw02nL79mA6\\u002fCAJgvjGi9r+7eBg\\u002fdD8Mv2TB9T3OHbe\\u002fRgWpP0wgnr\\u002fsMI6\\u002fuj9ev3yWN78e9ATAqxxEv7dgGb\\u002fIz6S\\u002fBSEdP6Zhbr6Lb\\u002fc9qTz9POswSL6zhTq\\u002f2dy6v4iEjL93bB2+AURIvlVkNb8ZVv4+yTjov1iXkb8Zwom\\u002f3SaLv\\u002f4aDz6WXqW\\u002fQSnfvb9yhr62+1u\\u002fAJT+vjG3wb\\u002fUXB0\\u002fjY10P2skyT2Xn5W\\u002f3VyPvz0Gc7\\u002foIIC\\u002fOIqyvSNHtb9b7V6+Mmu+PokZgL+0OJK\\u002fLNk4PzRh5z5wzxW+7t+dv7k+p79OwUU+aqh7vh02lj9Iy1m\\u002fOrrfPk9Ckb8OvHK+xWZVPvx0F76nYIW+xA9GPjTYFT+Nzo2\\u002f1L6QPuYU\\u002fD4Kg5q\\u002f40jnvt2hXr5DMek+bMShPvBtHT+BP3K\\u002fxl\\u002fZPloAPj9PVAI+SVOmv632jT8eHkW\\u002ffLeDv75O8z5C0J8+2EIAv0rDcr3J2Ai\\u002f0JKTvy9DgL8tMZo953uWv5h\\u002fJr\\u002fwt6Q+r7tXvr0oJr925Qe\\u002fiKCOPo9VgT3NrqQ\\u002fMFUfv9C4HL+gXym\\u002fCkEjPzo1ur4f0Ky+bWlnvnf+hz5ct0W\\u002f7HZRPGLfbr1WkqS+SquuPx7ZlL+MwJU+9Rhfv2ZSqr9CV\\u002f++PmqQv8YTCEBoJ+e+SdAHv0evwr4aN66+BQ2Qv5gPr75ndyu+yNnoPmDtPL95p4c\\u002f2w6ZP0dNor\\u002f0S6a\\u002fOHIsP0q\\u002fDb\\u002fLSZ0+7tXAPS+e5L1IkLq\\u002fKjxrvk\\u002feTr+A4pu\\u002fA3dNPhNQnb+xH5y\\u002fa6b+vq6for8XJ0++J2AEQNrohL+CDKO+QEs4P\\u002fE+lr9jDLo\\u002fR3ptvjq9pr8gYVM\\u002fp4XCvi5Uer5W2wa\\u002fzPMFQEc5gb8bKsi+HN22viMmJT3UZsC+Ro0mv6s0Bb8rhJO+uSdvP1sHwb\\u002fddwa\\u002fz\\u002fXCvxoofb+TuLO9+qJQvSLahL6wLqK+gDhmPxB+mr9h7Ai\\u002f64znvnodfz7ZQ62\\u002f\\u002fkw9vw\\u002f2Sb4zcgk\\u002fajZNvrzioj8yPKm\\u002fenNVvnr4ob9FAbO\\u002fFhsKvz+1Ub6VBUq\\u002fLi1ev91bKj\\u002fyXJm\\u002fPC8Iv6\\u002fll7\\u002fieM2\\u002fQ1g3vnFAoL6CL6K\\u002foHgUwPTQgL7B3769\\u002f7pyvjobibv8PhS\\u002fIhBfvjH4lz2W7fK8aWuJv+ZSFD82R2M\\u002fvzB\\u002fP3ZPLr+5AMi\\u002fpN7FPij1Rr5IEmy+Sd9Dv+Rzqb\\u002f9vT4\\u002fmGQtP86FDr9WBKS+ckujvvJOOruYlFc\\u002fcjH0vuhIa753FoW\\u002fAUBKvgb8hr9m64O\\u002ftkyqv\\u002f1VhT2L3BK\\u002ftjkCPwgFR77vcDq+UG41vwvYX79DRbq+RWZIv1scfL+b2ZG+P+icP00iA7+2G6a\\u002ffIEEPwx\\u002f178Yy8W\\u002fs5LnPdpaqr9zhnu+mHRZv4ymTr\\u002f2jR4\\u002fPDA+v2lbo79ndoC+xS52vno4zj0JPbi9P\\u002fLzvu5IZL\\u002f4jMW+TDWwPWbdzT7TF8s+eoi4viVcfj9deYy\\u002f4FY+vtnMfr4E1C+\\u002fFimhv+2+br3plcK8mQ2Gv0klor6MZYe\\u002fUqp1v0zcob9uq4m\\u002fI197v+4Ynr+kdpc\\u002fYuGlv+K1rz41VpS\\u002fNbQHP+pYB0Ba5jG\\u002f4L8kPyj8+L2qJgdA5vdmvyiaAD9U0AG\\u002fSI0LP9giPD+iFRk\\u002fi0Wpv81ijr+KPYA\\u002fm\\u002fAyv8n2hD+8G7K\\u002fP3ekP\\u002fw6Ar\\u002fV41m+nYmpvaSovr8N2w+\\u002fUmUivh\\u002fiuz6DgQdAtMYxvhGBgD7qM4I+aU4hPrjjFj6LBL4+eDwdP2RCBUDkVIS+O3kuvPW3JT83Z0q+BrOHvsCfUT\\u002fZ+HC9GvsBv0MFTr67dg4+Ngyov1Y5g7+GnrK+2EYFQFb2BkCn0UA\\u002f1eBEv91yCEBr+QS+EDA9P+iyqD\\u002ff3ZW9KlcXv7vdqT8BE0a\\u002fIjcfP75csL5tA3y\\u002f5VqHv+vxnL8dViQ\\u002fT\\u002f8sPwJiML1YeFW\\u002fmPuxvwmeCb7px5+\\u002fsPUCv1rJQr\\u002f4hLW9+pgyvxSwo78pSBq\\u002f\\u002feCPv+aIhL92C7U+\\u002fNNCPs16pz9pWVi\\u002f\\u002fx3Uvmc5eL\\u002fmNXW\\u002faB8yvsjfpL8aV2e\\u002fTv4XPpHkeL9AVK6\\u002fBx07P815DL+B3T6\\u002fDWPGviqSqj\\u002fb4cG+DCUAvkdgmb5JkAZAETMDvnHzTb7Vf6W+F\\u002fpyv+7Mxb4ubKO+cuaHvw7iqr\\u002f8HE6\\u002f5mibv91JVb9UpIa\\u002fbgP+v2YDfD8Avhi\\u002frjopPxn6Er\\u002femP680B9mvmCkjr+asAK\\u002f8uVOv\\u002f+pAb8M7f0+7hnhvxYPm70yT3W\\u002fMncBP2nRtT4Q1jq\\u002fneIPP3VrVb4ymbc+glurv5\\u002f\\u002f2L9j44u9v+EKP\\u002fVDz74CeEa+cEYnP7Vlm78CEDI\\u002f6zCbvkCHiT62pYQ+QX+bvr0xLL89tIK\\u002ffrmLv1kFOD+SZVW\\u002f2VJmPRwCXz772ka\\u002fBxyBP\\u002fujxb6rQ6+\\u002fISabvojrjT40eIS\\u002fOEkCv80JcL7Zvye\\u002fsfe7P6YeSz+80yc+NoVPP8xkBEB\\u002fd+W\\u002fU1vfO4Osvb73kYO\\u002fUvoovpTYUL6fruA9P+wLP6myFb6UqSg\\u002fwN1Ev2F2sb\\u002f9nEa\\u002fTOaaP3d49D4xHqa\\u002f+hWtPh5h\\u002fj2ZPHO+MSYgPzWjkr+f+aa+Rckiv3pjar82vVC+X4SGvyfAIT\\u002fftxq9i4g2v4dTgL6s0a+\\u002fgKiMv5MNkb7\\u002f7A4\\u002f+aalv9IxB0A20GK+kdwUvlXgub7DhkS+3ERNPBXj0Tu\\u002fWFo\\u002f3wvWvsBFcLyjcwo\\u002fS3okvy5qET7Xu8m\\u002fqO9IvpcnGD7zuf0+vV5Rv\\u002farEz8kjF6+rls4v3Z+6r+906q+Ol\\u002fyv1ofab\\u002fz8Je\\u002fpUpov9oNnb4kgU6+tCABv38tnj0yfk6\\u002fo0uFvhKXAr6pMLc+Jm\\u002fUPIlNWb\\u002fMtZW+S44GPvDTs74GVDq+zAJLvoUl5j7w21u+t83gPVWmjD9j9ue\\u002f9n++P2sWEz8SyBe\\u002fnixCPyCvfb+doYC\\u002fDlaNv6bwLT91h9K\\u002fzoEMv\\u002f71pr64yTe9FVamv+ZakT5T8uq+hAH2PFoJf7919jM\\u002f71IUv9I9BECze+e+aN0gP9RUfr9Y22y+VdWLviEXk7+p272+aY2sPc3iET91vl2\\u002fsVr1PhBFBUAdxJq+l3OIvqV9hr5FgbQ9JRbIPnrP+79+PYa\\u002fj0ehvyV3BD9CdI+\\u002f0eCOPvjlmj+BoZi9HE8yvjtccj+RPkA\\u002f7gOWPlwfTb5\\u002fnjk\\u002f3Cc\\u002fv6qFdL54uGC\\u002fAwEav93DIr\\u002fz72U\\u002fK\\u002fxsvruUfb6lf1m\\u002fa7qsv9TJOb8hnZK+w99Rv0wRtT95IqU8JNXcPpAax75vMt0+G6v+vk28nL+pdRk\\u002fIxGJvx\\u002fbTL+l97i\\u002fnbKGPxOtR74o86E+mWEWvi+0X74aqb0\\u002fbZwJv6d6K7\\u002fi+KK+l\\u002fU3P2uOcb5Jq46\\u002fsxWvv2Y7z740yVm+DPKovsReYj1RIQZAZoFcv44ETr7EEKi\\u002fF+Q8v1FXUL+AGIu+Qb2QvqCOWDuHwUI\\u002fQoM6v\\u002fYluL2jWVY\\u002fyuKlvzEuEr66Af29Si7+P+k0f7+HmwE\\u002fW2cMv8MeB7\\u002fEfaA\\u002fvEIcP+fKYb9TEKO\\u002fUY4jv0uUrT6yv5M\\u002fYNiavzYIqD4CyJS\\u002fD73xvR5gVL49Sry\\u002f8cJkvpwtBEBL21m+21lwv9dsCr9TrUK\\u002f0FN2vnDOIj+ER+u9PrA0vyfoBUDyLoy\\u002fhjgHwKqSb77ChjA\\u002f87UTvQpMtL9wgWG+Ykh5vu9ZU76CM\\u002fC\\u002f69s\\u002fv6YnM74\\u002fW4A8ueiSv1mo+L4lqAK\\u002fo44DQMN1qz+eALK\\u002fbWZUv0sVUr6fAnC\\u002fEH+IvoWM9778cjS\\u002fsptuvxx8mr+bP7C\\u002f9nC5v5m5gj\\u002fSlqq\\u002fWoAbvyBcFT\\u002fCyjq+iXGov51OhL\\u002fj7ze+x6GYv9Dl8T6Dm4+\\u002fgk06P3x8qL9cXI0+K0csvhBhOz\\u002fJ0ua\\u002fE9hbP1Gtir87HjS\\u002fsVEFvwUcib9YG4g\\u002fZ7Dtv2FlhL8M86m\\u002fWNFuvqpir78V+MM+Xc2Dvi9FUj13iHK\\u002fxNwFQF+vlL8T3Fq\\u002fg0SVP5OqSb5nMzc\\u002fIEsCwOnQb79jRvW\\u002f2zJqvqI1bj\\u002fFr32\\u002fwGTdP4cwEL9EZlA\\u002f46FqP2Qaob9fmyI\\u002fe3t6vub8M79gvkq+fGMVwMAFfL9149+\\u002foXDWvtm4pr6AKGE+Ojvsv2RRSL5TDuG\\u002ftNuvvt9tB8CM+aW+uZiuv0DWBD\\u002fGFMC\\u002fcymzvyQ7iT3igzG+Bsh4v0Zmjr0sfS6\\u002fxyUqP1W+b75C1Jq\\u002f5vJHv2M+PL\\u002f2B0y+GjgMPjRDN78ypKS\\u002fCQmSPhopdT9gO5a+WLsLwFqZFz5qoE2+KmAzP26hlL+0wgDALnGPvf81H7\\u002fHAG6\\u002fZuRIvuO8Bj\\u002fUn8O\\u002f9v1IP\\u002ftVab76dKO\\u002fXyVHvzY4KL95jQQ+R2eJv549m7+NQ7u+3ESFv4GJh7\\u002fYJ2s\\u002fBnJ+vgtnnr8cgRS\\u002fPOJOPXfIqz86XJi+2zu8vkmFgL5P+oG+8o+AvqRmG7\\u002fPdmq+bBQcvpQ\\u002fi78VsH6+6xNEPzD4Jr\\u002f71QZA1Ai2v\\u002fkCtz4PNHK\\u002fGmVHvped6z5Aq7+\\u002fxOshP3Q6E7+z0JG+\\u002fCYUvvQvEz+XPn692FlmPyOTkb\\u002fFiBI+dlyAv0nmib\\u002fxgG4\\u002flUgOvmYnNz8VDCc\\u002fdiexv1csdj+XWdQ+mIOCvzmGl78SkFI\\u002fHy+EPw6cU7+AjJi\\u002fsGgOvy0nVb8yVYY\\u002fUhfSvhvRZj+ZYCS\\u002fUz4+vuehkL9QVaW\\u002f4UE7Pz7TJT8m6TK\\u002fGlrkPvAHy747NCg\\u002fMVLbv2hv\\u002fb\\u002fX12G\\u002fgm\\u002fdPf8S7r\\u002feHpS\\u002fGjlovvr6AUC3jha\\u002f6MoKQMDxxr4MYK4+l4APPwuUiL+lKHS+vi+fvwcsjT9QrKq\\u002fIcWvP0Dgfz+HeSG+yOOMv\\u002fiNo78H0IW\\u002fROkLP\\u002fJ7yb4luTi+az9xP3RiB0Btd6S\\u002fuBcGQP1rsb\\u002fx3x2\\u002fiiSXv95VNb\\u002f3FKu+PEn1PEs7iz5lBwM\\u002fLc2DPkfLF78ca5C\\u002feNNvvpXCB7zfH4S\\u002fd7kwPW1mI74jCUW\\u002fhNNBvnp9jb8ELxY+o9G3v7DXb74zRj+\\u002f8nJ8P8Y8VL4KmLq+kGVSvzr2Mj\\u002fljDm\\u002firdlv6WFhb9VTqA+QeKqv0mFjL8zLpq+x+Shv1fMW78Bc66\\u002fuo2SP0Noa77Sojs\\u002foKK5P43DTr5l0Z4\\u002fAsGHPjizUT\\u002farZO+l1GRum0VRL63bMq+DmjAv464hL7SVR6\\u002fqnGNvj1pZT8LX32+PVEEPwD+IL\\u002fyHCS\\u002faw4hv0x1rz+QuKa\\u002f7F6bv4ZGn7+KYAdA28AVv70og75gnqi\\u002fI6QvP6qj3T4Ymnc\\u002fvLqUv4PmmD\\u002fzDbi\\u002fAog8P4g3Bj9ela67KCmzvQygg755m6q\\u002fTm6APRGktr\\u002fajU+9zKC4vqELJz\\u002f8F5g+LRiSPzes7T3THs67ff7JPkV6jz6HIMe\\u002fKK+7P81voL8bYWw+ZvyYP2+7TL5S0FW\\u002fET0vP6l9wb7rMTQ+\\u002fWkwP3bkOz\\u002fh0Rg\\u002fB6CKPpFWnz8ZPsC\\u002fqZ34Pues5j72JaS\\u002fns2tv4ZjBkDODme+QaLIvv3v0r9iNIE+AP7PvkJSs7\\u002fGhQI\\u002fBtQ7P9eVDcCj8AJAlZ\\u002fBv\\u002fC+sD3rOGS+Z4Wrv2Fw27rFTCI\\u002fQJ2Nvz73mD\\u002fVhDe\\u002fRgu4v9cZr7+kvEm\\u002fLhSFv8isWb+OHhO+JfEPwPbEgDz9wSM\\u002faC3nvuehZr7FLSu+\\u002fK2iv3Jqzr45aeA+yGg\\u002fP9yjpL+33B6\\u002f2Iqcvm6AuT6VTrS+fAk+P7UTsr9iEME+lUc9vwhxmr\\u002fFA2U9Zf3bPWYmgDvCaI4+Abufvy+oyz7I56i8SRn\\u002fPonNiT6l0Bw+LnC4v8mmgzywSAk\\u002fBe81v6r8VD5e0oi\\u002f5rXcPhxsqr\\u002fULkO\\u002fozOSv7Ayeb\\u002fK3Jg\\u002fWOq4vOLpMT\\u002fNOmy\\u002fnMpVv\\u002f7krr+bGZu\\u002fAeCHv+dBTr7c632+jHGrvlFEVb8nxW2\\u002fa0Z+P5vOmb9vtYy\\u002fWJVpP2O0pL7Ju+8+hB6Dv8lxfL9fUsy\\u002fCkVhvhHZZ78umI6\\u002fmelXPeUKoL9AZo+9h4W\\u002fPriau78VHl2+iUn5P7m27L7a8tS\\u002f+U9EP5GMNL\\u002fw2QXA8HIAP8PEDMC1Zws+v719vp\\u002fBQb1bQxK\\u002f1P4FPx4mgb9IUHm\\u002f7CQrP9KLBr8Z1nk\\u002fmfy8v6ScCUDlJ+8+5M0tv8Qwhj+buhy\\u002ftsfpvmW7oL5WF0c7fvKmvyQ8z79mdfA+YaIevot92T7tqCW+PLTzv60vhr\\u002f8ZjE9D52SvxCvjb4\\u002fa2k\\u002fK3MXvtq3BL9JSqe\\u002fjFRTv6fUiD4V5CO\\u002f3hipP3Gcm79lMxm\\u002fT9xbPuJyqT9b14C+4IG5vxVvoT4yGTI\\u002fgToHQLqk1L5bOLC\\u002fiNpSvx9KHr\\u002fgvFK+6k3tvm07mD4dIyU\\u002fSiE8Py2Ym740rou\\u002fSVmQv7RxAsDzFre\\u002f9K\\u002fPvmsDQ7\\u002fkyEY\\u002fr3kgPyyPNr\\u002fMVMO+gCg6PsxVjr5DtE89wzdBvu\\u002fcTL9sJIq\\u002fWyiQv+sIhDyTJKS\\u002fEEhVv1\\u002foAj7P2K8+MpsYPvtPfj\\u002fAeHW+rUdmv2hvzr6bNKG\\u002fB2anv0u1Ur7inAdAv\\u002fVWvkTnhb\\u002f5Tts90dMIQFKzPL\\u002fiZOo+8Py1PhEO1j4UvZ88MDuFvw6tlr8G0Xi+ze6oPzkmd7\\u002fIWKa\\u002fAW6Mv5rSBD8g6BG\\u002fNQatv2tSlb9SWgpAGV7wvmfHB0DX2R+\\u002fa3OaPr\\u002fXpr+HJc6\\u002fOzRKvie4LT4kD3k+nCG2vq+frL8hpgG\\u002f+UwEvw28g741\\u002fUS+J6fRvSQgkr8P+04\\u002fu3WAPxTccL8MJE6\\u002f1bbmvnjEjT\\u002f2HCu+UTyYvjEemD9L1og\\u002ff1wKv3X3X74k9zi+j5k2PwPvob8Ucoe\\u002fWxkYvobZPj\\u002fXU1m\\u002fNiUbPinq575pgpq\\u002fKQSOvqzycb+u+j4\\u002fyP32vpF0ir8Ni5O\\u002fVxWLv22Rxb71Iaq\\u002fF\\u002f8kv\\u002fKB6r4tP3S+wFemP+vJmD4lC5Y+HQDyvn5ftj11D2W\\u002fhaaCv30ykr\\u002fBIzU9sOlVv1hq9L6nlra+2Remv4a0pL9pi\\u002fu\\u002fiYAwvmXNt763lVm+u7Z+v666wb7mOU+\\u002fmuKiv7CznT\\u002fKlAVAZnY5P1bCML7JJ9+9dOnzPlvbwr0BzhDAOn9Mv+2PkT9nvYS\\u002fBKMyP3+qpb+UwfG+xdgfPywgQ758AhC\\u002fGxMhv\\u002ftcgD\\u002fGn1W\\u002fvTSlP395nb9K4qK\\u002fj8cAv250hD9niFW+cuA4u0a5jj8USza\\u002fAR+vvQBdyr7v\\u002fNy\\u002f3qqPv\\u002fmwSz4yvK6\\u002fYO6xv3hHJz4dIhu\\u002fiQakvjIFAb9mmKS\\u002f\\u002fLPXvi2HVr9NH5u93Eaev+vlAL9DPv6+YxOXvwn4vr9HoNM+Q9HNviBQo7\\u002fd4z4\\u002fX4ERP09otL6gVyc\\u002fiQUZP9hXf74TYQy\\u002fElUAQEcjRL9q5XK\\u002fw5TvPhvOBz8AmEe+CCEOv+ZRSL+4kWW+pTKAvmFgCL\\u002f\\u002fW5W\\u002fglyDv\\u002f\\u002fE9b5Ou7O+wXKEPoPoer5iaBy\\u002fCvikPsfVfz4kJCK+IzeyP2NIrT7QxJa\\u002f9\\u002fq+v0lGZb6Oami+GJSXvfDgXb5ECya+agxOPq3jrD6OMd2\\u002fjXsjv1GHpr+xQfe+tzCmv8ZuuL7qw4O\\u002fBrxcv5+aNL94Ze0+DTE4vjWmmD9D3Rk\\u002fCSotviw6Ar+6oxK\\u002fjBaGv+VrWT9Pxaa\\u002fBRD3Pleqyb5t16C\\u002fz\\u002fIbv7YjgD9\\u002fyFc+v\\u002f40vk1slb906eW8RO5QvwtMmb8aai0+UzE9P0Cq\\u002fj\\u002f32\\u002fC+YJ4\\u002fv5uzPb40JVG+2v1DvxmtGj5Hgoa\\u002fur4TvjQ6Wb5ibUc\\u002fYIypvvEfwr2k7nW+My43v9JWIj7\\u002fe2A\\u002fshszv4Nbdr90mP09QqVTv8apK77Ba1q9+7UqPywLRL7TYkO+ThInP19Ol78uEWS\\u002flqR1P6ENib\\u002fdF+G\\u002feXlnPwWoXL6Pq4i\\u002f4y6VP1d3Rb8bqj0\\u002fnW6dv9Fom759zJG\\u002fbSyov+udlr+I\\u002ftK+sd6ev2RtRr5VzG6+\\u002fTWCPlIxUz9u3kk+wx9Avh2p0D6EnFS\\u002fOyqCvlrdML4Zz5u\\u002flO3FPE5lmL9j2oO\\u002fucGXv7PI4j9uJqS\\u002fsN4vPjSHHr\\u002fHdJi\\u002fOrR3v8Zih74UaYu+A6Szv4yufr+ELeC+0Thpv8f8M7+cvQi+6ZE0PgpzBEC5z3e+ZaWrv7jWsb+9cJa9hq4IPhy4Qr0rrMQ+TyP8v0t6g7\\u002f5UDO+8RCBvy3lYb6H7fG9M0uSP7nElL8zHn4\\u002f3KsFQD4Dir+WGmu9mgObvxJsdL\\u002f3nWq\\u002fmwC3voF0Nz5bRfG+HbiXP3WFmL9KjHW+2ZZZvql5ib+RN0y+n2uBv7Nfyb68Jn0\\u002f8yBvvz23Q7\\u002fWt6i\\u002fBiKgPj\\u002fdxz7cP4Q\\u002fQeq\\u002fv7W8WL\\u002ffKV+\\u002foLsLv\\u002fuc1750eZ4+0qmUvxeQjb55AIm862iPvmJXPz9CIaK+GoIuP+Falr5Hdz4\\u002fC7ZZvyM9Mj9Hoh8\\u002fa\\u002fLRvWShq79SxZs\\u002fY4vYPlEKN7\\u002f8Z4o\\u002fQTUqvQvPpr9Yx6a\\u002fYGc5v7cwvL4ujae\\u002fnaOlvypaML79HM0+dhCfP4DsDj9QjgdA0LlKvo3WtT5v8nc+Vnz7P17rhD4\\u002fM5G\\u002faLs+v37BVb6YFW8+Tu8mvpfUGL6die0+IY63voMGFr+70Ri\\u002fxf6KPpk0Ib9RyPi+qhyGvw5QS7\\u002fiOB0\\u002fI+mGv0i2wD5zCh0\\u002fXtGEv5kpyr53q9C9HMHOvu6DEb+uWO69sOa0v+atNb+FtnW\\u002fIudyv9AdgDyOA7C+hUvGv4jG+r3xUSe\\u002fnXf\\u002fv4w+Nz9ZXHm\\u002fNKVkv\\u002fdN8T0CK0K+Q8btPR5wpr6tCPI\\u002fLzTsPipOdL+QU2A+nTSLv49sIr4ROVi\\u002fHgsnP9PKFT843+M+tss9P7Cmk76RG12+dwmdv9d1Jb5HZmG\\u002f1kaivz1NBUAgXE2\\u002fdQ4gv+s8JTwSt3C+Vo6pv63DGT9X0WC9V7CRv1IQ577jHNK\\u002f1ekgv+gI3D0OWZe\\u002faqwlvhzElj4iejY\\u002fFghcv1qqSb4Bty2+Mv\\u002fsPv1I0L7msCO++T6Lv+jmMb63qoG\\u002f3ZSUv7gKo79Xw9K\\u002fgJenvy+FhL97jgi\\u002fIjkkP5J9ub6q5kg\\u002fEF2PvEfrnj8Rhp6\\u002fMu+wv3R2CT\\u002fgVOw+dL4CP+EbEj\\u002fhQiC\\u002ffondvx\\u002fJj78HP3Q+V7ZavyfypL9Un+q\\u002flJx6P\\u002f9\\u002fML9O1l6\\u002fGp5nv5Gq+D15EKU\\u002fTyt7vw7JTr4vJ\\u002fO8DJQiP6Y6lL1roGa\\u002fTR+XvlA4aD0jioW\\u002fvdVJvlxlGb7yA7Q+gsR4v7VEBkCkb6M8JeE2P5n5n78KWGC+3GTjPlMEwT0uD9W\\u002f1myav43DcL7L8WA9Jsdxvx08Pr54+26+EBtMPouz\\u002fj41K6++MVZNPoDUw7yirTs\\u002fAJGUP3uZyT6GhHe+rDigv7f16z5bXAu\\u002fPBuDv4Bx3b\\u002fJ8g6\\u002f9\\u002fiZve023r1lAI89T4uuv63AFb\\u002fD650\\u002f9rOSv986Ur5OsWC\\u002fl3xxP4atpb\\u002fUqpM\\u002fM1MtvpCCnr\\u002fSMW2+Yr+oPnukB0BlXBo+CFCbv2hCgL4+SLg\\u002fEINpvgBY6T4ksWG\\u002fadkzPnahmb8OVqm\\u002fHHasv+TDqb+SNVk+EIvJPrWszL6beIM\\u002fik2Pvrt\\u002fnb91Y6U+S+UyvthY+r4nCglAWSrYPmsQpr+RyFW+09NPPgn5vT5jQYm\\u002fd9QnP5D0yT7dfKS\\u002f\\u002f58PwBdRej+bT5O\\u002f1P+2v1Sttz1vpC2\\u002fJEEfvyKoST6GvYy\\u002fB9P4PQaIYr9YREy+Vnmsvywnk79oQFu+jIqAv\\u002f3ehL5ElEy+SvlCvbd\\u002fqT8sDGi+LZ03PxWikr6ZLXA\\u002fbhyEvQdWQT9IhYe\\u002ff7XIvrWwtb+WiKo+Uqw8viRhmb87p4K\\u002fNgqjPj4FX79+LtI8QTqav8Il177ITgy\\u002f1fd7P4Jgqb9nQ4w\\u002frse3P8ZEKj+9Pfe+HIK0vsprJb8gade+rK2qv4A\\u002fir\\u002fFatQ+LXi1vvIkxL4cykO+\\u002fXBUv97ZIjoF+a2\\u002fVwIhv7D9Vr5hLy+\\u002ftB0KPzswob+gr4G+G3Iuvg5CFT89JS4\\u002fiYmzv2w1D8Dil5k\\u002fwlYUPsBwnz8XxALAuBSDv274JT83nb6+X1WLPwIx8z0gGEy+hAqVv+S6zr4lt6m9OeuHvl\\u002fGCD96yLc+XhpYPqbnvD7Psau\\u002ft02aPrCCd77X6LQ93uS5vbXf8b76f3W+MCNwvjzCu7\\u002f8nk6\\u002fx9+hv+KFqb+YeJ4+x8aAPk7uID+3K2C+kjo7P\\u002fyxQ74cFaS\\u002fN60eP+A+oL+EwMK9P0SzvyKHFcBGNA6\\u002fhEiTv+5GoL\\u002fO+wU\\u002ff9qyPdKOVL5ntg0\\u002fDF\\u002frv93In75OCGu+73tUvxNrcj\\u002fUf5O\\u002fOk5GPrt2gL6F\\u002fC6+XkWFvih8tT5hjh6\\u002fmxeXvgwa1r7IIpK\\u002fQmr9vvC1hD\\u002frJys\\u002fKseav08FRL+UjrW\\u002fqv7QPoY6dT+\\u002fd6Q9CeE\\u002fP6z1pb8\\u002fQLS\\u002fYq59v44Hob4Nl6C\\u002fmP+EvwDlp7+6bwJA0RFMv0fAUD\\u002fLTb8+btmUv6Buwr+7x4k+h3ZhvzDUoD\\u002fGKSM\\u002fxs33Pnmplb\\u002fxmnY+qmJlvx71fT9xjL++fY1Iv66BK7\\u002faKB2\\u002f3MZtPXlgRD9BD4O\\u002f2U1Dviwwl76wKoW\\u002f2h2Fv20wPD+BV48+Rarwvi06Cr9yaSg\\u002fSutMPPW+mz6vEbq+NflGvn\\u002f7m7+TSIa\\u002fAZs5Ph9jubx+1Bk\\u002fo3G4vYL7Iz5UMIa+siA9v5lIwD3xpEe\\u002fhVdQP\\u002fMPKr5uuzi+zN0tPju7H7855re\\u002f8CO2P7CxAb+krss+Dwxwvsa9s79xJ9e8UzWAvUKoib9fnZu\\u002f7DixPv0Z5T4X14i\\u002fB+SlvwpCgr8cMWW\\u002f7LZjvgL0gT+dCfm8I3hHvk35hD\\u002fw0p6\\u002f7kMJQEndRL2a\\u002fQ08kvSyP29Hu77aX+W+Bk0Dv+k4Tr+xFwq\\u002f2NfbP2AXAD7+NqO\\u002fj4hWv6tzPj\\u002fttpi\\u002fdjU8PoGXNr8MYLu\\u002fPbyjPqrFWb6y+rC+0UMOv6OBSb7rD269cdxuP2lxeb8miWU\\u002fez19vRaOM7\\u002fE1wY\\u002fcQhDvsCaLj8bqtm\\u002fBoMEwEnnk78IKlq\\u002fnr0Zv4eAq7+U3yS\\u002fvQjfPiakYr1YeIC\\u002fFawMvpI8sr+Y33o\\u002frfgZP8vnVr7d2YC\\u002fgazmveprhD7BmGs\\u002fRjcWvuScUr6qTsi+qZbKvVA\\u002fqj\\u002fP0TO\\u002fcMocP7C2Bz7KwIC\\u002fYOWxv\\u002fnhKT4bEVw\\u002fnfgMv3ETRj5qcyc+lWl8v+BjbL778YW\\u002fOww\\u002fP\\u002fW3G747Kma+EA8Mv3GkHz9zhIS\\u002fKIq9vQaV\\u002fD10prS\\u002fk4ikvxNJlD6JIr69sWgLP5SlKL9iQIm+N5RJPx9Zwr+FEC8\\u002fopKEv3gvsL\\u002fV8Vm+qz8KPfgwor85dgs\\u002fFwh+vjOLb77HZpi\\u002f76OzvwYNhz+VI5u8Ltewv4W2\\u002fr6jUIe\\u002fP4LHv4SVnT+PtwC\\u002fC5yuvxs7jL+9RJU+GmO2vh32G79IwPM+fypRvh5xqL9YkYe\\u002fz+mcvzvM875NV66\\u002fhFYuvj8WIb+K4RE\\u002fTHvFvvVonz6VLai\\u002f43Vsv\\u002fK6rL+x+6S\\u002f7w6pP7TMPD+COXE+iF6Gv8Adib+aVUM\\u002foAkiPsNsqL9OF2Y\\u002fdwv6vczEtL9ujx0\\u002f4VFAP9m817wnh1m+Fbj9vQnEcz\\u002fJNyQ\\u002fau7rPkCZi78DimW8ZsqRv2l0V78UmFy\\u002fTPECQKTSNL\\u002frG\\u002f2+AAgLP3uLsb8oi1G+qDyrPq46sD6os7+\\u002fmHVWv6jGib9B+bC\\u002fg\\u002fejv+v8Dr5eWz0\\u002fyUM8vwjWvr6e2n09BGLrPtqS579JAIm\\u002fwsinv1vfQb6NKTe\\u002fekXZPjLoJb5WWVY\\u002fh95xv4puCEDo806\\u002fO0GNv4AvN75FM\\u002f2+jSCev7dcUL8o2km+YTgzv3YxRL6gDXy+k4A2P7jbj794NW8\\u002fr6uiv3NXoL+y1kC+tM1mPs5Lbz+WAIa+MLEXPwLzjL9rpQk\\u002flqGAv\\u002fdiSL4lxQdAQcChvwmVRL4whRG+RALUPZ17nb+ppJu\\u002faEC+v01smb\\u002f1R5y\\u002fIjefvyyXDb8KY3A\\u002f+3EQv0GfZj6TzZS\\u002fJ5+Uv4xhtL9+To472Kuhvy7t57\\u002fk16O\\u002fCX3xPR+Ttb+cblK+9Cr7Pkvimb9ajzW\\u002frPwUPxXQ179FnP0+s3\\u002f7vj9Bwr535jc\\u002f0bAAv0kAYL5pMwRAAv+APxFJk78BAhs\\u002fx7NgP5lYlL\\u002fxuQNAIKWvPlVIA0CkqXC\\u002fRkkmv+bnnL+0Y5w\\u002fYvNcv+xopr9Qk5S\\u002fbzqmv2\\u002f7pb\\u002fYTRDAT2\\u002frvkaqgb6pte++X7Cnv4ouVz\\u002fpfGY\\u002ffDLKvrqCJ79JcKm+3381vyPE0D4UHK2\\u002f7URvPxMTZr5uVko\\u002fU6UmP1Sv2b3b2Z+\\u002fqKtqvdS8gb\\u002fnzKG\\u002fGrwiv4IERr4dxs2+ym\\u002fBPohmrz9Ywm2\\u002f3r0fPzpHxr58EVq+9XCiPzGwI77NBZ+\\u002fXGNzv8HI0r14owZAz4VuPxJK3b62EBg\\u002f1Q9+PsxVVr4X\\u002fAa\\u002fsE22vpiIhL\\u002f142O\\u002fiavLvpaIE7\\u002fzugdAADeOP6L7Ub4d\\u002f42\\u002fPWMkvxAP9j5MBmc96YK9v0weTD6QWYW\\u002f\\u002fP6EP0rYAkCutYG+JeYFvz2yBUBPjzM7haoWPwp4lL+Teg3AprNEPnPzqT1M7pw9m8GMPhqhjD93+\\u002fw+E7BePQk5hb\\u002fndEQ\\u002f4JsSv5mF675Ziei\\u002fal4Gv0OLPD8D742\\u002feOCQvaPOAD\\u002fxNZs\\u002fTN8\\u002fvqnHrr\\u002f4Coe+eYKZv1rdx7\\u002fVDLK\\u002f1YYavtIBXT+Mv\\u002fu+p3Wmv5MThD1epJo\\u002fKoyCv47Twb+pbYC\\u002fZHi1vw1RB7+n5qk\\u002fkGq+v8TVWz9UaJ8+GAiXvz5Ztz5t7E+\\u002f00OPv11FYL9dK1i\\u002fxHWovwykY76hyNY+4JNkvlRgEb83qb0+kPAjvx4aar710re\\u002fX2lSv9ehFr9\\u002fW4y+jm+svyNPZb73YFy+qArlPlS+oT+mCZ2\\u002fIINkviWI77+Ec1O\\u002ft2qsvyTxob\\u002fIh1S+R3hCvlfGgL86lOc+oV5kvy8Gpb82PAO+uyegPp090b6qLeg+ZsNJvuEcnLxngCs\\u002fKafEv6TJab4oKrU+YqSUv9MLB0AYkZu\\u002fdZIxP5kBw740ZB+\\u002fhDjzvoXt3T5+Eyi\\u002fjnudv0z1g75OcQO\\u002fpR7XPkYeFb\\u002fccmk\\u002f7UCRvyQ2sr9tPi2\\u002f4dRqvcyoXz+xgy68J1tzP0Cslb+3qJe\\u002f8luYv5r9BL8XF+S\\u002f0kEUv8j+qL6vyo4+T0kqv1SGnT+Kw40\\u002fmBhTvaeoNb+BmFO\\u002focGGP+R7CED3mwhAKibUvlN+qT\\u002fI\\u002fEu+QvCYvQgPs7\\u002fowY+9xP\\u002fxvtNAVr9mk32+oeSZP117I7+RT5S+W7dYvhc21j9TyHu+miSCvz8gUb83Loa\\u002foDafv5hler95KRW+6EEBP+wB0L5ad6m\\u002fFo\\u002fEv3MBHz8LWJa++adJveHDNz8MaWW+5PSDvZ+coj+hmJ4+c158P4e2Cr9OvKg+ilKMPQh\\u002f9L0ZO6w\\u002fbqqYvjWVqz+ec0W\\u002f4\\u002fjJPkuE\\u002fr4+ebu+YqBlP8iFCEAAirS\\u002fCEwQvy8LPb+iN+A+OlB9vlB8Ir87Rv++AeLhvzbfo7+8qeW\\u002f+JySv6EMGL\\u002fH1xy\\u002fUYkhP0ujI71nErW\\u002fvKDBvrt9Fj8tfaG\\u002fOhkgv4cNrr9HXL+\\u002fCe\\u002f1vvAdpb8NYDg\\u002ffaTxvhDJVL2RlzG+sTBqP9P3xD3YKm6\\u002fkNdcvsXis7\\u002fHeDm+pJW1viUNcL7gEG2+Ntjmv46Qez8Q0Li+1d5rP+dUmT\\u002fQYpu\\u002f9HF5P3F3gL72bG89ox15vhbIPj+zS5g9nbdNP6c4fb5Mw7m+91Gcv9iJE7\\u002fjchG\\u002fuvxwvze67b6+EIG\\u002fmAuEP6yDbT8dZ46\\u002feu7cPO4jiD8SV\\u002fC+oSofP1Qehr+TPcy+I0suv1LiDj\\u002fBi\\u002fm96gp2vxCSlL9smz4\\u002f7EulvjAtk7+JUcG\\u002fXAigv6RAyD6JJbq\\u002foaBPP2wSIj9\\u002fSY+\\u002fBv5Tv5a2uz8MK4O\\u002feuTwvoF2nr852ru+bj99v3udG7\\u002flCZC90+YSOnMJhb\\u002fimZW\\u002fcKDpPk+z7L6QyzA\\u002fSMdKv9I2hT73NJG\\u002fGIO8Ptfj7L69qxM\\u002fPgSRvwFsDr5\\u002fWI6+gyasv7rT1L1AE4I\\u002fhgNEPsdHND7W+lK+2nNTvwYzpr+gk12+we\\u002fFvuC+Cr8T9ve\\u002fc2CvvxPKij\\u002fdRJs+flaQPnQRp7+Sf8K+NMtJvmK4GL\\u002fAEZy\\u002fooTTPRU1dz0P8JE\\u002fjuWJP+5Bpb9sY1+\\u002fTOMjvsMcwL5ONZS+GrupvrCbnL8oQvW70e+qvyHJRr++DLS\\u002fFJzxPyuchT4EWZ6\\u002fLPUcv8p+Gr\\u002fSF5m\\u002fEFVOvBjTjr9FNaU+lySmv0c7nT9MFVe\\u002f97S3vlvSmL\\u002fN+7W\\u002fKIM1vmIoxb5srAu+g2b3Pgmxrr7hPmO\\u002fz6EmvxBisb8bGzc\\u002fXSgdP8XKa7\\u002fgBou\\u002fc1Yev3LZnL8=\"},\"y\":{\"dtype\":\"f4\",\"bdata\":\"oBhfvudyUT9n5qY\\u002f2FGUP7cfjD\\u002f\\u002fZZI\\u002fGykAv7A8oT9I2l+\\u002fBcT\\u002fvuZ7n7+nI5e\\u002fy8TOPx9Ylb+akpe\\u002f3T1MP95sG79JxJe\\u002fIQ6av8SmwD++bKK\\u002fzLOav0uDmL8f66o\\u002fxVLtP0+En787hE2+5iFwPwLzQz\\u002f93pe\\u002f7EWZv\\u002fo0SrxAtcA\\u002f4a+Vv9hwMT\\u002f1+Jc\\u002fosGbv2Lwlb87TDs\\u002fYNaXv6wGl78l4G+\\u002f445DP\\u002fdNob\\u002frx7A\\u002f\\u002fTuZv9eEuD\\u002f5DJq\\u002flrubv7YRar+Xp9W+DH8Hv5\\u002fr8j9LLSK\\u002fhK\\u002f1vjju3r512Z+\\u002fvA6DvzDYmL\\u002fMrpo\\u002fU0SWP\\u002fiClj+pd5i\\u002fohiQPwQOAT92wI8\\u002fiGckP5DuY75SwiC\\u002fzLCYvwJ\\u002fTL8la6i+2ACav\\u002fzTQz\\u002fnV46\\u002fTUhKvkwYlj9nR56\\u002fg8ZFvyKQm79T4rW\\u002fhR4Xv52wL7\\u002f1dFG\\u002fbgmivk6xqz5IBxS\\u002fwgNEPx8XAr\\u002faOz+\\u002frVAav+hrYL+mnZk\\u002fGMemP7G6Nj+wNIe\\u002fq0tev18mor+REJ4\\u002fIDyqv4r\\u002fMD\\u002fVz0c\\u002f0m6PP1fnnz9Gr+I\\u002fzYsmvw7KZr6\\u002f1oA\\u002fxX56v00MRD+zoJm\\u002f+dOBv7U0jb+C5SY\\u002fjo6avy8mlT\\u002f\\u002fCl6\\u002f07cgP6+yl7+KbZm\\u002fRvCNPzHpLT+zDZq\\u002fAiY2v613C74rupG\\u002fzgePP6f84j\\u002fPREq+N5Sbv\\u002fpKRD9YO7s\\u002f\\u002f282v2jJmb+geBs\\u002ffCePP8ZplL6rYQi\\u002ftu1qvnQEnL9ki4Y\\u002fRgahvwszIL9pQRi\\u002f0xKWv21vwz8URVc\\u002fxnKKPzC9pL9b8+m+exiev\\u002fc1rb9ZrVy\\u002fQkSYv2FwZb7Q6pa\\u002fhCmlP1cakD+Qzla+GxZGPyOiej+wv2S\\u002fQfM9P2PU8L7YNjU\\u002fMUyVvxccl782fhy\\u002fTLqJv3Khmb9\\u002fVZa\\u002fOtmLP6xUaz9vkYW\\u002fGaF7v1p6lr\\u002f\\u002fCCa\\u002fpFiOP0z8lb\\u002f9cpo\\u002fz+o2P0sA7r7egkQ\\u002fWbmcv8Qulb8HJRy\\u002fonBvv4HxnL85dZq\\u002fLwFUv3+1I7\\u002fSrZy\\u002f41FEP5Md4D9H4ac\\u002fq1wdv1lLhz\\u002faLJq\\u002fmbxdvwnCKT9UQkM\\u002fglVQvkIQXr+aV0o\\u002f8ANuv0KBmb+N140+ZjyUP5Osmr8sa3W\\u002fDhJNvjtTX7\\u002fkSpa\\u002fdth+v6YONL8ty5u\\u002fXoXpPgX9n79CQ5e\\u002fj0\\u002f2P6STXL9MAFq\\u002forSMP+OHm78RBpi\\u002f\\u002fuvsvhyhnz+G84m\\u002f0UTOP6rMl7+M\\u002fZy\\u002fPwCav7Z5l787m5g\\u002f\\u002fq+cv1ECm79GgcE\\u002fhrWXvzvMl793a5e\\u002fF7idv+HjmL\\u002fraJm\\u002fBF4yP6PjnL9ay5a\\u002fCEmSv6zqhb+edU4\\u002fMIbCPxvUKb\\u002fTppy\\u002f35vKPyHE9D5yPpi\\u002fB5ruvuZmqj7SWow\\u002ftNuYv1VSmb8elpi\\u002f+w4NvwvTFj+2yzU\\u002f4y1+v16omr+KSbS+koCgv5TXIL8Ypxe\\u002f2wiev6zCHj9Ua4i\\u002fD09+v9C2or8EuCm\\u002fMsx\\u002fP3illr9WEzU\\u002fDwFOvq0gIj+EUoa\\u002fX2iYv5igjL5T0UU\\u002fflCzvjlIhj423Jm\\u002fcnptv6QI2j\\u002fjbKG\\u002fbNqPP2hOvb6XTp+\\u002fRRaYv34Gjz8nlx8\\u002fvyuJvdVGhD+j+66\\u002f3rUnPwvxg7\\u002faJpm\\u002fvi+wP0lBjD9ZI5q\\u002fAr6fvzb0sr7LfZi\\u002f6+1nPxqmlb\\u002fJMZu\\u002fOFfrP\\u002fCaQT\\u002fJnJm\\u002fA8ijvhdUsz8fsLM\\u002fj86YvzdMnL+B6pM\\u002faGaXv8OzwT\\u002fMFFy\\u002fWZ2SvwVAob8KEbk\\u002f4zfpP8Br6L6IeV+\\u002fp1yYv4K+RD\\u002fLbpa\\u002fDMxxP09fjL+IkGA\\u002fw1iLP1XxND8adiu\\u002ffJ+Av6zqmb\\u002fHrTA\\u002f\\u002fN\\u002fCPRP1QT+nE\\u002fS+dGhDP8OUg7\\u002fyIZw\\u002fdFFIP\\u002f4ynL8Jl5u\\u002feQE7P6RhcL9xP5+\\u002fSWnkvnGAsTxojYo+ZlWUvwZWNz9m90U\\u002fkZOWv3jNGb8s0Si\\u002f8iaGv3JUmz+w8RU\\u002fcP5IP5Nqm7\\u002fy37a+JbS2P1r+6D+pNHA\\u002feGqRP+64\\u002fT8v56M\\u002fbP4ZvxQJm78QApi\\u002fAaViv2cESj88wYm\\u002fL+yWvySSlr+I+Ji\\u002fay+Xv7PdmL7qq5m\\u002fld2gv8MfmL9zUZo\\u002frSGWv1UKpr16nkG\\u002fd9MWvkUqfj8rMUQ\\u002fhKqRPz5hkD8dSCe\\u002fJyWXv6FUlT+7AUA\\u002f4WdCP\\u002f8yar8OTYq\\u002fbe+Yv83Alr+z+5i\\u002fKVxxv7qDIb8DT52\\u002f38FJP5a4n7+fSoA\\u002fUx9gvrY4mb+HTsc\\u002fMEqUP0z6mr\\u002fxK4e\\u002fYGGVv9rGmb9ZT2o\\u002fVqMpvr7Ddj8AcpW\\u002fH7qdP\\u002fPemz\\u002f1F6G\\u002f2\\u002ffbvmDoWL96db2+qCiev49QET3dwMQ\\u002fIRJ6v7RtYL\\u002fsMoy8Qxdnv7tMXb\\u002fsEc0+SCKevwGCOL83PJe\\u002fOlTyP++5LL8V8Z+\\u002fb8+Pv8b+n78+Ql2\\u002flpqhv6FVwz9\\u002fxUM\\u002fnrs3P4QTvr4yPJU\\u002f0c6ZP3gxTL76PKQ+OnqPv4SjXb+4VEm+QBdiv2FqTb7kWZ2\\u002fIR6ev+sG0b7Q1T0\\u002fJSibv8Q0EL+zA2a+\\u002fuSZv1aR4b5w\\u002fZq\\u002fdNDCPzlqRT+U3Zu\\u002f\\u002fri\\u002fvmvUwj\\u002fpqiM\\u002f73hSvortpj399Aa\\u002fAO25PybIMD6iTKS\\u002fyH8uv7xpob8NKTo\\u002fpoKXv\\u002fUTjb+0NqY\\u002fqZQvv8thTz\\u002fm0ZW\\u002fWJ2Vv3CiYT8wBFq\\u002fodRxvwXYNj\\u002fuGYo\\u002fn3flvkKc6T8bvVq\\u002f9VKYv2OZvD\\u002ftnTY\\u002fb56AP8Wz6z9B9pk\\u002fhv21vsHVlb\\u002fADJ2\\u002fRmtmvztjwj9Nu5a\\u002f0NMoP2lAlr41hZW\\u002fVFkiP543Rr+\\u002f85W\\u002fpBucv+lQWr\\u002flm58\\u002fOJxQv\\u002fD9l79wQ5e\\u002flSMIvrA7ob\\u002f6y4w\\u002f8EaNv3wCmr\\u002f7JbA+hdOav9eVjz88pSs\\u002f8UyVvsbkZb6XH5m\\u002fSPD8vp1+hj\\u002fEDCc\\u002fWVLyP444kj9d96k\\u002fzfvSvq07tb5gHZs\\u002fAy2Gv1JImL\\u002fWqI6\\u002fyGpDP91POD8l6Rs\\u002fJcGWvzbnmD+Yvp2\\u002fvhMnP7e8Zb9185W\\u002f9A6Cv3jdm78aT8U\\u002fZVZfv1sdjz9P6kq+SAyQP3DQHb5EFjY\\u002fDWlzv\\u002fCA971vMVm+1Bxtv7Xqhb9ohF6\\u002fHLyZv2d1Sb7ZeNa+A9BMPzpStz8uvVQ\\u002fDG0jv3grcL+XxSY\\u002fQKFUvquClr\\u002fzQ70\\u002fEDDJvndumb8URO++FKqZv0pYbL8+dfE\\u002fHqwaP7U9Qz+UVZe\\u002fN1+iv3bGmj6Ke5y\\u002f7E2gv1NtX76cM\\u002fu9UVmPv7pPmb+t\\u002fdE+TSxHP3zVRT+8kZu\\u002fsridvyuNID+f7Hy\\u002fb9COvy67vT\\u002f8jYw\\u002fz72Jv9SbZL8skOS+kySdv1tGh7\\u002fsjUM\\u002fXhyQv2v3J78\\u002fy5m\\u002fn0+Xv10SYD8Py2G+yExzP3VZnr\\u002fCEpu\\u002fhwXFP8llQz8gF44\\u002f0+fMP5\\u002frNj+S1p2\\u002fegiSP269Pz7NXJA\\u002f8QOQv97Riz8JUWa+JdqHv\\u002f1Cm7+FD7u+NyzfvS8ieb\\u002fd+Re\\u002fmRLAPxECd7+Svag\\u002fvi+hP4HokL8zeQ2\\u002fKUORP9a+nb+CjZq\\u002fDoWXv+bGST+OnZm\\u002fqnOpPTW3Wb6QHZk\\u002fNHiNP\\u002fCLmb+OGOk\\u002fohiYv+CXm7\\u002f815a\\u002fV608P\\u002feMmr\\u002fqDZ2\\u002fCkybvzxdkD8HQz8\\u002fvCmEvyCtmb+VDpy\\u002fvjWav\\u002fRfnb85OmU+Nxycv3qStL5SNzC8e+mav1Thfr9NEJ4\\u002fKRMVvwNnmD9U54s\\u002f1huPP0Uvkr8+AH+8FieYv8XFmb\\u002fJJJq\\u002fH\\u002fcfvzcrWr9d5F++zKabv+McnD\\u002frenm\\u002fywyYvw2Oz76LCpi\\u002fABKev+cwTr\\u002fJwkU\\u002f23SZv\\u002fAeJr8Zi5m\\u002fSk13v83KEL8d1pa\\u002fnD6Rv4WQwL6Eu5m\\u002fx\\u002f6Zv2z8ST93rZu\\u002f69iKv7NYUj6JpZW\\u002fxZaYP8YEZr94BO6+tcFJvlNejL\\u002fdjjc\\u002ftAaKP\\u002fo7jb\\u002fSEp6\\u002fISVyv3mZQz5U+1y\\u002fU5xuvpCikD+5FZU\\u002fPxeMP86pnT\\u002f+1ru+1jVEPwUQmr93bJE\\u002faQPOPqI\\u002fl7\\u002fbYkA\\u002fvj+TP+o+ob+J2W6\\u002f3yIRv1e\\u002fkL9v5R6\\u002fOLiNv6m37r7fNp2\\u002fmwX3P4jFlj\\u002fVLoo\\u002flESRv6Q7Z77IKVm\\u002f1EMvP5h3ub74FKG\\u002fZGeYvxefqr\\u002fmNWY\\u002f7HVev1uQQz+9cfi+X2W3vqRvjj8h944\\u002f+u6YvwIt9z93aO49v9JvPyymkj8QvZQ\\u002fyXNzP8hyJj9c3Eo\\u002fXLk2PyzNlb8mKxi\\u002f8Z5OvmV+Vb6KrNO+g1YvPwVxmr+ubJm\\u002fSjEAPvPKmj9flJi\\u002fax2NP9ZMkD+cV6C\\u002fHblBvkIDkL\\u002ftQGo\\u002fqd4SP6sMnb\\u002fFm+w\\u002fkSwcv6TdXr9aWnI\\u002fidiav6cfSD+NcgC\\u002f5TmQP9Ydn74MCY8\\u002fbQ6Wv4UMmL88j88\\u002f5BpEPxBAW7\\u002f0jhk\\u002f3CeXv3gSCT\\u002f+z+W+sR5dPjS6mb+Kpli\\u002fGVlzv6trlz+XNZm\\u002fpdhCP64rnr+091g9jR6Xv1GjKj\\u002f5lpu\\u002fSnkfvnWPmL\\u002f\\u002frZi\\u002fgRXhvSqtob+Nv12\\u002fz2snP9EzRj8QLo0\\u002fTwxLP0KflT+egpe\\u002fIERlv72Rgj6BDgq\\u002fcOCxP3Eler0H\\u002fX8\\u002fNrKXv3Z\\u002fY7+Ktys\\u002fm+qtP92YqD\\u002fL7ek\\u002fVLadP+VtGb8YR44\\u002fsUdgv2bo0T+CVZy\\u002fqTXjP\\u002fFtO79ziVi+MtOfv0wHYT99DJe\\u002fnBeJPxv73z+D0ZO\\u002fvnxdv22ilb8ZfYk\\u002faSGZvyVRtT5KSJy\\u002f4L5CPzvs9j\\u002fQPPg\\u002fQmzovYvY+751eJa\\u002ft8mgv2VaYr7dYHS\\u002fbz0pP8ZgST8i6em8+HqPPz2rvL+xMJa\\u002fatSEPrTpkT+KGaC\\u002fPCpwvyg6Iz91ESq\\u002fCDBDP3xLzD0IjGK+GWTtPTcWUL+3+Z4++dSbP75pmb9aJJy\\u002ff4p6P8A+Zz7BtGe+6Cx0Pw4TFT8xIk4\\u002fL0uVP4t9Fr+Q4pa\\u002fiseUPw+dm7+boJq\\u002fDtzxP8FBOD\\u002fHjZe\\u002fBuyCv7f\\u002fjz+V4Dg\\u002f3kWnP3ldar4IWMA\\u002fWJtNvsCWar5mEy4\\u002fniBYvxeGNz3sspm\\u002fEIbPPjMVj79NYJq\\u002fnpWHv3AAiT9TYwE9ZvJVv0Pzl7+WzpQ\\u002fqMlIP4W5dr9mzZE\\u002fGM71vsIxXb6cfZ4\\u002f+JqtPy+3vz\\u002fdiQu+lMhnP5xKoD+Noxm+3cpRPwd7cz8JtZ6+YCJCP2ifQL\\u002fqMpi\\u002fcbmbv8YAor\\u002fN9pm\\u002fM7gnP31JRj9oTEM\\u002f7ixEP3bC3T+1L0M\\u002fFRHqPwrH6r7o80M\\u002f1iOev2idl7\\u002flPB0+co55P92wZ79BD4s\\u002f279GP4FTmr+Yd3g\\u002fJlNfv+ekmL+Ym5m\\u002fSo+Yvz7IIL85B4O\\u002f8Gqdvs1Q1j9NHZy\\u002fo2Buvx\\u002fdZD\\u002fmkZ+\\u002foneav9Cfcb\\u002fvmni\\u002fLgn2vpwfnb7JBCS\\u002fEDNBP\\u002fFmnT87D8e+7iOqvkernT8Vtkw\\u002fHraRv9rnkT97IsS+VFCOP5QpoL9+jGi+dOY3P0kl8L6fkPK+MVlHv2ALnb\\u002f1Jag\\u002f4Vadv+DYZr4Fx2S\\u002fRuHKvuuNwL49So8\\u002fi7Aavrjr670BoVk\\u002fRtjpPyG5yz795Je\\u002fdmCaPmHFmL+0M52\\u002ftHQLv+Xilz\\u002fhwEM\\u002fkmISv9dyoL\\u002fbmC8\\u002f5N+hv+W0mL\\u002fST5q\\u002fHMNKP\\u002fCuNL9NhqM\\u002fUs5ev41Wkj8KGZM\\u002ftnWVvtR4cL1xbxu\\u002fs6O9Pj\\u002fRib8A8N0\\u002f8BY4P6m1Aj5AWJi\\u002f7WOCv1LbnL9be12\\u002fsbZLvg1ZmL9aRWE\\u002faGWav\\u002fVnk78VPWI\\u002f8Ej6P3Q9mr+Ey4g\\u002fCZdIP3K\\u002fKr\\u002fd5U6+iAXJvgzQMz\\u002fHnog\\u002f1NunvnE2mr+qQiU\\u002fHjZeP2iVh790\\u002fZa\\u002fiTKWv2UaNj\\u002fjWUm+I41+P6G8kD+fdZm\\u002f\\u002fFJEP1mkgz9tRT8\\u002fgFCKv1Hfjz9BNDm\\u002fFiuhvyxoOz7YT8Q\\u002fe7xJvofMw77VKEg\\u002fDpWbv3B\\u002fQT9RPJG\\u002fQ820vmZlQz+nBJ4\\u002firVHP+FFDb9eKLa+Q46dvy7Fl7+uHd8\\u002fDQ2Yv\\u002fteob\\u002fNXL8\\u002futvIvoxyPj8oLVM+iKjOP9nfjz9+VaG+C\\u002flov\\u002fPHXr8ENuC+\\u002fWWUP\\u002fG4oL9yO+G+hniev4tRKL967na\\u002f0zObvzjkmb8QR7s\\u002f6sKbv5L5fT9KvOM\\u002fuIwoP2OuFb8DOWS\\u002fNdqgvxGfYL+1qJu\\u002fS2mdv6LShr\\u002fqgQa\\u002f8WShvxVPaj9lxem+ChfWP2\\u002fsYL5a4J4\\u002f07ycv3t0Kj9ygXu\\u002fHB9\\u002fvy+GPb+scJm\\u002faOaNv35mob8HQX8\\u002fuHSdv4uRW79+rEO\\u002fGYYPv7bMWr4DDkQ\\u002fsT2Zv2Mx\\u002f774EEu+vMuYv6rj5T\\u002fbUoW\\u002fgFFDvyOyRT8Jw9G+BSIBv0cPnL9GNo8\\u002fkQ6XPzmNm7+b9z6+LBiEPzZmoL\\u002f\\u002fNZe\\u002fTmnJvnvCbT8ApY4\\u002f2WpTPn+8aD\\u002fupOk\\u002frlpOP9arm79FKoy\\u002fHXKYv78rjz+G\\u002fme+eo2iP3XMmL+RxIG\\u002fjNkZv1jJk75NmJe\\u002f9rSYv9d1Xr\\u002fUmJi\\u002fQDQuv5zeXb9m3Zy\\u002fp2CXv\\u002fvRPr8955u\\u002fYMKbvzil9r5Un5y\\u002fQ2pKP9FkX791eX6\\u002fgPadv9cYT745Qpy\\u002f2SKtPz9wyb\\u002fN8JK\\u002fYeKcP\\u002fivSb7jit4\\u002fJVdcv3MNCL+xnbc\\u002flz4uv6NYbL82ZNc\\u002fsQWMv0H1nb+S5c0\\u002fEhmXv6M+lD87F00\\u002fZ7poP+lMjz\\u002f0YUQ\\u002frKmYv8ZOJz9iaJa\\u002fmkmgv0blOT\\u002fnHk0\\u002fm\\u002fyVv9jsmL+CtJi\\u002fwPeiP6y+iT\\u002fLMag\\u002fE79DPxSbkT9Z014\\u002f2NNnvz5MMz9jBZu\\u002fGclXv0Wnaz\\u002fTMZA\\u002fvYqYvlL4jz++5Q2+clWev2Wfl7\\u002fBeJM+6UcLv7R\\u002fFD+d8Ju\\u002f3j6av5M0m79dZZI\\u002fbT0VvxPhND8LKa8\\u002ffuJev3VSnz9r8J2+sZWvPxwoI70byYe\\u002fSpSXvwwdoL+ezpe\\u002f5v2Yv57Hmb9qoJu\\u002fSpSbP8jSQz8tQ52\\u002fKdLpPy8bI79zUZq\\u002fVHZWvnYkgj+zN1e\\u002fMLchv2CFSD\\u002fo17C+dliav1Mriz9aBo8\\u002fYzGTPy5CnL+BoLU\\u002fFV2hv1KVlj9Jkwe+KplKvpIzjr89x0I\\u002fVNmOv2BShr\\u002fqipG\\u002fHtGmvjRRjT9L5l6\\u002fVvonP1K\\u002fl78oEI8\\u002fp3eYv9nwSr71Hp6\\u002fp7+evyoTTD\\u002fI9EA\\u002fMDypP9blLD8FYwG\\u002fVuckP+ujkL+RUZ6\\u002fec1+v\\u002fI9lj+dLSg\\u002frBxyv3Pxmb+a+Ju\\u002fUpOTP4Tzlr9fgjE\\u002fCCo2Pzxtm78IO+u+keaUP+YDj7\\u002fIpXO\\u002fwi1Pvmk6wb46nUM\\u002fo3F2P0r7mL8elzk\\u002fkO4HvyPUjz+slNy9jm5EP5c2hD+ox42\\u002f0lidPmByl79q8py\\u002fN7acvwtZnb9kupW\\u002fXjlXPwvr7T8UMz4\\u002fubqNvy4DgT8Jk6c\\u002fmlKYP2HGkr\\u002f3Cpi\\u002f87MQvxKfRj9z6ps9VniYv7IAVT5Tr5e\\u002fouxYv\\u002f8QFb9tptc\\u002f1lpmPnlbnL9+QVe\\u002fqbEmP6yvdT\\u002fDTiA\\u002fktOYv5PrRD\\u002f76Uk\\u002f2Jhavh7Gcj\\u002fwV+e+yNCfv0958z\\u002fpJJe\\u002fZWwuP2p2s76pA5q\\u002f7r+Zv4Ps3T8NC82+Re28P0Qumr9lbJq\\u002fYe15vxi1kL8rKjU\\u002fi6Wav06gJL\\u002fQsJA\\u002fYmpwv5HcfT8kNx+\\u002fBOlBP2Mj+T8VuiW\\u002fdNONPwb8FL9JK80\\u002f1cXivgIBmb\\u002fDzZQ\\u002fqSONv5Dhjb+b10M\\u002fDlahvyQhSb44gVm\\u002fNyqZvyrymr85kXi\\u002fMGn2P22VI7+IjIS\\u002f5T+EvqGQmL9ArlA\\u002fcC8fv7ye0L48e5u+PbYpPzGnmb+i+0M\\u002fQYxQP8plJT9ARpa\\u002fCA8Nv6MnoL+K\\u002fiO+tWFdv5MM6j85326\\u002f6VKdvwHUkb8kzZE+dDqMP5MKir\\u002fBmh0+TLlgv1n7fT8AqDm9Tumdv2+Nkj+Xy5e\\u002fWOCXv5o9oL9JOSc\\u002fKJfBP0TuDr\\u002fpPAu\\u002f2reRP+lwoL\\u002fotzA\\u002fPpNsv6ixoL\\u002fYubM\\u002fe+J9v0xkej\\u002fylMW7IEQyP9eGS772rfu++hOhPzEcnL\\u002fY0Je\\u002f8QdnPyiJmL8b4aO+fjGZvyXElr+QGZu\\u002fMX1HP1xUmL+tsJi\\u002fwYynPxw8nD\\u002f6rye\\u002fwjiRP7Roh7\\u002fU0DW\\u002fZd14vzXsmL\\u002f4vp2\\u002fYiCUv4LVmb\\u002f1buC\\u002fFpbfvsKHkz8b8mK\\u002fgfUqv9YCQ74pPDA+\\u002fh2Yv0\\u002fxlr\\u002fCZ48\\u002fhHxCP7T3kT8+lFw\\u002fcrqaPyWZmL\\u002f7+iY\\u002fnW2oP1n6QT+aMZi\\u002fmNGcv2mqnL\\u002fGBY2\\u002fHTvDP+YmY79lwQ2\\u002fK2\\u002fIvv1agT9TLEM\\u002fM\\u002fc0PwP\\u002fmb8zli0\\u002f5Wecv68FYb8yfUi+w1CXv75\\u002fO7+DW5i\\u002fvrSEvlT8mL8f8Jo\\u002fs3iWv29exD\\u002fWvJy\\u002fgxQ2P82K5D8AYY+\\u002fAkGav3cWmL\\u002f9U4k\\u002fY9mDP41Pn795j0u\\u002f6hBfvyZ+ND\\u002f+sO6+azGYv1Jvcr\\u002fMYVG+pcTiPy+DPz9CcJu\\u002frDecP1qb0j\\u002fcWJy\\u002fLMYkv2TCYj5Okqw\\u002fQuNpP2Z\\u002fkD\\u002fEPEY\\u002f6mqVP5\\u002f3m78d6Jc\\u002fsgBavu5uMT8+fL4+e2eZv347VL5VT5q\\u002fAe2Wvzzjm7\\u002fpo56\\u002fW5uXv9QOjD9Gj4m\\u002fr76Wv5armr8GLpu\\u002fNzaev40HKj54M5E\\u002fT2tcv+nMnT9A+ZW\\u002fg0knPWQwlb\\u002fSaC4\\u002fojSfvwVlRT9TA42+SnLqP10Jl79IIZ+\\u002fj6ciP2YuMj+po4s\\u002fH0TzPlTGhj8\\u002fKSU\\u002fbU+jPyGVX77Zk0I\\u002fBm1nv4ehx75vFbW+DNLiP6IfW7\\u002fNpCc\\u002fLtqYv2Jnuj\\u002fmcHk\\u002fgzxjv2MvY78szJW\\u002fXPLvvhxCMz6TGDW\\u002f9N2bv9ZZlD+znA6\\u002fXDSWv+nTmb9rupm\\u002fjUCUP5+9Xb9Dh5e\\u002fisqKP85sxT+JRpO\\u002fBxR6v0qotz4SNZq\\u002fALRSP+yzkz9rgTY\\u002fV7IGvk1Oh78mdZG\\u002fJ4phP+tRlb+CHpa\\u002fqlBoPwkw6T\\u002fuLx8\\u002fI6+gv8nUMz8cwMa+7QEcvWtSlb\\u002fa7Ha\\u002fgEiGv\\u002fWltT8b\\u002f+8\\u002fYQuOP3oYnL+cKq4\\u002fV3zYP2kvMz+MikQ\\u002fWQuRPzEtlb\\u002fGIpI\\u002fZ\\u002feOP9IZmb+8zH2\\u002fhiHyP6pUl792SYi\\u002fVFqDv179nL\\u002fbHZm\\u002fGd3kvtyTCD8toPs\\u002f+KeXv7LKmL\\u002fDHmS\\u002fECb7voXXOD9WC5u\\u002fOVGZv9VQn7+BMk4\\u002fNJ1tv+eqmb9blh2\\u002fma+kPzl8mb\\u002fPCIC\\u002fHinRvy17iL4oh6K\\u002fPt54v0hMl78DIKC\\u002fWTmbv\\u002fkJgj8yTDu\\u002favuJP1M\\u002fRj8MCDQ\\u002fwl9Cv3Y3kT+0dFy\\u002fm3yuv2Ebnr+\\u002fevu9STOav5Aemr93mVe\\u002fx2sIPtAMXb\\u002fchiK\\u002fHpKOv+DE6T8oipy\\u002f9jgpP6s3mz9Z7Zy\\u002fGzdQPxz9jD8Yq5e\\u002fu8WcvySO5D94iBs\\u002frs6XP7m6lr\\u002fUazC\\u002f+\\u002faXP+TUnL\\u002f1eIu\\u002fu4bvP7+LYr4snou\\u002fTJiMP2VZmL9Jx4+\\u002fyKnkPwczl7962oY\\u002fHR\\u002fqP7nzgr9g7z4\\u002f\\u002fkS0Pnwrm7++wnA\\u002fPm9ivpKRPr5zwme\\u002fv2SWvxgSnL+nsI8\\u002fMNZvv+zFmL\\u002fWnt0+kBtiv44M9D+vsn6\\u002fL8NsPwlDNT\\u002fTsdY\\u002f7vuJv5\\u002fFnb+K9Ei+EV8+v2wgmr9h8UU\\u002f8H1MP8Cvi79P04+\\u002fjCEgv3FAhr7imSc\\u002flvOXv+wx+T+hUUq+iP+4P7gbDL8QBo2\\u002fTIExP3sBfz9lWU8\\u002frYFnvgQiYb+R\\u002f1C\\u002faxWZP7aHZ79pfHS\\u002fGE2Wv3fpXb5QqIo\\u002fPUVfv\\u002fGiJz9PCDs\\u002fG22Vv2XMl7\\u002fGlwe\\u002fEfTKP0v+C78gh4m\\u002fYkQXv5tdmj\\u002ftKZI\\u002fUwibv7SymL8dNp+\\u002fj52Lv55Xob93rF+\\u002fNdUEv7\\u002fLXb\\u002fuaSW\\u002fzwlyv68zDL\\u002ffw5o\\u002fWxzGvVE0jT\\u002fxeZe\\u002fsq9wP8\\u002flgj\\u002frqHi+zgEHv6oAnz\\u002f4Nak\\u002fIs6NPwDOm78epKG\\u002ffA6tPxaQYb69SEm+umWdv8vlQT+PKV+\\u002fAYiZvxaFm791dJW\\u002fFPhgvtmsvj+W\\u002fF2\\u002f41iVv2hJWD6kZpu\\u002fTglqv08IMj9nAjM\\u002fYoqdv\\u002f55e7+O6DC+uY0+P6\\u002fZ6D+V1oy\\u002fYSGWv+RQ6T9fxH0\\u002fT0qcv2GQKb\\u002f57Zm\\u002f\\u002f4hQvquPm7+OwDi\\u002fapCLv5k1mL8VkEQ\\u002fZosKv548nb9dkY4\\u002fH7ymP9iXxD5UJWm+pwqSv+\\u002f\\u002fmr\\u002f1e3K\\u002fsn4xvo24l78pn80\\u002fJqadvoAsRD9+bpG\\u002fFMyevg72Bb\\u002fXAqG\\u002fbps3PyaGyz83Ub0\\u002feqFbv7AnQT5HJ5y\\u002fcToov6PvQj+8GaK\\u002fR9iZv0OIXL\\u002f5VJA\\u002f2Dhdv4E3Jr8\\u002fW4+\\u002fW7FfP8ZMsD90cZy\\u002fvRpKvhFhJj9hAaC\\u002fkwqQP4rBKr\\u002fBqZy\\u002fjRKUvwn\\u002fiz++7wO9z0qdvyYogr4u3ZA\\u002fsudPvtafYr\\u002fWQnQ\\u002fTmE\\u002fvhoMnb+lYJc\\u002fxoYXPyvOn79OLPy+PqCJP06Qm78BxMg8wvqXP24WYL+CvvY\\u002fYd6bvy3KkD\\u002fozkU\\u002fnshBP7eOIr8eBZm\\u002f0lKWPxQ4QT+lKZA\\u002f1keTv7nLoL\\u002fNa48\\u002fylpmv9TZST+vQZ+\\u002fKrdBP+DNdr+Qc\\u002fg\\u002fq1uKP+V04z9Xrl2\\u002fRJKav4UUoD91efK+PO+avyRglr8LTJu\\u002fEqH1PzckkD+\\u002fm5G\\u002fUKGWvz8g1j+fq9u+2NGhv8qInr+yB5I\\u002frns7P3NOwD85CZm\\u002fpP7jvkrB3r7aHmi\\u002fI7goP+8umb8\\u002fRGC+maCRP6TFdb8WUns\\u002fw8qXv9IERD\\u002fi0Je\\u002fqyt3v1Mskb60O0U\\u002fd3E1Pyk\\u002fcL8U3Jy\\u002fWNrlP171Uz86utM\\u002fGplfvx3hyD8xhzI\\u002fTgJiP8JWnr+M2pI\\u002fD32Lv5YHj78t27U\\u002frDpuP6QH+r3y1+o\\u002f5wtBPwHVFL+L7IW\\u002f845Kvss0nb8qEuG+z\\u002ficv\\u002fm2Qz\\u002fAJJy\\u002f8diav9tCjT\\u002fbR0M\\u002f3LuZv8Vojz\\u002f5eo4\\u002fdmNwv2bVG79TvEm+VtNpv9VDYr\\u002fLTo8\\u002fQghNvy7aSD\\u002fdCS0\\u002fEEeev50OJL+Zozc\\u002fICIKvwW5Dz51pZo\\u002fthUbv\\u002fJx0L4LWVu\\u002fKbSbv4j76T\\u002fZx52\\u002f57hZP2llmb9CzEM\\u002f+pySPzOun787geq+5riavy0QRj\\u002f3mJq\\u002fcCVEPwcla78eZZe\\u002f71ZIP1MGmb8fO\\u002fa+1HuYv0IVoL9QrGC\\u002fetlGPyZPl79V8qy+r7eSv6AM2r5o5pu\\u002f3hAdv63n4b585Zo\\u002fDAyWv80hmb8YHTI\\u002f7PtjP07zIz87rL8+x9KWv4j1nr9BA26\\u002fzALkvqaViT8BBEm+RWiWv6nMwD9G\\u002f2m\\u002frYd1v9ukhz8914K\\u002fs81wPyACoL8nRSU\\u002fTa+Wv7Asl79Iq5e\\u002fytiavwaRGr9dqZW\\u002fAz5IPxEiSz9hV4k\\u002fgoxUP8PlOL\\u002fihJy\\u002fh76Yvwn9jj8Wg56\\u002fnV2bv6Vta78m2Ek\\u002f4Hqav+fjjb+UW3E\\u002fl1ucvykUlr88g1+\\u002fkdQ2P90GnL8Hdjk\\u002fSDeXv3GZm79b3cY\\u002fdySqvsqeLD91UFy+fnScv5uHl7+R0Kc\\u002frZmiv4QumL9EVVu\\u002fg0uPPzBIsD+VIpu\\u002fnUWbvwZ6C79hbDG\\u002fVq2cvz4bnb+trzo\\u002fb1QZv1FH1z9hapa\\u002fV5CZvyNhnL\\u002fzC5u\\u002f82phvnZokb9y9+y+x5MgPihomr+FMYe\\u002fNeHJP30+Jj8pNp0\\u002fsmqSP7\\u002fbMD8\\u002fHJi\\u002f2SeNPkIQnL\\u002fkX+M\\u002fYscKP0tUJr\\u002fM0kS\\u002fbPybv1AJwz8T124\\u002f8cucvxlnRT\\u002fNTZi\\u002fVzWYvxRVkD\\u002fiMhc\\u002futWPvwOwsD9UNey+dAibv\\u002f3itj+A3Yq\\u002fYm+avxlwnb8qpkq+gLW5PTNXMj96+I8\\u002fjeOXv6gVkj9CzZe\\u002f+ihfv8xxkL\\u002f4iZs\\u002fRKGpP02+7L69laW+Wrydv0kYjz9EXIS\\u002f5j0eP6hvnL8BuqC+dXaUv3fujj\\u002fKH2G+5WqZv1L2jL\\u002fz19Q9DKpav6S\\u002fm79yK5o\\u002fwumRPxvrm78Cxp+\\u002fFmeYv2JXnL+BxI+\\u002fzo2WP8y8RD+uFII\\u002f1SSfvzOdmr\\u002fOq0Q\\u002fas2eP7x4nr\\u002fRzpk\\u002fodtUvl3Bgb\\u002fSaPe+ciDtvv9hWL+bmjY\\u002fQ7ijv8Uyl7+6MJq\\u002fZAGfv+lIqj9phYG\\u002f+uBmP1885j8k95m\\u002f2HWbv4miSL6u9Gy\\u002fwSNEP\\u002fwaRD9yxfu+dGeAPysxi77w5Hy\\u002fFD4+Pj2eJz\\u002ff5JS+elSsP\\u002fqdoL8Il42\\u002fE6mJPySUlb+LwZy\\u002fFnuMPwBll7\\u002fxoI+\\u002fR8dhvuUZij8QeVW\\u002fSYCcP1yiiT+9aPe+wQVDP8VFlj9k4p2\\u002fQxKZv0z3nL+4QJ6+w2SAv4wb8D\\u002fackk\\u002fhXuOv1JQRb8yg4y\\u002fUbtvP3XRAL+mmxG\\u002feWJWv2Ile77k7J+\\u002fTZyav\\u002fS++b5iYxC\\u002fpg4nv1Pzmr8eRY8\\u002fknS6P3k1mL\\u002fAcJe\\u002fJB5fv+Su5L50\\u002fpq\\u002f7bssPx+clr9RH6U\\u002fqYe+vmxOl7+O+5i\\u002fE2GSvwV8ib\\u002f42pE\\u002fXX1bv187Sb6AfQW\\u002fh3edPzYwRD\\u002fdr\\u002fG+7aaUP6DiHj\\u002fPA56\\u002fLD2Xv3ttkj+GI1+\\u002fzepbv6XALb7Mb0I\\u002fzrpPP1x5Jz5w+p8\\u002fjp6dv7RhmD+FUeq+a7SWvzoxNz60C5e\\u002fO1uJP7zNlD9pfYo\\u002fuxiPv\\u002f\\u002fSkz9lVV+++V+Xv84zkj\\u002fJpUM\\u002f+PiAv1WjjT9bN5+\\u002flDObP4TvD7+2WTY\\u002fAQecv6aplb9qGkU\\u002frGBgv7nFSr\\u002fDt4K\\u002fSLk1P0IuZb56RRY+oiWvvoZIST+4Jak\\u002fZAJbvxEWKz+En1W\\u002fIbcJv7BDGL8oHgy\\u002fqnKZP2EYmL8BTAG\\u002fhRy9PwRpnL+LugO\\u002fxeiUP40tMr+BU1O+U4axPyVgXT9V+Ig\\u002fy3Cbv0qOgj9\\u002fOkU\\u002fTaOdv7wvTT5g+pa\\u002fURKev1+Jiz+1lvu+8wqeP539YL6sEmy\\u002fs5bPPro6mr\\u002fricS+oVmMv27dzz\\u002fBL56\\u002fs3KfvyZmlT8A5tq+N9ePv+JMMbv+eY8\\u002f4guRv0gZkj\\u002ffM8A\\u002feZaWv4cj4L4Vo\\u002fe9f2A9v9YrPr\\u002f71vk+skWTvx67Qj\\u002fBq5i\\u002f4tW6P1tfP76+5p89YkWVP4b+l7\\u002fm05i\\u002fwvmXv0DgW7+1KPa+nny1v\\u002fN8mr+p0ok+7AiJv3uImr\\u002fagh+\\u002fKl+eP4EKlr+crZg\\u002fMu6Xv6oHRz93JYs\\u002fvZGcv5rkwj\\u002fjkIG\\u002fMP5cvxm+kj811uk\\u002fiGvBP0a+Ij+jbio\\u002fkv2Vv9+ZVr4M58e9\\u002fDm6v+Q3nD9R1W+\\u002f7iZMvhSfRT8P248\\u002fQ7snP2lQmD+B3Ja\\u002fJhqZv4oYiT+mU+S9iI2fv9yTiz8OgS0\\u002fq+euPzhdnb8k1Ju\\u002f7KLbP+E0V78OMYs\\u002fKQmgv+aB2L4V7EI\\u002ftkqYv4EDb74wFZu\\u002fRPudvzPI+r68l6I+B2ScvwWFm79q05u\\u002fFiyWv7LTjb8dX52\\u002fRReRv5n\\u002fbD8oJp6\\u002fPCsYPw4HLD\\u002fy0ry9+1SYv0hNTL8Y2Eo\\u002fwsGZvzwoML80T6G\\u002fTfdKP5tUnj\\u002ffZkU\\u002fWeE9vfF2jz7gNpA\\u002f4WCavzmpwr5LkZi\\u002fp4oOv3mVm78c8KG\\u002fUu+6PzdJqD8GAaU\\u002f+pCqP02+jj\\u002f2TYy\\u002fbR1vP\\u002f0j\\u002fL7KT5y\\u002fPRA0P1HKjr+ylYy\\u002fNtDrvqVXir7aHKs\\u002fo8iBP+USgj9uxGe\\u002fwCszP6mZij9ykyq\\u002f7ci\\u002fP1lf4j+9vtK+R6qMP841mL8E7pm\\u002f3cROP4QdRD\\u002fxwEM\\u002fkedzv4jcwD+COzM\\u002fCnqPP2AZAD9I\\u002fJE\\u002fCpdmvn60Mz++O5q\\u002fovg7P9IgmT8TYZ2\\u002fiX+TP7V\\u002fl74kqBg\\u002fOXWEv87nmL+RyRW\\u002foq5gvuxuir+BJlq\\u002fbS6JP+uuQD9AuHq\\u002fgx6eP76Hlj3ld04\\u002fBPuTv6usjD8VyZe\\u002fD+aNv\\u002fQimb8SE8A\\u002fqmsxP8n\\u002fQz\\u002fsgpi\\u002fMG+dv4lRmL\\u002f+ZmW\\u002fgcmMPxfcjb4vA5e\\u002f2AtBPztO+r7MJpu\\u002faoXkvnYqHr8ij4M\\u002fGtY2vy+AmL9KtGC+efSXvwwIST\\u002fE15y\\u002fBd6Qv3aNoL\\u002fgz5W\\u002fzJCZv7XKpT94\\u002f5I\\u002fldeYvgaLp7wtoVI+ALmZv059jb8PvEk\\u002f3\\u002fxWvoZ6mb3bXRU\\u002fVjucP0FBkT+ADpq\\u002fzzTNP02Cl78MW0s\\u002fKL2Xv3VcCr\\u002f9WUI\\u002f+laVv3FQpz8dyfc\\u002f4BYnPwG5w70giom\\u002fa\\u002fidv7jCJz8Ra7C+t0mrvbJHmb8qiY6\\u002fNyabvzuzXL9oWL0\\u002fxUSRv5eTyz9z8Eq+YTylvlF+mL8MsHm\\u002fNA6cv\\u002fG3mr87p42\\u002fysyYv8yaob\\u002f5cZa\\u002frmRcv39xHD8UESc\\u002fPEbEvu1O7r3prXi+KDKSP8jRmT8ZNI+\\u002fAGfpP\\u002f2Dl7+Uw5A\\u002fhDJpPiUasD8dyXq\\u002fD3knv0cJjT9pwZe\\u002fsWd3v2soOT9qV4Q\\u002feZVjvip2XL96ujI\\u002fFxuYv0q9ur5B8bE\\u002fPAKZv09Xiz9Q0ao+uRKOP4M3m7+8RIe\\u002fH5bAvs8unL\\u002f0w+k\\u002fKe2PP15tdT\\u002fB1E0\\u002fQ4yZv5IBQz\\u002fk0Jq\\u002f0xexvXavj743HJm\\u002fZY+fv0Vv4T+1h8G+xYvxvsDajz\\u002fDDYi\\u002f359DP42HHb\\u002fGEpy\\u002frSufv3EuRD+EECc\\u002fhVFNP6gamD9mmKs\\u002f6OX4P8lHrD9Tf5w\\u002fvkKgv4oH+L4HZTy\\u002fMSB1v106177dcZi\\u002fwAqOv3PLgD\\u002fdW3Y\\u002fpTXcPv+YDb8qzpq\\u002fuCByv2Jm+r4plS+\\u002fn+ZfvjjzVz8c9rm+LXyjPxIMnb9t7GA\\u002fRnmrvj9KQb49MDw\\u002f\\u002fsibPztlor+t+Xg\\u002fnrueP\\u002fN4Or\\u002fIT5I\\u002f52H1P8x8kT\\u002f7vZq\\u002fdRubvzXxmD8WPkI\\u002fiPacv3lRnT9ntZ6\\u002fGBN4PzZ4h78OhQm\\u002foqVJvl4Jmb+XTRO\\u002f2s8lv2wFm78Pspm\\u002fHkLrvsMbVr44KRa923RLvpR6nL\\u002fdHZA\\u002fAeGsP70ffT\\u002fE9pm\\u002fkmyYv9MYoL+9hdU87KDevozijb\\u002fKkJK\\u002fsXWTvyJBdT\\u002fh65i\\u002fOMpHP9PGkj+7EF+\\u002fh4ubvyvNkL+QzaC\\u002feAqgvzgnlj+uvnw\\u002f2qCCv3HLmL+qm5m\\u002frf8VPxjJWb\\u002fmdpu\\u002fQ41GPwa4eD80eOK+JV2qvqPllr\\u002f3ll6\\u002fhjyXP0Ir3j+PA2E\\u002fMULrvr4SZL8Gbky+4SYdvwqu3z9AppE\\u002f1jlQPzfHsT+GuI8\\u002fk4KLvx8KYL4M8CI\\u002f+6dev99Bmb+u75W\\u002f2GOXv5giz77Sv1u\\u002fyshav61glr+FIJW\\u002fgc+Xv47AT78=\"},\"z\":{\"dtype\":\"f4\",\"bdata\":\"9nRnvzlJcz911Yi\\u002frztzvhaQ2r4kWb6+etNIP2mPF741S0C\\u002fTPBePvOKFEDuH58+pRDtP+9dob9XOwe8sms3P+7eRr+WlJi\\u002fgmJFP8JL7T7tLMw\\u002f2nu4Pl44nb9TWtg\\u002faI8BQMUVzT\\u002fg826+HzELPsBrTT3Hfnu\\u002fSIcrP9LO2D9ivL8\\u002fyM\\u002f6vmdLID+zk4M\\u002fSWVTPwvRGL29dwY\\u002fqDwaP2p4Nz4Ibl4\\u002fiymYvuSHvj\\u002fNti5AlS4jvwN\\u002fXz2bAkU\\u002flzYcPnwDlL7Bc1W9yiqHvsoWYj9UEV+\\u002figUMv7YsM76rmDg\\u002f9WCVP7XEqj\\u002fgHFE\\u002fuNplP4hUij+ZIZq\\u002f4oUGP58I0b+3Mri+nNGHP3hMUb\\u002fT2jG\\u002fU7YYP39oGT6Sytk+0E3fPvz6bD7vfbw\\u002fA\\u002f5avkj43z\\u002f\\u002f5+E\\u002fiq+vPTvq1j27Wq8\\u002fPElBv1q2Vr+CpeS+zggjP1f8Jj8N9Cu\\u002fOBvWvmkScL+S9ZY\\u002fd9ZcvXw78b5Piho+YbtZv1+KiD+Z\\u002fti9ry4zv4nwvz9Tx\\u002fE9EPvuP8BoKj\\u002fSG5K9Kuzvvvaczz4eUms\\u002fd+URv2ZBhL8pXFA8gLPIvio0kb4bJFa\\u002fcqiQP7DZwr725Pw+lL9uPu1zMr9OcxS\\u002fKT87P+G2az5lk+w8ZDZUP9zecj+IU0m\\u002fvxwqv1N1n7+PjZs\\u002fzZAAv3SpXD+OKJq\\u002f360xP+2QIb6q9tE+06ROPS6F1z0lwGs\\u002f+xt7vqFlu78fqBC\\u002frvEFv2bmuj\\u002f1zri+eGiCP2QVor+hFN+9X+Cqv3d5xz7IOPu\\u002fvxsFP\\u002fKs1j\\u002f3mg6\\u002fiNeCP4s+D0CnKG6\\u002f6PhgvnD1oT5\\u002fmJC+H8kDQDPrL7+2WL6\\u002fhu2OvAnDTz9jgeG+Ocj+vxsh3D5ODmY\\u002fN0Upv1g0wb1eqZQ\\u002fSU4vv7fhB7\\u002f9iMO\\u002fKNP+vkN8Sj8eLqg9paEyPgLDKr7kcK++37\\u002f\\u002fvu1Jar3wTvi5jFo9P4eqg76YG50+qXeLP9WTtb+ZExG+p+0+PoahpT\\u002fSVGI9rtzhPh56AEA9uWI\\u002fmh+EvtazYT+ZdIS\\u002fpuw4v4QMez+oVpM\\u002fwHxUvwBVdT+VZkA\\u002ftdqlv6kRBL8GgOW9AuQWv8TXuj74aNe\\u002fEuXZvesveT8lpLS+xxCWv\\u002fR7Ur\\u002ftlX+\\u002fCyaXvuVjv74\\u002foJ4+I3bRv3oG3T+PC0+\\u002fQ2AZPwjSC79QU0i\\u002f13rvvhakSz8rvBO\\u002fbLMevgYZJj+IZOu+crmQP+1Zjb\\u002ftp2U\\u002fGT+4P41SCr+uAx48UZtsPidZzb075J4\\u002fKa73vk0XCb9hyMc9JnqrP6fQeL+o2GU\\u002f8ZYDPzEXgz\\u002fxj0C\\u002fucu+vkcdNb876A4\\u002fcAtLP71wBUDSiEk\\u002f+yfpvbxAer80CDS\\u002f\\u002foLKPaNv3j9yUd++HddGPUGKnj4XFJa\\u002fsE4Dv7pFKj\\u002fggO8+WgyBvgZVqj9N8BQ\\u002f9YR9P\\u002fyUYb8QVnE+S\\u002fe3P7KKej8b00O+FQcnvys6CEAOSSO\\u002fRsHtPqUTwL5+GIc+mE8Hv0Xysz8bgDm+kifIPFJpkj8cYS2+\\u002fYV6P1x+078jcbE\\u002f4HaRPtXFVL\\u002fIegxAYSJdPjDdwT9qymI\\u002fcXeMv7IRdD95DD4\\u002f8PM2P2i4Lr8ElAdAdyy5PibXIb\\u002fhpvi+k6mfv6ugAb9Qfm4+G6gAQIvC6r8luEK7ZpJKPwuMR7+lWLQ\\u002fCHCJvxsTND8EhUs\\u002fX8ILP99xID+HDdk++nq5vpBDtT8JUQC\\u002ftMEpPyNwgL+zlPO+U7wRv0fu0D9O\\u002fFe\\u002f9i1xv+jLRj9SHnS\\u002fnTAkvisTdT0ez4q\\u002fOFxSv41ckT7E7AA\\u002fMfgOv+M6HzsSUYtAJHpwv3IQ7T4D\\u002fSQ\\u002fx8zSvznmvT4vEYO\\u002fHrLQvTrTMb9N9qQ9sImRP\\u002fyMdD+ytIY\\u002fbMW9P8nXab5fslU\\u002fNGwPP7K2yL\\u002f7R9+\\u002fIlLUPXP4Uz\\u002fAOay\\u002fKuwAwHa8Gj+TqBi+VY5TPsgBqj2T1LU\\u002f4BYtPzqiPj9IhBM\\u002fCkWKv5O0Sr9o5Rc\\u002fI4orvC0MmL53FJg\\u002fdhO4vmeKgz\\u002fngCm\\u002f7bLgvkHfKT1esTu\\u002f4Canv7oWED8qvPe+Iq9NPwG\\u002fIr8So9I+hMWMPzv+1b5Idhe+hgifPu0BoL8wHbi+rXK0vy0glD9sAoc+78IgPg30Dj7PbOW+LMuJPeeAKb+5Pv4+muUzP19UUb+QOSq\\u002fTtJOPY6YOz\\u002fgxMG83rFHv1iTRr8kNPI+XmUaP995yj+BwUg+GwDdvv+VYr9Ub7o+r15Bv8A+Bj5O2CW\\u002fwwkBv7XEqj8InVE\\u002fumzUv\\u002fnLQT5GsYG\\u002f10YYP\\u002fQ+aL8wVSdAovntPvVZWb+BeF2\\u002fLJ\\u002f3P70zUz\\u002f0TC4\\u002fN3oHvdItmb\\u002fP5gRA4PlOP7VUGb+JRcy\\u002fts5XP0AH0zsYbdc+Ceq1v3JOdD6YGXM\\u002ffJuRP97XzD\\u002fX8xm\\u002fNC3fP3WAaL9dsLm+DxI+P3NsxD5eCU2+CAyoPxuxVL9nEf8\\u002fES\\u002fOP4GER79dl2y+0htWv\\u002fFKF7+aULU\\u002fp6k1PxW1yj+fWDk+kqEQPywXK79xNnU+lS9LP2r1pD41om4+cRluvwa21b50VwQ\\u002fP3H4Pgv6ET9Zn18\\u002ffxumP3MgJUDBanS\\u002f8HmePmiE9z+VPwlAVW0IvlCzDkBfIzg\\u002f1iscv4QctD9zVl+\\u002fv9favqZMOz8dKka72Zmpvh6lEUB+vxG\\u002fuaZdvYpjQz\\u002f7dh5AaSCqPrLZi79NqwS\\u002fBqOMvz2IkT9vtkI\\u002f6s+GP8EzZD\\u002fv2yK9cWdev41NUD0\\u002fN7E\\u002fGclBvxdqpD8ScOY+3rpCP9ghw78a7Pe+Vsi3P1T5xj6mXOS+uRVTPqpXZkB91Zs\\u002fqKkXPhwneb8Prg6\\u002fjI\\u002fFv03opj8ycb6+4J4iv6frNr9\\u002foKlAhNuZP7jaKL9c61k\\u002fwwc2v0leVL\\u002fuMp0\\u002fxC9RPmU+Cj9glMC+3IGiv6+Fs76\\u002frRm\\u002f8tv\\u002fv9e1hj8yqaA8Vao5PmWxEj92IAC\\u002fhQ66vixCzz+OMEA\\u002ft8iVvfuv+jxcJV0\\u002f8Unxv2pjjL\\u002fCSBK\\u002fTecXvli5gz59S8Y\\u002f45tpv2Q6Cb\\u002f3Fy+\\u002foWxyPzeyq7\\u002f0N2U\\u002fL7R\\u002fvmUQxr+VWwW\\u002fEp4Rvml44b5aKqO+MCJEvYYctr7Z6aO\\u002fsMcBPznf3D7061E\\u002foD6uPSWRgz3RztC+ouaPv1WkpryRO8M8D0gOPzHRJD90FOg\\u002f7\\u002fyMP3TcGr\\u002f8RkQ\\u002fijk\\u002fP1x6Jj+jwH2+HwaaP+NHdL+JBiY\\u002fs1yrPypt2D9w6JC\\u002fYLLdvlpIhD7eVdi\\u002fCzoDPwEpnT5+bdY89WtQP1onWD\\u002f\\u002fZks8a4uFP00fkT6fv8Q+cr8APyM+6r5gMDy8e8vVPjf+5r7kFTY+uACfPrNslz\\u002fSxV6\\u002fdO+gv9BrWj+\\u002fDfg+kZ+RPvAPeD\\u002f0S8Y\\u002fAMr9PzCmWT8MxVE\\u002f8ei4PwRxCT656Xs\\u002fTrBiPwKo9T\\u002f6EJg\\u002feUwav6MTzL69+au9e6IVv6cTlz8njTU\\u002fgLrFv8esV785Mxm\\u002f0I5YP2LCLb\\u002fhHZE+HC4aQDplab7+czK\\u002fnWnFPX\\u002fbxz8ru5Y\\u002f8HV1P64oAsCkpgU+9OzQvwkez79ArZ0\\u002f0owwP\\u002fbaL7\\u002fJrIu\\u002fQohpv\\u002fFZnj\\u002fNWs6+on7MPmH18zyVQUQ\\u002fJF+kPw+jp77YFmE\\u002fBW8BvxFRBT6wKvY\\u002fU8SmP8BVoj\\u002fuwcC9ikluP+SNHD\\u002fqAaO\\u002fpygNv8Mg0r0n3fI9m+ABv1xEOb8FmpC9HJsvv\\u002fJC1z4+wrC\\u002fk+Ahv0Mhlz8dXtI+CKOSP6R3Rr+\\u002fbD2\\u002f73KXP6D5sTycZHc96R7avi\\u002fbsT+Gv56\\u002fxtruPzIPLj+zdFU8c7lUPtCz\\u002fr63Zu0+RrA8v1kfE79T1hS\\u002f0PoDPrG5uz\\u002fm4lC\\u002fGi\\u002fGP5O+fL7G3\\u002fo+Rx3dvWKE7L\\u002fKoBm9puuCPy6kzr6sI9s+X1gAv4g1Er\\u002fc22Y\\u002fgVRQPoHzrj4fCso\\u002fQa8Jv5xGBL4NQy+9RPU2vx6w2r6Q4WC+OuwVvxQVxD2iYWU\\u002f\\u002fPj6PgGsbj4YP2G9S5fYvzQdPj8Sw2E\\u002fLm5yvwr7Vz7djGO\\u002fyMVFv9KsuD+7uzm\\u002fQM2ePy6vPj8F+xc\\u002fw9G1P\\u002f8eAr90DaY\\u002fmw4HP20jdT7BDE2\\u002frbsoP\\u002fWizb9fZlY+\\u002fmh9P6L23T8Kil0\\u002fGHKpPjev+j6fBt29dFsVQJ7roL62jTm\\u002fxPKSv02aMj\\u002fSs1E\\u002fqRtGvx7GYT8ANUi+eKxXPwT0Fr\\u002f1gTw93p0oPvFnn755mCK\\u002fnmHLv7++zL5vf64+6S4sP2MRPr3TI7K+9NkoQH7ekD1296w+rkAAv6EEsb5Uhus\\u002flV5Zv6Ywgj9lHOM\\u002foIqlP8PfQz\\u002fxilQ\\u002feSXBPi05Lr8JR0A\\u002fgI64PzwUIz+H7T6\\u002f3pFEP9cAlD8gZha\\u002fN+Ojvyyqpr1gwp8+9\\u002fILvs4WKb9w8Ko\\u002fAv2Hvy5rG0BvZDQ\\u002fTVPuv\\u002fuif74HYfu+yK9sv4jOB7\\u002fdMIu\\u002fyU80P+\\u002fR+D9gw72\\u002for03P+TqDD+148U+eEzYv02lTr+XiZw\\u002fkRMjQEoHvj9+EDG+4qUCv52aYT6y9jw\\u002fPr4LvtVjm723V5E+yGmfP+Ls1r85mz0+Ge\\u002fMv4NdcL\\u002fb7as9L3EgP4nypb7s0f8+RyFAPyxoJEAQRmq\\u002f9CMJvh4XMb+reU4\\u002fxfDLPE\\u002fyyb+E+y0\\u002fYWQwP7oZSz6CZa6\\u002f5auJPyO\\u002fdT9Qcu++Vjwqv3Qtdb+Urxc\\u002fbtmAQG0x1L4MSTI\\u002fg4OOv1bf2r88z6w+dja+Pm3rSj\\u002fN+bI\\u002fAxOTPwcsgb9hfWm\\u002fQLyXP8cxXj7O1IQ+k9nhv6PUC0AR2Zu\\u002fP\\u002fBuPtW9zD\\u002fJ6do+H2QlQBgSPr9NQM4\\u002fIIYnvq2Hpz9Db9e+5BU2PvE+yb9RIIM9HgLZv34mKD+3BuS\\u002fa4NnPupzRL3fbFI+Dg8KwMhhFL5DONe\\u002fOW08P5lI6b8UiTw\\u002f6UetPirXIr8e2XxAiA21vjT4uT89B5A\\u002fARmjPyohUz9M3xo\\u002fxBDbPUCpkb52pDc\\u002fXdJFP\\u002fsmM78dsI6\\u002fnRn0vrAuCr\\u002fJTzY\\u002f8m9jvzuMbb9I5AG\\u002f3q\\u002ftv1GPfL6Xljo+GiotP\\u002fO5KT9lP7W\\u002fLLKlv7oomr+UN4m\\u002fkTkjP1b6gL4wVBNAI2Iyvy4Zkb9hpfI+IbBrvwZ\\u002fpz8IRrO\\u002fRzT7PpRdgD8\\u002fkca\\u002fer9cP+euTUB76lQ\\u002fYSxhP\\u002fGEAkDCXpE+ypA5PqnM6z\\u002f3qSm\\u002ftNkXPyp8zb77yLg+uCX7PRhKGz9yTWs\\u002fMwCUv+8fvD\\u002fguOU9CV+sP9Gk37+tW4k\\u002fHi58P5UEEb+0OV0\\u002fqCFcvgPwrD6ci1k\\u002fH81Cv2XQSD9n1hu\\u002fJFxgvmQfDL\\u002fEOke\\u002fjLc\\u002fP2iaFL\\u002fbDLA\\u002fORq4PujA5T5q6tg\\u002fXsluPjWHqj4PhQa9904Xv01GbT\\u002fjiEK\\u002fKMsvPwJ\\u002fNL\\u002fmCq8\\u002f0CQoP3h1Or9S6V8\\u002fGOivP6QB\\u002fzyaCWI\\u002fUSSqvuevKkARQJe\\u002fCDlUP99O5j5ZgAO+HoglPRzUGD+7F5k\\u002fCGBwP2i4V7+BMlC+hKLxv49S\\u002fb+LLb0+ex61v4rek797N6c+MkhDP8DJAEAY\\u002f3e+KkSyP9XeUb+cXbs\\u002fXQUXvxM+Yz9G\\u002fXE9htKAPwOmmT+t2LA\\u002fFzekP+qIFz+MaYQ+vpYZvhi1IT5ihaU\\u002fysZQv0Rxer+q2ma+gq3fPoIceT9vrCw9RevSP2gzwL80sfo+ec1EPyClyb9q2Yu\\u002fWmowvxcSUD9hJ0G\\u002fXwAUv2gLST+WUf0+GfCjPcqxwL57l7E\\u002f9extP3OdpT2LaFk\\u002ffSn2vqoCFL8a+Tu\\u002fkU0TPyBkBD\\u002fUED5A83w+P1b58jx8oi4\\u002f1cuAPyX\\u002fgz6OWg2\\u002fR3QAv0eI8z+6jbC+ud2aPwAog78eEqc\\u002fdSuIPdyc5z+eMWI\\u002fcXQHP+8tAr+Ze2E+TiAvP5z8Cr7Kwqo\\u002fsxtXvg6UKj9dGzE\\u002ffwSrP\\u002fXQ1z5zNrk\\u002f8j\\u002fqvzRCAz87M\\u002fA9ZTQzPwMoeD7XXs2\\u002fH\\u002fYrP3dUtL5GMtE\\u002fY0XVPngpoz4T+aA+C8k6vxKekT\\u002fSD1w\\u002fdFWzP\\u002f1+LEBHNP0\\u002fPCsSvnPmcb\\u002fTE4w\\u002fkRD3PueymD\\u002f7fHM\\u002fDrKYP1THHr+mH1u\\u002f4WiGPw52gL6dQGO\\u002f7yJuPlW7RT0LdQs\\u002fJRcuP6So4r4C7yW\\u002fodAPQM8WYr+YbQU+yHbZP1KDmr4DVZE+uykxPs6nnT+K5I2\\u002fCc2EP\\u002faDCT9dIBS\\u002fWOODP1dGoT7Okha\\u002fCNiqPW8zQDstS+Y+jDAevvlXlj9fvDg8EoVOP0BDFL9nTfK6YFGpPzZWSz85V+6+QTNuPiv4Dr7UL3a+utlQvl7r8TwF3W+9Zbbjvaro6L\\u002f\\u002f1oE\\u002f4300P5Kanj5kj96+5NFaP4DXxT4pHIK\\u002f4M9cvdA5oT8G35m\\u002fXYaUP17erD+k6WQ+Vu\\u002fSv1SUTr9zUJu\\u002fcZDuv6DBXz\\u002f57oM+riGRvtJVu73gbpC\\u002flnetPg4HWb\\u002f\\u002f5m++U78JvZHKKj81gY+\\u002fzpmVvySXJb9hH4m\\u002fMM3mvXq7zb48PBs\\u002fHht2P1Fd7z+4E1M\\u002fBGGlPxSBJ78NKi4\\u002fpZ6ZPzWeGL\\u002fEDEy\\u002fR8UrP7nZjL9U8ps9KzMav2x2SUD914M+P3krP8GMoL6w6lG\\u002fIGIuv2FoDD9c0ps\\u002frSbkvQ9QoD9TL4U\\u002fAAYJv1Hwmj8qTII+rYr0PlRwAD+Bb3I\\u002f2rRWP1zJ5r5np76+VuGIvwvG2L7VFC4\\u002fA5ETQA5lEj\\u002fMaYI\\u002ffKY7QFmfhb\\u002foDp8+EKFuP2MVkL7ELkM\\u002f6l8mPw6piz+4BkM\\u002fW3tnvzYNLz8h72s\\u002f0XBlv3rwSz1dLTc\\u002f8v+iQA9MZb+Oe62\\u002fBO2kP2PkNj8xzuu\\u002f6yYtv+yY678mQVM+J9gBv6GObj7QSZ2+w28iv5IBVT9VsG6+rVk6v4cinD7Udps\\u002f0\\u002fizv9Gaoz9Lrau9xsoZPnJCiz9pIES+Fc5tPqcbuT8nzD4\\u002fPyMjP5Pu\\u002f7+QZLQ\\u002fhyU0vwrKPL8tbNk9EZiav5xSCr8EDJS\\u002feZzuvppZoz4kiio\\u002fRHHSPls7Er81f7A\\u002fStM2v2fQuT69vn+\\u002frpUHQGI9ij8\\u002f6cm\\u002fHnsmv1\\u002f3iT+NK98+se6ZQOKCg76jzE0\\u002fiqw6P6ggur7K7uy834eSvlaRRL70SAC\\u002fj6uRvoddhL79BQdAhf0JQBl\\u002fBz91QbY\\u002fqO79PcKz4r\\u002fNuUa+W\\u002fzDPgFkkD\\u002fgCZY\\u002fVA8uvA+9gL4a8w4\\u002fvUkrv8nloz9FpYA\\u002fVe8SPu34zb5jyVs\\u002fFg7NPnSxbD+BIL++JtFVv0Pqib6UJu2+yrc8vxigoD\\u002fBS489iSFKvuw6OL9nFkE\\u002f\\u002fGwFP23rbj7KYN8\\u002fWUFLvnsKSr8IMbi+FGCwPyv8gT\\u002fZdzg\\u002f7D2jPxZa5T8qyJK+a\\u002f7kP\\u002fuzxr9yuis\\u002fmhgMP5ZZOr8Vtjw\\u002fKlSoP6TpbD6WZ1+\\u002fsXsjvqgADT81p\\u002fo\\u002ftSmEPnb\\u002fbj9FAkW+pbtLv7ctSL9Te6M\\u002fKcAZvnD+wT\\u002fwaH2\\u002fzCoUP2yAgD+bY10\\u002fmMGcPzdEbD57k0++JeJOv32Svj4+L7g+GcW+P3Z9pz+fPrs9ck1rP5C+ET\\u002fKZp4+XZm4PsQahz+e0zI\\u002fkmuMv85hmr5slOw+DCLePi5TuL+25os\\u002fdl0QPwjWPb6X\\u002fXc+j\\u002fQ4vzuQDT9+W6w\\u002fZ9NsP73htz9fW1S+Nfu4vi+EF79Qjo8\\u002fY7y6P9wgWj3G+Fg\\u002fZoGLP8t\\u002fpz8Nys4+fXIgQJkEhL6Tpku\\u002fDM6YP1fzmb3o\\u002fKk\\u002fRlYaPey\\u002fSb97Cx2\\u002flxcMv\\u002fz8rL5NNzA\\u002fdHmPvkKuOj9Gy6+\\u002f6l4MP1WQcz\\u002fp4vm9uzB5P6CxHj8iBFU\\u002fvBY9vtF5xT\\u002fNtUA\\u002fmSjHPQF6iL\\u002feHYa\\u002fZNCNP47BA7+Jiva\\u002fb\\u002fkQP67M\\u002fj5SYNK\\u002fGBTVvoU6fj8zYcO\\u002fACurP28KJj7aSRu\\u002fg0Q1P7cQwz+ZweC+nZuWP61ZOr+0Aku\\u002fTYyLvnM0kz9\\u002fups+CnByv9oVhT+pQD8+3UthvzpZKj\\u002fKiqO\\u002fHW8NP8HDIr\\u002f0ids+akyfvzPxoj\\u002f5A5a\\u002fBkJeP33fcb647uC\\u002fPpXgPtwmn7\\u002f\\u002fbKo\\u002fx6LePsQ0476q8Ni9ZpvWvtkApT9XwT+\\u002flXmWPykj1L97Ye2+QAcrvtfEiT\\u002fjgDY\\u002f38e6PnFkhD74yURArp4EQHxa372NO9s+8Q0yvwvlhb\\u002fgVui9m4PzvpU1p7+Bry88IZw8P1XoTr8E2w8\\u002f999Yv3JLGD8GMg8\\u002fwgVRQO7RHT\\u002f3g+e7bbNeP4mF+z\\u002fOii6\\u002fbyVeP4zLlb\\u002f0SQS\\u002fNabRPutp3z5AOCY\\u002fHEpxP7dT+736jBc\\u002fAlhpPwLvJb+8q9G\\u002fnuiPvx0thD4UWe++yRYwP0Ma+j5zIU2\\u002fIY7EvlsPVz8xjwA\\u002fceb0PsfzjT8\\u002f3IM+pmyrPlj3Tr9N6yq\\u002ftCdEv1yMaz8yd9U+XUp3v1\\u002f1aT+CNvS+kOZWPyqszL6Z+qm\\u002fi\\u002f0+P0Qymj\\u002f94WU\\u002fzF4jvoWqz71DBDo\\u002fzKckPYTwfUDQ+XO\\u002f9UaHP6sf4b6dmmE+4+ePvh2UOT+dUvy9NdUiv7zlAj+LaHS\\u002fFLodP7j9ur+lrF2\\u002fHCVQPsS+ET9LPZ0\\u002fR17IPpYPez9TWNS+Jbalv9Og3z68qcU+WMmHP7c72L1SGaK9c4L5vjYIcb\\u002fNHY+\\u002fokluv99Oqr6D2PK\\u002fWIHnP0rStb4FGdS\\u002fpTJ5P3zfaj7P040\\u002fZ7akP4wmNT7JOcI9nyq6v7yMsz+PY84+L7cdvwqnP76JgjY\\u002ftW8rvyI9Dz+YUq2\\u002frHZGP99GJr8e9hW\\u002f3TCLv9zxnL8M37c\\u002fs\\u002fp\\u002fv8h+rD5J8Iq\\u002fq75av3JMGUB6ZQc+MoW7P+xckr72WvW+NLiAv0LIaz+Th60\\u002fah38voqhjT8XI\\u002fG\\u002fzvV6P6kUnz8bkgW\\u002fOiUbv8oq7D+3S4Y\\u002fdpQEPygwlr6CR4M\\u002fYxmyv363K79UX\\u002fk8bawBwHqoc7612AK\\u002fwVQDQCxTgL+0lko\\u002fZuOFP062YD\\u002fjfIM\\u002fEVqpP+NTP7982Gq\\u002fsDGmvrlHCb2wH\\u002fk\\u002fy3mTvqKQyT\\u002flKIi\\u002fqOh4P797Jz4lwpS+CkBFP12Ov79s4B0\\u002fMTvQv0qjmr0zpmk+b77jP28byT7mrti\\u002fwCGivrW4oD\\u002frdSA\\u002fxw+UP+9L478IZsY+x2qQv6V7Kz+hPiG\\u002fs98yv5wNPD4Q7\\u002fk+ctkUv574AUBf5\\u002fI+sRDLvd2hIr\\u002fyDcU8jbPZPn2HGD\\u002fdrDi8N3F4QEc0\\u002fT+BUeA\\u002fy\\u002fu0vhXT8T5aPV4\\u002fX3qGP08Sij9bPPs+xLQ9QCuNqD\\u002f5+ag\\u002fvCD8PpqmhL8tAle\\u002fDRvpP37uJT9i4qs\\u002fiBeNvhKnUT4C3W+\\u002fTD84QIGER7\\u002fH+IU+9ymIP11r\\u002fD7vxbE\\u002fVpgbP5xWhD9RmhU\\u002fymcHP0irB7+3ndq+CKh4P3XInr+o4Hk\\u002fRi6+PevIcb6xfuS+Faq1P0+Bkj9KXjg+Z7DFPoQMhr\\u002fRMya\\u002fhg\\u002fJvgZGND\\u002fNg9k\\u002fjC+qvoOSQLzH9em+PM88PjIWMb\\u002f9ZKE\\u002fwHPev6VYtD\\u002fjEGU\\u002fHPifv+xheb\\u002fCXBo\\u002fL\\u002fytPuFjkT6tqEi\\u002fEOlBv7JKmb+IgUxA15r7vts51D9gefC+zjF4PtA4uT4Me2U+3FttPhHwfD\\u002fqYW6\\u002fa0vIvoZEmj+N3a0+h0SCPwuTMr8nBok\\u002fAMZpP263eT+w07i+ZPddP9y8ZD8CssC\\u002f+wBgv9bPCr+RKRC\\u002f2NIwP4IjIj+rkQPAIl2Uv9REYr9TKpa\\u002fNL1yP239Ir9aSbc+dhiDPkorsT7qFIE+rjAHv55nNj8g8oY\\u002frLUSv6fZ7759YBe\\u002fwd2SP5mjTD9PxKFA3yoFvzTnRr9O7pi+ucQQPzroIr+yAqY\\u002f2ooIv3b2HUDslbo+vECuvaxCLb9NxDW\\u002fXFmfvjN5FL+lHzS9HHmUv5SDlD9vJeg8RsBVvyLZZj+o6bK\\u002fKQQXP7+upj92umG\\u002feFNnP2Usbj9YrvY\\u002f9siPvvbzyD7Hd7e\\u002fULYYPzBQNj+9KOM\\u002ffF6EPguI1T2Ghna+SKtqPYoftD\\u002f33X+\\u002fKmOWvz\\u002f\\u002fXUBDQgo\\u002foTicvTHSLj\\u002f+gA0\\u002fuHzmP7tfKr+uvd2\\u002fKjKMP0KZHL88YOW+g\\u002f1Lv0ZhO7\\u002fXpQU\\u002fflgCPtUuJr8OPgU+b3Onv7K0hj8aeOQ8mwEQP8rlUT6Oj8i+cBUGv0erDj\\u002flq+e+P3ZkP2Jp4r+Ykh6\\u002fZZ\\u002f7vnWxRD\\u002f0pk2\\u002fOOYNQB7Wer8y5aU\\u002fpcBOPy\\u002fw0z1rYX4\\u002fjUomP32BhD+k+CVA7crrPgNLkr9O8a0\\u002faSo2v\\u002fAF4j8096s+rOgLP+IZLz\\u002fpcNo\\u002fqK8Hv6LbD78JQGI\\u002fzlZcv64puj9U6PG\\u002fSPSYP2zr2b72kTc+Ih6GvxY1zj6NKcg\\u002fQkQtQFnzkz+DmxM\\u002faA8Nv04n\\u002fr43LLE\\u002f27PQPzGRHz+TYio\\u002f\\u002fvxLvxvDE795F8A96sJmv\\u002fJgwT\\u002ftqR6\\u002fPiXrv3dhOT9dgoM\\u002fV8TJvu5Ssj8WYse\\u002fVHvyvfAAUb+CZwg\\u002fcUOsP1eVpz64\\u002f7y+yeBDPwhOD73dkO2\\u002fE2Z6v26w0z6gwqA9UhnZvqOaib29sQo\\u002fcy1yPoXNPT9N+ic\\u002foOg4P4sYCT8dRdc9gFX2vp9SuD+EKoa\\u002fyWQGPqwjvj94JQQ\\u002fZdI2Pk2Pnz4KVI0\\u002f3viav3x2gb7VnK8\\u002f6vUGP4UYq7+sa+0+8rfQP+EVXD\\u002fR4G6+vgu6P2C3k78yzjg\\u002fma+dv4Y5fj+bJwS\\u002f4eoDP8oKnj9AjzG+MfQ\\u002fvxuBX7+jNgg+zhtHv\\u002fdXTD2ZOkQ\\u002fU9NUvlNY3T9VVy+9NKNCPwJiUr5pKIA\\u002fhVqFvqUq7r8Oj4g\\u002fBDldv\\u002fz4rD+jN+S\\u002f98qwP51Uwj+apDG\\u002f2Q7uPjMClr5QYx6\\u002fQcC+Plk7xr9\\u002fkWO\\u002feo3jP58KH7+hOVq+jweivh952D9\\u002f6Yk\\u002fHxxDP10F0T1uX\\u002fc\\u002fMfKCP3\\u002f90b77mUS9ChPbvgjBxz\\u002f7Hpw+B6kyv9dsgz8xvKG+ENsnvyejkr7XmOA+Ge0WPUg6n73rACA\\u002fBNgeQGo0sL5ubzk\\u002f50GePujj3b+UI8M81DOOvlkhQ794kUC\\u002f71A5PmZELD+lpd8\\u002f98AEwEXqjD9iFFe+rcMVv\\u002fbG2T+sZ+W9igMtuvKDDD+O7II\\u002fyV6oPiMtCL+xBbi\\u002fqpcuP9rOTzovDJu+G8aEP\\u002fKLxD93U3y+FnNKP70D5T4NGn4\\u002fbl+hPR42iD\\u002foVJE\\u002f83LGvUxDFD+GdRG\\u002fb2ufvwDbwb4LyCk\\u002fDHmjP7el4L8kKwdAfcMHP3k0eT9dpvS+v2tzvsGKzz9u4Wu+x42Av+RwVj8qfzu+1uefvi2Klz8zW9e+WK2APzBWWj9dDAE\\u002fXMWKvycM4L\\u002fHlZA\\u002fAmkAvraRAL9uAeK+FJOuvtkvOT8\\u002fKHi\\u002fuXhnP0nCzr0w8Lk+mK\\u002f8vs+63r74z1s\\u002f4ba4PskjFr9ajxo\\u002f8pNEPyCFv77YxMY+d2qtPylUrL5b1gu\\u002fgIIrP\\u002fKAnz+KUhw\\u002f+HI+P8bf+j7ifA4\\u002f1U99P5709j4LcYy\\u002fZBEmP+1Rhb96G8S\\u002fxyXxP1vchb4kb2C\\u002fmbvgPhlM1T\\u002fQvok\\u002fj2XPP4vzDT0fstw\\u002f7bKsPjmjrD\\u002fHhnA\\u002fsmiXP+14972obxA\\u002fiksHv8MVKT+IYrW8aEe1PloV\\u002fj6pDRq\\u002fpb5wP5+\\u002fZb5Dhhq\\u002f0KjwPx6+oD5KyHo+3ESEvjUzFkBtLe+8MX0kQEnn9z8zTMi\\u002fLE\\u002fivyqOKr5ooiq\\u002fAtdSPg7jgz5J8vC8JdisP1Ovoj6PA4y\\u002fkAoOv3fK5j2PRKg\\u002f5g++PhUJrD729kM\\u002fvqrSPmmXnD8yi2Y9Z\\u002fqPP4uCiz8NbuS\\u002fBubVv1aUkD8sv2K+p+Fgv4T1Fb2BzFA\\u002fBwV4v5b7zj8bOUE+6B2EPyHkJj4n5Xo\\u002f1p8FQKbqML83lyg\\u002fTW5JP7qQGT\\u002fyy0Y\\u002flL4AvwBpU7++Jw6\\u002f9k7Cvbz3oT6ytsi\\u002fWRcbv+Hdqz6xVUO+rZA4P\\u002fKAnz8oxrA\\u002fEAPfvRJSbT7\\u002f0ma+TA6Fvx9WjT2P6SW\\u002fi4sKQNGZ7D4A0cm7TR+HPuvHLj9XBkC\\u002fvSzMvsRPD7+cPA4\\u002fbkgmv9TmXr8n4Cg\\u002fpMM1QH0tuj7lvdI+mEtwP5\\u002fzu78rU9s9\\u002fSaePx6MlL9nmTG+MT2hP9iWbz\\u002fCUJ6+dva4PSYYkj6y1Ca\\u002f8wjRPVznBz+DK1C\\u002f1HHav0ZwUT\\u002f52tO\\u002fuULNv\\u002fFO8j\\u002fV1J4\\u002f0iTNPTMFLL0Unsc+sCOqvg9iKr9oZdY9lHIdP+ekRT+LjMc\\u002frBQ\\u002fPcMHEb9s6Iw\\u002fQmuuPRstXL57htY\\u002fPtA3vxqtmz\\u002f7nilAR4\\u002fGP7v5nb\\u002f8qMo+d2+SP5dqoL4\\u002fEWK+EJH7PsVW2j5TzQ+\\u002fxaCGvyM6DEDcbCpATeNhPYlHFj2roAG\\u002fi5sKvzTeoz9d0Je9YPOjP0e7Bj8\\u002foPQ+Amc4v2a0Vz\\u002fkoB0\\u002f6raQP+bzd77eCs4++whwPw7JDL9LoEA\\u002fKrJsPoAPxL\\u002fTRHc\\u002fzWM2v5FpvL6piZi\\u002fyjpTPy0hiT8R7T8+060iv5WDkj\\u002f4Upw\\u002fZjaev9OCNb+lUny\\u002fXrwPv9V5l7+iDhZAheqoPu1+zb3o5bM97+e9Px6YVT\\u002f0Dbk+J7XoPtxn3j90f6G\\u002f4ZmJvjJrVj\\u002fFTQ+\\u002fbsa4vxztwL+81aQ826N9PG+DFD73hYE+LYjFPlngfj82eKM\\u002f97sSv4cN2T5W2zM\\u002fyYWFPzWWPEBtsZc+Tdc5v+UorT\\u002fEa6W9YSw1P0oI1T6URng\\u002fqGWMP2tJlL6G\\u002fnw\\u002fFyl5v9d25T698Tc+4QpSv1NBDz90SP+9djIFP0v+gz55elo\\u002fuXGNv+brmT8fE\\u002fU+\\u002fYPqPumOq7+n21C\\u002fRZbMPkfGr7+cYbC+5KGePypCB0Bc97m7veaYPz5P1b\\u002frT7K\\u002ffw48Px\\u002fyyb+JbYW\\u002fClqHPrCWC7+qIug+sMTLv8u1bj4G9ac\\u002fzKXNPqxcSL\\u002f1z58\\u002f7gEPQIsnFT+2vpA\\u002fL4t5vFYkD0DpS9W+8TGoP2dtSj\\u002fPC0Q\\u002fPK6fvdulyz7KN9i\\u002f7JafvkpSur4KJvC\\u002fiGu2P5uuPz+OW9m8wdWDvywsTr\\u002fhu3a\\u002fUU3zvP1nIT+8j4+\\u002f0RaFP6J8XL93SY8\\u002foI\\u002foP70tkD86mnG\\u002f5hBTPimTjD8YOE+92rP+P2GhVT0vX+a9xVuRPoaR8r7dOui+4H49P\\u002fCrqz+1qoA\\u002f+By8vg4KxL284hw\\u002fXSNoP3PMlj8jQHc\\u002fwXOOv1FVvL\\u002fxIKY\\u002fudXrPxAVUz4gq1O+mdfNvk\\u002fsdz6lbbm+VmANPy8qcj5CexA\\u002fMYFrvubAOL8fTy8\\u002fSaTYPxm0DD9XR8s\\u002fcJGrvyu70j+\\u002fthc\\u002fwd\\u002fjvc+HiL\\u002fZJHu\\u002f6SoEQMHIZz98Dj0\\u002fsCaPP8aYxz+k25a90dxRP05qdz\\u002fuDfC\\u002fnBVVP\\u002fFZnj8Tsp89sWEQQOU8Bz8wONM\\u002fP9ewvuRLVj\\u002f7wYI\\u002fc82OP8n4dj8Vs5K\\u002fAyEhv0epjr4wssY\\u002fqlWhvEU6J7\\u002fLkPs\\u002fc7KivtQ6sT8kcLk+v4fbv6c3379LQZ4\\u002fJNpKP1PUED9OrJ4+d\\u002fsUu0h1ej85zek\\u002fp9ecP+5E8L94qzC\\u002fWIlaP7Y1075nLZY\\u002fyE++P+0aED\\u002fqFqI\\u002fKLXVPfBja7yeomk\\u002fExkSPx9bKr9WCaa\\u002fSDw3v\\u002fB3Az8SNgS\\u002fKscIP2qwHr8o+Uu\\u002f3C20PzM2ej+FOn4\\u002fOb3aPr7L470Z8KM9HEZzPhF\\u002fkr5x37m+MhC+vnJvTj8Tnk4+bEKAPvR6479ZZ4u\\u002fSe3jv5RlSz+NcDc\\u002f5TmIP3vZ5b6j5J4\\u002fCfmnvnB0jD+2A6o\\u002fFTiYvs2Nnj7i+zm\\u002fA6mEvWD5DL+Ykwi\\u002f+XSIujszvT6wwdO+dmAlQHuDST9AsEE\\u002fevI5P9+OrL5FU32\\u002fz+GnP5BakT71m5C\\u002f8AsIQIjQ1D7NSy6\\u002fdCkBQOmHiT\\u002fNHMc6eekqvjig7j9vDWS+Jm5BPwdhBj9xorg+I7uIP+FBkr9KHcs\\u002fQJqBP+amQr9Enbi\\u002fgxYgP3LVGz\\u002flicQ\\u002fKeehP\\u002foCpz9jL0ZA9cyVP2hXuz8DmUG\\u002fVdoyP6m3cD977KE\\u002fTziYPwf+jT+jT0A\\u002fd7BMv81a5L\\u002f7sqU\\u002fWUJSPjidkT7KQxW\\u002fuLZZP5Jigr8Yxww\\u002ftDcyv0JWbkA3zSs\\u002fKtaYv5hIU7\\u002f+5ac\\u002fT5l2P3Eq0b+GBTu\\u002fY\\u002f7LP2dUMT97hRg\\u002fUBnGv4T29D47RLw\\u002fY04+P19wab40cbM\\u002f3dz5vn2Ysz+kz8a+wC2NPwdfVT\\u002fjjee+J9G1PxeM0j4rSoY\\u002fWKW+v2MdYj\\u002fRDAHA30Ymvyx7bj+49xQ\\u002fY3FwPwdQOT+9MAM\\u002fgnRIv8y5Tz1d2fo8LCYsP6LWdr\\u002fHGZy+0bLlv\\u002fhxv73pLoJAhQOJvv0mDb9mdOm+avPQvah9hT\\u002fcEjU\\u002fRnGrvxQ12b5oMDU\\u002f\\u002fqP\\u002fPS81jj8PlJ6\\u002fXUvRPaNgAz\\u002feU4C\\u002fe7LBvvhJOj4dLUm\\u002frCNAP6tM6D\\u002fvEJE+fPtMP9O6Rb2fPhS\\u002fKDodv2OdOT\\u002f8AYA\\u002fBN+Uv4CvzT5fQBa\\u002fng63P\\u002fOdkT8djHQ\\u002fbyzzPm3gjD9p6AS\\u002f9cApP5+Exb2OVZs\\u002fQiFxPx3afL6T3u4+BqX\\u002fPlfWvb3LeJa\\u002f77YhPx8Igr\\u002fFD3i\\u002fPrOrP4c7XT9orDs\\u002fM4ZUv4yOPj9yKTO\\u002fpt+DPptrA78jgsc+MrDUv9hDGL9tcZ4+PzWePxMSTr84jZS9RgBBvzHFsT46XG8+J\\u002fmivmc7MD9gidk\\u002f5DSaP0ERQ7+fkns+3T07vlZrNUDavyJAokSmPsnZhb99H2O\\u002f\\u002fIW7P8Dlxr4GXzK+ZRdFvcGLjD2FpCY\\u002f1TPJPpmaej64owhAzkVsP+SWmr6YkLi+TEgWv9Dphz8ANRG\\u002fO0o9P4dbWD9qoY2+D\\u002fOMvcVQzb5ATW2\\u002feBd4vnbFxj7lzb0+wCheP1Zcfj\\u002fduku+MtyWv8oA0T8t\\u002fqi\\u002fX+ymP6pQ\\u002fj6PO5C8X8WTvF5\\u002fPj8op4a\\u002fVJdUvhLLoL4l7X9AdA4EP2jd6T9A+jVAVG+UPzyZyT2fzmK\\u002fNjpjv6nXjr4aXPa+XY6WPxxkxz7j2pM\\u002fkT2dPiDXbz8wJzW+y46fQG8l6DzoDp8+m\\u002fkevjyW+j79Whc\\u002fZDU4v1yCBEBcOY2+jZanvvalnz9+dyC\\u002fzBAwPz3NSb6hNAS+O3Iyv4N\\u002f6r50KII\\u002f32o0v+zWiT\\u002feiZK\\u002fs9+Tv9DAwj\\u002fvxva+J3ksv3RZsD1laY2\\u002fvgFyP0CgM78=\"},\"type\":\"scatter3d\"},{\"marker\":{\"color\":\"black\",\"opacity\":0.8,\"size\":1.5},\"mode\":\"markers\",\"name\":\"[Predicho] Void\",\"x\":{\"dtype\":\"f4\",\"bdata\":\"xILjPzjLxj8fGC0\\u002fKzSZP12pfj8vxiU\\u002fJtLRP4ud\\u002fD73aPE\\u002fHN1KPyybcD8D3co+E5akPwPQqz+ds3o\\u002f4amYPwvblj8WVZw\\u002flO1BPxf6AEATN6I\\u002fmcCWP8vemj8EXpk\\u002fC5i4P+JBpj\\u002fMHv8\\u002fYGadP2twlT+ploo\\u002feauXP1VEuD8XBUw\\u002fSznDP8\\u002fdmT\\u002ffV0E\\u002fXfiAP568GL50L78+OLuOP8hXkz0dNwdAhy4GQN\\u002fAjz\\u002fOpfI\\u002fgBagPzIvJz9oJac\\u002f72JVP1slpz8goIY\\u002fkmoHQP0Agj\\u002fKi80\\u002fvnWeP\\u002fHAwL0t4YI\\u002fqce4PwaJ3j+oy6i8RKCZP2ewwT9lTtM\\u002fQr9rPyyPNb5WaIk\\u002fVJJFP5qfWz9USAQ\\u002fQbYIQISEVj\\u002flfpQ\\u002f0cmlP3PC5D+bsNE\\u002fZDwFQLTxgD8uif0\\u002fgQlDPwGiBj\\u002fL3p0\\u002fwNmfP2c+iz\\u002faPJw\\u002fGa8EP\\u002fPs4z9BYOY+47WWPwAHnT+iTXA\\u002fn1K0P292\\u002fj+Vo7Q\\u002fGxfQP9Zrjz\\u002ftN9Q\\u002fm6qNP802jz8H+bU\\u002fqe1uP\\u002fbDYj8VMZQ\\u002f0FsYP0wJTD+aa7U\\u002fRqGGP7fb\\u002fz\\u002fOgM8\\u002feiIKvpoJVj+hXI8\\u002fxoVzPymdWD+8wMC9OGREvPuQ9T8wLfM\\u002fVgLkP5tkpz+h5fw\\u002fxKy1P+xqvz6xAGo\\u002fQyzZPmegnD+YFJM\\u002fLCALQNSrzD8SskM\\u002fz2ixPwUfuT8bAks\\u002fm36hP3KgYT\\u002fGqsc\\u002f\\u002fK6FP27BhD93vQdAkKWQP1ACkD+Tg3o\\u002fG\\u002fGgP5SgDD+KyNg80cX5P6eI+z9IHqA\\u002fy3b2P8HpmT\\u002fa+IA\\u002fZUGPPxvs9z8C0Yk\\u002fYZJtPw74rj9xdYE\\u002fhSeMP+DIVj9Oa7I\\u002f8RiJP83VXD\\u002fFpa8\\u002fh2nvPwW+mD8Wbk4\\u002fxJQDQAlX\\u002fD+vcYY\\u002fKsRJP22pcT9qba8\\u002f0rjzP\\u002fkKiz8tFYQ\\u002fp7SEP+CwRj9MZpc\\u002f+f1CP7nRdT84Aaw\\u002fmAyiP3gt0D9KE6E\\u002fO4zAP6wJnz\\u002fcgKE\\u002f89+MP\\u002fRzjT+aXEw\\u002f9Z6EP4Zv+T++R\\u002fI\\u002fTu1vP4B+aT8F6NU\\u002fYiuBP3SsUT8oE5c\\u002fDxyfP31ECUAnqKw\\u002fxzSqP5R9Dz+0RaE\\u002fvEedP4G5Mj+0i00\\u002fqei\\u002fP4Sv3z4YW\\u002f4\\u002f2iZQPyw4oj\\u002fpyZo\\u002fUK1RP5MyoT+amwlAfeeCP+Kvnz+zB5c\\u002fnwV4P0oE3T8XoVQ\\u002frgxQvR+ruj9Bb7w\\u002fE6uiPzJcMj8LMYM\\u002f8u+dPw0ntj+Dkp8\\u002fWcleP+gHlT+5W5E\\u002fV32oPybTXj+LOXw\\u002fgOFdP55V7j96+pc\\u002fJeKkP69+nD\\u002fktgo\\u002f29cDQJ93hD9SCgc\\u002fCwfxPya+xT9ZqWw\\u002fKSCSP44Ikj9Bj1Y\\u002flrldP3b+Oz+97s0+r5CHO8Vinj2Xsg6+wJeIP3wp+T8\\u002faI4\\u002fM5FrP9jKjj\\u002fkbqQ\\u002fVoILQD6wkz\\u002ftKJ8\\u002fs+Rwvh9zpz++Sq0\\u002fYbGEPwv2vj\\u002ftEuk\\u002flxh0P+1nQr6Eko0\\u002fQ1+WP3bTij\\u002fCQp8\\u002fNp7HP+bRlT\\u002fUGpw\\u002fnbaCP9DQoz8FGd0\\u002fPsPBP\\u002fmN3D5pfrY\\u002fjHsHQJAwSj\\u002frMKY\\u002fjymLP0KIXT8T97Q\\u002fFQJtP2NF8j\\u002f75qk\\u002fS\\u002fiVPyKmsD9hLso\\u002fXjlzPywShj+nGQpAGM6FP5bPiz\\u002fXS8o9EtGXP+XGlT8rX8w\\u002fErgJQPcaC0BSJIE\\u002f1ui+P\\u002fkAhz8133E\\u002fNOSJPy17C0BsViY\\u002fe9JdPyYLdz83vbU\\u002fe1\\u002fdP7P8YD8m94Q\\u002fiY7OvZft6z\\u002fLbIs\\u002fsgvmPpwFQz9l4KU\\u002f3n\\u002fhPynQUT8QpaM\\u002f\\u002fpU8P3bz0D99rwdAbTkPP2bG+j++pgdACNRlP0Ch5ju0Y0480wipP7bJlT+8P4o\\u002fTLeuP1pfjD+fmp0\\u002f7YfPP6QtjT+gKKE\\u002fUAeZP9lWlD9P3QRAt\\u002fWNPxlCpj+RD2Y\\u002fCa\\u002f1P4IVBUBecI4\\u002f2wGVP25DQT8P0fc\\u002fa\\u002flpP5NqRb5558I\\u002fghkIQIrTiD\\u002fZd3M\\u002fkUCyP2r7wz55XVQ\\u002fTuGAP9S4kT+bFu8\\u002fg9mmP3zrtj8gxJo\\u002fbRSrPxleiD9MorI\\u002fG6MOPylWgD+mtEo\\u002fopV7P5FjdD8XW5s\\u002fsMCbP89Ejj8LKJw\\u002fUWWbP\\u002f2VuD\\u002f5PUc\\u002f+NaVPy\\u002fVF75XeYs\\u002f21cDQJ\\u002fRrD+esLM\\u002f1kipP1tJWz8ORbE\\u002fFIN6PyKsDD8avIs\\u002fe0JQPyNgxz\\u002f32FE\\u002fdGuMP0+2Q75nbP4\\u002fUaO0P6BzgT9h6OA\\u002foVC9P3q5hz\\u002f1Y9g\\u002foN+3P9yolz+Fmys\\u002ft4OCP99DUz8kv4E\\u002fIB9xP1ydEz8bl4M\\u002fSH23P+HOB0DxgnA\\u002fGbXcP0zMpT+riO+9iYqYP5x1TL6432k\\u002fUzK1PwQzsz9dl6g\\u002f912zPyivlT+YB9I\\u002fqpsQvrrxvT8KtJE\\u002f8tb0P3+lgD\\u002f9BJQ\\u002fbLi+P9jvuj8szvA\\u002fgcJaP9zglD\\u002fTOJE\\u002f4T+YPzHOQz8WqpQ\\u002fwUkHQMrFS75SDAc\\u002fbJaAP2hT8b016Ys\\u002fzxTOPnS4qryjC9g\\u002fyc31uC4d4T8S+dk+ZxWTP0QrVz\\u002fyjZs\\u002f8BGGP3Y+9T9dU7A\\u002fsyz+P\\u002frdCUCCc4E\\u002f96uwPypHpz9L9H4\\u002f1CepP7821T6VIoA\\u002fuJCsP7lWRj+IIo0\\u002fzs7TPpcUuz+oSqo\\u002fI5eVP9NoxD\\u002fhisc\\u002frkAGQK3QaT9zIfI+iP7TPy15sD+5abs\\u002fcemAP4W1vT9Xtpo\\u002f1BVXP8\\u002fZgj+W7OA\\u002fvP8JQKEz+j+zwec\\u002fcLiDP1oEgj+qyqA\\u002f+B9HP5pD3D\\u002fA7Yc\\u002fsJywP92b2D+IwaU\\u002fSny3P0keZT8oRAVAHjNKvgnFhT8GfrU\\u002f+sebP7Eg0T94ngVA96ScP5f8lz\\u002fDMs8+HXSJP0CrLr4Irb8\\u002f+bkDQJgkFT\\u002fyfla9Jf+YP6TnBkAJo2k\\u002fQFWnP3dFAEAOJno\\u002f1sxlP+5cB0C\\u002flZU\\u002f06i0Pz+6xD\\u002ft9ZI\\u002fC392P+dCfj8QEpw\\u002fTBCKPzt7Uj94lfM\\u002fjy3DP7ZIej\\u002fGA5g\\u002fK+95P9g1nT9SYANA9GLvP6mjpT9uktA\\u002fbyAOPqkIwj+\\u002fFwS+WQ1LP+xbCkCwHIg\\u002fYPCaP4\\u002frmT8335E\\u002fOrIJP6xigD\\u002fK\\u002fQlAbyiEP5i88z\\u002fkR6Y\\u002fDJ3LPyPdnT+jXWU\\u002fmmSjPz+YeT93EtE\\u002fj850P19IhT9ULQNAwzxBP7cjkD\\u002fgdkM\\u002fU41HP6ku2D+R6U4\\u002fenW2P3GfgD88DZw\\u002fXevTP4PTYz9wYcQ+9fYGQADXiD+mLXQ\\u002f70+pPycxqj8I5Yc\\u002fl4CeP0h+kD\\u002fT+P8\\u002fLM94P0vjPz+Am08\\u002fpeiMP2eXiT9NT4g\\u002fQQxpP3\\u002fqJD91\\u002fQVAphSOP9XSSj8Ebb0\\u002fDa5EP\\u002f1JGz\\u002fVp5k\\u002fQrBlPz8utj8lcJc\\u002foC61P+tElD9D0YU\\u002fBtzCP9YgSj\\u002f31c0+oYBhP2\\u002fC2D8ivIE\\u002f8zmbP17\\u002fgz8gOS4\\u002fc4eKP5WM7D8lD4k\\u002fAReAPyocoT+efNk\\u002fZzpnP91koT8QrpY\\u002f1F9nP6fUhj8cqoM\\u002fDH7gPh4Kpj8XJsY\\u002fQu4JQE1m9z9qY1w\\u002fh3FdP0y1nT\\u002fjzQa9G5LFPzaIlj+UEKQ\\u002fw82AP83wEj8EMn8\\u002fk36UPw\\u002fuqj86k78\\u002frXaJP0jFjT9b20k9ZoevPwgJXD+ua0q+6FJsP3Wxrb2MsGU\\u002ffhlzP+GYhj\\u002fSlaY\\u002f9HoKQM1npD\\u002ffPWU\\u002fCEgIQLFMiD8WUMI\\u002fxAtCP1r3tz+obwtACyrlP23\\u002fsz8FwCA\\u002ffb+dP1zHgj8f9IY\\u002fJoWXP3h1nr34+pc\\u002fd6kKQAdcuj\\u002fau+4\\u002fPBmGP\\u002fXO+z\\u002fwsl8\\u002frvV6P22dgD9sVnI\\u002fgP9CP\\u002f1vbL1RKmw\\u002f2m6rP4s0sT\\u002fwbJM\\u002fFT+XP3J5PT9byJ0\\u002fBNODP7CSVT9XhMU\\u002fN8idP2d3nT+k5YE\\u002fkaCBPxWO8j7R8eo+yywpPz6mB0D6TXg\\u002f99G2P5bvgz8RIJA\\u002fc+twP3wrvj9+GK0\\u002fKWi0PwIjlT9OFuw+LNr0PwJdoj+LbvE\\u002frTGTPx3Nsj9XUApA6rGIP6i3ej+nRbY\\u002fvxB8P487eL1DtrE\\u002fHjzGPHsIlz\\u002f784o\\u002fKaQGQF6CsT35eNE\\u002fqyWAP1xvkD9UVKc\\u002fNIYAQDpeLL66DglAyKWpP1S7hT\\u002fO\\u002f6E\\u002fXQ5NPzI3sD9VIZ8\\u002fk5HjP8y1hj8lFHY\\u002f3il4P0RNYT\\u002fZ9gY\\u002fVki9PxrCtD+K9j0\\u002fN++TP+txMT\\u002f\\u002f\\u002f5o\\u002fVlZ8P9PWhz8ciJI\\u002f7onFP+C+vz8r1PE\\u002fJkGCPxo6hr2me4Y\\u002fdrGGP3j9gz\\u002faWo4\\u002f9Hz1P8wQAEBiJtA\\u002fjGljPc2BWD+a6b0\\u002fO+OZP6Gdgj8dUmk\\u002fgHvEP90DlD9lbIE\\u002frWS0P67z2j\\u002fLRrY\\u002fvFeGP+ECdD97kgk\\u002fTuSnPwwViD8SAc0\\u002fvz+BPzA6xz\\u002fOmEc\\u002fvpwIQDUjsT8XWdA\\u002fnNkBQLzR0j\\u002fTeMc\\u002faLd6PwwmeT9onYg\\u002fDKSLP484hT9ejpY9mlQMP37b+D4QRTq+bmaYP84lOz+2tY8\\u002f++gHQKpDtT+TcqM\\u002f2FFzvuaCBb7nNEE\\u002fBhHbPqKZhj\\u002fDbYQ\\u002fNYJgP4P7qj8ggGY\\u002fw+hPP8QOuD+DEug\\u002ftzXGP4Gqkj\\u002fJ1Yc\\u002f9KEPPI2xA0BZv50\\u002fi3p0P0XmxD9zPH8\\u002f81eLP5gKez\\u002fyaZg\\u002fGFeGPx0yB0Auy+o+JuBeP4pJxj\\u002fYdxU\\u002feI0JQMu6ZT+K6pY\\u002fx2TvPkAu3z+zjpU\\u002fMOLjP5ofw7udbgFAQzfzPxMfRD\\u002fSFJc\\u002fxAWDPak71D8=\"},\"y\":{\"dtype\":\"f4\",\"bdata\":\"clQ\\u002fvkB6eL8wujy+lBQBPUY5bT8CNES+14xnP\\u002flqQ77WIZ2+rZnjvugHpz9xikm+wJ2bPnemiz8KYoc\\u002fuWDVPwds3j\\u002fWOcs\\u002fhv0Uv9xVhb7IwJ6+N9KNvTrqoT9Ee9E+0vP9PmhHtj1xOYK+YZolvWym6z8Cipk\\u002fZ6fmPwMjGT9QjOS+9Y2zPupMhz8XXSG\\u002fYN4UPqHV6T8540q+d3M\\u002fP4Hj8z9FEli+Q3wmvSYZpD9PQ4o\\u002fvDfZPCSQPr5PptE9JReqvvRbwT\\u002fgMvM\\u002fOD1Uvt4dAT\\u002f00DC+5uLiP8nh6j+3+qg\\u002fdI8EPwhMGz8Y7fM\\u002fscrXP3IHmb+2Qxo\\u002fXfX0vhK76T\\u002fhPeI+grQDv+FUkz4\\u002f90K+I2E\\u002fPo3PcT9Qi5Q9lgqavgxSD701I46+Cf+pvpIdyz76Sc6+QQg\\u002fvvcTQ770iUq8bpnsPc8Efz+ge8g\\u002fxztDvkSQzj7zu0W+NFziP0iFnD2Hrqs\\u002fi9QWP7+ybz+gExM\\u002fCIv+PmjkNT\\u002f6FvM8uDnrvTMUhD\\u002fqTCI\\u002fcTnzvkuwQ77mRbg+PQJAvmvD3b5bk5k\\u002fBK6jP5rbaz+fq5w+h5nqPy0Yqr4mGAM\\u002fawX\\u002fvjLxQL6S8uo\\u002fOXTuPzNDmT7Bv6Q+Fm+LPu\\u002fbkz8sjIm9j2LDP9hVSb4DGbO+iF1CvnnYbz9NNXM\\u002fPJNaPnnaAT9u9Qe\\u002fqN0cP+yqDz+jUj++NjUdP6RAsT94RE68xeumP\\u002fHZGD9HtSc\\u002fxQZ6PxMgkj5wqo8\\u002fjCN4PrCJRL5YjPQ\\u002fiopBvTmCez\\u002fkRjk\\u002f+JJXPR4xMj5UXr++LzCkP0\\u002f5uj4pMqI\\u002fxprBPyWhsj5gOeM+t\\u002fJfPyLQP76EQ7e97ZCjP9+68L4Cao+8k3+BPPeR0z+n+s2+aIOAvivObz+cJFM+jYzovtvTrT9F\\u002fm09yeCDPwTXoj\\u002fPVbA+R0GjP445+L6hnec\\u002fNiYKv\\u002fIjoz9Bwh8\\u002f+KOfPI5uUD\\u002flDmc\\u002fkzspP6dkJ75mNKI\\u002fghy7PuQenDwwktK+KUYQP4mArT4YVuY+JrGpP0U5iT7vLtM+d0LPPoQ9mD9kRd8\\u002f8XZcvh3IET\\u002fiXt49ZgH0vTo4P77DPxk\\u002fNMhfP0lNPr5qNti+hEeFP7KOSr7fsG0\\u002fJGDJvg2dwD9Y6co\\u002fLulCvtKW6T7vTnY+kWACv2eVXj4yzOo\\u002fNhTBPl5bVT6\\u002fjHc\\u002fJpvkPz7Znr+2fYS\\u002fsN7AP9k0QL7RFrE\\u002fRloBP4c5pL4Pvga+ysNBvqxwEb1GGHM+x2B9vpzlpT\\u002fa+KI\\u002fWQF6Pj0KAj9rLmO+xZSCu6FgT760sUO+nl6zvvNiuj7lEUS+Dg+8vgUhgj+GbfC+EgaMPXWq0L2sOfs+5ji2P6wiPr58EUi+YarzPwyb9T+JZ+o\\u002fP315P1aJfj+NvUQ9OjlVP6+arD5VHnS+vFuoPopT8T+DFIk8EwrpP1Z1Kz9qxYQ92DoaP6GrWz\\u002fnzMe+QgWkP1\\u002fW6T\\u002faYtA+PwVdvlANpD+An5C+kSnWvrPHXL0n1Uo\\u002f3wjUPmxJaL4EfFs++CYWPi9HR74R7oW+EGMLPi\\u002fK1r47pUo\\u002fZe\\u002fJvpz08L45EDw\\u002fNkw2Pkyvhj8KJI4\\u002frfaSvVKYLD\\u002fH3am+HKqjP+lsJz5JrcI+\\u002f6osP5cOnT2Gh\\u002fk\\u002fTrSDP\\u002fW56T8ipFY\\u002fTqQDP7G3wT5x9OA+nh2BP8wxvT\\u002fF1+e+WLK+P0yzpj6Vdzu+el9UPxYZ3r6epto+1J\\u002fNPkEISj+AHLG+WHXqP+09vz18B6I\\u002fRx1GvuCVD7+fayS++54gPkUN3L5BJdg9fzM+vikF5bzl2Pg9TdxBvhl+dT8BUSk\\u002fzsuTP3up5D8iLPU\\u002fKF+iP9cXoj++\\u002fDg\\u002ffc52P+cXHD+FEJM+pxICPxQ1oD817qE\\u002fxjvUP7Ym8D8F9qq+ewqPP9So2j5d0ok\\u002fNAuWPXlbpr6gxCE\\u002f7qLtPzWIEb8Rn14+UN5Bvqfz6T+713q+FF80Ptbq177hD9E\\u002fVjwcP6tJSb5uMra+jETmvoHDPb4x9+0+j+qhP38gsb441KE\\u002f8MVlP0S4QT+EuK0+fFxAvshoqz\\u002fOKD++xX4cP4G6oz8dDs0\\u002fI6bOPziSoj9Vpsk\\u002f0fdnPXIl2D4ecz6+Cb0mP4ok6j\\u002fjlqU\\u002f9y5GPDnzlD\\u002fELB4\\u002fQEdMP28blb6qPRa5zOncvikjQr56yLM9Egw9vvQd6D5qhbq+qOQfPz7S6T\\u002fSUHE\\u002fceESP5qMCT43X+q+5uSgvxWKpT6cdRs\\u002fU6ONPRWjPT7VVz2+kKG0vlUr5r4kAFU\\u002fs0gPv+VeQL7Eg7E\\u002fYUVPPy4BEj7jrrk+cHP8PkLhGj82DOs\\u002fzv7zPtKU6T9f+Z2+XlNAP4DQa743F7k9QEwXP1te7D+Z7YE+OyHqP+Rwl75q1ks\\u002fDH+EPziAXj8mS\\u002fA\\u002fRCCDPZweFz+xNA0+n73Nvjp86D\\u002fgxl4\\u002fwtvlP7BcEr8Oa0M\\u002fzvWcvnCF6T+t9kS++MGmP5Mz6j9DIPk9Oa9JvhnR6T\\u002fJtZI+oMDkPwApXL2kEUq+naRxPRHKQL66Pao\\u002f4pwbP6SdgD+dWBc+Hr9GPlsRAj8bn4E+ZL8mP9gRwT+Qekc\\u002fyb81PyzhR74WUeA+H9B6vlgLQr4BLqI\\u002fpUVIvu60nz+OSkc\\u002fpFalPy\\u002fLCD9h4Fm+zQi6PrsWqz+Lk0i+Sfijvsy\\u002fJz\\u002fRKv8+3DCvP6gyEL9ohNA\\u002fxmoDP4J7wD4iIL++NuHNPuHDPz5ZIxA\\u002ftKq3vmWRUj7CBii+XlXzvj+Q7z6fFbE\\u002fpNUrPxTyLD5iRr0+vkNXPGesm75QBjM\\u002fHajpP57ioz8+s6s+DJDSP6aTn77u2\\u002fY8R+3DP31N4j9An0S+LvIaP+me6j+3N4m\\u002f+RlrvoGUP77aiuQ\\u002f46zsOxbkLz77Gaw\\u002fa8TAP8yNZj8jMqM\\u002fOVTPPsmzIT6xwjU\\u002fFhiOvlE4AD8lZPu9MLeaP\\u002fnsvD+7MMc\\u002fSQc+PqW4tr6o0D4++1XBPjEK9D6bONw\\u002f9DA\\u002fP73txD+ieIS9x6bFPjt85j4w4fs+I5X1P0ozTj2e2uk\\u002fs9jWvsRN1bxUtNA\\u002fX+yhP6EQ3j9nD1I+a4tAvjvMoj+bY+E+FNWLP+MaCb59pWM\\u002fPtd7P3iDKj++Fq2+GJyjP5CJ+77QQ34\\u002fw\\u002f6jP5w0OD+547i+m0QXv5cFQz5SWAi\\u002fz1f0vqGQHz8qB0K+zYqtvgG+kT\\u002fufcY\\u002fYARWP0CLqb4nIki+Mmv3PeU0MT\\u002fvH9O+GIk7P+do1b44\\u002fm0+\\u002faWSP6kspD82cYo+kBa9P3f1GL9by\\u002fC+q1y\\u002fPlw54D6UMZQ\\u002fuYhnP2JLQr7mBTI\\u002fRF4AP7\\u002fi4L712A+\\u002fTRIIvxcBQ77XGtw\\u002fVKSUP0DiEj9X1oo+jfsaP1jwVD7vjYE\\u002f3ZyaPm52774keUi+m7l9vhf8Yj71tQG\\u002fMOvIP1Mt+75fED++ogLvPYQbdr71mKg\\u002fVp5zPybC5D5hgOI++qK8P5FctD0E1fI9tXmiPn7\\u002fRT+qkQE\\u002flMRIvjhCwT8\\u002f55E+olEEP2rhxb6aS4s+42BVP4n9PD\\u002f05OQ\\u002fsWBEP8UV5D8RSQM+jSQPP6l1P75fMrA\\u002fZlBjP+EKjr9AqiM\\u002fQ3xGvFQLYL3Zcfc\\u002fov5vvp7HqT8qcek\\u002fTRicP+aR6j8p6+S+cBMGP8OL6L4IE8i+hf7fPqr9jD\\u002f0hqe+pxNVPkKZoz+nM0C9DREPv3gXOb5I6L0+izAEPxtBAj+5Uzu+vDeAP3oYAb+KAvs+4I7cPyQ46z9b16I\\u002f4GOrPt6ReT\\u002foIBw\\u002f1z2pPjvrdz\\u002fvvPm+diYAP+tRvj\\u002fFDZc\\u002fg9QOv6Y86z+u8Py+xKslvjmgHz892tc\\u002fofLgP+qgP77NqNA+vL29P8n+kD+2smM\\u002feIFrPZM8kT2hhK6+I6RoP6PeRr4wUEW+9uc7voXxGb7Oboy+NYL\\u002fvgv4t772umc\\u002fGvPpPiZFKz8N+rY+AkkoPzV5oz80VEW+7RL2PWF8AT+Xi7g+ljL2Pl5PAT4PL7s+LiSjP5rgoz+6McM\\u002frRgVP\\u002fFa6z8QEh8\\u002fehblP0UgPD\\u002fI2ae+ebv3PdG27z\\u002fVUpg9z1MEP0gM8D6S2AI\\u002f8JRiP0G16T\\u002ff\\u002fCU+idJtP0Jm9z8x66E\\u002fpgjevrSBTT7\\u002fKWo\\u002fMdM4vglevz+7TrQ\\u002fM2mjPzpc1L584kO+sn6BP0WCFD9zVkC+CDfwvUxgPL4fVMs\\u002fv9aKPuga8D9R70U\\u002fbUqVv5km2r2Ksok\\u002fqpJfP4MM5D87iqM\\u002f0v08PzWS\\u002fr48FSQ\\u002fgN55vaQ2Yz8nGVI\\u002fuw30PyIszL5cgnw\\u002fqhDQP1\\u002fwoj9vCbA\\u002fO41XPhErSD+IxXs+\\u002fDUTP52\\u002fUz9rYxs\\u002f8smwvrm6oz\\u002frm0O+T+NTPlwGFz8dnP+9ZNADv1evcb9uNfO+rBOpvLO6XT+L5hc\\u002fa1FMPglEyT2cs3O\\u002f82ZYP3d40j70W9y+MUo8PzoWsL5D1f0\\u002fLRpDvnobRr5gAuo\\u002fy8DcP+dCQL76pzI+lPuSvns\\u002fcj\\u002fVYiQ\\u002fXTnpP8p86j8l7w+\\u002fIr1Ivm\\u002fkzL5D8bs\\u002fLMDlvnfL\\u002fD5F\\u002fxA\\u002fWWZJP9d7Dr4A8eU+9EGFvXdo2D\\u002fHR4M\\u002fufvkP17kLz+p8Eo9BayMP39Mcz56xM++OP6jPzw\\u002fLz9opOE\\u002fZmKiP2XqKz+nX0a+PzV2Pkf5Uj\\u002f2sj++XUfxvHtxDb+3pdA+PdtHvsnZkj2VCpw\\u002fQ1ybPts27T\\u002fLZ34+fBDOPMzUCL9+x+E\\u002ffYr0P7orwb0=\"},\"z\":{\"dtype\":\"f4\",\"bdata\":\"LCuPvpHmRr8QUb+++A09v2DJgb\\u002fUWTC\\u002fB77tvoHwhL6f8GC+PKXDvoL2OL+3SXO+fS4fvwqoP7\\u002f+qIi\\u002fmzc6P2REED9Y4Tu+ZPLkvjum2L2xclK\\u002fdsJNv7um0r5HEC+\\u002fToIQv\\u002fwSIb8r4Qu+qYBAv29eDD5KGIO\\u002fZ\\u002f8Lv7317j6e9zO\\u002fYaH5vhbLWr9PdSe+CN1Wv7vDDb8cKoO+WB9av1tfQL5OEdw+khwSPygFXb0AuDK9MhYxv\\u002f7nCr8MDSK\\u002ffIgjPumHHT\\u002fJKre\\u002f6OGQPrtkV7\\u002fEqNu+aCiVv0QoHr+MrDy+e3cRv7nXqr4W5AE+PSEGvmqb476B0di+eo6uvRXhzr7AH0e\\u002fmpbrvgrlaL8e4Vm+25R8PqM0k7\\u002f8PT+\\u002f+GxQv8kijL7YlOi+BF8LPsLGTb\\u002fIyza+JGQKvv0Vqb2fczq\\u002f8VIpv1DQbr8dYq49WASTvuPQmr5V+Vi+pvv9PnofMb+FykS\\u002fAzxUPlfH9L27kGi+QDDdvvUqV78lZLK+5ZZmv3ofbL9jJRq\\u002f8iU9vaiouL4PcjC\\u002fTVLbvjFI6L5p7TO\\u002fkTuivl+qiL7RE9a+9NqBPjX2ED4O6EW\\u002fbFUGvf6hUr35Yu++GDH2vvNZNb6rxVK+a9aYvldMSb\\u002fIrAC+RVYhPzpIJb68AFU+8yk9vvE6UL\\u002f+01+\\u002fHM7IPeqq5r7DLJW+IVAhv6V7E7+YCze\\u002fhts5v7z0pL9xT9m+0WmdvEj2X7+33dw+iHxmv9CKN7+AWou\\u002fwvwkvwqE3r5DQCm\\u002f2qcdvsG+mr68OEC\\u002fwGk3vsPoML\\u002fYoZE+bgAqvmTyGL5NdTu\\u002fHgOrv8njFL8ou1G\\u002fSKFlv6vif75CFxy\\u002f\\u002fHGWvv9qTb0ttBa\\u002fL0ttvmOROT8Xnqu+9daJPb\\u002fmkD6rtki\\u002fgSO7vgC1Ob+41RS\\u002fluqQPgQd0L5kf0e\\u002fuAF+v0\\u002fhvr7AduG+FIwOvnwClb+imii\\u002fcE8uv9HT8r4wwUS\\u002f\\u002fXEKv181T796Jiq\\u002fse45v18lVL\\u002fBVgm+bG1cvy7xGr4gdjO+cU5Jv7LnXb8JYcW+2axOv1BnoL9ChTQ\\u002ftsJYv5YPHj9A9xa\\u002f73syv3g2Sr6bizi\\u002f5HRKv6gDw70UXgu\\u002frHgYv0sj\\u002fb6YyII9dpLHvspWgD6UdB0\\u002fCQO\\u002fvjTiKr9mF9s8qh4Nvse7KL8blb++bfBRv646rr6P5ZS\\u002fGqz6u0NiM73WE5a+y2kcP\\u002fucFL93KpK\\u002fP2A0v\\u002fXJOL+OPki\\u002fc8DHvMWuTr+g\\u002fTi\\u002fs\\u002f1JvyNdor8NNUC\\u002fUUdqvyIDUL5\\u002fpV+\\u002fChAtvzqyWb8f1dS+3HgcP5oPSb9wocK+IdeDvrDPC7+Zh5Q8h\\u002fZFvyB+Xb84gXO\\u002fVryrv0cA372x7T6+NlmAv\\u002fuLsT48gki+35J0v5LSNb2cqU+\\u002f4SCFv63uNr\\u002fxIVC\\u002fC4Z1PR0NqL\\u002fnuDW\\u002fCXQJvh6oMr9SUhi\\u002fY2dgv\\u002fFKE7+wpa++LOgHv+cqob4V4zy\\u002fCUJiv84OXL5VNli\\u002f2mImv\\u002fnmUL9QTke\\u002fJVFNv9lyTr+XW66+2Q7nvgQDvb5W+S6\\u002fwRYJP0y1QzwbOjq\\u002fZBk2vndB5jyjnB6\\u002fQMJgv+b1fD5ZGEe\\u002fYBdSv3TXI79UDg6\\u002f0GZRvwrgTL\\u002fRigo\\u002fmvBkv1IyT78TFB4+nsdbv3XnkD7Urf6+ydnvPuYwxz0R1VC\\u002fyGkVv43WmL8yUrC9lmeXvzoBxz1bAYS+YHyKv\\u002fIlPb1r1hG\\u002fe3GxvpMbiL9sn5E+MGXAvntVgr7AfS6\\u002fKixNvjyTuL4jEEG\\u002fJuekvkpzCj6NNyO\\u002fpPr\\u002fvWW1vb64MQk\\u002fZnkjvi+kfD5R3HY9yU6Vv6INvj59rWq\\u002fYA8Rv8So277vYGG\\u002fJcYvv7aiU7+DkSa\\u002fX87cvtingb82\\u002ftm+3YwFP+abyT4DaLY+cc92v3adJL9V05K\\u002f7Zs1vv5qtj6mhFO\\u002fizzJPskAAb5Ptha+w8kpv+UG2L3R\\u002fhG\\u002f6obIPslf5L1cULG\\u002fmInBvjY3pr6dsBC\\u002f74ycPlWgaL\\u002f8oHC+m0XRvohIO79UoCS\\u002fGHQ0v8oNaL+dshK\\u002fOajBvdDPk784QJW+OhZqv2nCWL8F75G855pAvvTERr+OnKa9uLI0v4ZKDr\\u002fuNPu+IPBJv3bjgT4ocAU9IfGLvYA8QL+SQ24+hzAxv9dWm75g5RG\\u002fTGLxPQ97lr4WxU6\\u002fS90UvzVo976EQCm+9xZVv2hNfbxQPJu+P3COvu\\u002f\\u002fV797pey+DMZ\\u002fPbaXQ7+b8cG+Ss0Ev\\u002fzhMr98J+K+UiAPPpPPg7YPh3i\\u002fg46tvdiEBb9jDmu+\\u002fN8ev\\u002ff9JD8syFW\\u002fJ1+zvv6rMr\\u002fzHiu+vIU2v8U7R77AuJE+r9sfv14WML\\u002fkJx6\\u002f+kn9vR\\u002ffVj5H8cq+7JEKvoRtJL+PFli\\u002fRT7PvmhqfL8EsbY+mw7wvhXND79f4ky+PNx8Pp8LLj8iAmC\\u002feJ+ovgEL5L6cy1K\\u002fMXAUPw69zr5cQMm+cCOSvm0QDr9KYEm\\u002fXDJsvuH7oL7x5ra+QTyRPvj2l76TNaW+JZBCv05TTb7tDXG\\u002fYCpev8FdYr4Tvg6\\u002fRoT9vaS8ez7Irk+\\u002fxk+VvZQFxD4h+nm\\u002fJhYxv7Hxfr4eYlW\\u002fzJhCv2t1sb7MRwW\\u002f1IePvvaYLL9s1zC\\u002fikDJPOo4Ar8IdP++DjObvRqinr\\u002fY+Te+PijvvvD+p7413gy\\u002fCqaqvquYWL7wRfq97\\u002fZ2vxl2S7+PwcW+AukmPzX88L3jyoO+5POGPgI8UL\\u002fN+Eu\\u002fgK86vqvksb6L9JC\\u002fNkicvqgat75OLCK\\u002fcEoFvyX4RD6uYSY\\u002fGfPOvnGgob41gA+\\u002fhx0Jv8FF+b7wtBo\\u002fqmiAPrpigL7QrXW+UyJZv\\u002fqqlj3aU3K+mccBPf0pLr5eesK9cQRDv05jJD81ap+\\u002ffa1RPW13ILzM9zG\\u002fbBNhv+b1fD6r106\\u002fKXA0v2GDAb+ZgmC\\u002fKC6Sv4ktoL\\u002f9exs+PIVFv3ouKL5ezDC+nW36vi84W7\\u002fAa9g+ZZB6v8H4M70f2Cw6ExRuvhetJL9Fud2+\\u002fFkMvcMc6b48Dig+BYHuvVWwyT5IJ6O\\u002fsDGmvi0Xlb\\u002fCmTm\\u002ft5eFvv6GJr+B5Xs+u7WDv6SdOL6CGTy\\u002fFdj8vt3HPr+IwWk+KDvPvnKZkT7iL+W+WF4Bv790ab\\u002fx1y4\\u002fswWVvlLgO7\\u002fucou+LzpivuEMs77Sl7u+FEw6vyuZiL8BcsM+2pXqvlG6kT6Eyee9ru7sPkMuYb94ppE+Vt8yv7FuUb6Zv0a\\u002fB4hcv9oufb92AAK+CbGivxzRB75VuBe\\u002fOVI6v9E0R78q0IG\\u002f9ZyKv5VX0r6K0go+nWtIv+uWnL6qpHW+K0fRvkFF9b4fffm+jPOVv3pqOT5s0i2\\u002f\\u002ffq4PgFCOL\\u002fXrHy\\u002fKa73vlEBGb9xHVW+8oy\\u002fvpdft76Kr689K+UtP6NrQ73Lw1++LvRLvzxbdL5MqwE9uH6Bv\\u002fNeKr+Dfby+1aisv\\u002f3hK7\\u002fPMje\\u002fZmBdv9dRbb+Sn1W\\u002fSyP9voQNkT73ye++Huu2PosfT76cPWm\\u002ffbKKv418RL98YQQ\\u002fOmsFv9q8xz6jhyO\\u002f3\\u002fdgvxKu2b4+55a\\u002fRipav7A6rD3zURU\\u002fVmpdv72OXb\\u002fKtAE\\u002fROI4vzPwpL+LC4K+vZiWv1GgPL+udQi+XGVlv8dEPr3epCu+JqDHPX01T78b2aQ+bUclPzCsSb\\u002fr4Oy+j912vnpdH78ycsY933+PvuIOGb\\u002fvmfu9ePpRv2d72z14OFC\\u002f\\u002frG0Pid9K77Vroa+1X3vPllPHr9lula+S89FvwbA8r1Fl6w9M\\u002fddv6gpnr9aWJG\\u002fjOGPvjXgFr8T+3U8+xw2v6q\\u002fmb7f55u\\u002fLLF9PvbE1b6yCyq\\u002fPoGbv3sqm7+7ywu\\u002fF6Iyv8ngMb\\u002fWXSU+DmN+v9ijl76ogEa+PUTevsTPHD\\u002fZVK8++wpevjBkvD4A2WK\\u002freVcv26UD7\\u002fb\\u002fxi\\u002fp5TGPoQj7r0gmaq+IHYzvqC6Lr\\u002fHSVC+6TQ\\u002fv05zC79MmAo\\u002feLtev2KB3b57H9g+9D5nvyvpNb+aVIg7zUKCPnZVTb\\u002fK4Uc9B7UzPrD4F74RKby+OLpbvwyMP78lcCm\\u002ffjbNPeNzv74+hg28x6M1v03tub++7TG\\u002fufEtv1eHDr+iSUq\\u002f0wCPvm04mr\\u002fz0Z6\\u002fAIIPv4LPhz7g9AO\\u002fOekbv2pYtr6lNO6+sVtcv0lpdL6xoy4\\u002fbfBRvwNgtb9Avla\\u002ffTVCvgcoA79enxq+6N55v67bvT4dHGS\\u002fVaBov\\u002fvCir5JO1S\\u002fnsk4vs48tj7WXPO+C1dRv7qXuzxdrBq\\u002fDzRBP27cBb\\u002fbEJ+\\u002f5O\\u002frvvXRU7+0f0+\\u002fgWfKva9gw75R\\u002f+A+OjFZPQITS7+T5GW+qJscv6ShWr8OX9i+RwWvPXy9277GdAC\\u002fCo8xPtptKr+bseK+3gPIvW3Zvb4YELq+a0yAv6soVb9LQmS+L25fvw5SnD6e36E+RH3VvXQ2zL5oqWa+QVBaPomO2r4rLTu\\u002fxphVPuRIJr\\u002fbNji\\u002fDr3OvrWSg7wRx9u8Z4ulvvAVAL6Hg5q\\u002fYA8DvlryIL\\u002fyg3K\\u002fyEKPv6gvF7\\u002fj7pC+VcDmvnfwm79\\u002fO3u\\u002faRbNPo+nG74+xTK\\u002fGmiNv+vg7L4Nhey7nzt5voXMcr9oWu2+qaJ3v9XjVT5FGDu+jW5rv7LiCL\\u002fbK3++kBLvPqL4TD7D6DC\\u002fJs00vnSTor4aInK\\u002fGwOZvv4Qpr6P\\u002fMW9FIJTvkKwvb5Y8ZA+M+phvqT1tb4=\"},\"type\":\"scatter3d\"}],                        {\"template\":{\"data\":{\"histogram2dcontour\":[{\"type\":\"histogram2dcontour\",\"colorbar\":{\"outlinewidth\":0,\"ticks\":\"\"},\"colorscale\":[[0.0,\"#0d0887\"],[0.1111111111111111,\"#46039f\"],[0.2222222222222222,\"#7201a8\"],[0.3333333333333333,\"#9c179e\"],[0.4444444444444444,\"#bd3786\"],[0.5555555555555556,\"#d8576b\"],[0.6666666666666666,\"#ed7953\"],[0.7777777777777778,\"#fb9f3a\"],[0.8888888888888888,\"#fdca26\"],[1.0,\"#f0f921\"]]}],\"choropleth\":[{\"type\":\"choropleth\",\"colorbar\":{\"outlinewidth\":0,\"ticks\":\"\"}}],\"histogram2d\":[{\"type\":\"histogram2d\",\"colorbar\":{\"outlinewidth\":0,\"ticks\":\"\"},\"colorscale\":[[0.0,\"#0d0887\"],[0.1111111111111111,\"#46039f\"],[0.2222222222222222,\"#7201a8\"],[0.3333333333333333,\"#9c179e\"],[0.4444444444444444,\"#bd3786\"],[0.5555555555555556,\"#d8576b\"],[0.6666666666666666,\"#ed7953\"],[0.7777777777777778,\"#fb9f3a\"],[0.8888888888888888,\"#fdca26\"],[1.0,\"#f0f921\"]]}],\"heatmap\":[{\"type\":\"heatmap\",\"colorbar\":{\"outlinewidth\":0,\"ticks\":\"\"},\"colorscale\":[[0.0,\"#0d0887\"],[0.1111111111111111,\"#46039f\"],[0.2222222222222222,\"#7201a8\"],[0.3333333333333333,\"#9c179e\"],[0.4444444444444444,\"#bd3786\"],[0.5555555555555556,\"#d8576b\"],[0.6666666666666666,\"#ed7953\"],[0.7777777777777778,\"#fb9f3a\"],[0.8888888888888888,\"#fdca26\"],[1.0,\"#f0f921\"]]}],\"contourcarpet\":[{\"type\":\"contourcarpet\",\"colorbar\":{\"outlinewidth\":0,\"ticks\":\"\"}}],\"contour\":[{\"type\":\"contour\",\"colorbar\":{\"outlinewidth\":0,\"ticks\":\"\"},\"colorscale\":[[0.0,\"#0d0887\"],[0.1111111111111111,\"#46039f\"],[0.2222222222222222,\"#7201a8\"],[0.3333333333333333,\"#9c179e\"],[0.4444444444444444,\"#bd3786\"],[0.5555555555555556,\"#d8576b\"],[0.6666666666666666,\"#ed7953\"],[0.7777777777777778,\"#fb9f3a\"],[0.8888888888888888,\"#fdca26\"],[1.0,\"#f0f921\"]]}],\"surface\":[{\"type\":\"surface\",\"colorbar\":{\"outlinewidth\":0,\"ticks\":\"\"},\"colorscale\":[[0.0,\"#0d0887\"],[0.1111111111111111,\"#46039f\"],[0.2222222222222222,\"#7201a8\"],[0.3333333333333333,\"#9c179e\"],[0.4444444444444444,\"#bd3786\"],[0.5555555555555556,\"#d8576b\"],[0.6666666666666666,\"#ed7953\"],[0.7777777777777778,\"#fb9f3a\"],[0.8888888888888888,\"#fdca26\"],[1.0,\"#f0f921\"]]}],\"mesh3d\":[{\"type\":\"mesh3d\",\"colorbar\":{\"outlinewidth\":0,\"ticks\":\"\"}}],\"scatter\":[{\"fillpattern\":{\"fillmode\":\"overlay\",\"size\":10,\"solidity\":0.2},\"type\":\"scatter\"}],\"parcoords\":[{\"type\":\"parcoords\",\"line\":{\"colorbar\":{\"outlinewidth\":0,\"ticks\":\"\"}}}],\"scatterpolargl\":[{\"type\":\"scatterpolargl\",\"marker\":{\"colorbar\":{\"outlinewidth\":0,\"ticks\":\"\"}}}],\"bar\":[{\"error_x\":{\"color\":\"#2a3f5f\"},\"error_y\":{\"color\":\"#2a3f5f\"},\"marker\":{\"line\":{\"color\":\"#E5ECF6\",\"width\":0.5},\"pattern\":{\"fillmode\":\"overlay\",\"size\":10,\"solidity\":0.2}},\"type\":\"bar\"}],\"scattergeo\":[{\"type\":\"scattergeo\",\"marker\":{\"colorbar\":{\"outlinewidth\":0,\"ticks\":\"\"}}}],\"scatterpolar\":[{\"type\":\"scatterpolar\",\"marker\":{\"colorbar\":{\"outlinewidth\":0,\"ticks\":\"\"}}}],\"histogram\":[{\"marker\":{\"pattern\":{\"fillmode\":\"overlay\",\"size\":10,\"solidity\":0.2}},\"type\":\"histogram\"}],\"scattergl\":[{\"type\":\"scattergl\",\"marker\":{\"colorbar\":{\"outlinewidth\":0,\"ticks\":\"\"}}}],\"scatter3d\":[{\"type\":\"scatter3d\",\"line\":{\"colorbar\":{\"outlinewidth\":0,\"ticks\":\"\"}},\"marker\":{\"colorbar\":{\"outlinewidth\":0,\"ticks\":\"\"}}}],\"scattermap\":[{\"type\":\"scattermap\",\"marker\":{\"colorbar\":{\"outlinewidth\":0,\"ticks\":\"\"}}}],\"scattermapbox\":[{\"type\":\"scattermapbox\",\"marker\":{\"colorbar\":{\"outlinewidth\":0,\"ticks\":\"\"}}}],\"scatterternary\":[{\"type\":\"scatterternary\",\"marker\":{\"colorbar\":{\"outlinewidth\":0,\"ticks\":\"\"}}}],\"scattercarpet\":[{\"type\":\"scattercarpet\",\"marker\":{\"colorbar\":{\"outlinewidth\":0,\"ticks\":\"\"}}}],\"carpet\":[{\"aaxis\":{\"endlinecolor\":\"#2a3f5f\",\"gridcolor\":\"white\",\"linecolor\":\"white\",\"minorgridcolor\":\"white\",\"startlinecolor\":\"#2a3f5f\"},\"baxis\":{\"endlinecolor\":\"#2a3f5f\",\"gridcolor\":\"white\",\"linecolor\":\"white\",\"minorgridcolor\":\"white\",\"startlinecolor\":\"#2a3f5f\"},\"type\":\"carpet\"}],\"table\":[{\"cells\":{\"fill\":{\"color\":\"#EBF0F8\"},\"line\":{\"color\":\"white\"}},\"header\":{\"fill\":{\"color\":\"#C8D4E3\"},\"line\":{\"color\":\"white\"}},\"type\":\"table\"}],\"barpolar\":[{\"marker\":{\"line\":{\"color\":\"#E5ECF6\",\"width\":0.5},\"pattern\":{\"fillmode\":\"overlay\",\"size\":10,\"solidity\":0.2}},\"type\":\"barpolar\"}],\"pie\":[{\"automargin\":true,\"type\":\"pie\"}]},\"layout\":{\"autotypenumbers\":\"strict\",\"colorway\":[\"#636efa\",\"#EF553B\",\"#00cc96\",\"#ab63fa\",\"#FFA15A\",\"#19d3f3\",\"#FF6692\",\"#B6E880\",\"#FF97FF\",\"#FECB52\"],\"font\":{\"color\":\"#2a3f5f\"},\"hovermode\":\"closest\",\"hoverlabel\":{\"align\":\"left\"},\"paper_bgcolor\":\"white\",\"plot_bgcolor\":\"#E5ECF6\",\"polar\":{\"bgcolor\":\"#E5ECF6\",\"angularaxis\":{\"gridcolor\":\"white\",\"linecolor\":\"white\",\"ticks\":\"\"},\"radialaxis\":{\"gridcolor\":\"white\",\"linecolor\":\"white\",\"ticks\":\"\"}},\"ternary\":{\"bgcolor\":\"#E5ECF6\",\"aaxis\":{\"gridcolor\":\"white\",\"linecolor\":\"white\",\"ticks\":\"\"},\"baxis\":{\"gridcolor\":\"white\",\"linecolor\":\"white\",\"ticks\":\"\"},\"caxis\":{\"gridcolor\":\"white\",\"linecolor\":\"white\",\"ticks\":\"\"}},\"coloraxis\":{\"colorbar\":{\"outlinewidth\":0,\"ticks\":\"\"}},\"colorscale\":{\"sequential\":[[0.0,\"#0d0887\"],[0.1111111111111111,\"#46039f\"],[0.2222222222222222,\"#7201a8\"],[0.3333333333333333,\"#9c179e\"],[0.4444444444444444,\"#bd3786\"],[0.5555555555555556,\"#d8576b\"],[0.6666666666666666,\"#ed7953\"],[0.7777777777777778,\"#fb9f3a\"],[0.8888888888888888,\"#fdca26\"],[1.0,\"#f0f921\"]],\"sequentialminus\":[[0.0,\"#0d0887\"],[0.1111111111111111,\"#46039f\"],[0.2222222222222222,\"#7201a8\"],[0.3333333333333333,\"#9c179e\"],[0.4444444444444444,\"#bd3786\"],[0.5555555555555556,\"#d8576b\"],[0.6666666666666666,\"#ed7953\"],[0.7777777777777778,\"#fb9f3a\"],[0.8888888888888888,\"#fdca26\"],[1.0,\"#f0f921\"]],\"diverging\":[[0,\"#8e0152\"],[0.1,\"#c51b7d\"],[0.2,\"#de77ae\"],[0.3,\"#f1b6da\"],[0.4,\"#fde0ef\"],[0.5,\"#f7f7f7\"],[0.6,\"#e6f5d0\"],[0.7,\"#b8e186\"],[0.8,\"#7fbc41\"],[0.9,\"#4d9221\"],[1,\"#276419\"]]},\"xaxis\":{\"gridcolor\":\"white\",\"linecolor\":\"white\",\"ticks\":\"\",\"title\":{\"standoff\":15},\"zerolinecolor\":\"white\",\"automargin\":true,\"zerolinewidth\":2},\"yaxis\":{\"gridcolor\":\"white\",\"linecolor\":\"white\",\"ticks\":\"\",\"title\":{\"standoff\":15},\"zerolinecolor\":\"white\",\"automargin\":true,\"zerolinewidth\":2},\"scene\":{\"xaxis\":{\"backgroundcolor\":\"#E5ECF6\",\"gridcolor\":\"white\",\"linecolor\":\"white\",\"showbackground\":true,\"ticks\":\"\",\"zerolinecolor\":\"white\",\"gridwidth\":2},\"yaxis\":{\"backgroundcolor\":\"#E5ECF6\",\"gridcolor\":\"white\",\"linecolor\":\"white\",\"showbackground\":true,\"ticks\":\"\",\"zerolinecolor\":\"white\",\"gridwidth\":2},\"zaxis\":{\"backgroundcolor\":\"#E5ECF6\",\"gridcolor\":\"white\",\"linecolor\":\"white\",\"showbackground\":true,\"ticks\":\"\",\"zerolinecolor\":\"white\",\"gridwidth\":2}},\"shapedefaults\":{\"line\":{\"color\":\"#2a3f5f\"}},\"annotationdefaults\":{\"arrowcolor\":\"#2a3f5f\",\"arrowhead\":0,\"arrowwidth\":1},\"geo\":{\"bgcolor\":\"white\",\"landcolor\":\"#E5ECF6\",\"subunitcolor\":\"white\",\"showland\":true,\"showlakes\":true,\"lakecolor\":\"white\"},\"title\":{\"x\":0.05},\"mapbox\":{\"style\":\"light\"}}},\"title\":{\"text\":\"Segmentaci\\u00f3n Predicha - \\u00cdndice 500\"},\"scene\":{\"xaxis\":{\"title\":{\"text\":\"X\"}},\"yaxis\":{\"title\":{\"text\":\"Y\"}},\"zaxis\":{\"title\":{\"text\":\"Z\"}}},\"legend\":{\"title\":{\"text\":\"Clases de Segmentaci\\u00f3n\"}}},                        {\"responsive\": true}                    ).then(function(){\n",
       "                            \n",
       "var gd = document.getElementById('ffa31716-f8d0-4cf0-bbc4-68ec8072d37a');\n",
       "var x = new MutationObserver(function (mutations, observer) {{\n",
       "        var display = window.getComputedStyle(gd).display;\n",
       "        if (!display || display === 'none') {{\n",
       "            console.log([gd, 'removed!']);\n",
       "            Plotly.purge(gd);\n",
       "            observer.disconnect();\n",
       "        }}\n",
       "}});\n",
       "\n",
       "// Listen for the removal of the full notebook cells\n",
       "var notebookContainer = gd.closest('#notebook-container');\n",
       "if (notebookContainer) {{\n",
       "    x.observe(notebookContainer, {childList: true});\n",
       "}}\n",
       "\n",
       "// Listen for the clearing of the current output cell\n",
       "var outputEl = gd.closest('.output');\n",
       "if (outputEl) {{\n",
       "    x.observe(outputEl, {childList: true});\n",
       "}}\n",
       "\n",
       "                        })                };            </script>        </div>"
      ]
     },
     "metadata": {},
     "output_type": "display_data"
    }
   ],
   "source": [
    "visualizar_comparacion_segmentacion(points_list, labels_list, preds_list, indice=500)"
   ]
  },
  {
   "cell_type": "code",
   "execution_count": null,
   "metadata": {},
   "outputs": [],
   "source": []
  }
 ],
 "metadata": {
  "kernelspec": {
   "display_name": "Python 3",
   "language": "python",
   "name": "python3"
  },
  "language_info": {
   "codemirror_mode": {
    "name": "ipython",
    "version": 3
   },
   "file_extension": ".py",
   "mimetype": "text/x-python",
   "name": "python",
   "nbconvert_exporter": "python",
   "pygments_lexer": "ipython3",
   "version": "3.8.10"
  }
 },
 "nbformat": 4,
 "nbformat_minor": 2
}
