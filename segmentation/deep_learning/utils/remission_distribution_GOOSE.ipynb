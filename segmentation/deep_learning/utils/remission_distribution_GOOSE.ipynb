{
 "cells": [
  {
   "cell_type": "code",
   "execution_count": 3,
   "id": "6e016a27",
   "metadata": {},
   "outputs": [
    {
     "name": "stderr",
     "output_type": "stream",
     "text": [
      "  0%|          | 0/7719 [00:00<?, ?it/s]"
     ]
    },
    {
     "name": "stderr",
     "output_type": "stream",
     "text": [
      "100%|██████████| 7719/7719 [00:03<00:00, 2046.29it/s]\n"
     ]
    }
   ],
   "source": [
    "import os\n",
    "import numpy as np\n",
    "import torch\n",
    "from tqdm import tqdm\n",
    "\n",
    "x_train_path = \"/home/fmartinez/datasets/goose/lidar/train\"\n",
    "\n",
    "def load_bin_file(bin_path: str):\n",
    "    full_points = np.fromfile(bin_path, dtype=np.float32).reshape(-1, 4)\n",
    "    remission = full_points[:, 3]  # shape: (N,)\n",
    "    return remission\n",
    "\n",
    "all_remissions = []\n",
    "\n",
    "# Recorremos todas las carpetas/archivos en el set de entrenamiento\n",
    "for root, _, files in os.walk(x_train_path):\n",
    "    for file in tqdm(sorted(files)):\n",
    "        if file.endswith(\".bin\"):\n",
    "            path = os.path.join(root, file)\n",
    "            remission = load_bin_file(path)\n",
    "            all_remissions.append(torch.from_numpy(remission))\n",
    "\n",
    "# Concatenamos todos los valores en un solo tensor\n",
    "all_remissions_tensor = torch.cat(all_remissions)\n",
    "\n",
    "# Estadísticas globales\n",
    "mean_remission = all_remissions_tensor.mean().item()\n",
    "std_remission = all_remissions_tensor.std().item()\n"
   ]
  },
  {
   "cell_type": "code",
   "execution_count": 4,
   "id": "73518687",
   "metadata": {},
   "outputs": [
    {
     "name": "stdout",
     "output_type": "stream",
     "text": [
      "Media de 'remission' en el conjunto de entrenamiento: 18.9969\n",
      "Desviación estándar de 'remission' en el conjunto de entrenamiento: 18.4599\n",
      "Valor mínimo de 'remission' en el conjunto de entrenamiento: 0.0000\n",
      "Valor máximo de 'remission' en el conjunto de entrenamiento: 255.0000\n"
     ]
    }
   ],
   "source": [
    "print(f\"Media de 'remission' en el conjunto de entrenamiento: {mean_remission:.4f}\")\n",
    "print(f\"Desviación estándar de 'remission' en el conjunto de entrenamiento: {std_remission:.4f}\")\n",
    "print(f\"Valor mínimo de 'remission' en el conjunto de entrenamiento: {all_remissions_tensor.min().item():.4f}\")\n",
    "print(f\"Valor máximo de 'remission' en el conjunto de entrenamiento: {all_remissions_tensor.max().item():.4f}\")"
   ]
  },
  {
   "cell_type": "code",
   "execution_count": null,
   "id": "4e1e49de",
   "metadata": {},
   "outputs": [],
   "source": []
  }
 ],
 "metadata": {
  "kernelspec": {
   "display_name": "Python 3",
   "language": "python",
   "name": "python3"
  },
  "language_info": {
   "codemirror_mode": {
    "name": "ipython",
    "version": 3
   },
   "file_extension": ".py",
   "mimetype": "text/x-python",
   "name": "python",
   "nbconvert_exporter": "python",
   "pygments_lexer": "ipython3",
   "version": "3.8.10"
  }
 },
 "nbformat": 4,
 "nbformat_minor": 5
}
