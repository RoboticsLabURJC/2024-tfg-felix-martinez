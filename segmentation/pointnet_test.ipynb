{
 "cells": [
  {
   "cell_type": "markdown",
   "metadata": {},
   "source": [
    "## Implementación PointNet en Keras, Tensorflow 2.0"
   ]
  },
  {
   "cell_type": "code",
   "execution_count": null,
   "metadata": {},
   "outputs": [],
   "source": [
    "import numpy as np\n",
    "import pandas as pd\n",
    "import tensorflow as tf\n",
    "import os\n",
    "import sys\n",
    "import re\n",
    "import matplotlib.pyplot as plt\n",
    "import random as rand\n",
    "\n",
    "\n",
    "from pathlib import Path\n",
    "from sklearn.model_selection import train_test_split\n"
   ]
  },
  {
   "cell_type": "code",
   "execution_count": 15,
   "metadata": {},
   "outputs": [],
   "source": [
    "path_x_train = \"/home/felix/Escritorio/TFG/datasets_norm/goose_norm_test/x_train/\"\n",
    "path_y_train = \"/home/felix/Escritorio/TFG/datasets_norm/goose_norm_test/y_train/\"\n",
    "path_x_val = \"/home/felix/Escritorio/TFG/datasets_norm/goose_norm_test/x_val/\"\n",
    "path_y_val = \"/home/felix/Escritorio/TFG/datasets_norm/goose_norm_test/y_val/\"\n",
    "\n",
    "file_list_x_train = sorted(os.listdir(path_x_train))\n",
    "file_list_y_train = sorted(os.listdir(path_y_train))\n",
    "file_list_x_val = sorted(os.listdir(path_x_val))\n",
    "file_list_y_val = sorted(os.listdir(path_y_val))\n",
    "\n",
    "X_train = []\n",
    "Y_train = []\n",
    "X_val = []\n",
    "Y_val = []\n",
    "\n",
    "for file in file_list_x_train:\n",
    "    df = pd.read_csv(path_x_train+file)\n",
    "    X_train.append(df)\n",
    "\n",
    "for file in file_list_y_train:\n",
    "    df['sem_label'] = pd.read_csv(path_y_train+file)\n",
    "    Y_train.append(df)\n",
    "\n",
    "for file in file_list_x_val:\n",
    "    df = pd.read_csv(path_x_val+file)\n",
    "    X_val.append(df)\n",
    "\n",
    "for file in file_list_y_val:\n",
    "    df['sem_label'] = pd.read_csv(path_y_val+file)\n",
    "    Y_val.append(df)"
   ]
  },
  {
   "cell_type": "code",
   "execution_count": 19,
   "metadata": {},
   "outputs": [
    {
     "name": "stdout",
     "output_type": "stream",
     "text": [
      "[50 41 51 59 17 38 23 31  4  8 47  0 55 45]\n",
      "[50 59 51 27 17 41  8 28  4 31  0]\n"
     ]
    }
   ],
   "source": [
    "# Estudio de clases\n",
    "\n",
    "Y_train_concat = pd.concat(Y_train)\n",
    "Y_val_concat = pd.concat(Y_val)\n",
    "\n",
    "clases_unicas_train = Y_train_concat['sem_label'].unique()\n",
    "clases_unicas_val = Y_val_concat['sem_label'].unique()\n",
    "\n",
    "print(clases_unicas_train)\n",
    "print(clases_unicas_val)\n"
   ]
  },
  {
   "cell_type": "code",
   "execution_count": null,
   "metadata": {},
   "outputs": [],
   "source": []
  }
 ],
 "metadata": {
  "kernelspec": {
   "display_name": "usr",
   "language": "python",
   "name": "python3"
  },
  "language_info": {
   "codemirror_mode": {
    "name": "ipython",
    "version": 3
   },
   "file_extension": ".py",
   "mimetype": "text/x-python",
   "name": "python",
   "nbconvert_exporter": "python",
   "pygments_lexer": "ipython3",
   "version": "3.10.12"
  }
 },
 "nbformat": 4,
 "nbformat_minor": 2
}
