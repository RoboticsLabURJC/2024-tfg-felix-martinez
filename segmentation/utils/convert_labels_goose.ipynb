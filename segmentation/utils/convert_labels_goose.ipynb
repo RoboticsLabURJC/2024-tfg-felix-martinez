{
 "cells": [
  {
   "cell_type": "code",
   "execution_count": null,
   "metadata": {},
   "outputs": [],
   "source": [
    "import numpy as np\n",
    "import pandas as pd\n",
    "import os\n",
    "import matplotlib.pyplot as plt\n",
    "\n",
    "# Definir las agrupaciones\n",
    "category_mapping = {\n",
    "    0: [0, 1, 2, 3, 7, 9, 11, 22, 23, 26],  # Superficie transitable\n",
    "    1: [29, 30, 31],  # Suelo blando\n",
    "    2: [18, 50],  # Hierba baja\n",
    "    3: [51, 52],  # Hierba alta\n",
    "    4: [17, 16, 30],  # Vegetación densa\n",
    "    5: [28, 27, 62],  # Árboles\n",
    "    6: [4, 41, 42, 39, 43, 44, 25, 48, 45, 46, 47, 6, 19],  # Obstáculos urbanos y rurales\n",
    "    7: [12, 15, 34, 20, 13, 32, 49, 35, 36, 37, 63, 57],  # Vehículos y elementos en movimiento\n",
    "    8: [1, 55, 56, 58, 60, 61],  # Objetos pequeños y dispersos\n",
    "    9: [53, 54, 2]  # Ambiente\n",
    "}\n",
    "\n",
    "category_mapping[6] += [5, 8, 10, 14, 21, 24, 33, 38, 40, 59]  # Añadir a Obstáculos urbanos y rurales"
   ]
  }
 ],
 "metadata": {
  "kernelspec": {
   "display_name": "usr",
   "language": "python",
   "name": "python3"
  },
  "language_info": {
   "name": "python",
   "version": "3.10.12"
  }
 },
 "nbformat": 4,
 "nbformat_minor": 2
}
